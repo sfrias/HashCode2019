{
  "nbformat": 4,
  "nbformat_minor": 0,
  "metadata": {
    "colab": {
      "name": "photos",
      "version": "0.3.2",
      "provenance": [],
      "collapsed_sections": [],
      "include_colab_link": true
    },
    "kernelspec": {
      "name": "python3",
      "display_name": "Python 3"
    },
    "accelerator": "GPU"
  },
  "cells": [
    {
      "cell_type": "markdown",
      "metadata": {
        "id": "view-in-github",
        "colab_type": "text"
      },
      "source": [
        "<a href=\"https://colab.research.google.com/github/sfrias/HashCode2019/blob/master/QualRound/photos.ipynb\" target=\"_parent\"><img src=\"https://colab.research.google.com/assets/colab-badge.svg\" alt=\"Open In Colab\"/></a>"
      ]
    },
    {
      "metadata": {
        "id": "yllCUY6PVVEU",
        "colab_type": "code",
        "colab": {}
      },
      "cell_type": "code",
      "source": [
        "# Slideshow with vertical & Horizontal photos. Scoring is calculated with linked tags.\n",
        "# If photos were vertical, two must be combined in one slide. Tags were union of both photos tags\n",
        "# Linked slides match scoring por slideshow.\n",
        "# linkable tags with only one appearance qualify photos:\n",
        "#  ---Horizontal photo for only use with ends of slideshows.\n",
        "#  ---Vertical photo for only bundle slide with other vertical photo to link two ways.\n",
        "# \n",
        "#         "
      ],
      "execution_count": 0,
      "outputs": []
    },
    {
      "metadata": {
        "id": "9Qb_QWP3OlnR",
        "colab_type": "code",
        "colab": {}
      },
      "cell_type": "code",
      "source": [
        "# Import and package configuration\n",
        "from google.colab import files\n",
        "import matplotlib.pyplot as pyplot\n",
        "from pylab import *\n",
        "import networkx\n",
        "import time"
      ],
      "execution_count": 0,
      "outputs": []
    },
    {
      "metadata": {
        "id": "TUCsM0OzQXlZ",
        "colab_type": "code",
        "colab": {}
      },
      "cell_type": "code",
      "source": [
        " # Download data files from hashcode"
      ],
      "execution_count": 0,
      "outputs": []
    },
    {
      "metadata": {
        "id": "_f7H-zjWQXWw",
        "colab_type": "code",
        "colab": {}
      },
      "cell_type": "code",
      "source": [
        "#!wget -O example.in  \"https://hashcodejudge.withgoogle.com/download/blob/AMIfv97QHzUItY7To0o6id8E6_kxpE1KwTlPR1T9yC2zlbm46xvPPX7tBn1r5ZNxw9XboxHkVKa82BzM-B65uM92pJRONqfeVlHfpzH8xbqKc9FrAWJnd3Yp5SF7naqscxmnBjTa3R-UcB_bqg5hoAa0TZFXIlvi-RL6y_daJXyNUUHeP1kBxQss_1b2nNbNFg7W3Jtgyl2Vs86QrufNrQcUlNh754HyhRrhV3yJBo66HdYQAa2lPISjoUkUTpWqqrGIEItpPu27GNqcp2I69D8j8A-70B30oU-w7zIe9DJ9xnpC70T6T88\""
      ],
      "execution_count": 0,
      "outputs": []
    },
    {
      "metadata": {
        "id": "JHXji8CdR6IW",
        "colab_type": "code",
        "colab": {
          "base_uri": "https://localhost:8080/",
          "height": 224
        },
        "outputId": "49c344f9-8d20-4feb-e9a3-d581c847615d"
      },
      "cell_type": "code",
      "source": [
        "#!wget -O lovely.in \"https://hashcodejudge.withgoogle.com/download/blob/AMIfv977kmeJsFQfgJNbIlAkviRDMVQcDWj0hLBMvhyg8SuPR52vtGV8uIJsB5nnPDX1Rp14OqzXWF-XXUKp3hhFjdL9PtHAOemuN-rKrd_OgY8pQ6SwgBlBcwPm-5Ova9XoGHSlhT2iLskxOoetjmTNQ8upzsFVkCQqh0gM0P-VX2nWmyxSfIFGmv373rdp9k1Bw9iMdhZXxuMfYIPaWJ8c6izWNYsl9Mpk1a7R0DjShNoDn6Nbfghj_S9bkjGgJS6Clz0b3rMqhHyHAxuIVMnfw1ppwWK_z5TYb4Tsz1vzNERAVPtnuSw\""
      ],
      "execution_count": 4,
      "outputs": [
        {
          "output_type": "stream",
          "text": [
            "--2019-03-09 17:11:54--  https://hashcodejudge.withgoogle.com/download/blob/AMIfv977kmeJsFQfgJNbIlAkviRDMVQcDWj0hLBMvhyg8SuPR52vtGV8uIJsB5nnPDX1Rp14OqzXWF-XXUKp3hhFjdL9PtHAOemuN-rKrd_OgY8pQ6SwgBlBcwPm-5Ova9XoGHSlhT2iLskxOoetjmTNQ8upzsFVkCQqh0gM0P-VX2nWmyxSfIFGmv373rdp9k1Bw9iMdhZXxuMfYIPaWJ8c6izWNYsl9Mpk1a7R0DjShNoDn6Nbfghj_S9bkjGgJS6Clz0b3rMqhHyHAxuIVMnfw1ppwWK_z5TYb4Tsz1vzNERAVPtnuSw\n",
            "Resolving hashcodejudge.withgoogle.com (hashcodejudge.withgoogle.com)... 108.177.97.141, 2404:6800:4008:c00::8d\n",
            "Connecting to hashcodejudge.withgoogle.com (hashcodejudge.withgoogle.com)|108.177.97.141|:443... connected.\n",
            "HTTP request sent, awaiting response... 200 OK\n",
            "Length: unspecified [text/plain]\n",
            "Saving to: ‘lovely.in’\n",
            "\n",
            "lovely.in               [             <=>    ]   8.62M  2.78MB/s    in 3.1s    \n",
            "\n",
            "2019-03-09 17:11:58 (2.78 MB/s) - ‘lovely.in’ saved [9039625]\n",
            "\n"
          ],
          "name": "stdout"
        }
      ]
    },
    {
      "metadata": {
        "id": "SfghR8meSpo3",
        "colab_type": "code",
        "colab": {}
      },
      "cell_type": "code",
      "source": [
        "#!wget -O memoments.in \"https://hashcodejudge.withgoogle.com/download/blob/AMIfv94hwk1wpXjU-qRaszhHtsN4gJSGTkGGNfiItXwzXwhtP6IGrdiZrJ16XvlGFZAKOck8csLoiqwaDiJY6pybACZPZoBnwUMB_WLmQPR7XwH_0AMzk4at1sNgwB_f-9wOwSaqAQE8VtIlLNLDOLeo9sJDLxUVceOopaGh93MDCof4KCYXcdvM9tCSQz1sT89KVmM3Qx0Rz0JkXm4-a3mTk_676DubwwI5siY-ulC87_p1qcfeWdJXmuqMO7E-8THazayXZmS2dXyeTWiOOt27fOC06dSTe9mYfNBISojtloNJc-9Xohc\""
      ],
      "execution_count": 0,
      "outputs": []
    },
    {
      "metadata": {
        "id": "b9zUUte-Spjk",
        "colab_type": "code",
        "colab": {}
      },
      "cell_type": "code",
      "source": [
        "#!wget -O petpict.in \"https://hashcodejudge.withgoogle.com/download/blob/AMIfv95TypJhkPij61j5cS87pz5lYAw7u6lKSxctMX0zPI_8N7y-bRcwGLHe8rx8vAaQ_Dszh0yuWjpdXucxsC52Fq-iuNeI9D8ugsj3djcsDH5Ax3TlTILi27GOCPv_-U7KZsyrbKusR5T8saKHiE2cferYs92JBV_nKxm7gxQkzITercTAfcJaEtenWiTS4rhPkIVARXCQE9LaycZvxV4IqTnDCfYHZhtFVV9_Y_h5riDVjGZZd01tplZ1aibiKASlJZulxOwnJGfmgrYkImN3dCaDYx0eAGlGUoRjAF3GsiGdZ4bI0_V-lKZJlSdoMPxCctPLpgvL\""
      ],
      "execution_count": 0,
      "outputs": []
    },
    {
      "metadata": {
        "id": "h5NlNfBJSpWZ",
        "colab_type": "code",
        "colab": {}
      },
      "cell_type": "code",
      "source": [
        "#!wget -O shinyself.in \"https://hashcodejudge.withgoogle.com/download/blob/AMIfv941-URwsmc_UpuUvypgEBaH_U4oDiPKJZR_gk2oNcK8NXMmcZMwFC8qM3aYM_G1dN5hhRt9ONNq_o1RLVdWXqFn6M_DFVf_UnLD0E7Qg-D989lrG08e5FWD06_crrlGQI48euVgJSyEHO2oo8_3506xyzI2KsMLs_zPfjnnRr6sVKSMeQLNWRD4gut2m1QBzkRWvZuigNbXsCFra7wNPrEdPCI4Mf11W9rWcMrVsvMcrAmjw02vPbqqe8QrVwM08n0tMfAvk01BwBEM8RcwkYtkp8IUP3M0_67Sum1zfuFayeLWSOY\""
      ],
      "execution_count": 0,
      "outputs": []
    },
    {
      "metadata": {
        "id": "R2YzU_BOSpGB",
        "colab_type": "code",
        "colab": {
          "base_uri": "https://localhost:8080/",
          "height": 68
        },
        "outputId": "2ca07ed8-9a71-4caa-aa8b-a3439722dae4"
      },
      "cell_type": "code",
      "source": [
        "#!ls -l"
      ],
      "execution_count": 5,
      "outputs": [
        {
          "output_type": "stream",
          "text": [
            "total 8836\n",
            "-rw-r--r-- 1 root root 9039625 Mar  9 17:11 lovely.in\n",
            "drwxr-xr-x 1 root root    4096 Feb 26 17:33 sample_data\n"
          ],
          "name": "stdout"
        }
      ]
    },
    {
      "metadata": {
        "id": "YbHktbCsZoNU",
        "colab_type": "code",
        "colab": {}
      },
      "cell_type": "code",
      "source": [
        "#!cat example.in"
      ],
      "execution_count": 0,
      "outputs": []
    },
    {
      "metadata": {
        "id": "687Ar8rWTgTY",
        "colab_type": "code",
        "colab": {}
      },
      "cell_type": "code",
      "source": [
        "# Load data file function. Parameters: nom = name of input file, test = 'Test debug mode False or True'\n",
        "def loaddata(nom,test):\n",
        "  file = open(nom,'r')\n",
        "  line = file.readline()\n",
        "  # Assign number of photos from first line\n",
        "  nphotos = int(line.rstrip())\n",
        "  nv = 0 # number of vertical images\n",
        "  nh = 0 # Number of horizontal images\n",
        "  nctags = set() # Not linkable tags\n",
        "  ncphotos = set() # Not linkable photos\n",
        "  dtags = {} # tags occurrence, dictionary\n",
        "  ttags = 0 # Tag global number occurrences\n",
        "  photos = [] # Data for all photos\n",
        "  photosv= [] # Data for vertical photos\n",
        "  photosh=[] # Data for horizontal photos\n",
        "  # Read all image descriptions\n",
        "  for i in range(nphotos):\n",
        "    lista = []\n",
        "    lista = file.readline().rstrip().split(' ')\n",
        "    lista.insert(0,i) # Insert image number\n",
        "    tags = set(lista[3:]) # Store tags as a set\n",
        "    for t in tags: # Adds tag occurrences to dictionary\n",
        "      if t in dtags:\n",
        "        dtags[t] += 1\n",
        "      else:\n",
        "        dtags[t] = 1\n",
        "    ntags = int(lista[2]) # Convert to int  tag number for photo\n",
        "    lista = lista[:2] # Crop list\n",
        "    # Count number of vertical or horizontal images\n",
        "    # Append elements to list\n",
        "    lista.append(ntags) # Number of tags\n",
        "    lista.append(tags) # Set of tags\n",
        "    ttags += ntags \n",
        "    photos.append(lista)\n",
        "    if lista[1] =='V':\n",
        "      nv +=1\n",
        "      photosv.append(lista) # Add vertical image list data to photos list.\n",
        "    else:\n",
        "      nh +=1\n",
        "      photosh.append(lista) # Add horizontal image list data to photos list.\n",
        "    if test:\n",
        "      print(photos[i])\n",
        "  file.close()\n",
        "  print('N. fotos:',nphotos,'Fotos Verticales:',nv,'Fotos Horiz:',nh,'Tags no combinables horizontales:',len(nctags),'Apariciones Tags:',ttags,'Tags diferentes:',len(dtags),'Media Tags por imagen:', ttags/len(dtags))\n",
        "  return nphotos, photos, photosv, photosh, nv, nh, nctags, ncphotos, ttags, dtags"
      ],
      "execution_count": 0,
      "outputs": []
    },
    {
      "metadata": {
        "id": "oIdrf_eXPG4u",
        "colab_type": "code",
        "colab": {}
      },
      "cell_type": "code",
      "source": [
        "def listafotos(photos, limit):\n",
        "  # Lista de fotos enlazables\n",
        "  num = len(photos)\n",
        "  fila = 0\n",
        "  for foto in photos:\n",
        "    print(foto)\n",
        "    num -= 1\n",
        "    fila += 1\n",
        "    if fila >= limit:\n",
        "      print('Fotos pendientes de listar:', num)\n",
        "      break"
      ],
      "execution_count": 0,
      "outputs": []
    },
    {
      "metadata": {
        "id": "I16qPYx1QhLK",
        "colab_type": "code",
        "colab": {}
      },
      "cell_type": "code",
      "source": [
        "def listatags(tags, limit, nrow = 18):\n",
        "  # Lista tags\n",
        "  num = len(tags)\n",
        "  listed = 0\n",
        "  columna = 0\n",
        "  for tag in tags:\n",
        "    print(str(tag),'\\t', end='')\n",
        "    num -= 1\n",
        "    listed += 1\n",
        "    columna += 1\n",
        "    if columna >= nrow:\n",
        "      print()\n",
        "      columna = 0\n",
        "    if listed >= limit:\n",
        "      print()\n",
        "      print('Tags pendientes de listar:', num)\n",
        "      break"
      ],
      "execution_count": 0,
      "outputs": []
    },
    {
      "metadata": {
        "id": "GT_GrvXJv64a",
        "colab_type": "code",
        "colab": {}
      },
      "cell_type": "code",
      "source": [
        "def listupla(dicc, limit, nrow = 18):\n",
        "  # Lista tags\n",
        "  num = len(dicc)\n",
        "  listed = 0\n",
        "  columna = 0\n",
        "  for tupla in dicc:\n",
        "    print(tupla,':',dicc[tupla],'\\t', end='')\n",
        "    num -= 1\n",
        "    listed += 1\n",
        "    columna += 1\n",
        "    if columna >= nrow:\n",
        "      print()\n",
        "      columna = 0\n",
        "    if listed >= limit:\n",
        "      print()\n",
        "      print('Tags pendientes de listar:', num)\n",
        "      break"
      ],
      "execution_count": 0,
      "outputs": []
    },
    {
      "metadata": {
        "id": "wOpLLqSMbW8a",
        "colab_type": "code",
        "colab": {}
      },
      "cell_type": "code",
      "source": [
        "def purgedict(dtags,nctags, test):\n",
        "  tuplas = list(dtags.items())\n",
        "  j = 0\n",
        "  for i in tuplas:\n",
        "    #print('\\t',dtags[tuplas[j][0]],end='')\n",
        "    if dtags[tuplas[j][0]]<=1:\n",
        "      if test:\n",
        "        print ('----->Tag:', i, 'no combinable...eliminando de dtags y añadiendo a nctags')\n",
        "      nctags.add(tuplas[j][0]) # Add at not linkable tags set\n",
        "      del(dtags[tuplas[j][0]]) # remove tuple from dictionary for number of occurrences to this tag\n",
        "    j+= 1\n",
        "  tuplas = []\n",
        "  print('N. fotos:',nphotos,'Fotos Verticales:',nv,'Fotos Horiz:',nh,'Tags no combinables horizontales:',len(nctags),'Apariciones Tags:',ttags,'Tags diferentes:',len(dtags),'Media Tags por imagen:', ttags/len(dtags))\n",
        "  return dtags,nctags\n"
      ],
      "execution_count": 0,
      "outputs": []
    },
    {
      "metadata": {
        "id": "7EQugVxlcGBm",
        "colab_type": "code",
        "colab": {}
      },
      "cell_type": "code",
      "source": [
        "# Purge for unlinkable tags at photos list\n",
        "def purgetags(photos, nctags, test):\n",
        "  #print('Purgando tags no combinables en lista de fotos')\n",
        "  ttags = 0\n",
        "  for photo in photos:\n",
        "    if test:\n",
        "      print(photo,end='')\n",
        "    photo[3]=photo[3]-nctags\n",
        "    photo[2]=len(photo[3])\n",
        "    ttags += photo[2]\n",
        "    if test:\n",
        "      print('++',photo[3])\n",
        "  print('N. fotos:',len(photos),'Apariciones Tags:',ttags,'Tags diferentes:',len(dtags),'Media Tags por imagen:', ttags/len(dtags))\n",
        "  return photos, nctags,ttags"
      ],
      "execution_count": 0,
      "outputs": []
    },
    {
      "metadata": {
        "id": "aK8Tv-u1UGFd",
        "colab_type": "code",
        "colab": {}
      },
      "cell_type": "code",
      "source": [
        "# Purge for photos that can't be linked,\n",
        "def purgephotos(photos, nctags, rango, test):\n",
        "    cont = 0\n",
        "    print('Fotos que son menos combinables.',rango,' tags combinables') \n",
        "    for photo in photos:\n",
        "      if len(photo[3]-nctags)<=rango:\n",
        "        if test:\n",
        "          print(photo)\n",
        "          print('tags - nctags:', end='')\n",
        "          print(photo[3]-nctags)\n",
        "          print('--------------------')\n",
        "        print('+')\n",
        "        cont +=1\n",
        "      # else:\n",
        "        #if test:\n",
        "        #  print(photo)\n",
        "        #  print('tags - nctags:', end='')\n",
        "        #  print(photo[3]-nctags)\n",
        "        #  print('-',end='')\n",
        "    print(cont, 'menos combinables')"
      ],
      "execution_count": 0,
      "outputs": []
    },
    {
      "metadata": {
        "id": "JW5ss8ZXztAh",
        "colab_type": "code",
        "colab": {}
      },
      "cell_type": "code",
      "source": [
        "# Find the best option to combine two horizontal slides\n",
        "def link(photos, test ):\n",
        "  pos_candidato1 = 0\n",
        "  pos_candidato2 = 0\n",
        "  maxint = 0\n",
        "  ptpic = 0\n",
        "  for pic in photos:\n",
        "    if test:\n",
        "      print('++', ptpic, '\\t++', photos[ptpic],'+++')\n",
        "    for pointer in range(ptpic+1,len(photos)):\n",
        "      inter = pic[3] & photos[pointer][3]\n",
        "      ninter = len (inter)\n",
        "      if test:\n",
        "        print('Foto Puntero:', pic, 'Foto a comparar:',photos[pointer], 'Interseccion:', end='')\n",
        "        print (inter,'Tags comunes:',ninter)\n",
        "      if ninter > maxint:\n",
        "        pos_candidato1 = ptpic\n",
        "        pos_candidato2 = pointer\n",
        "        maxint = ninter\n",
        "        print('Candidatos', photos[pos_candidato1],'+', photos[pos_candidato2], 'Inters:', inter, 'Ntags:', ninter)\n",
        "    ptpic += 1"
      ],
      "execution_count": 0,
      "outputs": []
    },
    {
      "metadata": {
        "id": "3acxLMllMmqt",
        "colab_type": "code",
        "outputId": "09c8fd5f-8929-4ca8-95ad-49f05a6941fe",
        "colab": {
          "base_uri": "https://localhost:8080/",
          "height": 34
        }
      },
      "cell_type": "code",
      "source": [
        "nphotos, photos, photosv, photosh, nv, nh, nctags, ncphotos, ttags, dtags = loaddata('lovely.in',False)"
      ],
      "execution_count": 12,
      "outputs": [
        {
          "output_type": "stream",
          "text": [
            "N. fotos: 80000 Fotos Verticales: 0 Fotos Horiz: 80000 Tags no combinables horizontales: 0 Apariciones Tags: 1440000 Tags diferentes: 840000 Media Tags por imagen: 1.7142857142857142\n"
          ],
          "name": "stdout"
        }
      ]
    },
    {
      "metadata": {
        "id": "O8OOl-9Hvrwy",
        "colab_type": "code",
        "outputId": "84034bd0-40db-4c5b-a03f-36808e90242a",
        "colab": {
          "base_uri": "https://localhost:8080/",
          "height": 85
        }
      },
      "cell_type": "code",
      "source": [
        "# List number of ocurrences for eacj tag on all photos\n",
        "listupla(dtags,50)"
      ],
      "execution_count": 13,
      "outputs": [
        {
          "output_type": "stream",
          "text": [
            "t5xl1 : 2 \ttc2j5 : 1 \tt99tm : 2 \ttv7zt : 2 \ttkp5g : 2 \tth8wv : 2 \ttzdr4 : 2 \tt5nnd : 2 \ttj4f : 2 \ttsmcf : 2 \ttf5wv : 1 \tt2hzq : 2 \ttv1h01 : 2 \ttbj57 : 2 \ttwzgl : 2 \tt111w : 2 \ttr5fv : 2 \ttb5p6 : 2 \t\n",
            "t6zkl : 2 \ttcz3g : 2 \tt1c76 : 1 \ttns01 : 1 \ttlvcq : 2 \tt5x7p : 2 \ttwzsw : 2 \tt6p61 : 2 \ttkw11 : 1 \ttlhlt : 2 \tt7fgq : 2 \ttpvh8 : 1 \ttf36x : 2 \tt0r1w : 1 \ttn4hp : 2 \tt62gs : 1 \ttlql4 : 2 \ttcdv8 : 2 \t\n",
            "tl3l6 : 2 \ttbb6j : 2 \tt5pgg : 2 \ttjj0r : 2 \tt982j : 2 \ttk3r : 2 \ttvwcg : 2 \tt4pp6 : 2 \tt3rgg : 1 \tt48r2 : 2 \tt3xvq : 2 \ttbzhk : 2 \ttb25z : 2 \ttqmvs : 2 \t\n",
            "Tags pendientes de listar: 839950\n"
          ],
          "name": "stdout"
        }
      ]
    },
    {
      "metadata": {
        "id": "doy2pzhyMEfY",
        "colab_type": "code",
        "outputId": "79b924d8-af33-4935-9869-39a49c1ea73b",
        "colab": {
          "base_uri": "https://localhost:8080/",
          "height": 34
        }
      },
      "cell_type": "code",
      "source": [
        "dtags, nctags = purgedict(dtags, nctags, False)"
      ],
      "execution_count": 14,
      "outputs": [
        {
          "output_type": "stream",
          "text": [
            "N. fotos: 80000 Fotos Verticales: 0 Fotos Horiz: 80000 Tags no combinables horizontales: 240000 Apariciones Tags: 1440000 Tags diferentes: 600000 Media Tags por imagen: 2.4\n"
          ],
          "name": "stdout"
        }
      ]
    },
    {
      "metadata": {
        "id": "i2x5837nMZ7h",
        "colab_type": "code",
        "outputId": "1d56bc62-f8a8-43b4-d710-9fdb9e477543",
        "colab": {
          "base_uri": "https://localhost:8080/",
          "height": 85
        }
      },
      "cell_type": "code",
      "source": [
        "# List number of ocurrences for eacj tag in photos list\n",
        "listupla(dtags,50)"
      ],
      "execution_count": 15,
      "outputs": [
        {
          "output_type": "stream",
          "text": [
            "t5xl1 : 2 \tt99tm : 2 \ttv7zt : 2 \ttkp5g : 2 \tth8wv : 2 \ttzdr4 : 2 \tt5nnd : 2 \ttj4f : 2 \ttsmcf : 2 \tt2hzq : 2 \ttv1h01 : 2 \ttbj57 : 2 \ttwzgl : 2 \tt111w : 2 \ttr5fv : 2 \ttb5p6 : 2 \tt6zkl : 2 \ttcz3g : 2 \t\n",
            "tlvcq : 2 \tt5x7p : 2 \ttwzsw : 2 \tt6p61 : 2 \ttlhlt : 2 \tt7fgq : 2 \ttf36x : 2 \ttn4hp : 2 \ttlql4 : 2 \ttcdv8 : 2 \ttl3l6 : 2 \ttbb6j : 2 \tt5pgg : 2 \ttjj0r : 2 \tt982j : 2 \ttk3r : 2 \ttvwcg : 2 \tt4pp6 : 2 \t\n",
            "t48r2 : 2 \tt3xvq : 2 \ttbzhk : 2 \ttb25z : 2 \ttqmvs : 2 \tt0h5n : 2 \ttbns8 : 2 \ttvr51 : 2 \ttfmns : 2 \ttc9r2 : 2 \tt4rt4 : 2 \ttx895 : 2 \tt98wh : 2 \tt9h9q : 2 \t\n",
            "Tags pendientes de listar: 599950\n"
          ],
          "name": "stdout"
        }
      ]
    },
    {
      "metadata": {
        "id": "9GgIDppHRM7W",
        "colab_type": "code",
        "outputId": "43ab4963-17ca-4297-9657-bb369a4d468f",
        "colab": {
          "base_uri": "https://localhost:8080/",
          "height": 85
        }
      },
      "cell_type": "code",
      "source": [
        "# Listar tags no combinables\n",
        "listatags(nctags,50)"
      ],
      "execution_count": 16,
      "outputs": [
        {
          "output_type": "stream",
          "text": [
            "tz6js \tt8v28 \ttzvts \ttfq8r \tt6b5q \tt4qw5 \ttd7gm \tt93rb \tthh95 \tt13xg \ttzr0v \ttzgcw \ttg4bl \ttd3n2 \ttw7r3 \ttlwjh \ttrp0g \ttvxfd \t\n",
            "t2t6l \ttmk011 \ttb6rm \ttxv22 \tt29jm \ttnkp01 \ttmd9b \ttt87 \ttkl5n \tt4mpg \ttghg3 \tt59zz \ttmqxz \tt1cjs \ttz6fk \tt5rjc \ttmd56 \ttkb5t \t\n",
            "t8q6b \ttxr94 \ttdn4z \ttz505 \tt45qp \ttrsjv \ttpqc01 \ttl8cv \ttmmtf \ttv9rv \ttt8bh \ttw2sw \ttnczr \ttxr3b \t\n",
            "Tags pendientes de listar: 239950\n"
          ],
          "name": "stdout"
        }
      ]
    },
    {
      "metadata": {
        "id": "1UI0N_fIU9mR",
        "colab_type": "code",
        "colab": {}
      },
      "cell_type": "code",
      "source": [
        "listafotos(photosv,5)"
      ],
      "execution_count": 0,
      "outputs": []
    },
    {
      "metadata": {
        "id": "N2AFinbr3v_5",
        "colab_type": "code",
        "outputId": "3daf1662-1bbb-4e94-feeb-3dfeeb99df6e",
        "colab": {
          "base_uri": "https://localhost:8080/",
          "height": 34
        }
      },
      "cell_type": "code",
      "source": [
        "photosv, nctags, ttags = purgetags(photosv,nctags,False)"
      ],
      "execution_count": 18,
      "outputs": [
        {
          "output_type": "stream",
          "text": [
            "N. fotos: 0 Apariciones Tags: 0 Tags diferentes: 600000 Media Tags por imagen: 0.0\n"
          ],
          "name": "stdout"
        }
      ]
    },
    {
      "metadata": {
        "id": "vAwrQeoqVSW2",
        "colab_type": "code",
        "colab": {}
      },
      "cell_type": "code",
      "source": [
        "listafotos(photosv,5)"
      ],
      "execution_count": 0,
      "outputs": []
    },
    {
      "metadata": {
        "id": "bTvnueGyVVMF",
        "colab_type": "code",
        "outputId": "cbf0102c-4279-4ef1-cd11-bb0453bbd3ff",
        "colab": {
          "base_uri": "https://localhost:8080/",
          "height": 119
        }
      },
      "cell_type": "code",
      "source": [
        "listafotos(photosh,5)"
      ],
      "execution_count": 20,
      "outputs": [
        {
          "output_type": "stream",
          "text": [
            "[0, 'H', 21, {'t5xl1', 'tc2j5', 't99tm', 'tv7zt', 'tkp5g', 'th8wv', 'tzdr4', 't5nnd', 'tj4f', 'tsmcf', 'tf5wv', 't2hzq', 'tv1h01', 'tbj57', 'twzgl', 't111w', 'tr5fv', 'tb5p6', 't6zkl', 'tcz3g', 't1c76'}]\n",
            "[1, 'H', 9, {'tns01', 'tlvcq', 't5x7p', 'twzsw', 't6p61', 'tkw11', 'tlhlt', 't7fgq', 'tpvh8'}]\n",
            "[2, 'H', 15, {'tf36x', 't0r1w', 'tn4hp', 't62gs', 'tlql4', 'tcdv8', 'tl3l6', 'tbb6j', 't5pgg', 'tjj0r', 't982j', 'tk3r', 'tvwcg', 't4pp6', 't3rgg'}]\n",
            "[3, 'H', 15, {'t48r2', 't3xvq', 'tbzhk', 'tb25z', 'tqmvs', 't0h5n', 'tbns8', 'tvr51', 'tfmns', 'tc9r2', 'tfv2', 't4rt4', 'tx895', 't52xx', 't919l'}]\n",
            "[4, 'H', 15, {'t98wh', 't5rbj', 't9h9q', 't7s67', 't8z5v', 'tk99r', 't6qt9', 't7w5h', 'txk58', 'td6tp', 'tjbc', 'thh6z', 'thzc5', 't46vk', 'tfzzf'}]\n",
            "Fotos pendientes de listar: 79995\n"
          ],
          "name": "stdout"
        }
      ]
    },
    {
      "metadata": {
        "id": "YVRxLJ433-DZ",
        "colab_type": "code",
        "outputId": "3ee7e6a0-5657-4bc4-ce3c-52e479e98cda",
        "colab": {
          "base_uri": "https://localhost:8080/",
          "height": 34
        }
      },
      "cell_type": "code",
      "source": [
        "photosh, nctags, ttags = purgetags(photosh,nctags,False)"
      ],
      "execution_count": 21,
      "outputs": [
        {
          "output_type": "stream",
          "text": [
            "N. fotos: 80000 Apariciones Tags: 1200000 Tags diferentes: 600000 Media Tags por imagen: 2.0\n"
          ],
          "name": "stdout"
        }
      ]
    },
    {
      "metadata": {
        "id": "AFBOurXdVYan",
        "colab_type": "code",
        "outputId": "055e093d-8415-4eac-837d-0e229dbd5eac",
        "colab": {
          "base_uri": "https://localhost:8080/",
          "height": 119
        }
      },
      "cell_type": "code",
      "source": [
        "listafotos(photosh,5)"
      ],
      "execution_count": 22,
      "outputs": [
        {
          "output_type": "stream",
          "text": [
            "[0, 'H', 18, {'tj4f', 'tkp5g', 'tr5fv', 'th8wv', 't5xl1', 'tsmcf', 'tzdr4', 'tb5p6', 't6zkl', 't2hzq', 'tv1h01', 't5nnd', 'tbj57', 'tcz3g', 'twzgl', 't99tm', 'tv7zt', 't111w'}]\n",
            "[1, 'H', 6, {'tlvcq', 't5x7p', 'twzsw', 't6p61', 'tlhlt', 't7fgq'}]\n",
            "[2, 'H', 12, {'tf36x', 'tn4hp', 'tlql4', 'tcdv8', 'tl3l6', 'tbb6j', 't5pgg', 'tjj0r', 't982j', 'tk3r', 'tvwcg', 't4pp6'}]\n",
            "[3, 'H', 12, {'t48r2', 't3xvq', 'tbzhk', 'tqmvs', 'tb25z', 't0h5n', 'tbns8', 'tvr51', 'tc9r2', 'tfmns', 't4rt4', 'tx895'}]\n",
            "[4, 'H', 12, {'t98wh', 'tjbc', 't46vk', 't9h9q', 't8z5v', 'tk99r', 't6qt9', 'txk58', 'td6tp', 'thh6z', 't7s67', 'tfzzf'}]\n",
            "Fotos pendientes de listar: 79995\n"
          ],
          "name": "stdout"
        }
      ]
    },
    {
      "metadata": {
        "id": "_sH9IHEdV3Oj",
        "colab_type": "code",
        "outputId": "c796d853-52b8-4448-aae6-a121f2643695",
        "colab": {
          "base_uri": "https://localhost:8080/",
          "height": 119
        }
      },
      "cell_type": "code",
      "source": [
        "listafotos(photos,5)"
      ],
      "execution_count": 23,
      "outputs": [
        {
          "output_type": "stream",
          "text": [
            "[0, 'H', 18, {'tj4f', 'tkp5g', 'tr5fv', 'th8wv', 't5xl1', 'tsmcf', 'tzdr4', 'tb5p6', 't6zkl', 't2hzq', 'tv1h01', 't5nnd', 'tbj57', 'tcz3g', 'twzgl', 't99tm', 'tv7zt', 't111w'}]\n",
            "[1, 'H', 6, {'tlvcq', 't5x7p', 'twzsw', 't6p61', 'tlhlt', 't7fgq'}]\n",
            "[2, 'H', 12, {'tf36x', 'tn4hp', 'tlql4', 'tcdv8', 'tl3l6', 'tbb6j', 't5pgg', 'tjj0r', 't982j', 'tk3r', 'tvwcg', 't4pp6'}]\n",
            "[3, 'H', 12, {'t48r2', 't3xvq', 'tbzhk', 'tqmvs', 'tb25z', 't0h5n', 'tbns8', 'tvr51', 'tc9r2', 'tfmns', 't4rt4', 'tx895'}]\n",
            "[4, 'H', 12, {'t98wh', 'tjbc', 't46vk', 't9h9q', 't8z5v', 'tk99r', 't6qt9', 'txk58', 'td6tp', 'thh6z', 't7s67', 'tfzzf'}]\n",
            "Fotos pendientes de listar: 79995\n"
          ],
          "name": "stdout"
        }
      ]
    },
    {
      "metadata": {
        "id": "Da8bmY9kgP5o",
        "colab_type": "code",
        "outputId": "405eff4b-33c8-405c-e1ed-93ab156ba07a",
        "colab": {
          "base_uri": "https://localhost:8080/",
          "height": 34
        }
      },
      "cell_type": "code",
      "source": [
        "photos, nctags, ttags = purgetags(photos,nctags,False)"
      ],
      "execution_count": 24,
      "outputs": [
        {
          "output_type": "stream",
          "text": [
            "N. fotos: 80000 Apariciones Tags: 1200000 Tags diferentes: 600000 Media Tags por imagen: 2.0\n"
          ],
          "name": "stdout"
        }
      ]
    },
    {
      "metadata": {
        "id": "-ZZvDRMUV_PT",
        "colab_type": "code",
        "outputId": "d8900b18-0d6d-48b9-f83e-8ee7f3a49db6",
        "colab": {
          "base_uri": "https://localhost:8080/",
          "height": 119
        }
      },
      "cell_type": "code",
      "source": [
        "listafotos(photos,5)"
      ],
      "execution_count": 25,
      "outputs": [
        {
          "output_type": "stream",
          "text": [
            "[0, 'H', 18, {'tj4f', 'tkp5g', 'tr5fv', 'th8wv', 't5xl1', 'tsmcf', 'tzdr4', 'tb5p6', 't6zkl', 't2hzq', 'tv1h01', 't5nnd', 'tbj57', 'tcz3g', 'twzgl', 't99tm', 'tv7zt', 't111w'}]\n",
            "[1, 'H', 6, {'tlvcq', 't5x7p', 'twzsw', 't6p61', 'tlhlt', 't7fgq'}]\n",
            "[2, 'H', 12, {'tf36x', 'tn4hp', 'tlql4', 'tcdv8', 'tl3l6', 'tbb6j', 't5pgg', 'tjj0r', 't982j', 'tk3r', 'tvwcg', 't4pp6'}]\n",
            "[3, 'H', 12, {'t48r2', 't3xvq', 'tbzhk', 'tqmvs', 'tb25z', 't0h5n', 'tbns8', 'tvr51', 'tc9r2', 'tfmns', 't4rt4', 'tx895'}]\n",
            "[4, 'H', 12, {'t98wh', 't9h9q', 't7s67', 't8z5v', 'tk99r', 't6qt9', 'txk58', 'td6tp', 'tjbc', 'thh6z', 't46vk', 'tfzzf'}]\n",
            "Fotos pendientes de listar: 79995\n"
          ],
          "name": "stdout"
        }
      ]
    },
    {
      "metadata": {
        "id": "lyllphC6vsQX",
        "colab_type": "code",
        "colab": {}
      },
      "cell_type": "code",
      "source": [
        "nctags = set()"
      ],
      "execution_count": 0,
      "outputs": []
    },
    {
      "metadata": {
        "id": "qTthbcOqxawD",
        "colab_type": "code",
        "colab": {}
      },
      "cell_type": "code",
      "source": [
        "# purgephotos(photos, nctags, 6,False)"
      ],
      "execution_count": 0,
      "outputs": []
    },
    {
      "metadata": {
        "id": "uCOdwRowT2Rz",
        "colab_type": "code",
        "colab": {}
      },
      "cell_type": "code",
      "source": [
        "# link(photos,False)"
      ],
      "execution_count": 0,
      "outputs": []
    }
  ]
}