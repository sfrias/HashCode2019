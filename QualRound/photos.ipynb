{
  "nbformat": 4,
  "nbformat_minor": 0,
  "metadata": {
    "colab": {
      "name": "photos",
      "version": "0.3.2",
      "provenance": [],
      "collapsed_sections": [
        "zF-F6rNA_aqm",
        "eBDoPg2GbGlF",
        "rUm23R1fafcO",
        "ykI743QWbPdk",
        "tAWHD1sGS1GF",
        "I-VBaduQaVF0"
      ],
      "include_colab_link": true
    },
    "kernelspec": {
      "name": "python3",
      "display_name": "Python 3"
    },
    "accelerator": "TPU"
  },
  "cells": [
    {
      "cell_type": "markdown",
      "metadata": {
        "id": "view-in-github",
        "colab_type": "text"
      },
      "source": [
        "<a href=\"https://colab.research.google.com/github/sfrias/HashCode2019/blob/master/QualRound/photos.ipynb\" target=\"_parent\"><img src=\"https://colab.research.google.com/assets/colab-badge.svg\" alt=\"Open In Colab\"/></a>"
      ]
    },
    {
      "metadata": {
        "id": "zF-F6rNA_aqm",
        "colab_type": "text"
      },
      "cell_type": "markdown",
      "source": [
        "### Placed at repo: https://github.com/sfrias/HashCode2019\n",
        "\n",
        "### Repo file: https://github.com/sfrias/HashCode2019/blob/master/QualRound/photos.ipynb"
      ]
    },
    {
      "metadata": {
        "id": "yllCUY6PVVEU",
        "colab_type": "code",
        "colab": {}
      },
      "cell_type": "code",
      "source": [
        "# Slideshow with vertical & Horizontal photos. Scoring is calculated with linked tags.\n",
        "# If photos were vertical, two must be combined in one slide. Tags were union of both photos tags\n",
        "# Linked slides match scoring por slideshow.\n",
        "# linkable tags with only one appearance qualify photos:\n",
        "#  ---Horizontal photo for only use with ends of slideshows.\n",
        "#  ---Vertical photo for only bundle slide with other vertical photo to link two ways.\n",
        "# \n",
        "# Placed at repo: https://github.com/sfrias/HashCode2019\n",
        "# repo file: https://github.com/sfrias/HashCode2019/blob/master/QualRound/photos.ipynb"
      ],
      "execution_count": 0,
      "outputs": []
    },
    {
      "metadata": {
        "id": "c8SkUIQfb2Vq",
        "colab_type": "text"
      },
      "cell_type": "markdown",
      "source": [
        "## Previous config and functions section"
      ]
    },
    {
      "metadata": {
        "id": "eBDoPg2GbGlF",
        "colab_type": "text"
      },
      "cell_type": "markdown",
      "source": [
        "### Imports and configs"
      ]
    },
    {
      "metadata": {
        "id": "9Qb_QWP3OlnR",
        "colab_type": "code",
        "colab": {}
      },
      "cell_type": "code",
      "source": [
        "# Import and package configuration\n",
        "#import matplotlib.pyplot as pyplot\n",
        "#from pylab import *\n",
        "#import networkx\n",
        "#import time"
      ],
      "execution_count": 0,
      "outputs": []
    },
    {
      "metadata": {
        "id": "2KpcGf5AQGaH",
        "colab_type": "code",
        "colab": {}
      },
      "cell_type": "code",
      "source": [
        "# Import and package configuration\n",
        "from google.colab import files\n",
        "from itertools import combinations"
      ],
      "execution_count": 0,
      "outputs": []
    },
    {
      "metadata": {
        "id": "rUm23R1fafcO",
        "colab_type": "text"
      },
      "cell_type": "markdown",
      "source": [
        "### Download files from Hashcode instance"
      ]
    },
    {
      "metadata": {
        "id": "TUCsM0OzQXlZ",
        "colab_type": "code",
        "colab": {}
      },
      "cell_type": "code",
      "source": [
        " # Download data files from hashcode"
      ],
      "execution_count": 0,
      "outputs": []
    },
    {
      "metadata": {
        "id": "_f7H-zjWQXWw",
        "colab_type": "code",
        "colab": {}
      },
      "cell_type": "code",
      "source": [
        "#!wget -O example.in  \"https://hashcodejudge.withgoogle.com/download/blob/AMIfv97QHzUItY7To0o6id8E6_kxpE1KwTlPR1T9yC2zlbm46xvPPX7tBn1r5ZNxw9XboxHkVKa82BzM-B65uM92pJRONqfeVlHfpzH8xbqKc9FrAWJnd3Yp5SF7naqscxmnBjTa3R-UcB_bqg5hoAa0TZFXIlvi-RL6y_daJXyNUUHeP1kBxQss_1b2nNbNFg7W3Jtgyl2Vs86QrufNrQcUlNh754HyhRrhV3yJBo66HdYQAa2lPISjoUkUTpWqqrGIEItpPu27GNqcp2I69D8j8A-70B30oU-w7zIe9DJ9xnpC70T6T88\""
      ],
      "execution_count": 0,
      "outputs": []
    },
    {
      "metadata": {
        "id": "JHXji8CdR6IW",
        "colab_type": "code",
        "outputId": "18498b2a-a481-441c-a840-184b0bdd170b",
        "colab": {
          "base_uri": "https://localhost:8080/",
          "height": 224
        }
      },
      "cell_type": "code",
      "source": [
        "!wget -O lovely.in \"https://hashcodejudge.withgoogle.com/download/blob/AMIfv977kmeJsFQfgJNbIlAkviRDMVQcDWj0hLBMvhyg8SuPR52vtGV8uIJsB5nnPDX1Rp14OqzXWF-XXUKp3hhFjdL9PtHAOemuN-rKrd_OgY8pQ6SwgBlBcwPm-5Ova9XoGHSlhT2iLskxOoetjmTNQ8upzsFVkCQqh0gM0P-VX2nWmyxSfIFGmv373rdp9k1Bw9iMdhZXxuMfYIPaWJ8c6izWNYsl9Mpk1a7R0DjShNoDn6Nbfghj_S9bkjGgJS6Clz0b3rMqhHyHAxuIVMnfw1ppwWK_z5TYb4Tsz1vzNERAVPtnuSw\""
      ],
      "execution_count": 0,
      "outputs": [
        {
          "output_type": "stream",
          "text": [
            "--2019-03-18 23:32:51--  https://hashcodejudge.withgoogle.com/download/blob/AMIfv977kmeJsFQfgJNbIlAkviRDMVQcDWj0hLBMvhyg8SuPR52vtGV8uIJsB5nnPDX1Rp14OqzXWF-XXUKp3hhFjdL9PtHAOemuN-rKrd_OgY8pQ6SwgBlBcwPm-5Ova9XoGHSlhT2iLskxOoetjmTNQ8upzsFVkCQqh0gM0P-VX2nWmyxSfIFGmv373rdp9k1Bw9iMdhZXxuMfYIPaWJ8c6izWNYsl9Mpk1a7R0DjShNoDn6Nbfghj_S9bkjGgJS6Clz0b3rMqhHyHAxuIVMnfw1ppwWK_z5TYb4Tsz1vzNERAVPtnuSw\n",
            "Resolving hashcodejudge.withgoogle.com (hashcodejudge.withgoogle.com)... 108.177.121.141, 2607:f8b0:4001:c19::8d\n",
            "Connecting to hashcodejudge.withgoogle.com (hashcodejudge.withgoogle.com)|108.177.121.141|:443... connected.\n",
            "HTTP request sent, awaiting response... 200 OK\n",
            "Length: unspecified [text/plain]\n",
            "Saving to: ‘lovely.in’\n",
            "\n",
            "lovely.in               [      <=>           ]   8.62M  7.63MB/s    in 1.1s    \n",
            "\n",
            "2019-03-18 23:32:52 (7.63 MB/s) - ‘lovely.in’ saved [9039625]\n",
            "\n"
          ],
          "name": "stdout"
        }
      ]
    },
    {
      "metadata": {
        "id": "SfghR8meSpo3",
        "colab_type": "code",
        "colab": {}
      },
      "cell_type": "code",
      "source": [
        "#!wget -O memoments.in \"https://hashcodejudge.withgoogle.com/download/blob/AMIfv94hwk1wpXjU-qRaszhHtsN4gJSGTkGGNfiItXwzXwhtP6IGrdiZrJ16XvlGFZAKOck8csLoiqwaDiJY6pybACZPZoBnwUMB_WLmQPR7XwH_0AMzk4at1sNgwB_f-9wOwSaqAQE8VtIlLNLDOLeo9sJDLxUVceOopaGh93MDCof4KCYXcdvM9tCSQz1sT89KVmM3Qx0Rz0JkXm4-a3mTk_676DubwwI5siY-ulC87_p1qcfeWdJXmuqMO7E-8THazayXZmS2dXyeTWiOOt27fOC06dSTe9mYfNBISojtloNJc-9Xohc\""
      ],
      "execution_count": 0,
      "outputs": []
    },
    {
      "metadata": {
        "id": "b9zUUte-Spjk",
        "colab_type": "code",
        "colab": {}
      },
      "cell_type": "code",
      "source": [
        "#!wget -O petpict.in \"https://hashcodejudge.withgoogle.com/download/blob/AMIfv95TypJhkPij61j5cS87pz5lYAw7u6lKSxctMX0zPI_8N7y-bRcwGLHe8rx8vAaQ_Dszh0yuWjpdXucxsC52Fq-iuNeI9D8ugsj3djcsDH5Ax3TlTILi27GOCPv_-U7KZsyrbKusR5T8saKHiE2cferYs92JBV_nKxm7gxQkzITercTAfcJaEtenWiTS4rhPkIVARXCQE9LaycZvxV4IqTnDCfYHZhtFVV9_Y_h5riDVjGZZd01tplZ1aibiKASlJZulxOwnJGfmgrYkImN3dCaDYx0eAGlGUoRjAF3GsiGdZ4bI0_V-lKZJlSdoMPxCctPLpgvL\""
      ],
      "execution_count": 0,
      "outputs": []
    },
    {
      "metadata": {
        "id": "h5NlNfBJSpWZ",
        "colab_type": "code",
        "colab": {}
      },
      "cell_type": "code",
      "source": [
        "#!wget -O shinyself.in \"https://hashcodejudge.withgoogle.com/download/blob/AMIfv941-URwsmc_UpuUvypgEBaH_U4oDiPKJZR_gk2oNcK8NXMmcZMwFC8qM3aYM_G1dN5hhRt9ONNq_o1RLVdWXqFn6M_DFVf_UnLD0E7Qg-D989lrG08e5FWD06_crrlGQI48euVgJSyEHO2oo8_3506xyzI2KsMLs_zPfjnnRr6sVKSMeQLNWRD4gut2m1QBzkRWvZuigNbXsCFra7wNPrEdPCI4Mf11W9rWcMrVsvMcrAmjw02vPbqqe8QrVwM08n0tMfAvk01BwBEM8RcwkYtkp8IUP3M0_67Sum1zfuFayeLWSOY\""
      ],
      "execution_count": 0,
      "outputs": []
    },
    {
      "metadata": {
        "id": "R2YzU_BOSpGB",
        "colab_type": "code",
        "outputId": "3a670f10-54a0-4969-b43f-1011b7983833",
        "colab": {
          "base_uri": "https://localhost:8080/",
          "height": 68
        }
      },
      "cell_type": "code",
      "source": [
        "!ls -l"
      ],
      "execution_count": 0,
      "outputs": [
        {
          "output_type": "stream",
          "text": [
            "total 8836\n",
            "-rw-r--r-- 1 root root 9039625 Mar 18 23:32 lovely.in\n",
            "drwxr-xr-x 1 root root    4096 Mar  8 17:26 sample_data\n"
          ],
          "name": "stdout"
        }
      ]
    },
    {
      "metadata": {
        "id": "4jHinMavaqva",
        "colab_type": "text"
      },
      "cell_type": "markdown",
      "source": [
        "### Create Data Structures and load data from/to file, scoring"
      ]
    },
    {
      "metadata": {
        "id": "6GGNIr7HLiI3",
        "colab_type": "code",
        "colab": {}
      },
      "cell_type": "code",
      "source": [
        "# Load data file function. Parameters: nom = name of input file, test = 'Test debug mode False or True'\n",
        "# # def loaddata(nom,test):return\n",
        "# nphotos\t# Number of photos\n",
        "# ,photos\t# Data for all photos\n",
        "# ,photosv# Data for vertical photos\n",
        "# ,photosh# Data for horizontal photos\n",
        "# ,nv\t# number of vertical images\n",
        "# ,nh\t# Number of horizontal images\n",
        "# ,nctags\t# Not linkable tags\n",
        "# ,ncphotos# Not linkable photos\n",
        "# ttags\t# Tag global number occurrences\n",
        "# dtags\t# tags occurrence, dictionary\n",
        "# dtag_ph# Tag dictionary pointer to tag_ph photos list for each tag\n",
        "# tag_ph\t# photos list for each tag, indexed"
      ],
      "execution_count": 0,
      "outputs": []
    },
    {
      "metadata": {
        "id": "RZP8fo_uGdcN",
        "colab_type": "text"
      },
      "cell_type": "markdown",
      "source": [
        "![alt text](https://github.com/sfrias/HashCode2019/blob/master/QualRound/loaddata.jpg?raw=true)"
      ]
    },
    {
      "metadata": {
        "id": "687Ar8rWTgTY",
        "colab_type": "code",
        "colab": {}
      },
      "cell_type": "code",
      "source": [
        "# Load data from file .in . Main Data structures created:\n",
        "# - photos[0 -(N-1)]: <id>, {'H','V'}, <numbr_of_tags>, {<set_of_tags} -> Indexed access to photo features, including set of tags.\n",
        "# - dtags[<tag>]: dictionary of occurrences for this tag on all files. -> Determine linkable tags. A copy can be updated on link process.\n",
        "# - dtag_ph[<tag>]: index to list tag_ph. -> Indexed access into list of lists of photos that have this tag in common.\n",
        "# - tag_ph[<index>]: list of lists of photo id's that can be linked by tag that index this list through dictionary dtag_ph.\n",
        "\n",
        "\n",
        "def loaddata(nom,test):\n",
        "  file = open(nom,'r')\n",
        "  line = file.readline()\n",
        "  # Assign number of photos from first line\n",
        "  nphotos = int(line.rstrip()) # Number of photos\n",
        "  nv = 0 # number of vertical images\n",
        "  nh = 0 # Number of horizontal images\n",
        "  phpt = 0 # photo pointer position to videos list for each tag\n",
        "  ttags = 0 # Tag global number occurrences \n",
        "  nctags = set() # Not linkable tags\n",
        "  ncphotos = set() # Not linkable photos\n",
        "  dtags = {} # tags occurrence, dictionary\n",
        "  dtag_ph = {} # Tag dictionary pointer to tag_ph photos list for each tag\n",
        "  photos = [] # Data for all photos\n",
        "  photosv = [] # Data for vertical photos\n",
        "  photosh = [] # Data for horizontal photos\n",
        "  tag_ph = [] # list of photos list for each tag, indexed by dtag_ph\n",
        "  # Read all image descriptions\n",
        "  for i in range(nphotos):\n",
        "    lista = []\n",
        "    lista = file.readline().rstrip().split(' ')\n",
        "    lista.insert(0,i) # Insert image number\n",
        "    tags = set(lista[3:]) # Store tags as a set\n",
        "    for t in tags: # Adds tag occurrences to dictionary\n",
        "      if t in dtags:\n",
        "        dtags[t] += 1\n",
        "        tag_ph[dtag_ph[t]].append(i)\n",
        "      else:\n",
        "        dtags[t] = 1\n",
        "        dtag_ph[t] = phpt\n",
        "        tag_ph.append([])\n",
        "        tag_ph[phpt].append(i)\n",
        "        phpt += 1\n",
        "    ntags = int(lista[2]) # Convert to int  tag number for photo\n",
        "    lista = lista[:2] # Crop list\n",
        "    # Count number of vertical or horizontal images\n",
        "    # Append elements to list\n",
        "    lista.append(ntags) # Number of tags\n",
        "    lista.append(tags) # Set of tags\n",
        "    ttags += ntags \n",
        "    photos.append(lista)\n",
        "    if lista[1] =='V':\n",
        "      nv +=1\n",
        "      photosv.append(lista) # Add vertical image list data to photos list.\n",
        "    else:\n",
        "      nh +=1\n",
        "      photosh.append(lista) # Add horizontal image list data to photos list.\n",
        "    if test:\n",
        "      print(photos[i])\n",
        "  file.close()\n",
        "  print('N. fotos:',nphotos,'Verticales:',nv,'Horizontales:',nh,'Tags no combinables:',len(nctags),'Apariciones Tags:',ttags,'Tags diferentes:',len(dtags),'Media Tags/ imagen:', ttags/nphotos)\n",
        "  return nphotos, photos, photosv, photosh, nv, nh, nctags, ncphotos, ttags, dtags, dtag_ph, tag_ph"
      ],
      "execution_count": 0,
      "outputs": []
    },
    {
      "metadata": {
        "id": "PK8bZS9zhxi0",
        "colab_type": "code",
        "colab": {}
      },
      "cell_type": "code",
      "source": [
        "# Write Output data to a file, and download via google.colab files, drive or other\n",
        "def writedata(nom,slideshow):\n",
        "  file=open(nom,'w')\n",
        "  file.write(str(len(slideshow))+'\\n')\n",
        "  for i in slideshow:\n",
        "    if i == 2:\n",
        "      file.write(' '.join(str(e) for e in i)+'\\n')\n",
        "    else:\n",
        "      file.write(str(i)+'\\n')\n",
        "  file.close()\n",
        "  files.download(nom) # google colab files download\n",
        "  return"
      ],
      "execution_count": 0,
      "outputs": []
    },
    {
      "metadata": {
        "id": "ne3EbgNl_tRc",
        "colab_type": "code",
        "colab": {}
      },
      "cell_type": "code",
      "source": [
        "def scoring(photos, ph1_1,ph2_1,ph1_2 = -1, ph2_2 = -1, test = False):\n",
        "  \n",
        "  # Set tags for slide1 with id photos\n",
        "  if ph1_2 == -1 :\n",
        "    tag1 = photos[ph1_1][3]\n",
        "  else:\n",
        "    tag1 = photos[ph1_1][3] | photos[ph1_2][3]\n",
        "  if test:\n",
        "    print('Tags fotos', ph1_1,' ', ph1_2, 'de slide 1', tag1)\n",
        "    print()\n",
        "  # Set tags for slide2 whith id photos\n",
        "  if ph2_2 == -1:\n",
        "    tag2 = photos[ph2_1][3]\n",
        "  else:\n",
        "    tag2 = photos[ph2_1][3] | photos[ph2_2][3]\n",
        "  if test:\n",
        "    print('Tags fotos', ph2_1,' ', ph2_2, 'de slide 2', tag2)\n",
        "    print()\n",
        "  # Calculate optional scoring\n",
        "  sctag_int = tag1 & tag2\n",
        "  sctag1not2 = tag1 - tag2\n",
        "  sctag2not1 = tag2 - tag1\n",
        "  sc_int = len(sctag_int)\n",
        "  sc1not2 = len(sctag1not2)\n",
        "  sc2not1 = len(sctag2not1)\n",
        "  score = min(sc_int, sc1not2, sc2not1)\n",
        "  if test:\n",
        "    print('* Interseccion: Num.tags:', sc_int, end = '')\n",
        "    print(sctag_int)\n",
        "    print()\n",
        "    print('* En slide1 pero no en slide2. Num.tags:', sc1not2, end = '')\n",
        "    print(sctag1not2)\n",
        "    print()\n",
        "    print('* En slide2 pero no en slide1. Num.tags:', sc2not1, end = '')\n",
        "    print(sctag2not1)\n",
        "    print()\n",
        "  return score, int((300 *score)/(sc_int + sc1not2 + sc2not1)), sctag_int # Score and % possible ratio "
      ],
      "execution_count": 0,
      "outputs": []
    },
    {
      "metadata": {
        "id": "uL41hxIga9GX",
        "colab_type": "text"
      },
      "cell_type": "markdown",
      "source": [
        "### Display utilities for analysis"
      ]
    },
    {
      "metadata": {
        "id": "DGsEX1_y6hod",
        "colab_type": "code",
        "colab": {}
      },
      "cell_type": "code",
      "source": [
        "# Best Scoring for seed photo id\n",
        "def best_sc(photos, id_seed, test = False):\n",
        "  ncount = 0\n",
        "  nlist = 0\n",
        "  id_sel = -1\n",
        "  best_pcent = -1\n",
        "  best_pt = 0\n",
        "  best_itsc = set()\n",
        "  for foto in photos:\n",
        "    ncount += 1\n",
        "    if foto[0] == id_seed:\n",
        "      if test:\n",
        "        nlist += 1\n",
        "        print('Seed:', id_seed,'\\tphoto:', foto[0], 'Seed photo. Not computed')\n",
        "    else:\n",
        "      puntos, pcent, itsc = scoring(photos, id_seed, foto[0])\n",
        "      if puntos > 0:\n",
        "        if test:\n",
        "          print('Seed:', id_seed,'\\tphoto:', foto[0], scoring(photos, id_seed, foto[0]))\n",
        "          nlist += 1\n",
        "      # Select best scoring and reference to return\n",
        "      if pcent == best_pcent:\n",
        "        if puntos > best_pt:\n",
        "          best_id = foto[0]\n",
        "          best_pcent = pcent\n",
        "          best_pt = puntos\n",
        "          best_itsc = itsc \n",
        "      if pcent > best_pcent:\n",
        "        if id_sel == -1:\n",
        "          best_id = foto[0]\n",
        "          best_pcent = pcent\n",
        "          best_pt = puntos\n",
        "          best_itsc = itsc\n",
        "  return best_id, best_pcent, best_pt,best_itsc, ncount, nlist"
      ],
      "execution_count": 0,
      "outputs": []
    },
    {
      "metadata": {
        "id": "uJFwKjyUKuX6",
        "colab_type": "code",
        "colab": {}
      },
      "cell_type": "code",
      "source": [
        "def best_ph_sc (photos, nphotos, min_thresh = 0, limit = 25, test = False):\n",
        "  listed = 0\n",
        "  counted = 0\n",
        "  lkcount = 0\n",
        "  best_ph_id = -1\n",
        "  best_ph_pcent = 0\n",
        "  best_ph_pt = 0\n",
        "  crow = 0\n",
        "  for seed in range(nphotos):\n",
        "    best_id, best_pcent, best_pt,best_itsc, ncount, nlist = best_sc(photos, seed, test)\n",
        "    counted += ncount\n",
        "    listed += nlist\n",
        "    if (best_pt > best_ph_pt):\n",
        "      if test:\n",
        "        print()\n",
        "        print('***PT***Seed id:',seed, 'Best id:', best_id, '\\tBest percentage:', best_pcent, '\\tPoints:', best_pt,'***PT***')\n",
        "        listed += 1\n",
        "    if (best_pcent > best_ph_pcent):\n",
        "      best_ph_id = best_id\n",
        "      best_ph_pcent = best_pcent\n",
        "      best_ph_pt = best_pt\n",
        "      print()\n",
        "      print('***UP***Seed id:',seed, 'Best id:', best_id, '\\tBest percentage:', best_pcent, '\\tPoints:', best_pt,'***UP***', best_itsc)\n",
        "    lkcount += 1\n",
        "    if lkcount > 1000:\n",
        "      crow += 1\n",
        "      if crow >=15:\n",
        "        crow = 0\n",
        "        print()\n",
        "      print(seed,' ', end ='')\n",
        "      lkcount = 0\n",
        "    if listed >= limit:\n",
        "      print()\n",
        "      print('Comparaciones realizadas:', counted)\n",
        "      break"
      ],
      "execution_count": 0,
      "outputs": []
    },
    {
      "metadata": {
        "id": "oIdrf_eXPG4u",
        "colab_type": "code",
        "colab": {}
      },
      "cell_type": "code",
      "source": [
        "# Listing function \n",
        "def lista(photos, limit = 15):\n",
        "  # Linkable photos list\n",
        "  num = len(photos)\n",
        "  fila = 0\n",
        "  for foto in photos:\n",
        "    print(foto)\n",
        "    print()\n",
        "    num -= 1\n",
        "    fila += 1\n",
        "    if fila >= limit:\n",
        "      print(num, 'Elements pending to list')\n",
        "      break"
      ],
      "execution_count": 0,
      "outputs": []
    },
    {
      "metadata": {
        "id": "I16qPYx1QhLK",
        "colab_type": "code",
        "colab": {}
      },
      "cell_type": "code",
      "source": [
        "# Listing set of tags function\n",
        "# tags # set of elements\n",
        "# limit # max. number  of lines listed\n",
        "# nrow # max number of elements at each row\n",
        "def listags(tags, limit = 50, nrow = 18):\n",
        "  # Lista tags\n",
        "  num = len(tags)\n",
        "  listed = 0\n",
        "  columna = 0\n",
        "  for tag in tags:\n",
        "    print(str(tag),'\\t', end='')\n",
        "    num -= 1\n",
        "    listed += 1\n",
        "    columna += 1\n",
        "    if columna >= nrow:\n",
        "      print()\n",
        "      columna = 0\n",
        "    if listed >= limit:\n",
        "      print()\n",
        "      print('Tags pendientes de listar:', num)\n",
        "      break"
      ],
      "execution_count": 0,
      "outputs": []
    },
    {
      "metadata": {
        "id": "GT_GrvXJv64a",
        "colab_type": "code",
        "colab": {}
      },
      "cell_type": "code",
      "source": [
        "def listupla(dicc, limit=500, nrow = 18, valor = 0):\n",
        "  # Lista tags\n",
        "  num = len(dicc)\n",
        "  listed = 0\n",
        "  columna = 0\n",
        "  for tupla in dicc:\n",
        "    if dicc[tupla] >= valor:\n",
        "      print(tupla,':',dicc[tupla],'\\t', end='')\n",
        "      num -= 1\n",
        "      listed += 1\n",
        "      columna += 1\n",
        "      if columna >= nrow:\n",
        "        print()\n",
        "        columna = 0\n",
        "    if listed >= limit:\n",
        "      print()\n",
        "      print('Tags pendientes de listar:', num)\n",
        "      break"
      ],
      "execution_count": 0,
      "outputs": []
    },
    {
      "metadata": {
        "id": "7JmsJpXe01an",
        "colab_type": "code",
        "colab": {}
      },
      "cell_type": "code",
      "source": [
        "def photos4tag(dtag_ph, tag_ph, limit=10, nrow = 6):\n",
        "  num = len(dtag_ph)\n",
        "  listed = 0\n",
        "  columna = 0\n",
        "  for t in dtag_ph:\n",
        "    ptlist = dtag_ph[t]\n",
        "    print(t,'\\t[', ptlist, ']->',tag_ph[ptlist],'\\t',end='')\n",
        "    #print('\\t\\tCombinaciones:',list(combinations(tag_ph[ptlist],2)))\n",
        "    num -= 1\n",
        "    listed += 1\n",
        "    columna += 1\n",
        "    if columna >= nrow:\n",
        "      print()\n",
        "      columna = 0\n",
        "    if listed >= limit:\n",
        "      print()\n",
        "      print('Tags pendientes de listar:', num)\n",
        "      break"
      ],
      "execution_count": 0,
      "outputs": []
    },
    {
      "metadata": {
        "id": "aU0JZ1265KYk",
        "colab_type": "code",
        "colab": {}
      },
      "cell_type": "code",
      "source": [
        "def link2photos(photos, id1,dtag_ph,tag_ph,test=False):\n",
        "  if test:\n",
        "    print(photos[id1])\n",
        "  idset = set()\n",
        "  idset.add(id1)\n",
        "  dnphotos = {}\n",
        "  tags_id1 = photos[id1][3]\n",
        "  if test:\n",
        "    print()\n",
        "  for t in tags_id1:\n",
        "    ptlist = dtag_ph[t]\n",
        "    if test:\n",
        "      print(t,'\\t',ptlist,'\\t', end='')\n",
        "      print(tag_ph[ptlist],'\\t',end='')\n",
        "      print('\\tCombinaciones:',end='')\n",
        "    cphotos = set() # photos set combinations\n",
        "    for c in list(combinations(tag_ph[ptlist],2)):\n",
        "      cphotos.add(c[0])\n",
        "      cphotos.add(c[1])\n",
        "      cphotos = cphotos - idset\n",
        "      if test:\n",
        "        print(cphotos,end='')\n",
        "      cpop =cphotos.pop()\n",
        "      if cpop in dnphotos:\n",
        "        dnphotos[cpop] += 1\n",
        "      else:\n",
        "        dnphotos[cpop] = 1\n",
        "    if test:\n",
        "      print()\n",
        "  if test:\n",
        "    print(dnphotos)\n",
        "  return dnphotos"
      ],
      "execution_count": 0,
      "outputs": []
    },
    {
      "metadata": {
        "id": "ykI743QWbPdk",
        "colab_type": "text"
      },
      "cell_type": "markdown",
      "source": [
        "### Functions to optimize process"
      ]
    },
    {
      "metadata": {
        "id": "wOpLLqSMbW8a",
        "colab_type": "code",
        "colab": {}
      },
      "cell_type": "code",
      "source": [
        "def purgedict(dtags,nctags, test):\n",
        "  tuplas = list(dtags.items())\n",
        "  j = 0\n",
        "  for i in tuplas:\n",
        "    #print('\\t',dtags[tuplas[j][0]],end='')\n",
        "    if dtags[tuplas[j][0]]<=1:\n",
        "      if test:\n",
        "        print ('----->Tag:', i, 'no combinable...eliminando de dtags y añadiendo a nctags')\n",
        "      nctags.add(tuplas[j][0]) # Add at not linkable tags set\n",
        "      del(dtags[tuplas[j][0]]) # remove tuple from dictionary for number of occurrences to this tag\n",
        "      del(dtag_ph[tuplas[j][0]]) # remove tuple from dictionary pointer to list of photos where appear this tag\n",
        "    j+= 1\n",
        "  tuplas = []\n",
        "  print('N. fotos:',nphotos,'Verticales:',nv,'Horizontales:',nh,'Tags no combinables:',len(nctags),'Apariciones Tags:',ttags,'Tags diferentes:',len(dtags),'Media Tags por imagen:', ttags/nphotos)\n",
        "  return dtags,nctags\n"
      ],
      "execution_count": 0,
      "outputs": []
    },
    {
      "metadata": {
        "id": "7EQugVxlcGBm",
        "colab_type": "code",
        "colab": {}
      },
      "cell_type": "code",
      "source": [
        "# Purge for unlinkable tags at photos list\n",
        "def purgetags(photos, nctags, test):\n",
        "  #print('Purgando tags no combinables en lista de fotos')\n",
        "  ttags = 0\n",
        "  for photo in photos:\n",
        "    if test:\n",
        "      print(photo,end='')\n",
        "    photo[3]=photo[3]-nctags\n",
        "    photo[2]=len(photo[3])\n",
        "    ttags += photo[2]\n",
        "    if test:\n",
        "      print('++',photo[3])\n",
        "  print('N. fotos:',len(photos),'Apariciones Tags:',ttags,'Tags diferentes:',len(dtags),'Media Tags por imagen:', ttags/len(photos))\n",
        "  return photos, nctags,ttags"
      ],
      "execution_count": 0,
      "outputs": []
    },
    {
      "metadata": {
        "id": "aK8Tv-u1UGFd",
        "colab_type": "code",
        "colab": {}
      },
      "cell_type": "code",
      "source": [
        "# Purge for photos that can't be linked\n",
        "def purgephotos(photos, nctags, rango, test):\n",
        "    cont = 0\n",
        "    print('Fotos que son menos combinables.',rango,' tags combinables') \n",
        "    for photo in photos:\n",
        "      if len(photo[3]-nctags)<=rango:\n",
        "        if test:\n",
        "          print(photo)\n",
        "          print('tags - nctags:', end='')\n",
        "          print(photo[3]-nctags)\n",
        "          print('--------------------')\n",
        "        print('+')\n",
        "        cont +=1\n",
        "      # else:\n",
        "        #if test:\n",
        "        #  print(photo)\n",
        "        #  print('tags - nctags:', end='')\n",
        "        #  print(photo[3]-nctags)\n",
        "        #  print('-',end='')\n",
        "    print(cont, 'menos combinables')"
      ],
      "execution_count": 0,
      "outputs": []
    },
    {
      "metadata": {
        "id": "JW5ss8ZXztAh",
        "colab_type": "code",
        "colab": {}
      },
      "cell_type": "code",
      "source": [
        "# Find the best option to combine two horizontal slides. NOT USED NOW\n",
        "def link(photos, test ):\n",
        "  pos_candidato1 = 0\n",
        "  pos_candidato2 = 0\n",
        "  maxint = 0\n",
        "  ptpic = 0\n",
        "  for pic in photos:\n",
        "    if test:\n",
        "      print('++', ptpic, '\\t++', photos[ptpic],'+++')\n",
        "    for pointer in range(ptpic+1,len(photos)):\n",
        "      inter = pic[3] & photos[pointer][3]\n",
        "      ninter = len (inter)\n",
        "      if test:\n",
        "        print('Foto Puntero:', pic, 'Foto a comparar:',photos[pointer], 'Interseccion:', end='')\n",
        "        print (inter,'Tags comunes:',ninter)\n",
        "      if ninter > maxint:\n",
        "        pos_candidato1 = ptpic\n",
        "        pos_candidato2 = pointer\n",
        "        maxint = ninter\n",
        "        print('Candidatos', photos[pos_candidato1],'+', photos[pos_candidato2], 'Inters:', inter, 'Ntags:', ninter)\n",
        "    ptpic += 1"
      ],
      "execution_count": 0,
      "outputs": []
    },
    {
      "metadata": {
        "id": "mHRKyPEbbc19",
        "colab_type": "text"
      },
      "cell_type": "markdown",
      "source": [
        "## Process Data Section before select upshot to problem"
      ]
    },
    {
      "metadata": {
        "id": "QhJx52StQJNV",
        "colab_type": "text"
      },
      "cell_type": "markdown",
      "source": [
        "### Load data."
      ]
    },
    {
      "metadata": {
        "id": "3acxLMllMmqt",
        "colab_type": "code",
        "outputId": "6ce81452-4ede-4671-d01d-516df6dc1b1b",
        "colab": {
          "base_uri": "https://localhost:8080/",
          "height": 34
        }
      },
      "cell_type": "code",
      "source": [
        "# Load data from file, Create Data Structures\n",
        "nphotos, photos, photosv, photosh, nv, nh, nctags, ncphotos, ttags, dtags, dtag_ph, tag_ph = loaddata('lovely.in',False)"
      ],
      "execution_count": 0,
      "outputs": [
        {
          "output_type": "stream",
          "text": [
            "N. fotos: 80000 Verticales: 0 Horizontales: 80000 Tags no combinables: 0 Apariciones Tags: 1440000 Tags diferentes: 840000 Media Tags/ imagen: 18.0\n"
          ],
          "name": "stdout"
        }
      ]
    },
    {
      "metadata": {
        "id": "x1HUBf1t2jap",
        "colab_type": "code",
        "outputId": "0602e2f0-91fd-4d74-87b9-16d026455641",
        "colab": {
          "base_uri": "https://localhost:8080/",
          "height": 224
        }
      },
      "cell_type": "code",
      "source": [
        "lista(photos,5)"
      ],
      "execution_count": 0,
      "outputs": [
        {
          "output_type": "stream",
          "text": [
            "[0, 'H', 21, {'tv1h01', 'twzgl', 'tbj57', 'tzdr4', 'tf5wv', 't111w', 'tj4f', 't5nnd', 'tsmcf', 't1c76', 'tr5fv', 't6zkl', 't2hzq', 'tc2j5', 't99tm', 'tv7zt', 'th8wv', 't5xl1', 'tb5p6', 'tkp5g', 'tcz3g'}]\n",
            "\n",
            "[1, 'H', 9, {'tkw11', 'twzsw', 't7fgq', 't6p61', 'tlhlt', 'tns01', 'tpvh8', 'tlvcq', 't5x7p'}]\n",
            "\n",
            "[2, 'H', 15, {'tl3l6', 'tk3r', 't0r1w', 'tbb6j', 't982j', 'tf36x', 'tlql4', 'tn4hp', 'tjj0r', 'tvwcg', 't62gs', 'tcdv8', 't5pgg', 't4pp6', 't3rgg'}]\n",
            "\n",
            "[3, 'H', 15, {'t52xx', 'tbns8', 't0h5n', 'tfv2', 'tfmns', 'tb25z', 'tx895', 't3xvq', 'tvr51', 't919l', 'tqmvs', 'tc9r2', 't48r2', 'tbzhk', 't4rt4'}]\n",
            "\n",
            "[4, 'H', 15, {'t46vk', 'txk58', 't6qt9', 'thh6z', 'tfzzf', 't7s67', 'thzc5', 'td6tp', 'tk99r', 't9h9q', 't8z5v', 't7w5h', 'tjbc', 't98wh', 't5rbj'}]\n",
            "\n",
            "79995 Elements pending to list\n"
          ],
          "name": "stdout"
        }
      ]
    },
    {
      "metadata": {
        "id": "PiRUwE8ZcyIa",
        "colab_type": "code",
        "outputId": "3430118d-76e9-45b2-d263-9bff67911ec1",
        "colab": {
          "base_uri": "https://localhost:8080/",
          "height": 901
        }
      },
      "cell_type": "code",
      "source": [
        "# Number of occurrences of each tag at all photos list\n",
        "listupla(dtags, 300, 6)"
      ],
      "execution_count": 0,
      "outputs": [
        {
          "output_type": "stream",
          "text": [
            "tv1h01 : 2 \ttwzgl : 2 \ttbj57 : 2 \ttzdr4 : 2 \ttf5wv : 1 \tt111w : 2 \t\n",
            "tj4f : 2 \tt5nnd : 2 \ttsmcf : 2 \tt1c76 : 1 \ttr5fv : 2 \tt6zkl : 2 \t\n",
            "t2hzq : 2 \ttc2j5 : 1 \tt99tm : 2 \ttv7zt : 2 \tth8wv : 2 \tt5xl1 : 2 \t\n",
            "tb5p6 : 2 \ttkp5g : 2 \ttcz3g : 2 \ttkw11 : 1 \ttwzsw : 2 \tt7fgq : 2 \t\n",
            "t6p61 : 2 \ttlhlt : 2 \ttns01 : 1 \ttpvh8 : 1 \ttlvcq : 2 \tt5x7p : 2 \t\n",
            "tl3l6 : 2 \ttk3r : 2 \tt0r1w : 1 \ttbb6j : 2 \tt982j : 2 \ttf36x : 2 \t\n",
            "tlql4 : 2 \ttn4hp : 2 \ttjj0r : 2 \ttvwcg : 2 \tt62gs : 1 \ttcdv8 : 2 \t\n",
            "t5pgg : 2 \tt4pp6 : 2 \tt3rgg : 1 \tt52xx : 1 \ttbns8 : 2 \tt0h5n : 2 \t\n",
            "tfv2 : 1 \ttfmns : 2 \ttb25z : 2 \ttx895 : 2 \tt3xvq : 2 \ttvr51 : 2 \t\n",
            "t919l : 1 \ttqmvs : 2 \ttc9r2 : 2 \tt48r2 : 2 \ttbzhk : 2 \tt4rt4 : 2 \t\n",
            "t46vk : 2 \ttxk58 : 2 \tt6qt9 : 2 \tthh6z : 2 \ttfzzf : 2 \tt7s67 : 2 \t\n",
            "thzc5 : 1 \ttd6tp : 2 \ttk99r : 2 \tt9h9q : 2 \tt8z5v : 2 \tt7w5h : 1 \t\n",
            "tjbc : 2 \tt98wh : 2 \tt5rbj : 1 \ttcsv : 2 \ttmb7b : 2 \ttj7h1 : 2 \t\n",
            "txsgc : 2 \tt2d6w : 2 \tt84q5 : 1 \ttm8ls : 2 \ttqrqq : 1 \tttj8k : 2 \t\n",
            "twpq5 : 2 \ttpm2s : 2 \tt1vc6 : 2 \ttsl5q : 2 \tt6tpl : 2 \ttz9wd : 2 \t\n",
            "ttts2 : 2 \ttjtw1 : 2 \ttwx1v : 2 \tt4b1g : 2 \ttxrsg : 1 \ttwc3z : 2 \t\n",
            "tvxzh : 2 \ttzg77 : 2 \tt5z3n : 2 \tt1xd6 : 2 \ttfhkb : 2 \ttqfqb : 2 \t\n",
            "t1gft : 1 \ttjvr7 : 2 \tt9r31 : 2 \ttfbdq : 2 \ttxvtg : 1 \tt8qrk : 2 \t\n",
            "tjhx01 : 2 \tt3pcz : 2 \tt3pkj : 2 \ttv92r : 2 \tt5tgw : 2 \ttft7d : 1 \t\n",
            "t78pq : 2 \ttsh16 : 2 \tt9b4t : 2 \tts4j9 : 2 \ttwqk7 : 2 \ttc2f3 : 1 \t\n",
            "tt9h6 : 1 \ttxgq6 : 2 \ttvkjt : 1 \ttlq8x : 2 \tt8tn9 : 2 \tthph3 : 2 \t\n",
            "tq4vc : 2 \ttjntw : 2 \ttb0p4 : 2 \ttjcx8 : 2 \tt6p0t : 2 \tt840v : 2 \t\n",
            "tst79 : 2 \ttwq5t : 2 \tt9wxx : 2 \tt9rrs : 2 \ttr5j9 : 2 \ttsw5k : 2 \t\n",
            "t0jxn : 1 \tt2s8 : 2 \ttv896 : 2 \ttdxcr : 2 \tt3h3z : 2 \ttw5301 : 2 \t\n",
            "txk75 : 2 \ttqjn2 : 2 \ttl4st : 1 \ttvs5x : 1 \tt1m7 : 2 \ttxz0j : 2 \t\n",
            "t8xm4 : 2 \ttk6s1 : 2 \ttdw2m : 2 \ttc7bx : 2 \ttl06n : 2 \ttqxcb : 2 \t\n",
            "tlf5b : 1 \tt0fxf : 2 \ttfzz4 : 2 \ttswgp : 2 \tt2sk4 : 2 \ttbcwd : 2 \t\n",
            "txqlc : 2 \ttffhl : 2 \tt8s5r : 2 \ttb6jf : 1 \ttrrfr : 2 \tt33w7 : 2 \t\n",
            "t4lqg : 2 \tt6gvb : 2 \ttfn2v : 1 \ttxwsb : 2 \tt9t07 : 2 \tt94c6 : 1 \t\n",
            "ts80t : 2 \ttjn1f : 2 \ttwwnw : 2 \ttrq6h : 2 \ttvshp : 2 \ttqd1 : 2 \t\n",
            "tjnfl : 2 \ttdl2r : 2 \tt4wv01 : 2 \ttjlvc : 2 \ttlc5h : 2 \ttslx : 2 \t\n",
            "tzzh3 : 2 \ttx7g6 : 2 \ttzt7k : 2 \ttrpxp : 1 \tth0hz : 2 \ttmjt9 : 2 \t\n",
            "tqwsz : 2 \tt59qf : 2 \ttl5np : 2 \tt8tnm : 1 \ttszth : 2 \ttz35n : 2 \t\n",
            "trh06 : 2 \ttdtv4 : 2 \tttc3 : 2 \ttjrkx : 2 \tt2hhg : 2 \tt2hzw : 2 \t\n",
            "t8gvx : 2 \ttk8gf : 2 \ttn753 : 2 \ttv0r5 : 2 \ttpcth : 2 \tt6m4p : 2 \t\n",
            "t7g6n : 2 \ttvgcm : 1 \tts31c : 2 \tt63v4 : 2 \ttdw2c : 1 \tthrqt : 2 \t\n",
            "tzlb6 : 1 \tt6lpd : 2 \tt3cbg : 2 \ttvqr5 : 2 \tt734t : 2 \tts3lq : 2 \t\n",
            "tjz3g : 2 \ttj7w1 : 2 \tt2bjb : 2 \ttjl1x : 2 \tt4htf : 2 \ttmjn2 : 2 \t\n",
            "t3lfd : 2 \tt9f8v : 2 \tt6kvh : 2 \ttbdr9 : 2 \ttmb6j : 2 \ttb46n : 1 \t\n",
            "tjns01 : 2 \ttlpkl : 2 \ttfcn8 : 2 \tts39v : 1 \ttg619 : 2 \ttpss4 : 2 \t\n",
            "t265x : 2 \tt75qc : 1 \tt0d1r : 2 \ttlf8d : 1 \tt0v5v : 2 \ttbwkg : 2 \t\n",
            "t10lv : 2 \ttcg001 : 2 \tt1vjd : 2 \tt3jk9 : 1 \ttcf42 : 2 \ttpdvm : 2 \t\n",
            "tmtzj : 2 \ttd027 : 2 \tthv8d : 2 \ttr3tk : 2 \ttqgc01 : 2 \tt2wfl : 2 \t\n",
            "tcxp3 : 2 \ttvcmd : 2 \ttkn6c : 2 \ttjksn : 1 \tt8zrd : 2 \tt7zd3 : 2 \t\n",
            "tnkh : 1 \tt7g6z : 2 \ttdvlb : 2 \tts07z : 2 \tt8tfx : 2 \ttfpbn : 2 \t\n",
            "tbchs : 2 \ttqch1 : 2 \tt5h6d : 2 \ttnk211 : 2 \tthz2w : 2 \tthgkh : 2 \t\n",
            "t8sdl : 1 \ttl24m : 1 \tts2jr : 2 \ttgtwl : 1 \tt6vz7 : 2 \ttt97 : 2 \t\n",
            "txdzn : 2 \tt7c27 : 2 \tt67hd : 1 \ttq1q1 : 2 \ttwnst : 2 \tthgq7 : 2 \t\n",
            "t1phr : 2 \ttsm8c : 2 \ttjh6g : 1 \ttr6c8 : 1 \ttvt6k : 2 \tthcwv : 2 \t\n",
            "tzdtx : 1 \tt6sf4 : 2 \tt4xfw : 2 \ttjqwk : 1 \ttxjng : 2 \ttzbdf : 2 \t\n",
            "\n",
            "Tags pendientes de listar: 839700\n"
          ],
          "name": "stdout"
        }
      ]
    },
    {
      "metadata": {
        "id": "iXb9M7guHgZJ",
        "colab_type": "code",
        "outputId": "3d6e0a21-8950-492a-d591-875d948f864f",
        "colab": {
          "base_uri": "https://localhost:8080/",
          "height": 224
        }
      },
      "cell_type": "code",
      "source": [
        "# Scoring example\n",
        "print(scoring(photos, 1,56714, test = True))"
      ],
      "execution_count": 0,
      "outputs": [
        {
          "output_type": "stream",
          "text": [
            "Tags fotos 1   -1 de slide 1 {'tkw11', 'twzsw', 't7fgq', 't6p61', 'tlhlt', 'tns01', 'tpvh8', 'tlvcq', 't5x7p'}\n",
            "\n",
            "Tags fotos 56714   -1 de slide 2 {'twzsw', 't1thj', 't7fgq', 'thnl1', 'tjc5z', 't34b6', 'tw5pm', 'thjdf', 't6v2q', 'tb88j', 't3pxt', 'tn82r', 'tpnxv', 'tzcqs', 't5x7p'}\n",
            "\n",
            "* Interseccion: Num.tags: 3{'twzsw', 't5x7p', 't7fgq'}\n",
            "\n",
            "* En slide1 pero no en slide2. Num.tags: 6{'tkw11', 't6p61', 'tlhlt', 'tns01', 'tpvh8', 'tlvcq'}\n",
            "\n",
            "* En slide2 pero no en slide1. Num.tags: 12{'t1thj', 'thnl1', 'tjc5z', 't34b6', 'tw5pm', 'thjdf', 't6v2q', 'tb88j', 't3pxt', 'tn82r', 'tpnxv', 'tzcqs'}\n",
            "\n",
            "(3, 42, {'twzsw', 't5x7p', 't7fgq'})\n"
          ],
          "name": "stdout"
        }
      ]
    },
    {
      "metadata": {
        "id": "7Y7sl0_v4bs4",
        "colab_type": "code",
        "outputId": "241adaa7-2795-4db0-f88a-b154cd8f893c",
        "colab": {
          "base_uri": "https://localhost:8080/",
          "height": 153
        }
      },
      "cell_type": "code",
      "source": [
        "best_ph_sc (photos, nphotos, min_thresh = 0, limit = 10)"
      ],
      "execution_count": 0,
      "outputs": [
        {
          "output_type": "stream",
          "text": [
            "\n",
            "***UP***Seed id: 0 Best id: 18143 \tBest percentage: 33 \tPoints: 3 ***UP*** {'tcz3g', 't5nnd', 'th8wv'}\n",
            "\n",
            "***UP***Seed id: 1 Best id: 56714 \tBest percentage: 42 \tPoints: 3 ***UP*** {'twzsw', 't5x7p', 't7fgq'}\n",
            "\n",
            "***UP***Seed id: 124 Best id: 52305 \tBest percentage: 50 \tPoints: 3 ***UP*** {'t6m8j', 't206j', 'ts6l5'}\n",
            "\n",
            "***UP***Seed id: 164 Best id: 1978 \tBest percentage: 60 \tPoints: 3 ***UP*** {'t1c9n', 'txx2k', 'tpk3v'}\n"
          ],
          "name": "stdout"
        }
      ]
    },
    {
      "metadata": {
        "id": "zvKmGi7750k0",
        "colab_type": "text"
      },
      "cell_type": "markdown",
      "source": [
        "## Find best seed to start slideshow list"
      ]
    },
    {
      "metadata": {
        "id": "DUE2l000HNdu",
        "colab_type": "code",
        "outputId": "5b2c5569-3879-4548-f63f-496902f60800",
        "colab": {
          "base_uri": "https://localhost:8080/",
          "height": 1751
        }
      },
      "cell_type": "code",
      "source": [
        "listed = 0\n",
        "counted = 0\n",
        "limit = 100\n",
        "for seed in range(nphotos):\n",
        "  best_id, best_pcent, best_pt, ncount, nlist = best_sc(photos, seed)\n",
        "  listed += nlist\n",
        "  counted += ncount\n",
        "  print('********Seed id:',seed, 'Best id:', best_id, '\\tBest percentage:', best_pcent, '\\tPoints:', best_pt,'******') \n",
        "  listed += 1\n",
        "  if listed >= limit:\n",
        "    print()\n",
        "    print('Comparaciones realizadas:', counted)\n",
        "    break"
      ],
      "execution_count": 0,
      "outputs": [
        {
          "output_type": "stream",
          "text": [
            "********Seed id: 0 Best id: 18143 \tBest percentage: 33 \tPoints: 3 ******\n",
            "********Seed id: 1 Best id: 56714 \tBest percentage: 42 \tPoints: 3 ******\n",
            "********Seed id: 2 Best id: 12280 \tBest percentage: 33 \tPoints: 3 ******\n",
            "********Seed id: 3 Best id: 79030 \tBest percentage: 27 \tPoints: 3 ******\n",
            "********Seed id: 4 Best id: 4953 \tBest percentage: 30 \tPoints: 3 ******\n",
            "********Seed id: 5 Best id: 9214 \tBest percentage: 30 \tPoints: 3 ******\n",
            "********Seed id: 6 Best id: 60904 \tBest percentage: 33 \tPoints: 3 ******\n",
            "********Seed id: 7 Best id: 47524 \tBest percentage: 27 \tPoints: 3 ******\n",
            "********Seed id: 8 Best id: 17979 \tBest percentage: 33 \tPoints: 3 ******\n",
            "********Seed id: 9 Best id: 45012 \tBest percentage: 33 \tPoints: 3 ******\n",
            "********Seed id: 10 Best id: 76968 \tBest percentage: 25 \tPoints: 3 ******\n",
            "********Seed id: 11 Best id: 9675 \tBest percentage: 25 \tPoints: 3 ******\n",
            "********Seed id: 12 Best id: 4498 \tBest percentage: 33 \tPoints: 3 ******\n",
            "********Seed id: 13 Best id: 24032 \tBest percentage: 27 \tPoints: 3 ******\n",
            "********Seed id: 14 Best id: 52600 \tBest percentage: 33 \tPoints: 3 ******\n",
            "********Seed id: 15 Best id: 9698 \tBest percentage: 37 \tPoints: 3 ******\n",
            "********Seed id: 16 Best id: 43204 \tBest percentage: 42 \tPoints: 3 ******\n",
            "********Seed id: 17 Best id: 41118 \tBest percentage: 30 \tPoints: 3 ******\n",
            "********Seed id: 18 Best id: 30144 \tBest percentage: 23 \tPoints: 3 ******\n",
            "********Seed id: 19 Best id: 45895 \tBest percentage: 27 \tPoints: 3 ******\n",
            "********Seed id: 20 Best id: 70468 \tBest percentage: 42 \tPoints: 3 ******\n",
            "********Seed id: 21 Best id: 4805 \tBest percentage: 30 \tPoints: 3 ******\n",
            "********Seed id: 22 Best id: 11815 \tBest percentage: 33 \tPoints: 3 ******\n",
            "********Seed id: 23 Best id: 18178 \tBest percentage: 37 \tPoints: 3 ******\n",
            "********Seed id: 24 Best id: 5602 \tBest percentage: 37 \tPoints: 3 ******\n",
            "********Seed id: 25 Best id: 14652 \tBest percentage: 33 \tPoints: 3 ******\n",
            "********Seed id: 26 Best id: 64305 \tBest percentage: 30 \tPoints: 3 ******\n",
            "********Seed id: 27 Best id: 21875 \tBest percentage: 23 \tPoints: 3 ******\n",
            "********Seed id: 28 Best id: 3900 \tBest percentage: 30 \tPoints: 3 ******\n",
            "********Seed id: 29 Best id: 14212 \tBest percentage: 37 \tPoints: 3 ******\n",
            "********Seed id: 30 Best id: 27949 \tBest percentage: 27 \tPoints: 3 ******\n",
            "********Seed id: 31 Best id: 43094 \tBest percentage: 33 \tPoints: 3 ******\n",
            "********Seed id: 32 Best id: 23117 \tBest percentage: 23 \tPoints: 3 ******\n",
            "********Seed id: 33 Best id: 23541 \tBest percentage: 33 \tPoints: 3 ******\n",
            "********Seed id: 34 Best id: 49049 \tBest percentage: 37 \tPoints: 3 ******\n",
            "********Seed id: 35 Best id: 44130 \tBest percentage: 37 \tPoints: 3 ******\n",
            "********Seed id: 36 Best id: 44150 \tBest percentage: 33 \tPoints: 3 ******\n",
            "********Seed id: 37 Best id: 120 \tBest percentage: 33 \tPoints: 3 ******\n",
            "********Seed id: 38 Best id: 69637 \tBest percentage: 27 \tPoints: 3 ******\n",
            "********Seed id: 39 Best id: 60927 \tBest percentage: 33 \tPoints: 3 ******\n",
            "********Seed id: 40 Best id: 4430 \tBest percentage: 37 \tPoints: 3 ******\n",
            "********Seed id: 41 Best id: 63300 \tBest percentage: 33 \tPoints: 3 ******\n",
            "********Seed id: 42 Best id: 11325 \tBest percentage: 42 \tPoints: 3 ******\n",
            "********Seed id: 43 Best id: 15147 \tBest percentage: 33 \tPoints: 3 ******\n",
            "********Seed id: 44 Best id: 3390 \tBest percentage: 33 \tPoints: 3 ******\n",
            "********Seed id: 45 Best id: 45814 \tBest percentage: 33 \tPoints: 3 ******\n",
            "********Seed id: 46 Best id: 3170 \tBest percentage: 37 \tPoints: 3 ******\n",
            "********Seed id: 47 Best id: 58719 \tBest percentage: 42 \tPoints: 3 ******\n",
            "********Seed id: 48 Best id: 51329 \tBest percentage: 27 \tPoints: 3 ******\n",
            "********Seed id: 49 Best id: 58248 \tBest percentage: 27 \tPoints: 3 ******\n",
            "********Seed id: 50 Best id: 27011 \tBest percentage: 33 \tPoints: 3 ******\n",
            "********Seed id: 51 Best id: 54151 \tBest percentage: 37 \tPoints: 3 ******\n",
            "********Seed id: 52 Best id: 56533 \tBest percentage: 27 \tPoints: 3 ******\n",
            "********Seed id: 53 Best id: 27453 \tBest percentage: 27 \tPoints: 3 ******\n",
            "********Seed id: 54 Best id: 15239 \tBest percentage: 21 \tPoints: 3 ******\n",
            "********Seed id: 55 Best id: 26966 \tBest percentage: 25 \tPoints: 3 ******\n",
            "********Seed id: 56 Best id: 74707 \tBest percentage: 33 \tPoints: 3 ******\n",
            "********Seed id: 57 Best id: 8106 \tBest percentage: 42 \tPoints: 3 ******\n",
            "********Seed id: 58 Best id: 27565 \tBest percentage: 33 \tPoints: 3 ******\n",
            "********Seed id: 59 Best id: 7838 \tBest percentage: 27 \tPoints: 3 ******\n",
            "********Seed id: 60 Best id: 37248 \tBest percentage: 27 \tPoints: 3 ******\n",
            "********Seed id: 61 Best id: 53961 \tBest percentage: 33 \tPoints: 3 ******\n",
            "********Seed id: 62 Best id: 44983 \tBest percentage: 42 \tPoints: 3 ******\n",
            "********Seed id: 63 Best id: 42040 \tBest percentage: 33 \tPoints: 3 ******\n",
            "********Seed id: 64 Best id: 17833 \tBest percentage: 33 \tPoints: 3 ******\n",
            "********Seed id: 65 Best id: 8412 \tBest percentage: 30 \tPoints: 3 ******\n",
            "********Seed id: 66 Best id: 16219 \tBest percentage: 30 \tPoints: 3 ******\n",
            "********Seed id: 67 Best id: 5177 \tBest percentage: 30 \tPoints: 3 ******\n",
            "********Seed id: 68 Best id: 63341 \tBest percentage: 42 \tPoints: 3 ******\n",
            "********Seed id: 69 Best id: 17565 \tBest percentage: 33 \tPoints: 3 ******\n",
            "********Seed id: 70 Best id: 22457 \tBest percentage: 33 \tPoints: 3 ******\n",
            "********Seed id: 71 Best id: 4479 \tBest percentage: 33 \tPoints: 3 ******\n",
            "********Seed id: 72 Best id: 11029 \tBest percentage: 33 \tPoints: 3 ******\n",
            "********Seed id: 73 Best id: 22097 \tBest percentage: 27 \tPoints: 3 ******\n",
            "********Seed id: 74 Best id: 35048 \tBest percentage: 30 \tPoints: 3 ******\n",
            "********Seed id: 75 Best id: 57546 \tBest percentage: 30 \tPoints: 3 ******\n",
            "********Seed id: 76 Best id: 4041 \tBest percentage: 33 \tPoints: 3 ******\n",
            "********Seed id: 77 Best id: 70151 \tBest percentage: 37 \tPoints: 3 ******\n",
            "********Seed id: 78 Best id: 22627 \tBest percentage: 37 \tPoints: 3 ******\n",
            "********Seed id: 79 Best id: 79258 \tBest percentage: 27 \tPoints: 3 ******\n",
            "********Seed id: 80 Best id: 57331 \tBest percentage: 37 \tPoints: 3 ******\n",
            "********Seed id: 81 Best id: 33790 \tBest percentage: 27 \tPoints: 3 ******\n",
            "********Seed id: 82 Best id: 26343 \tBest percentage: 30 \tPoints: 3 ******\n",
            "********Seed id: 83 Best id: 66096 \tBest percentage: 30 \tPoints: 3 ******\n",
            "********Seed id: 84 Best id: 65598 \tBest percentage: 42 \tPoints: 3 ******\n",
            "********Seed id: 85 Best id: 42484 \tBest percentage: 37 \tPoints: 3 ******\n",
            "********Seed id: 86 Best id: 3500 \tBest percentage: 33 \tPoints: 3 ******\n",
            "********Seed id: 87 Best id: 36161 \tBest percentage: 33 \tPoints: 3 ******\n",
            "********Seed id: 88 Best id: 23326 \tBest percentage: 27 \tPoints: 3 ******\n",
            "********Seed id: 89 Best id: 64078 \tBest percentage: 30 \tPoints: 3 ******\n",
            "********Seed id: 90 Best id: 3330 \tBest percentage: 27 \tPoints: 3 ******\n",
            "********Seed id: 91 Best id: 45090 \tBest percentage: 30 \tPoints: 3 ******\n",
            "********Seed id: 92 Best id: 4255 \tBest percentage: 33 \tPoints: 3 ******\n",
            "********Seed id: 93 Best id: 12382 \tBest percentage: 30 \tPoints: 3 ******\n",
            "********Seed id: 94 Best id: 57540 \tBest percentage: 42 \tPoints: 3 ******\n",
            "********Seed id: 95 Best id: 1655 \tBest percentage: 30 \tPoints: 3 ******\n",
            "********Seed id: 96 Best id: 19494 \tBest percentage: 33 \tPoints: 3 ******\n",
            "********Seed id: 97 Best id: 5270 \tBest percentage: 25 \tPoints: 3 ******\n",
            "********Seed id: 98 Best id: 15514 \tBest percentage: 25 \tPoints: 3 ******\n",
            "********Seed id: 99 Best id: 31946 \tBest percentage: 33 \tPoints: 3 ******\n",
            "\n",
            "Comparaciones realizadas: 8000000\n"
          ],
          "name": "stdout"
        }
      ]
    },
    {
      "metadata": {
        "id": "tAWHD1sGS1GF",
        "colab_type": "text"
      },
      "cell_type": "markdown",
      "source": [
        "### Remove unlinkable tags on dictionary\n",
        "This section was rejected. It was not benefits and needs a copy of tag dictionary."
      ]
    },
    {
      "metadata": {
        "id": "_DURId8WIUPi",
        "colab_type": "code",
        "outputId": "c1531024-7e1d-4faa-db60-b62e8278b3a9",
        "colab": {
          "base_uri": "https://localhost:8080/",
          "height": 221
        }
      },
      "cell_type": "code",
      "source": [
        "# Indexed photos list for each tag where appears\n",
        "#photos4tag(dtag_ph,tag_ph,10,1)"
      ],
      "execution_count": 0,
      "outputs": [
        {
          "output_type": "stream",
          "text": [
            "tj4f \t[ 0 ]-> [0, 13708] \t\n",
            "tv7zt \t[ 1 ]-> [0, 6674] \t\n",
            "tr5fv \t[ 2 ]-> [0, 14519] \t\n",
            "t99tm \t[ 3 ]-> [0, 13708] \t\n",
            "tcz3g \t[ 4 ]-> [0, 18143] \t\n",
            "t6zkl \t[ 5 ]-> [0, 74267] \t\n",
            "t111w \t[ 6 ]-> [0, 74267] \t\n",
            "tsmcf \t[ 7 ]-> [0, 78134] \t\n",
            "tb5p6 \t[ 8 ]-> [0, 78134] \t\n",
            "t5nnd \t[ 9 ]-> [0, 18143] \t\n",
            "\n",
            "Tags pendientes de listar: 839990\n"
          ],
          "name": "stdout"
        }
      ]
    },
    {
      "metadata": {
        "id": "O8OOl-9Hvrwy",
        "colab_type": "code",
        "outputId": "6b556152-5bc8-4257-bebd-babfe90ba33e",
        "colab": {
          "base_uri": "https://localhost:8080/",
          "height": 187
        }
      },
      "cell_type": "code",
      "source": [
        "# List number of ocurrences for each tag on all photos\n",
        "#listupla(dtags,50,6)"
      ],
      "execution_count": 0,
      "outputs": [
        {
          "output_type": "stream",
          "text": [
            "tj4f : 2 \ttv7zt : 2 \ttr5fv : 2 \tt99tm : 2 \ttcz3g : 2 \tt6zkl : 2 \t\n",
            "t111w : 2 \ttsmcf : 2 \ttb5p6 : 2 \tt5nnd : 2 \tt1c76 : 1 \ttkp5g : 2 \t\n",
            "tf5wv : 1 \ttbj57 : 2 \ttc2j5 : 1 \ttv1h01 : 2 \tth8wv : 2 \tt2hzq : 2 \t\n",
            "tzdr4 : 2 \ttwzgl : 2 \tt5xl1 : 2 \ttpvh8 : 1 \tt6p61 : 2 \ttlhlt : 2 \t\n",
            "t5x7p : 2 \ttlvcq : 2 \ttkw11 : 1 \tt7fgq : 2 \ttns01 : 1 \ttwzsw : 2 \t\n",
            "tjj0r : 2 \tt62gs : 1 \ttbb6j : 2 \tt5pgg : 2 \ttk3r : 2 \tt3rgg : 1 \t\n",
            "tcdv8 : 2 \ttf36x : 2 \tt0r1w : 1 \tt4pp6 : 2 \ttlql4 : 2 \tt982j : 2 \t\n",
            "tn4hp : 2 \ttvwcg : 2 \ttl3l6 : 2 \ttc9r2 : 2 \tt919l : 1 \ttbns8 : 2 \t\n",
            "t48r2 : 2 \ttbzhk : 2 \t\n",
            "Tags pendientes de listar: 839950\n"
          ],
          "name": "stdout"
        }
      ]
    },
    {
      "metadata": {
        "id": "doy2pzhyMEfY",
        "colab_type": "code",
        "outputId": "07439135-6fda-444d-b01a-0653ce10b74d",
        "colab": {
          "base_uri": "https://localhost:8080/",
          "height": 54
        }
      },
      "cell_type": "code",
      "source": [
        "# Purge tags to nctags set and delete to associated dictionaries\n",
        "#dtags, nctags = purgedict(dtags, nctags, False)"
      ],
      "execution_count": 0,
      "outputs": [
        {
          "output_type": "stream",
          "text": [
            "N. fotos: 80000 Verticales: 0 Horizontales: 80000 Tags no combinables: 240000 Apariciones Tags: 1440000 Tags diferentes: 600000 Media Tags por imagen: 18.0\n"
          ],
          "name": "stdout"
        }
      ]
    },
    {
      "metadata": {
        "id": "i2x5837nMZ7h",
        "colab_type": "code",
        "outputId": "bf186b3d-74f9-4769-f905-605d5d1c655d",
        "colab": {
          "base_uri": "https://localhost:8080/",
          "height": 187
        }
      },
      "cell_type": "code",
      "source": [
        "# List set of tuples as number of ocurrences for each tag in photos list after purging\n",
        "#listupla(dtags,50,6)"
      ],
      "execution_count": 0,
      "outputs": [
        {
          "output_type": "stream",
          "text": [
            "tj4f : 2 \ttv7zt : 2 \ttr5fv : 2 \tt99tm : 2 \ttcz3g : 2 \tt6zkl : 2 \t\n",
            "t111w : 2 \ttsmcf : 2 \ttb5p6 : 2 \tt5nnd : 2 \ttkp5g : 2 \ttbj57 : 2 \t\n",
            "tv1h01 : 2 \tth8wv : 2 \tt2hzq : 2 \ttzdr4 : 2 \ttwzgl : 2 \tt5xl1 : 2 \t\n",
            "t6p61 : 2 \ttlhlt : 2 \tt5x7p : 2 \ttlvcq : 2 \tt7fgq : 2 \ttwzsw : 2 \t\n",
            "tjj0r : 2 \ttbb6j : 2 \tt5pgg : 2 \ttk3r : 2 \ttcdv8 : 2 \ttf36x : 2 \t\n",
            "t4pp6 : 2 \ttlql4 : 2 \tt982j : 2 \ttn4hp : 2 \ttvwcg : 2 \ttl3l6 : 2 \t\n",
            "tc9r2 : 2 \ttbns8 : 2 \tt48r2 : 2 \ttbzhk : 2 \ttfmns : 2 \ttx895 : 2 \t\n",
            "t4rt4 : 2 \ttvr51 : 2 \tt0h5n : 2 \tt3xvq : 2 \ttqmvs : 2 \ttb25z : 2 \t\n",
            "t46vk : 2 \tt9h9q : 2 \t\n",
            "Tags pendientes de listar: 599950\n"
          ],
          "name": "stdout"
        }
      ]
    },
    {
      "metadata": {
        "id": "otjYOHNGI7jP",
        "colab_type": "code",
        "outputId": "f6a2c574-06c5-4523-e937-21291ad51d1d",
        "colab": {
          "base_uri": "https://localhost:8080/",
          "height": 221
        }
      },
      "cell_type": "code",
      "source": [
        "# List photos associated to a tag, after purging not linkable tags.\n",
        "#photos4tag(dtag_ph,tag_ph,10,1)"
      ],
      "execution_count": 0,
      "outputs": [
        {
          "output_type": "stream",
          "text": [
            "tj4f \t[ 0 ]-> [0, 13708] \t\n",
            "tv7zt \t[ 1 ]-> [0, 6674] \t\n",
            "tr5fv \t[ 2 ]-> [0, 14519] \t\n",
            "t99tm \t[ 3 ]-> [0, 13708] \t\n",
            "tcz3g \t[ 4 ]-> [0, 18143] \t\n",
            "t6zkl \t[ 5 ]-> [0, 74267] \t\n",
            "t111w \t[ 6 ]-> [0, 74267] \t\n",
            "tsmcf \t[ 7 ]-> [0, 78134] \t\n",
            "tb5p6 \t[ 8 ]-> [0, 78134] \t\n",
            "t5nnd \t[ 9 ]-> [0, 18143] \t\n",
            "\n",
            "Tags pendientes de listar: 599990\n"
          ],
          "name": "stdout"
        }
      ]
    },
    {
      "metadata": {
        "id": "9GgIDppHRM7W",
        "colab_type": "code",
        "outputId": "54fbd761-741e-47aa-ff02-cf615535a6c8",
        "colab": {
          "base_uri": "https://localhost:8080/",
          "height": 136
        }
      },
      "cell_type": "code",
      "source": [
        "# List set of not linkable tags\n",
        "#listags(nctags,100,18)"
      ],
      "execution_count": 0,
      "outputs": [
        {
          "output_type": "stream",
          "text": [
            "t88mw \ttdn7x \ttjd71 \tt9d08 \tt6vs5 \ttffk01 \tt2j62 \ttf09f \ttkqgd \tt6wm6 \tt9s9v \tt9fq \ttwh5f \ttgk6q \ttgrp5 \tt2v1w \ttgsj1 \tt6kjf \t\n",
            "tb1dk \tth5f9 \ttbft9 \tt5b7w \ttntkt \ttrsrz \tt2n5b \tt646s \tthqb1 \ttjh2p \ttkldf \tt6xrj \tt5374 \ttnz62 \tts99m \ttpvbn \ttj4s3 \tt7lz9 \t\n",
            "txq64 \tt4zfb \ttb77s \ttk0kx \ttht6k \tt6479 \tt7zbp \tt74xq \ttz99x \tt4nv6 \ttm9vs \ttp5jr \ttpp5 \ttwf41 \ttxq2h \ttjrds \tt44b6 \ttb6q5 \t\n",
            "t4tj5 \tt38sx \tt627h \tt8d48 \tt2wj1 \tt509g \tt74q8 \ttq45m \tthr3z \ttzrrb \tthpbk \ttgk3s \tt7p5g \ttcwnd \tt1vjc \tt4ktm \ttrm3r \tt18p2 \t\n",
            "tkld1 \ttb09c \ttklb8 \ttnxqv \tt0b2h \ttgpz01 \ttp623 \tt9dzc \tt96fz \ttvs3q \tt5mnb \ttqbbf \ttzt0c \tt306l \ttktt2 \tthllt \tt1bct \ttbbjl \t\n",
            "tgc04 \ttg9pb \ttt0l3 \ttm5kl \ttt33q \ttg95v \ttj9b01 \ttw9tj \tt312n \ttxkjx \t\n",
            "Tags pendientes de listar: 239900\n"
          ],
          "name": "stdout"
        }
      ]
    },
    {
      "metadata": {
        "id": "I-VBaduQaVF0",
        "colab_type": "text"
      },
      "cell_type": "markdown",
      "source": [
        "### ### Remove unlinkable tags on video lists\n",
        "This section was rejected. It was not benefits and needs a copy of photos list."
      ]
    },
    {
      "metadata": {
        "id": "_sH9IHEdV3Oj",
        "colab_type": "code",
        "outputId": "4b1044de-741d-475e-b113-de74163c55b8",
        "colab": {
          "base_uri": "https://localhost:8080/",
          "height": 224
        }
      },
      "cell_type": "code",
      "source": [
        "#lista(photos,5)"
      ],
      "execution_count": 0,
      "outputs": [
        {
          "output_type": "stream",
          "text": [
            "[0, 'H', 21, {'tj4f', 'tv7zt', 'tr5fv', 't99tm', 'tcz3g', 't6zkl', 't111w', 'tsmcf', 'tb5p6', 't5nnd', 't1c76', 'tkp5g', 'tf5wv', 'tbj57', 'tc2j5', 'tv1h01', 'th8wv', 't2hzq', 'tzdr4', 'twzgl', 't5xl1'}]\n",
            "\n",
            "[1, 'H', 9, {'tpvh8', 't6p61', 'tlhlt', 't5x7p', 'tlvcq', 'tkw11', 't7fgq', 'tns01', 'twzsw'}]\n",
            "\n",
            "[2, 'H', 15, {'tjj0r', 't62gs', 'tbb6j', 't5pgg', 'tk3r', 't3rgg', 'tcdv8', 'tf36x', 't0r1w', 't4pp6', 'tlql4', 't982j', 'tn4hp', 'tvwcg', 'tl3l6'}]\n",
            "\n",
            "[3, 'H', 15, {'tc9r2', 't919l', 'tbns8', 't48r2', 'tbzhk', 'tfv2', 'tfmns', 'tx895', 't4rt4', 't52xx', 'tvr51', 't0h5n', 't3xvq', 'tqmvs', 'tb25z'}]\n",
            "\n",
            "[4, 'H', 15, {'t5rbj', 't46vk', 't9h9q', 't7w5h', 't8z5v', 'tfzzf', 'td6tp', 'thzc5', 'tjbc', 'tk99r', 't7s67', 't6qt9', 't98wh', 'thh6z', 'txk58'}]\n",
            "\n",
            "79995 Elements pending to list\n"
          ],
          "name": "stdout"
        }
      ]
    },
    {
      "metadata": {
        "id": "Da8bmY9kgP5o",
        "colab_type": "code",
        "outputId": "5d9ff1c5-20cf-4266-9c25-4702358b49d2",
        "colab": {
          "base_uri": "https://localhost:8080/",
          "height": 34
        }
      },
      "cell_type": "code",
      "source": [
        "#photos, nctags, ttags = purgetags(photos,nctags,False)"
      ],
      "execution_count": 0,
      "outputs": [
        {
          "output_type": "stream",
          "text": [
            "N. fotos: 80000 Apariciones Tags: 1200000 Tags diferentes: 600000 Media Tags por imagen: 15.0\n"
          ],
          "name": "stdout"
        }
      ]
    },
    {
      "metadata": {
        "id": "-ZZvDRMUV_PT",
        "colab_type": "code",
        "outputId": "02265ac3-2d1b-459e-dc1d-6bdce227abd8",
        "colab": {
          "base_uri": "https://localhost:8080/",
          "height": 224
        }
      },
      "cell_type": "code",
      "source": [
        "#lista(photos,5)"
      ],
      "execution_count": 0,
      "outputs": [
        {
          "output_type": "stream",
          "text": [
            "[0, 'H', 18, {'tv1h01', 'tj4f', 'tbj57', 'tkp5g', 'tv7zt', 'tcz3g', 't99tm', 'tr5fv', 't6zkl', 't111w', 'tsmcf', 'th8wv', 't2hzq', 'tzdr4', 'twzgl', 'tb5p6', 't5xl1', 't5nnd'}]\n",
            "\n",
            "[1, 'H', 6, {'t6p61', 'tlhlt', 't5x7p', 'tlvcq', 't7fgq', 'twzsw'}]\n",
            "\n",
            "[2, 'H', 12, {'tjj0r', 'tbb6j', 't5pgg', 'tk3r', 'tf36x', 't4pp6', 'tvwcg', 'tlql4', 't982j', 'tcdv8', 'tn4hp', 'tl3l6'}]\n",
            "\n",
            "[3, 'H', 12, {'tc9r2', 'tbns8', 't48r2', 'tbzhk', 't0h5n', 'tx895', 't4rt4', 'tvr51', 'tfmns', 't3xvq', 'tqmvs', 'tb25z'}]\n",
            "\n",
            "[4, 'H', 12, {'t46vk', 't9h9q', 'tfzzf', 't8z5v', 'td6tp', 'tjbc', 'tk99r', 't7s67', 't6qt9', 't98wh', 'thh6z', 'txk58'}]\n",
            "\n",
            "79995 Elements pending to list\n"
          ],
          "name": "stdout"
        }
      ]
    },
    {
      "metadata": {
        "id": "lyllphC6vsQX",
        "colab_type": "code",
        "colab": {}
      },
      "cell_type": "code",
      "source": [
        "# Remove not linkable tags after Data Structures were processed\n",
        "#nctags = set()"
      ],
      "execution_count": 0,
      "outputs": []
    },
    {
      "metadata": {
        "id": "rcoj-zCQTTrd",
        "colab_type": "text"
      },
      "cell_type": "markdown",
      "source": [
        "### Other"
      ]
    },
    {
      "metadata": {
        "id": "2rf3WvdKRTAj",
        "colab_type": "code",
        "outputId": "acea35c2-c1b7-4533-a751-17f86d486a56",
        "colab": {
          "base_uri": "https://localhost:8080/",
          "height": 34
        }
      },
      "cell_type": "code",
      "source": [
        "listupla(link2photos(photos,1, dtag_ph, tag_ph))"
      ],
      "execution_count": 0,
      "outputs": [
        {
          "output_type": "stream",
          "text": [
            "74299 : 3 \t56714 : 3 \t"
          ],
          "name": "stdout"
        }
      ]
    },
    {
      "metadata": {
        "id": "VKVX483T4fOs",
        "colab_type": "code",
        "outputId": "57c0dd1b-3c54-4b9a-948f-346e26f3b8e7",
        "colab": {
          "base_uri": "https://localhost:8080/",
          "height": 34
        }
      },
      "cell_type": "code",
      "source": [
        "print(scoring(photos, 1,56714))"
      ],
      "execution_count": 0,
      "outputs": [
        {
          "output_type": "stream",
          "text": [
            "(3, 42, {'t5x7p', 'twzsw', 't7fgq'})\n"
          ],
          "name": "stdout"
        }
      ]
    },
    {
      "metadata": {
        "id": "YyCoLfIi4lY2",
        "colab_type": "code",
        "outputId": "35c4c4bf-1007-4fb0-b48a-358b8c280448",
        "colab": {
          "base_uri": "https://localhost:8080/",
          "height": 34
        }
      },
      "cell_type": "code",
      "source": [
        "print(scoring(photos, 1,74299))"
      ],
      "execution_count": 0,
      "outputs": [
        {
          "output_type": "stream",
          "text": [
            "(3, 37, {'tlvcq', 't6p61', 'tlhlt'})\n"
          ],
          "name": "stdout"
        }
      ]
    },
    {
      "metadata": {
        "id": "pJ2IzGdHVWFL",
        "colab_type": "code",
        "outputId": "764f0ea5-7ba7-4656-96f5-eb453e18eeb3",
        "colab": {
          "base_uri": "https://localhost:8080/",
          "height": 34
        }
      },
      "cell_type": "code",
      "source": [
        "listupla(link2photos(photos,56714, dtag_ph, tag_ph))"
      ],
      "execution_count": 0,
      "outputs": [
        {
          "output_type": "stream",
          "text": [
            "20552 : 3 \t62834 : 3 \t74266 : 3 \t1 : 3 \t"
          ],
          "name": "stdout"
        }
      ]
    },
    {
      "metadata": {
        "id": "z1KXcnQGfN1Y",
        "colab_type": "code",
        "outputId": "a54b550b-a328-4584-9a0f-2688ed21209d",
        "colab": {
          "base_uri": "https://localhost:8080/",
          "height": 35
        }
      },
      "cell_type": "code",
      "source": [
        "link2photos(photos,74299, dtag_ph, tag_ph)"
      ],
      "execution_count": 0,
      "outputs": [
        {
          "output_type": "execute_result",
          "data": {
            "text/plain": [
              "{1: 3, 20677: 3, 26244: 3, 47632: 3, 50219: 3}"
            ]
          },
          "metadata": {
            "tags": []
          },
          "execution_count": 91
        }
      ]
    },
    {
      "metadata": {
        "id": "OUFeDY8cfffA",
        "colab_type": "code",
        "outputId": "b0656d71-2ca6-4110-cf72-1accbfcfbbda",
        "colab": {
          "base_uri": "https://localhost:8080/",
          "height": 34
        }
      },
      "cell_type": "code",
      "source": [
        "listupla(link2photos(photos,14519, dtag_ph, tag_ph))"
      ],
      "execution_count": 0,
      "outputs": [
        {
          "output_type": "stream",
          "text": [
            "9612 : 3 \t32968 : 3 \t2572 : 3 \t7006 : 3 \t0 : 3 \t"
          ],
          "name": "stdout"
        }
      ]
    },
    {
      "metadata": {
        "id": "CL2Rqhwuffbe",
        "colab_type": "code",
        "outputId": "46e134d5-523d-4b14-b238-efe410c82e23",
        "colab": {
          "base_uri": "https://localhost:8080/",
          "height": 34
        }
      },
      "cell_type": "code",
      "source": [
        "link2photos(photos,18143, dtag_ph, tag_ph)"
      ],
      "execution_count": 0,
      "outputs": [
        {
          "output_type": "execute_result",
          "data": {
            "text/plain": [
              "{0: 3, 9181: 3}"
            ]
          },
          "metadata": {
            "tags": []
          },
          "execution_count": 47
        }
      ]
    },
    {
      "metadata": {
        "id": "kY7vLCC_ffXx",
        "colab_type": "code",
        "outputId": "13f79912-f206-4cfd-cc41-d113fb989ce2",
        "colab": {
          "base_uri": "https://localhost:8080/",
          "height": 34
        }
      },
      "cell_type": "code",
      "source": [
        "link2photos(photos,74267, dtag_ph, tag_ph)"
      ],
      "execution_count": 0,
      "outputs": [
        {
          "output_type": "execute_result",
          "data": {
            "text/plain": [
              "{0: 3, 8429: 3, 59491: 3, 69340: 3, 73477: 3}"
            ]
          },
          "metadata": {
            "tags": []
          },
          "execution_count": 48
        }
      ]
    },
    {
      "metadata": {
        "id": "k0dA6ixBVBCW",
        "colab_type": "code",
        "outputId": "994b88e6-f8c1-42f5-8f29-ff21ed39f699",
        "colab": {
          "base_uri": "https://localhost:8080/",
          "height": 34
        }
      },
      "cell_type": "code",
      "source": [
        "link2photos(photos,78134, dtag_ph, tag_ph)"
      ],
      "execution_count": 0,
      "outputs": [
        {
          "output_type": "execute_result",
          "data": {
            "text/plain": [
              "{0: 3, 30469: 3, 68062: 3, 73744: 3, 75270: 3}"
            ]
          },
          "metadata": {
            "tags": []
          },
          "execution_count": 49
        }
      ]
    },
    {
      "metadata": {
        "id": "GDQoF-9pjzwa",
        "colab_type": "code",
        "colab": {}
      },
      "cell_type": "code",
      "source": [
        "idphotos = set()\n",
        "for i in range(len(photos)):\n",
        "  idphotos.add(i)"
      ],
      "execution_count": 0,
      "outputs": []
    },
    {
      "metadata": {
        "id": "PvDyVy1Yl3Zg",
        "colab_type": "code",
        "outputId": "0901d256-988a-46e4-d165-838e8e23a367",
        "colab": {
          "base_uri": "https://localhost:8080/",
          "height": 136
        }
      },
      "cell_type": "code",
      "source": [
        "listags(idphotos,200,38)"
      ],
      "execution_count": 0,
      "outputs": [
        {
          "output_type": "stream",
          "text": [
            "0 \t1 \t2 \t3 \t4 \t5 \t6 \t7 \t8 \t9 \t10 \t11 \t12 \t13 \t14 \t15 \t16 \t17 \t18 \t19 \t20 \t21 \t22 \t23 \t24 \t25 \t26 \t27 \t28 \t29 \t30 \t31 \t32 \t33 \t34 \t35 \t36 \t37 \t\n",
            "38 \t39 \t40 \t41 \t42 \t43 \t44 \t45 \t46 \t47 \t48 \t49 \t50 \t51 \t52 \t53 \t54 \t55 \t56 \t57 \t58 \t59 \t60 \t61 \t62 \t63 \t64 \t65 \t66 \t67 \t68 \t69 \t70 \t71 \t72 \t73 \t74 \t75 \t\n",
            "76 \t77 \t78 \t79 \t80 \t81 \t82 \t83 \t84 \t85 \t86 \t87 \t88 \t89 \t90 \t91 \t92 \t93 \t94 \t95 \t96 \t97 \t98 \t99 \t100 \t101 \t102 \t103 \t104 \t105 \t106 \t107 \t108 \t109 \t110 \t111 \t112 \t113 \t\n",
            "114 \t115 \t116 \t117 \t118 \t119 \t120 \t121 \t122 \t123 \t124 \t125 \t126 \t127 \t128 \t129 \t130 \t131 \t132 \t133 \t134 \t135 \t136 \t137 \t138 \t139 \t140 \t141 \t142 \t143 \t144 \t145 \t146 \t147 \t148 \t149 \t150 \t151 \t\n",
            "152 \t153 \t154 \t155 \t156 \t157 \t158 \t159 \t160 \t161 \t162 \t163 \t164 \t165 \t166 \t167 \t168 \t169 \t170 \t171 \t172 \t173 \t174 \t175 \t176 \t177 \t178 \t179 \t180 \t181 \t182 \t183 \t184 \t185 \t186 \t187 \t188 \t189 \t\n",
            "190 \t191 \t192 \t193 \t194 \t195 \t196 \t197 \t198 \t199 \t\n",
            "Tags pendientes de listar: 79800\n"
          ],
          "name": "stdout"
        }
      ]
    },
    {
      "metadata": {
        "id": "7NXKB5nTmzXk",
        "colab_type": "code",
        "outputId": "c54832d2-a9ed-4962-a23f-8c553af19838",
        "colab": {
          "base_uri": "https://localhost:8080/",
          "height": 34
        }
      },
      "cell_type": "code",
      "source": [
        "slideshow =[]\n",
        "idphoto = 41000\n",
        "idphotos.remove(41000)\n",
        "slideshow.append(idphoto)\n",
        "slideshow"
      ],
      "execution_count": 0,
      "outputs": [
        {
          "output_type": "execute_result",
          "data": {
            "text/plain": [
              "[41000]"
            ]
          },
          "metadata": {
            "tags": []
          },
          "execution_count": 34
        }
      ]
    },
    {
      "metadata": {
        "id": "vDPL5MNFnSkl",
        "colab_type": "code",
        "colab": {}
      },
      "cell_type": "code",
      "source": [
        "#linkphoto = link2photos(photos,idphoto, dtag_ph, tag_ph)\n",
        "#listupla(linkphoto)"
      ],
      "execution_count": 0,
      "outputs": []
    },
    {
      "metadata": {
        "id": "GSzQosIOnE-h",
        "colab_type": "code",
        "colab": {}
      },
      "cell_type": "code",
      "source": [
        "while True:\n",
        "  linkphoto = link2photos(photos,idphoto, dtag_ph, tag_ph)\n",
        "#  listupla(linkphoto)\n",
        "  for i in linkphoto:\n",
        "    #print(i,'\\t',end='')\n",
        "    j = len(linkphoto)\n",
        "    if i in idphotos:\n",
        "      # print('Nueva:',i)\n",
        "      slideshow.append(i)\n",
        "      idphotos.remove(i)\n",
        "      idphoto = i\n",
        "      break\n",
        "    else:\n",
        "      #print('Coincidente')\n",
        "      j -= 1\n",
        "      continue\n",
        "    if j == 0:\n",
        "      #print('Sin combinaciones')\n",
        "      break\n",
        "  if len(idphotos) == 0:\n",
        "    break"
      ],
      "execution_count": 0,
      "outputs": []
    },
    {
      "metadata": {
        "id": "VQh2k82JwKWW",
        "colab_type": "code",
        "colab": {}
      },
      "cell_type": "code",
      "source": [
        "writedata('lovely.out',slideshow)"
      ],
      "execution_count": 0,
      "outputs": []
    },
    {
      "metadata": {
        "id": "hh5Vnejiq99B",
        "colab_type": "code",
        "colab": {}
      },
      "cell_type": "code",
      "source": [
        "#len(slideshow)"
      ],
      "execution_count": 0,
      "outputs": []
    },
    {
      "metadata": {
        "id": "k5EYN_KQxMyJ",
        "colab_type": "code",
        "colab": {}
      },
      "cell_type": "code",
      "source": [
        "#ls"
      ],
      "execution_count": 0,
      "outputs": []
    },
    {
      "metadata": {
        "id": "rrnsa2MrxXD0",
        "colab_type": "code",
        "colab": {}
      },
      "cell_type": "code",
      "source": [
        ""
      ],
      "execution_count": 0,
      "outputs": []
    },
    {
      "metadata": {
        "id": "qTthbcOqxawD",
        "colab_type": "code",
        "colab": {}
      },
      "cell_type": "code",
      "source": [
        "# purgephotos(photos, nctags, 6,False)"
      ],
      "execution_count": 0,
      "outputs": []
    },
    {
      "metadata": {
        "id": "uCOdwRowT2Rz",
        "colab_type": "code",
        "colab": {}
      },
      "cell_type": "code",
      "source": [
        "# link(photos,False)"
      ],
      "execution_count": 0,
      "outputs": []
    }
  ]
}