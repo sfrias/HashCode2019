{
  "nbformat": 4,
  "nbformat_minor": 0,
  "metadata": {
    "colab": {
      "name": "photos",
      "version": "0.3.2",
      "provenance": [],
      "collapsed_sections": [
        "tAWHD1sGS1GF"
      ],
      "include_colab_link": true
    },
    "kernelspec": {
      "name": "python3",
      "display_name": "Python 3"
    }
  },
  "cells": [
    {
      "cell_type": "markdown",
      "metadata": {
        "id": "view-in-github",
        "colab_type": "text"
      },
      "source": [
        "<a href=\"https://colab.research.google.com/github/sfrias/HashCode2019/blob/master/QualRound/photos.ipynb\" target=\"_parent\"><img src=\"https://colab.research.google.com/assets/colab-badge.svg\" alt=\"Open In Colab\"/></a>"
      ]
    },
    {
      "metadata": {
        "id": "zF-F6rNA_aqm",
        "colab_type": "text"
      },
      "cell_type": "markdown",
      "source": [
        "### Placed at repo: https://github.com/sfrias/HashCode2019\n",
        "\n",
        "### Repo file: https://github.com/sfrias/HashCode2019/blob/master/QualRound/photos.ipynb"
      ]
    },
    {
      "metadata": {
        "id": "yllCUY6PVVEU",
        "colab_type": "code",
        "colab": {}
      },
      "cell_type": "code",
      "source": [
        "# Slideshow with vertical & Horizontal photos. Scoring is calculated with linked tags.\n",
        "# If photos were vertical, two must be combined in one slide. Tags were union of both photos tags\n",
        "# Linked slides match scoring por slideshow.\n",
        "# linkable tags with only one appearance qualify photos:\n",
        "#  ---Horizontal photo for only use with ends of slideshows.\n",
        "#  ---Vertical photo for only bundle slide with other vertical photo to link two ways.\n",
        "# \n",
        "# Placed at repo: https://github.com/sfrias/HashCode2019\n",
        "# repo file: https://github.com/sfrias/HashCode2019/blob/master/QualRound/photos.ipynb"
      ],
      "execution_count": 0,
      "outputs": []
    },
    {
      "metadata": {
        "id": "c8SkUIQfb2Vq",
        "colab_type": "text"
      },
      "cell_type": "markdown",
      "source": [
        "## Previous config and functions section"
      ]
    },
    {
      "metadata": {
        "id": "eBDoPg2GbGlF",
        "colab_type": "text"
      },
      "cell_type": "markdown",
      "source": [
        "### Imports and configs"
      ]
    },
    {
      "metadata": {
        "id": "9Qb_QWP3OlnR",
        "colab_type": "code",
        "colab": {}
      },
      "cell_type": "code",
      "source": [
        "# Import and package configuration\n",
        "#import matplotlib.pyplot as pyplot\n",
        "#from pylab import *\n",
        "#import networkx\n",
        "#import time"
      ],
      "execution_count": 0,
      "outputs": []
    },
    {
      "metadata": {
        "id": "2KpcGf5AQGaH",
        "colab_type": "code",
        "colab": {}
      },
      "cell_type": "code",
      "source": [
        "# Import and package configuration\n",
        "from google.colab import files\n",
        "from itertools import combinations"
      ],
      "execution_count": 0,
      "outputs": []
    },
    {
      "metadata": {
        "id": "rUm23R1fafcO",
        "colab_type": "text"
      },
      "cell_type": "markdown",
      "source": [
        "### Download files from Hashcode instance"
      ]
    },
    {
      "metadata": {
        "id": "TUCsM0OzQXlZ",
        "colab_type": "code",
        "colab": {}
      },
      "cell_type": "code",
      "source": [
        " # Download data files from hashcode"
      ],
      "execution_count": 0,
      "outputs": []
    },
    {
      "metadata": {
        "id": "_f7H-zjWQXWw",
        "colab_type": "code",
        "colab": {}
      },
      "cell_type": "code",
      "source": [
        "#!wget -O example.in  \"https://hashcodejudge.withgoogle.com/download/blob/AMIfv97QHzUItY7To0o6id8E6_kxpE1KwTlPR1T9yC2zlbm46xvPPX7tBn1r5ZNxw9XboxHkVKa82BzM-B65uM92pJRONqfeVlHfpzH8xbqKc9FrAWJnd3Yp5SF7naqscxmnBjTa3R-UcB_bqg5hoAa0TZFXIlvi-RL6y_daJXyNUUHeP1kBxQss_1b2nNbNFg7W3Jtgyl2Vs86QrufNrQcUlNh754HyhRrhV3yJBo66HdYQAa2lPISjoUkUTpWqqrGIEItpPu27GNqcp2I69D8j8A-70B30oU-w7zIe9DJ9xnpC70T6T88\""
      ],
      "execution_count": 0,
      "outputs": []
    },
    {
      "metadata": {
        "id": "JHXji8CdR6IW",
        "colab_type": "code",
        "outputId": "b7bbf930-c9a7-4d29-a4d1-994578199cf6",
        "colab": {
          "base_uri": "https://localhost:8080/",
          "height": 224
        }
      },
      "cell_type": "code",
      "source": [
        "!wget -O lovely.in \"https://hashcodejudge.withgoogle.com/download/blob/AMIfv977kmeJsFQfgJNbIlAkviRDMVQcDWj0hLBMvhyg8SuPR52vtGV8uIJsB5nnPDX1Rp14OqzXWF-XXUKp3hhFjdL9PtHAOemuN-rKrd_OgY8pQ6SwgBlBcwPm-5Ova9XoGHSlhT2iLskxOoetjmTNQ8upzsFVkCQqh0gM0P-VX2nWmyxSfIFGmv373rdp9k1Bw9iMdhZXxuMfYIPaWJ8c6izWNYsl9Mpk1a7R0DjShNoDn6Nbfghj_S9bkjGgJS6Clz0b3rMqhHyHAxuIVMnfw1ppwWK_z5TYb4Tsz1vzNERAVPtnuSw\""
      ],
      "execution_count": 2,
      "outputs": [
        {
          "output_type": "stream",
          "text": [
            "--2019-03-18 15:38:55--  https://hashcodejudge.withgoogle.com/download/blob/AMIfv977kmeJsFQfgJNbIlAkviRDMVQcDWj0hLBMvhyg8SuPR52vtGV8uIJsB5nnPDX1Rp14OqzXWF-XXUKp3hhFjdL9PtHAOemuN-rKrd_OgY8pQ6SwgBlBcwPm-5Ova9XoGHSlhT2iLskxOoetjmTNQ8upzsFVkCQqh0gM0P-VX2nWmyxSfIFGmv373rdp9k1Bw9iMdhZXxuMfYIPaWJ8c6izWNYsl9Mpk1a7R0DjShNoDn6Nbfghj_S9bkjGgJS6Clz0b3rMqhHyHAxuIVMnfw1ppwWK_z5TYb4Tsz1vzNERAVPtnuSw\n",
            "Resolving hashcodejudge.withgoogle.com (hashcodejudge.withgoogle.com)... 74.125.141.141, 2607:f8b0:400c:c06::8d\n",
            "Connecting to hashcodejudge.withgoogle.com (hashcodejudge.withgoogle.com)|74.125.141.141|:443... connected.\n",
            "HTTP request sent, awaiting response... 200 OK\n",
            "Length: unspecified [text/plain]\n",
            "Saving to: ‘lovely.in’\n",
            "\n",
            "lovely.in               [      <=>           ]   8.62M  8.37MB/s    in 1.0s    \n",
            "\n",
            "2019-03-18 15:38:57 (8.37 MB/s) - ‘lovely.in’ saved [9039625]\n",
            "\n"
          ],
          "name": "stdout"
        }
      ]
    },
    {
      "metadata": {
        "id": "SfghR8meSpo3",
        "colab_type": "code",
        "colab": {}
      },
      "cell_type": "code",
      "source": [
        "#!wget -O memoments.in \"https://hashcodejudge.withgoogle.com/download/blob/AMIfv94hwk1wpXjU-qRaszhHtsN4gJSGTkGGNfiItXwzXwhtP6IGrdiZrJ16XvlGFZAKOck8csLoiqwaDiJY6pybACZPZoBnwUMB_WLmQPR7XwH_0AMzk4at1sNgwB_f-9wOwSaqAQE8VtIlLNLDOLeo9sJDLxUVceOopaGh93MDCof4KCYXcdvM9tCSQz1sT89KVmM3Qx0Rz0JkXm4-a3mTk_676DubwwI5siY-ulC87_p1qcfeWdJXmuqMO7E-8THazayXZmS2dXyeTWiOOt27fOC06dSTe9mYfNBISojtloNJc-9Xohc\""
      ],
      "execution_count": 0,
      "outputs": []
    },
    {
      "metadata": {
        "id": "b9zUUte-Spjk",
        "colab_type": "code",
        "colab": {}
      },
      "cell_type": "code",
      "source": [
        "#!wget -O petpict.in \"https://hashcodejudge.withgoogle.com/download/blob/AMIfv95TypJhkPij61j5cS87pz5lYAw7u6lKSxctMX0zPI_8N7y-bRcwGLHe8rx8vAaQ_Dszh0yuWjpdXucxsC52Fq-iuNeI9D8ugsj3djcsDH5Ax3TlTILi27GOCPv_-U7KZsyrbKusR5T8saKHiE2cferYs92JBV_nKxm7gxQkzITercTAfcJaEtenWiTS4rhPkIVARXCQE9LaycZvxV4IqTnDCfYHZhtFVV9_Y_h5riDVjGZZd01tplZ1aibiKASlJZulxOwnJGfmgrYkImN3dCaDYx0eAGlGUoRjAF3GsiGdZ4bI0_V-lKZJlSdoMPxCctPLpgvL\""
      ],
      "execution_count": 0,
      "outputs": []
    },
    {
      "metadata": {
        "id": "h5NlNfBJSpWZ",
        "colab_type": "code",
        "colab": {}
      },
      "cell_type": "code",
      "source": [
        "#!wget -O shinyself.in \"https://hashcodejudge.withgoogle.com/download/blob/AMIfv941-URwsmc_UpuUvypgEBaH_U4oDiPKJZR_gk2oNcK8NXMmcZMwFC8qM3aYM_G1dN5hhRt9ONNq_o1RLVdWXqFn6M_DFVf_UnLD0E7Qg-D989lrG08e5FWD06_crrlGQI48euVgJSyEHO2oo8_3506xyzI2KsMLs_zPfjnnRr6sVKSMeQLNWRD4gut2m1QBzkRWvZuigNbXsCFra7wNPrEdPCI4Mf11W9rWcMrVsvMcrAmjw02vPbqqe8QrVwM08n0tMfAvk01BwBEM8RcwkYtkp8IUP3M0_67Sum1zfuFayeLWSOY\""
      ],
      "execution_count": 0,
      "outputs": []
    },
    {
      "metadata": {
        "id": "R2YzU_BOSpGB",
        "colab_type": "code",
        "outputId": "ee1d4614-4168-4286-8847-c152ab407d69",
        "colab": {
          "base_uri": "https://localhost:8080/",
          "height": 68
        }
      },
      "cell_type": "code",
      "source": [
        "!ls -l"
      ],
      "execution_count": 3,
      "outputs": [
        {
          "output_type": "stream",
          "text": [
            "total 8836\n",
            "-rw-r--r-- 1 root root 9039625 Mar 18 15:38 lovely.in\n",
            "drwxr-xr-x 1 root root    4096 Mar  8 17:26 sample_data\n"
          ],
          "name": "stdout"
        }
      ]
    },
    {
      "metadata": {
        "id": "4jHinMavaqva",
        "colab_type": "text"
      },
      "cell_type": "markdown",
      "source": [
        "### Create Data Structures and load data from/to file, scoring"
      ]
    },
    {
      "metadata": {
        "id": "6GGNIr7HLiI3",
        "colab_type": "code",
        "colab": {}
      },
      "cell_type": "code",
      "source": [
        "# Load data file function. Parameters: nom = name of input file, test = 'Test debug mode False or True'\n",
        "# # def loaddata(nom,test):return\n",
        "# nphotos\t# Number of photos\n",
        "# ,photos\t# Data for all photos\n",
        "# ,photosv# Data for vertical photos\n",
        "# ,photosh# Data for horizontal photos\n",
        "# ,nv\t# number of vertical images\n",
        "# ,nh\t# Number of horizontal images\n",
        "# ,nctags\t# Not linkable tags\n",
        "# ,ncphotos# Not linkable photos\n",
        "# ttags\t# Tag global number occurrences\n",
        "# dtags\t# tags occurrence, dictionary\n",
        "# dtag_ph# Tag dictionary pointer to tag_ph photos list for each tag\n",
        "# tag_ph\t# photos list for each tag, indexed"
      ],
      "execution_count": 0,
      "outputs": []
    },
    {
      "metadata": {
        "id": "RZP8fo_uGdcN",
        "colab_type": "text"
      },
      "cell_type": "markdown",
      "source": [
        "![alt text](https://github.com/sfrias/HashCode2019/blob/master/QualRound/loaddata.jpg?raw=true)"
      ]
    },
    {
      "metadata": {
        "id": "687Ar8rWTgTY",
        "colab_type": "code",
        "colab": {}
      },
      "cell_type": "code",
      "source": [
        "# Load data from file .in . Main Data structures created:\n",
        "# - photos[0 -(N-1)]: <id>, {'H','V'}, <numbr_of_tags>, {<set_of_tags} -> Indexed access to photo features, including set of tags.\n",
        "# - dtags[<tag>]: dictionary of occurrences for this tag on all files. -> Determine linkable tags. A copy can be updated on link process.\n",
        "# - dtag_ph[<tag>]: index to list tag_ph. -> Indexed access into list of lists of photos that have this tag in common.\n",
        "# - tag_ph[<index>]: list of lists of photo id's that can be linked by tag that index this list through dictionary dtag_ph.\n",
        "\n",
        "\n",
        "def loaddata(nom,test):\n",
        "  file = open(nom,'r')\n",
        "  line = file.readline()\n",
        "  # Assign number of photos from first line\n",
        "  nphotos = int(line.rstrip()) # Number of photos\n",
        "  nv = 0 # number of vertical images\n",
        "  nh = 0 # Number of horizontal images\n",
        "  phpt = 0 # photo pointer position to videos list for each tag\n",
        "  ttags = 0 # Tag global number occurrences \n",
        "  nctags = set() # Not linkable tags\n",
        "  ncphotos = set() # Not linkable photos\n",
        "  dtags = {} # tags occurrence, dictionary\n",
        "  dtag_ph = {} # Tag dictionary pointer to tag_ph photos list for each tag\n",
        "  photos = [] # Data for all photos\n",
        "  photosv = [] # Data for vertical photos\n",
        "  photosh = [] # Data for horizontal photos\n",
        "  tag_ph = [] # list of photos list for each tag, indexed by dtag_ph\n",
        "  # Read all image descriptions\n",
        "  for i in range(nphotos):\n",
        "    lista = []\n",
        "    lista = file.readline().rstrip().split(' ')\n",
        "    lista.insert(0,i) # Insert image number\n",
        "    tags = set(lista[3:]) # Store tags as a set\n",
        "    for t in tags: # Adds tag occurrences to dictionary\n",
        "      if t in dtags:\n",
        "        dtags[t] += 1\n",
        "        tag_ph[dtag_ph[t]].append(i)\n",
        "      else:\n",
        "        dtags[t] = 1\n",
        "        dtag_ph[t] = phpt\n",
        "        tag_ph.append([])\n",
        "        tag_ph[phpt].append(i)\n",
        "        phpt += 1\n",
        "    ntags = int(lista[2]) # Convert to int  tag number for photo\n",
        "    lista = lista[:2] # Crop list\n",
        "    # Count number of vertical or horizontal images\n",
        "    # Append elements to list\n",
        "    lista.append(ntags) # Number of tags\n",
        "    lista.append(tags) # Set of tags\n",
        "    ttags += ntags \n",
        "    photos.append(lista)\n",
        "    if lista[1] =='V':\n",
        "      nv +=1\n",
        "      photosv.append(lista) # Add vertical image list data to photos list.\n",
        "    else:\n",
        "      nh +=1\n",
        "      photosh.append(lista) # Add horizontal image list data to photos list.\n",
        "    if test:\n",
        "      print(photos[i])\n",
        "  file.close()\n",
        "  print('N. fotos:',nphotos,'Verticales:',nv,'Horizontales:',nh,'Tags no combinables:',len(nctags),'Apariciones Tags:',ttags,'Tags diferentes:',len(dtags),'Media Tags/ imagen:', ttags/nphotos)\n",
        "  return nphotos, photos, photosv, photosh, nv, nh, nctags, ncphotos, ttags, dtags, dtag_ph, tag_ph"
      ],
      "execution_count": 0,
      "outputs": []
    },
    {
      "metadata": {
        "id": "PK8bZS9zhxi0",
        "colab_type": "code",
        "colab": {}
      },
      "cell_type": "code",
      "source": [
        "# Write Output data to a file, and download via google.colab files, drive or other\n",
        "def writedata(nom,slideshow):\n",
        "  file=open(nom,'w')\n",
        "  file.write(str(len(slideshow))+'\\n')\n",
        "  for i in slideshow:\n",
        "    if i == 2:\n",
        "      file.write(' '.join(str(e) for e in i)+'\\n')\n",
        "    else:\n",
        "      file.write(str(i)+'\\n')\n",
        "  file.close()\n",
        "  files.download(nom) # google colab files download\n",
        "  return"
      ],
      "execution_count": 0,
      "outputs": []
    },
    {
      "metadata": {
        "id": "ne3EbgNl_tRc",
        "colab_type": "code",
        "colab": {}
      },
      "cell_type": "code",
      "source": [
        "def scoring(photos, ph1_1,ph2_1,ph1_2 = -1, ph2_2 = -1, test = False):\n",
        "  \n",
        "  # Set tags for slide1 with id photos\n",
        "  if ph1_2 == -1 :\n",
        "    tag1 = photos[ph1_1][3]\n",
        "  else:\n",
        "    tag1 = photos[ph1_1][3] | photos[ph1_2][3]\n",
        "  if test:\n",
        "    print('Tags fotos', ph1_1,' ', ph1_2, 'de slide 1', tag1)\n",
        "  # Set tags for slide2 whith id photos\n",
        "  if ph2_2 == -1:\n",
        "    tag2 = photos[ph2_1][3]\n",
        "  else:\n",
        "    tag2 = photos[ph2_1][3] | photos[ph2_2][3]\n",
        "  if test:\n",
        "    print('Tags fotos', ph2_1,' ', ph2_2, 'de slide 2', tag2)\n",
        "  # Calculate optional scoring\n",
        "  sctag_int = tag1 & tag2\n",
        "  sctag1not2 = tag1 - tag2\n",
        "  sctag2not1 = tag2 - tag1\n",
        "  sc_int = len(sctag_int)\n",
        "  sc1not2 = len(sctag1not2)\n",
        "  sc2not1 = len(sctag2not1)\n",
        "  score = min(sc_int, sc1not2, sc2not1)\n",
        "  if test:\n",
        "    print('Interseccion: Num.tags:', sc_int)\n",
        "    print(sctag_int)\n",
        "    print('En slide1 pero no en slide2. Num.tags:', sc1not2)\n",
        "    print(sctag1not2)\n",
        "    print('En slide2 pero no en slide1. Num.tags:', sc2not1)\n",
        "    print(sctag2not1)\n",
        "  return score, int((300 *score)/(sc_int + sc1not2 + sc2not1)), sctag_int # Score and % possible ratio "
      ],
      "execution_count": 0,
      "outputs": []
    },
    {
      "metadata": {
        "id": "uL41hxIga9GX",
        "colab_type": "text"
      },
      "cell_type": "markdown",
      "source": [
        "### Display utilities for analysis"
      ]
    },
    {
      "metadata": {
        "id": "oIdrf_eXPG4u",
        "colab_type": "code",
        "colab": {}
      },
      "cell_type": "code",
      "source": [
        "# Listing function \n",
        "def lista(photos, limit = 15):\n",
        "  # Linkable photos list\n",
        "  num = len(photos)\n",
        "  fila = 0\n",
        "  for foto in photos:\n",
        "    print(foto)\n",
        "    num -= 1\n",
        "    fila += 1\n",
        "    if fila >= limit:\n",
        "      print(num, 'Elements pending to list')\n",
        "      break"
      ],
      "execution_count": 0,
      "outputs": []
    },
    {
      "metadata": {
        "id": "I16qPYx1QhLK",
        "colab_type": "code",
        "colab": {}
      },
      "cell_type": "code",
      "source": [
        "# Listing set of tags function\n",
        "# tags # set of elements\n",
        "# limit # max. number  of lines listed\n",
        "# nrow # max number of elements at each row\n",
        "def listags(tags, limit = 50, nrow = 18):\n",
        "  # Lista tags\n",
        "  num = len(tags)\n",
        "  listed = 0\n",
        "  columna = 0\n",
        "  for tag in tags:\n",
        "    print(str(tag),'\\t', end='')\n",
        "    num -= 1\n",
        "    listed += 1\n",
        "    columna += 1\n",
        "    if columna >= nrow:\n",
        "      print()\n",
        "      columna = 0\n",
        "    if listed >= limit:\n",
        "      print()\n",
        "      print('Tags pendientes de listar:', num)\n",
        "      break"
      ],
      "execution_count": 0,
      "outputs": []
    },
    {
      "metadata": {
        "id": "GT_GrvXJv64a",
        "colab_type": "code",
        "colab": {}
      },
      "cell_type": "code",
      "source": [
        "def listupla(dicc, limit=500, nrow = 18, valor = 0):\n",
        "  # Lista tags\n",
        "  num = len(dicc)\n",
        "  listed = 0\n",
        "  columna = 0\n",
        "  for tupla in dicc:\n",
        "    if dicc[tupla] >= valor:\n",
        "      print(tupla,':',dicc[tupla],'\\t', end='')\n",
        "      num -= 1\n",
        "      listed += 1\n",
        "      columna += 1\n",
        "      if columna >= nrow:\n",
        "        print()\n",
        "        columna = 0\n",
        "    if listed >= limit:\n",
        "      print()\n",
        "      print('Tags pendientes de listar:', num)\n",
        "      break"
      ],
      "execution_count": 0,
      "outputs": []
    },
    {
      "metadata": {
        "id": "7JmsJpXe01an",
        "colab_type": "code",
        "colab": {}
      },
      "cell_type": "code",
      "source": [
        "def photos4tag(dtag_ph, tag_ph, limit=10, nrow = 6):\n",
        "  num = len(dtag_ph)\n",
        "  listed = 0\n",
        "  columna = 0\n",
        "  for t in dtag_ph:\n",
        "    ptlist = dtag_ph[t]\n",
        "    print(t,'\\t[', ptlist, ']->',tag_ph[ptlist],'\\t',end='')\n",
        "    #print('\\t\\tCombinaciones:',list(combinations(tag_ph[ptlist],2)))\n",
        "    num -= 1\n",
        "    listed += 1\n",
        "    columna += 1\n",
        "    if columna >= nrow:\n",
        "      print()\n",
        "      columna = 0\n",
        "    if listed >= limit:\n",
        "      print()\n",
        "      print('Tags pendientes de listar:', num)\n",
        "      break"
      ],
      "execution_count": 0,
      "outputs": []
    },
    {
      "metadata": {
        "id": "aU0JZ1265KYk",
        "colab_type": "code",
        "colab": {}
      },
      "cell_type": "code",
      "source": [
        "def link2photos(photos, id1,dtag_ph,tag_ph,test=False):\n",
        "  if test:\n",
        "    print(photos[id1])\n",
        "  idset = set()\n",
        "  idset.add(id1)\n",
        "  dnphotos = {}\n",
        "  tags_id1 = photos[id1][3]\n",
        "  if test:\n",
        "    print()\n",
        "  for t in tags_id1:\n",
        "    ptlist = dtag_ph[t]\n",
        "    if test:\n",
        "      print(t,'\\t',ptlist,'\\t', end='')\n",
        "      print(tag_ph[ptlist],'\\t',end='')\n",
        "      print('\\tCombinaciones:',end='')\n",
        "    cphotos = set() # photos set combinations\n",
        "    for c in list(combinations(tag_ph[ptlist],2)):\n",
        "      cphotos.add(c[0])\n",
        "      cphotos.add(c[1])\n",
        "      cphotos = cphotos - idset\n",
        "      if test:\n",
        "        print(cphotos,end='')\n",
        "      cpop =cphotos.pop()\n",
        "      if cpop in dnphotos:\n",
        "        dnphotos[cpop] += 1\n",
        "      else:\n",
        "        dnphotos[cpop] = 1\n",
        "    if test:\n",
        "      print()\n",
        "  if test:\n",
        "    print(dnphotos)\n",
        "  return dnphotos"
      ],
      "execution_count": 0,
      "outputs": []
    },
    {
      "metadata": {
        "id": "ykI743QWbPdk",
        "colab_type": "text"
      },
      "cell_type": "markdown",
      "source": [
        "### Functions to optimize process"
      ]
    },
    {
      "metadata": {
        "id": "wOpLLqSMbW8a",
        "colab_type": "code",
        "colab": {}
      },
      "cell_type": "code",
      "source": [
        "def purgedict(dtags,nctags, test):\n",
        "  tuplas = list(dtags.items())\n",
        "  j = 0\n",
        "  for i in tuplas:\n",
        "    #print('\\t',dtags[tuplas[j][0]],end='')\n",
        "    if dtags[tuplas[j][0]]<=1:\n",
        "      if test:\n",
        "        print ('----->Tag:', i, 'no combinable...eliminando de dtags y añadiendo a nctags')\n",
        "      nctags.add(tuplas[j][0]) # Add at not linkable tags set\n",
        "      del(dtags[tuplas[j][0]]) # remove tuple from dictionary for number of occurrences to this tag\n",
        "      del(dtag_ph[tuplas[j][0]]) # remove tuple from dictionary pointer to list of photos where appear this tag\n",
        "    j+= 1\n",
        "  tuplas = []\n",
        "  print('N. fotos:',nphotos,'Verticales:',nv,'Horizontales:',nh,'Tags no combinables:',len(nctags),'Apariciones Tags:',ttags,'Tags diferentes:',len(dtags),'Media Tags por imagen:', ttags/nphotos)\n",
        "  return dtags,nctags\n"
      ],
      "execution_count": 0,
      "outputs": []
    },
    {
      "metadata": {
        "id": "7EQugVxlcGBm",
        "colab_type": "code",
        "colab": {}
      },
      "cell_type": "code",
      "source": [
        "# Purge for unlinkable tags at photos list\n",
        "def purgetags(photos, nctags, test):\n",
        "  #print('Purgando tags no combinables en lista de fotos')\n",
        "  ttags = 0\n",
        "  for photo in photos:\n",
        "    if test:\n",
        "      print(photo,end='')\n",
        "    photo[3]=photo[3]-nctags\n",
        "    photo[2]=len(photo[3])\n",
        "    ttags += photo[2]\n",
        "    if test:\n",
        "      print('++',photo[3])\n",
        "  print('N. fotos:',len(photos),'Apariciones Tags:',ttags,'Tags diferentes:',len(dtags),'Media Tags por imagen:', ttags/len(photos))\n",
        "  return photos, nctags,ttags"
      ],
      "execution_count": 0,
      "outputs": []
    },
    {
      "metadata": {
        "id": "aK8Tv-u1UGFd",
        "colab_type": "code",
        "colab": {}
      },
      "cell_type": "code",
      "source": [
        "# Purge for photos that can't be linked\n",
        "def purgephotos(photos, nctags, rango, test):\n",
        "    cont = 0\n",
        "    print('Fotos que son menos combinables.',rango,' tags combinables') \n",
        "    for photo in photos:\n",
        "      if len(photo[3]-nctags)<=rango:\n",
        "        if test:\n",
        "          print(photo)\n",
        "          print('tags - nctags:', end='')\n",
        "          print(photo[3]-nctags)\n",
        "          print('--------------------')\n",
        "        print('+')\n",
        "        cont +=1\n",
        "      # else:\n",
        "        #if test:\n",
        "        #  print(photo)\n",
        "        #  print('tags - nctags:', end='')\n",
        "        #  print(photo[3]-nctags)\n",
        "        #  print('-',end='')\n",
        "    print(cont, 'menos combinables')"
      ],
      "execution_count": 0,
      "outputs": []
    },
    {
      "metadata": {
        "id": "JW5ss8ZXztAh",
        "colab_type": "code",
        "colab": {}
      },
      "cell_type": "code",
      "source": [
        "# Find the best option to combine two horizontal slides. NOT USED NOW\n",
        "def link(photos, test ):\n",
        "  pos_candidato1 = 0\n",
        "  pos_candidato2 = 0\n",
        "  maxint = 0\n",
        "  ptpic = 0\n",
        "  for pic in photos:\n",
        "    if test:\n",
        "      print('++', ptpic, '\\t++', photos[ptpic],'+++')\n",
        "    for pointer in range(ptpic+1,len(photos)):\n",
        "      inter = pic[3] & photos[pointer][3]\n",
        "      ninter = len (inter)\n",
        "      if test:\n",
        "        print('Foto Puntero:', pic, 'Foto a comparar:',photos[pointer], 'Interseccion:', end='')\n",
        "        print (inter,'Tags comunes:',ninter)\n",
        "      if ninter > maxint:\n",
        "        pos_candidato1 = ptpic\n",
        "        pos_candidato2 = pointer\n",
        "        maxint = ninter\n",
        "        print('Candidatos', photos[pos_candidato1],'+', photos[pos_candidato2], 'Inters:', inter, 'Ntags:', ninter)\n",
        "    ptpic += 1"
      ],
      "execution_count": 0,
      "outputs": []
    },
    {
      "metadata": {
        "id": "mHRKyPEbbc19",
        "colab_type": "text"
      },
      "cell_type": "markdown",
      "source": [
        "## Process Data Section before select upshot to problem"
      ]
    },
    {
      "metadata": {
        "id": "QhJx52StQJNV",
        "colab_type": "text"
      },
      "cell_type": "markdown",
      "source": [
        "### Load data."
      ]
    },
    {
      "metadata": {
        "id": "3acxLMllMmqt",
        "colab_type": "code",
        "outputId": "812ec04e-797d-4597-87b8-764ab6525456",
        "colab": {
          "base_uri": "https://localhost:8080/",
          "height": 34
        }
      },
      "cell_type": "code",
      "source": [
        "# Load data from file, Create Data Structures\n",
        "nphotos, photos, photosv, photosh, nv, nh, nctags, ncphotos, ttags, dtags, dtag_ph, tag_ph = loaddata('lovely.in',False)"
      ],
      "execution_count": 11,
      "outputs": [
        {
          "output_type": "stream",
          "text": [
            "N. fotos: 80000 Verticales: 0 Horizontales: 80000 Tags no combinables: 0 Apariciones Tags: 1440000 Tags diferentes: 840000 Media Tags/ imagen: 18.0\n"
          ],
          "name": "stdout"
        }
      ]
    },
    {
      "metadata": {
        "id": "x1HUBf1t2jap",
        "colab_type": "code",
        "outputId": "8b21bd87-5864-4b9f-d73f-b398090a2236",
        "colab": {
          "base_uri": "https://localhost:8080/",
          "height": 139
        }
      },
      "cell_type": "code",
      "source": [
        "lista(photos,5)"
      ],
      "execution_count": 12,
      "outputs": [
        {
          "output_type": "stream",
          "text": [
            "[0, 'H', 21, {'tj4f', 'tv7zt', 'tr5fv', 't99tm', 'tcz3g', 't6zkl', 't111w', 'tsmcf', 'tb5p6', 't5nnd', 't1c76', 'tkp5g', 'tf5wv', 'tbj57', 'tc2j5', 'tv1h01', 'th8wv', 't2hzq', 'tzdr4', 'twzgl', 't5xl1'}]\n",
            "[1, 'H', 9, {'tpvh8', 't6p61', 'tlhlt', 't5x7p', 'tlvcq', 'tkw11', 't7fgq', 'tns01', 'twzsw'}]\n",
            "[2, 'H', 15, {'tjj0r', 't62gs', 'tbb6j', 't5pgg', 'tk3r', 't3rgg', 'tcdv8', 'tf36x', 't0r1w', 't4pp6', 'tlql4', 't982j', 'tn4hp', 'tvwcg', 'tl3l6'}]\n",
            "[3, 'H', 15, {'tc9r2', 't919l', 'tbns8', 't48r2', 'tbzhk', 'tfv2', 'tfmns', 'tx895', 't4rt4', 't52xx', 'tvr51', 't0h5n', 't3xvq', 'tqmvs', 'tb25z'}]\n",
            "[4, 'H', 15, {'t5rbj', 't46vk', 't9h9q', 't7w5h', 't8z5v', 'tfzzf', 'td6tp', 'thzc5', 'tjbc', 'tk99r', 't7s67', 't6qt9', 't98wh', 'thh6z', 'txk58'}]\n",
            "79995 Elements pending to list\n"
          ],
          "name": "stdout"
        }
      ]
    },
    {
      "metadata": {
        "id": "PiRUwE8ZcyIa",
        "colab_type": "code",
        "colab": {
          "base_uri": "https://localhost:8080/",
          "height": 901
        },
        "outputId": "350980a4-8366-4077-f1bf-5e50f17aa626"
      },
      "cell_type": "code",
      "source": [
        "# Number of occurrences of each tag at all photos list\n",
        "listupla(dtags, limit=300, nrow = 6, valor = 1)"
      ],
      "execution_count": 27,
      "outputs": [
        {
          "output_type": "stream",
          "text": [
            "tj4f : 2 \ttv7zt : 2 \ttr5fv : 2 \tt99tm : 2 \ttcz3g : 2 \tt6zkl : 2 \t\n",
            "t111w : 2 \ttsmcf : 2 \ttb5p6 : 2 \tt5nnd : 2 \tt1c76 : 1 \ttkp5g : 2 \t\n",
            "tf5wv : 1 \ttbj57 : 2 \ttc2j5 : 1 \ttv1h01 : 2 \tth8wv : 2 \tt2hzq : 2 \t\n",
            "tzdr4 : 2 \ttwzgl : 2 \tt5xl1 : 2 \ttpvh8 : 1 \tt6p61 : 2 \ttlhlt : 2 \t\n",
            "t5x7p : 2 \ttlvcq : 2 \ttkw11 : 1 \tt7fgq : 2 \ttns01 : 1 \ttwzsw : 2 \t\n",
            "tjj0r : 2 \tt62gs : 1 \ttbb6j : 2 \tt5pgg : 2 \ttk3r : 2 \tt3rgg : 1 \t\n",
            "tcdv8 : 2 \ttf36x : 2 \tt0r1w : 1 \tt4pp6 : 2 \ttlql4 : 2 \tt982j : 2 \t\n",
            "tn4hp : 2 \ttvwcg : 2 \ttl3l6 : 2 \ttc9r2 : 2 \tt919l : 1 \ttbns8 : 2 \t\n",
            "t48r2 : 2 \ttbzhk : 2 \ttfv2 : 1 \ttfmns : 2 \ttx895 : 2 \tt4rt4 : 2 \t\n",
            "t52xx : 1 \ttvr51 : 2 \tt0h5n : 2 \tt3xvq : 2 \ttqmvs : 2 \ttb25z : 2 \t\n",
            "t5rbj : 1 \tt46vk : 2 \tt9h9q : 2 \tt7w5h : 1 \tt8z5v : 2 \ttfzzf : 2 \t\n",
            "td6tp : 2 \tthzc5 : 1 \ttjbc : 2 \ttk99r : 2 \tt7s67 : 2 \tt6qt9 : 2 \t\n",
            "t98wh : 2 \tthh6z : 2 \ttxk58 : 2 \ttwx1v : 2 \tt1vc6 : 2 \ttm8ls : 2 \t\n",
            "tz9wd : 2 \ttxsgc : 2 \ttsl5q : 2 \ttwpq5 : 2 \tttj8k : 2 \tt6tpl : 2 \t\n",
            "t4b1g : 2 \ttqrqq : 1 \ttcsv : 2 \ttjtw1 : 2 \ttj7h1 : 2 \ttwc3z : 2 \t\n",
            "txrsg : 1 \tt84q5 : 1 \tt2d6w : 2 \tttts2 : 2 \ttpm2s : 2 \ttmb7b : 2 \t\n",
            "tjhx01 : 2 \ttxvtg : 1 \tt1xd6 : 2 \tt3pcz : 2 \tt3pkj : 2 \tt1gft : 1 \t\n",
            "tzg77 : 2 \ttjvr7 : 2 \ttfhkb : 2 \tt5z3n : 2 \tt9r31 : 2 \ttfbdq : 2 \t\n",
            "t5tgw : 2 \ttft7d : 1 \tt8qrk : 2 \ttvxzh : 2 \ttqfqb : 2 \ttv92r : 2 \t\n",
            "t840v : 2 \tt78pq : 2 \ttjcx8 : 2 \tt9b4t : 2 \ttjntw : 2 \tt9wxx : 2 \t\n",
            "twqk7 : 2 \ttq4vc : 2 \tthph3 : 2 \ttxgq6 : 2 \ttwq5t : 2 \ttsh16 : 2 \t\n",
            "tlq8x : 2 \ttb0p4 : 2 \tt8tn9 : 2 \ttc2f3 : 1 \tts4j9 : 2 \ttst79 : 2 \t\n",
            "tvkjt : 1 \ttt9h6 : 1 \tt6p0t : 2 \ttdxcr : 2 \ttr5j9 : 2 \tt9rrs : 2 \t\n",
            "t0jxn : 1 \ttvs5x : 1 \tt8xm4 : 2 \tt3h3z : 2 \ttk6s1 : 2 \ttl4st : 1 \t\n",
            "tqjn2 : 2 \ttv896 : 2 \ttdw2m : 2 \tt1m7 : 2 \ttxk75 : 2 \tt2s8 : 2 \t\n",
            "tsw5k : 2 \ttxz0j : 2 \ttw5301 : 2 \tt33w7 : 2 \tt8s5r : 2 \ttbcwd : 2 \t\n",
            "trrfr : 2 \ttxqlc : 2 \ttb6jf : 1 \tt4lqg : 2 \ttl06n : 2 \ttc7bx : 2 \t\n",
            "tqxcb : 2 \tt2sk4 : 2 \tt0fxf : 2 \ttswgp : 2 \tt6gvb : 2 \ttlf5b : 1 \t\n",
            "tfzz4 : 2 \ttfn2v : 1 \ttffhl : 2 \ttjn1f : 2 \ttjlvc : 2 \ttdtv4 : 2 \t\n",
            "txwsb : 2 \ttvshp : 2 \tt9t07 : 2 \ttrq6h : 2 \ttlc5h : 2 \ttjnfl : 2 \t\n",
            "tzzh3 : 2 \ttszth : 2 \ttmjt9 : 2 \ttzt7k : 2 \ttqwsz : 2 \tt8tnm : 1 \t\n",
            "t4wv01 : 2 \ttrpxp : 1 \ttqd1 : 2 \ttdl2r : 2 \ttz35n : 2 \ttl5np : 2 \t\n",
            "ttc3 : 2 \ttrh06 : 2 \tts80t : 2 \tth0hz : 2 \tt59qf : 2 \ttslx : 2 \t\n",
            "tx7g6 : 2 \ttwwnw : 2 \tt94c6 : 1 \tt734t : 2 \tt3cbg : 2 \ttjrkx : 2 \t\n",
            "tj7w1 : 2 \ttvgcm : 1 \ttk8gf : 2 \tt63v4 : 2 \tt2hzw : 2 \ttv0r5 : 2 \t\n",
            "t8gvx : 2 \tt2bjb : 2 \ttpcth : 2 \tts3lq : 2 \tt2hhg : 2 \tts31c : 2 \t\n",
            "t7g6n : 2 \ttzlb6 : 1 \tthrqt : 2 \tt6lpd : 2 \tt6m4p : 2 \ttvqr5 : 2 \t\n",
            "tn753 : 2 \ttdw2c : 1 \ttjz3g : 2 \tt6kvh : 2 \ttmb6j : 2 \ttjns01 : 2 \t\n",
            "t265x : 2 \tt3lfd : 2 \ttpss4 : 2 \tt75qc : 1 \ttg619 : 2 \ttlpkl : 2 \t\n",
            "t0d1r : 2 \ttmjn2 : 2 \ttjl1x : 2 \tts39v : 1 \ttb46n : 1 \ttfcn8 : 2 \t\n",
            "tbdr9 : 2 \tt4htf : 2 \tt9f8v : 2 \tt8zrd : 2 \ttqgc01 : 2 \tt7zd3 : 2 \t\n",
            "tvcmd : 2 \ttbwkg : 2 \ttcf42 : 2 \ttr3tk : 2 \tt0v5v : 2 \tt1vjd : 2 \t\n",
            "t3jk9 : 1 \tt2wfl : 2 \ttjksn : 1 \ttcg001 : 2 \ttpdvm : 2 \tt10lv : 2 \t\n",
            "tcxp3 : 2 \ttd027 : 2 \ttlf8d : 1 \tthv8d : 2 \ttkn6c : 2 \ttmtzj : 2 \t\n",
            "tdvlb : 2 \ttl24m : 1 \ttnkh : 1 \tt8sdl : 1 \tt8tfx : 2 \ttbchs : 2 \t\n",
            "ts07z : 2 \tt5h6d : 2 \ttfpbn : 2 \tts2jr : 2 \ttnk211 : 2 \tthz2w : 2 \t\n",
            "thgkh : 2 \tt7g6z : 2 \ttqch1 : 2 \tt6vz7 : 2 \ttjh6g : 1 \ttsm8c : 2 \t\n",
            "t67hd : 1 \ttt97 : 2 \ttwnst : 2 \ttq1q1 : 2 \tthgq7 : 2 \ttgtwl : 1 \t\n",
            "t1phr : 2 \tt7c27 : 2 \ttxdzn : 2 \tt5b5p : 2 \ttjqwk : 1 \ttzbdf : 2 \t\n",
            "t4qc4 : 2 \ttr6c8 : 1 \tt4xfw : 2 \ttkxsk : 2 \tthcwv : 2 \ttcss4 : 2 \t\n",
            "\n",
            "Tags pendientes de listar: 839700\n"
          ],
          "name": "stdout"
        }
      ]
    },
    {
      "metadata": {
        "id": "iXb9M7guHgZJ",
        "colab_type": "code",
        "outputId": "64df7411-fafb-49e5-f49c-48b95a86537e",
        "colab": {
          "base_uri": "https://localhost:8080/",
          "height": 190
        }
      },
      "cell_type": "code",
      "source": [
        "print(scoring(photos, 1,56714, test = True))"
      ],
      "execution_count": 22,
      "outputs": [
        {
          "output_type": "stream",
          "text": [
            "Tags fotos 1   -1 de slide 1 {'tpvh8', 't6p61', 'tlhlt', 't5x7p', 'tlvcq', 'tkw11', 't7fgq', 'tns01', 'twzsw'}\n",
            "Tags fotos 56714   -1 de slide 2 {'tn82r', 'thnl1', 't6v2q', 'tjc5z', 't34b6', 't5x7p', 'thjdf', 'tw5pm', 't7fgq', 'tzcqs', 't3pxt', 't1thj', 'tpnxv', 'twzsw', 'tb88j'}\n",
            "Interseccion: Num.tags: 3\n",
            "{'t5x7p', 'twzsw', 't7fgq'}\n",
            "En slide1 pero no en slide2. Num.tags: 6\n",
            "{'tpvh8', 't6p61', 'tlhlt', 'tlvcq', 'tkw11', 'tns01'}\n",
            "En slide2 pero no en slide1. Num.tags: 12\n",
            "{'tn82r', 't34b6', 'thnl1', 't6v2q', 'tjc5z', 'thjdf', 'tw5pm', 't3pxt', 'tzcqs', 't1thj', 'tpnxv', 'tb88j'}\n",
            "(3, 42, {'t5x7p', 'twzsw', 't7fgq'})\n"
          ],
          "name": "stdout"
        }
      ]
    },
    {
      "metadata": {
        "id": "rPK1K0ExSwjW",
        "colab_type": "code",
        "outputId": "7c9e0109-2da1-4510-ce15-eeed05b17c29",
        "colab": {
          "base_uri": "https://localhost:8080/",
          "height": 1088
        }
      },
      "cell_type": "code",
      "source": [
        "# preliminary methode not optimized, not using dtags dictionary.\n",
        "listed = 0\n",
        "counted = 0\n",
        "limit = 50\n",
        "for seed in range(nphotos):\n",
        "  for foto in photos:\n",
        "    counted += 1\n",
        "    if foto[0] == seed:\n",
        "      print('Seed:', seed,'\\tphoto:', foto[0], 'Seed photo. Not computed')\n",
        "    else:\n",
        "      puntos, pcent, itsc = scoring(photos, seed, foto[0])\n",
        "      if puntos > 0:\n",
        "        print('Seed:', seed,'\\tphoto:', foto[0], scoring(photos, seed, foto[0]))\n",
        "        listed += 1\n",
        "    if listed >= limit:\n",
        "      break\n",
        "  if listed >= limit:\n",
        "    print()\n",
        "    print('Comparaciones realizadas:', counted)\n",
        "    break"
      ],
      "execution_count": 26,
      "outputs": [
        {
          "output_type": "stream",
          "text": [
            "Seed: 0 \tphoto: 0 Seed photo. Not computed\n",
            "Seed: 0 \tphoto: 6674 (3, 21, {'tv1h01', 't2hzq', 'tv7zt'})\n",
            "Seed: 0 \tphoto: 13708 (3, 20, {'tj4f', 'tzdr4', 't99tm'})\n",
            "Seed: 0 \tphoto: 14519 (3, 25, {'t5xl1', 'tkp5g', 'tr5fv'})\n",
            "Seed: 0 \tphoto: 18143 (3, 33, {'th8wv', 't5nnd', 'tcz3g'})\n",
            "Seed: 0 \tphoto: 74267 (3, 25, {'t111w', 'twzgl', 't6zkl'})\n",
            "Seed: 0 \tphoto: 78134 (3, 25, {'tsmcf', 'tbj57', 'tb5p6'})\n",
            "Seed: 1 \tphoto: 1 Seed photo. Not computed\n",
            "Seed: 1 \tphoto: 56714 (3, 42, {'t5x7p', 'twzsw', 't7fgq'})\n",
            "Seed: 1 \tphoto: 74299 (3, 37, {'tlvcq', 't6p61', 'tlhlt'})\n",
            "Seed: 2 \tphoto: 2 Seed photo. Not computed\n",
            "Seed: 2 \tphoto: 12280 (3, 33, {'tlql4', 'tcdv8', 't4pp6'})\n",
            "Seed: 2 \tphoto: 67077 (3, 21, {'tjj0r', 'tvwcg', 't5pgg'})\n",
            "Seed: 2 \tphoto: 69228 (3, 27, {'tk3r', 'tn4hp', 'tbb6j'})\n",
            "Seed: 2 \tphoto: 72188 (3, 33, {'t982j', 'tf36x', 'tl3l6'})\n",
            "Seed: 3 \tphoto: 3 Seed photo. Not computed\n",
            "Seed: 3 \tphoto: 12153 (3, 23, {'t0h5n', 'tbns8', 'tb25z'})\n",
            "Seed: 3 \tphoto: 18628 (3, 25, {'t3xvq', 'tvr51', 'tbzhk'})\n",
            "Seed: 3 \tphoto: 40496 (3, 21, {'tc9r2', 'tfmns', 't4rt4'})\n",
            "Seed: 3 \tphoto: 79030 (3, 27, {'tx895', 't48r2', 'tqmvs'})\n",
            "Seed: 4 \tphoto: 4 Seed photo. Not computed\n",
            "Seed: 4 \tphoto: 4953 (3, 30, {'t8z5v', 'tjbc', 'td6tp'})\n",
            "Seed: 4 \tphoto: 25779 (3, 23, {'thh6z', 'txk58', 't6qt9'})\n",
            "Seed: 4 \tphoto: 53647 (3, 23, {'t46vk', 't7s67', 't9h9q'})\n",
            "Seed: 4 \tphoto: 58095 (3, 27, {'tfzzf', 'tk99r', 't98wh'})\n",
            "Seed: 5 \tphoto: 5 Seed photo. Not computed\n",
            "Seed: 5 \tphoto: 2097 (3, 25, {'t6tpl', 't1vc6', 't4b1g'})\n",
            "Seed: 5 \tphoto: 9214 (3, 30, {'tsl5q', 'tj7h1', 'tcsv'})\n",
            "Seed: 5 \tphoto: 10955 (3, 25, {'twx1v', 'tjtw1', 'tz9wd'})\n",
            "Seed: 5 \tphoto: 37069 (3, 27, {'tpm2s', 'twc3z', 'ttj8k'})\n",
            "Seed: 5 \tphoto: 40949 (3, 25, {'txsgc', 't2d6w', 'tm8ls'})\n",
            "Seed: 5 \tphoto: 51395 (3, 23, {'twpq5', 'ttts2', 'tmb7b'})\n",
            "Seed: 6 \tphoto: 6 Seed photo. Not computed\n",
            "Seed: 6 \tphoto: 5507 (3, 25, {'tjvr7', 't5tgw', 't9r31'})\n",
            "Seed: 6 \tphoto: 7939 (3, 25, {'tv92r', 't8qrk', 't3pcz'})\n",
            "Seed: 6 \tphoto: 60904 (3, 33, {'t3pkj', 'tfhkb', 'tfbdq'})\n",
            "Seed: 6 \tphoto: 66353 (3, 17, {'tvxzh', 't5z3n', 'tzg77'})\n",
            "Seed: 6 \tphoto: 68639 (3, 30, {'tjhx01', 't1xd6', 'tqfqb'})\n",
            "Seed: 7 \tphoto: 7 Seed photo. Not computed\n",
            "Seed: 7 \tphoto: 35239 (3, 17, {'tst79', 'tsh16', 't9b4t'})\n",
            "Seed: 7 \tphoto: 47524 (3, 27, {'t840v', 't78pq', 'thph3'})\n",
            "Seed: 7 \tphoto: 48556 (3, 21, {'twqk7', 'twq5t', 't8tn9'})\n",
            "Seed: 7 \tphoto: 50131 (3, 20, {'txgq6', 'tlq8x', 'tjntw'})\n",
            "Seed: 7 \tphoto: 65014 (3, 21, {'tb0p4', 'tq4vc', 'tjcx8'})\n",
            "Seed: 7 \tphoto: 65122 (3, 21, {'t9wxx', 't6p0t', 'ts4j9'})\n",
            "Seed: 8 \tphoto: 8 Seed photo. Not computed\n",
            "Seed: 8 \tphoto: 17979 (3, 33, {'t1m7', 'tw5301', 'tk6s1'})\n",
            "Seed: 8 \tphoto: 24149 (3, 27, {'t8xm4', 'tdxcr', 'tdw2m'})\n",
            "Seed: 8 \tphoto: 43003 (3, 27, {'tqjn2', 't2s8', 't9rrs'})\n",
            "Seed: 8 \tphoto: 75098 (3, 27, {'txk75', 't3h3z', 'tsw5k'})\n",
            "Seed: 8 \tphoto: 76911 (3, 25, {'tv896', 'txz0j', 'tr5j9'})\n",
            "Seed: 9 \tphoto: 9 Seed photo. Not computed\n",
            "Seed: 9 \tphoto: 3325 (3, 21, {'tffhl', 'tqxcb', 't2sk4'})\n",
            "Seed: 9 \tphoto: 14540 (3, 30, {'t33w7', 'tc7bx', 'trrfr'})\n",
            "Seed: 9 \tphoto: 16215 (3, 25, {'t0fxf', 't6gvb', 'tswgp'})\n",
            "Seed: 9 \tphoto: 36968 (3, 23, {'tfzz4', 't4lqg', 'tbcwd'})\n",
            "Seed: 9 \tphoto: 45012 (3, 33, {'t8s5r', 'tl06n', 'txqlc'})\n",
            "Seed: 10 \tphoto: 10 Seed photo. Not computed\n",
            "Seed: 10 \tphoto: 8324 (3, 18, {'tzzh3', 'tdtv4', 'trq6h'})\n",
            "Seed: 10 \tphoto: 15084 (3, 18, {'tjlvc', 'tdl2r', 'trh06'})\n",
            "Seed: 10 \tphoto: 16361 (3, 18, {'twwnw', 'tslx', 'ttc3'})\n",
            "\n",
            "Comparaciones realizadas: 816362\n"
          ],
          "name": "stdout"
        }
      ]
    },
    {
      "metadata": {
        "id": "tAWHD1sGS1GF",
        "colab_type": "text"
      },
      "cell_type": "markdown",
      "source": [
        "### Remove unlinkable tags on dictionary"
      ]
    },
    {
      "metadata": {
        "id": "_DURId8WIUPi",
        "colab_type": "code",
        "outputId": "785385c2-1239-4c93-82e3-ff5d98965be6",
        "colab": {
          "base_uri": "https://localhost:8080/",
          "height": 221
        }
      },
      "cell_type": "code",
      "source": [
        "# Indexed photos list for each tag where appears\n",
        "photos4tag(dtag_ph,tag_ph,10,1)"
      ],
      "execution_count": 0,
      "outputs": [
        {
          "output_type": "stream",
          "text": [
            "th8wv \t[ 0 ]-> [0, 18143] \t\n",
            "tv1h01 \t[ 1 ]-> [0, 6674] \t\n",
            "tsmcf \t[ 2 ]-> [0, 78134] \t\n",
            "t1c76 \t[ 3 ]-> [0] \t\n",
            "t5xl1 \t[ 4 ]-> [0, 14519] \t\n",
            "t111w \t[ 5 ]-> [0, 74267] \t\n",
            "tb5p6 \t[ 6 ]-> [0, 78134] \t\n",
            "tj4f \t[ 7 ]-> [0, 13708] \t\n",
            "t6zkl \t[ 8 ]-> [0, 74267] \t\n",
            "tf5wv \t[ 9 ]-> [0] \t\n",
            "\n",
            "Tags pendientes de listar: 839990\n"
          ],
          "name": "stdout"
        }
      ]
    },
    {
      "metadata": {
        "id": "O8OOl-9Hvrwy",
        "colab_type": "code",
        "outputId": "e4c07dc4-6a3d-472b-fc28-a5c5204e7f04",
        "colab": {
          "base_uri": "https://localhost:8080/",
          "height": 102
        }
      },
      "cell_type": "code",
      "source": [
        "# List number of ocurrences for each tag on all photos\n",
        "listupla(dtags,50,15)"
      ],
      "execution_count": 0,
      "outputs": [
        {
          "output_type": "stream",
          "text": [
            "th8wv : 2 \ttv1h01 : 2 \ttsmcf : 2 \tt1c76 : 1 \tt5xl1 : 2 \tt111w : 2 \ttb5p6 : 2 \ttj4f : 2 \tt6zkl : 2 \ttf5wv : 1 \tt2hzq : 2 \tt99tm : 2 \ttbj57 : 2 \ttv7zt : 2 \ttkp5g : 2 \t\n",
            "tr5fv : 2 \ttc2j5 : 1 \tt5nnd : 2 \ttzdr4 : 2 \ttcz3g : 2 \ttwzgl : 2 \tt7fgq : 2 \ttkw11 : 1 \ttlvcq : 2 \ttns01 : 1 \tt5x7p : 2 \tt6p61 : 2 \ttlhlt : 2 \ttwzsw : 2 \ttpvh8 : 1 \t\n",
            "tjj0r : 2 \tt5pgg : 2 \tt62gs : 1 \ttk3r : 2 \tt0r1w : 1 \ttlql4 : 2 \ttbb6j : 2 \tt982j : 2 \tt4pp6 : 2 \ttcdv8 : 2 \ttvwcg : 2 \ttf36x : 2 \ttl3l6 : 2 \ttn4hp : 2 \tt3rgg : 1 \t\n",
            "tbzhk : 2 \ttc9r2 : 2 \ttbns8 : 2 \ttx895 : 2 \ttfv2 : 1 \t\n",
            "Tags pendientes de listar: 839950\n"
          ],
          "name": "stdout"
        }
      ]
    },
    {
      "metadata": {
        "id": "doy2pzhyMEfY",
        "colab_type": "code",
        "outputId": "ba071d3f-7e6b-46f6-bb6f-40cbf2ca72f8",
        "colab": {
          "base_uri": "https://localhost:8080/",
          "height": 34
        }
      },
      "cell_type": "code",
      "source": [
        "# Purge tags to nctags set and delete to associated dictionaries\n",
        "dtags, nctags = purgedict(dtags, nctags, False)"
      ],
      "execution_count": 0,
      "outputs": [
        {
          "output_type": "stream",
          "text": [
            "N. fotos: 80000 Fotos Verticales: 0 Fotos Horiz: 80000 Tags no combinables horizontales: 240000 Apariciones Tags: 1440000 Tags diferentes: 600000 Media Tags por imagen: 2.4\n"
          ],
          "name": "stdout"
        }
      ]
    },
    {
      "metadata": {
        "id": "i2x5837nMZ7h",
        "colab_type": "code",
        "outputId": "e5e6850c-502a-4c11-dd50-22dab42986e9",
        "colab": {
          "base_uri": "https://localhost:8080/",
          "height": 85
        }
      },
      "cell_type": "code",
      "source": [
        "# List set of tuples as number of ocurrences for each tag in photos list after purging\n",
        "listupla(dtags,50,17)"
      ],
      "execution_count": 0,
      "outputs": [
        {
          "output_type": "stream",
          "text": [
            "t99tm : 2 \ttb5p6 : 2 \ttbj57 : 2 \ttj4f : 2 \ttkp5g : 2 \tt2hzq : 2 \tt111w : 2 \tt5xl1 : 2 \ttv1h01 : 2 \ttr5fv : 2 \ttcz3g : 2 \tt5nnd : 2 \ttzdr4 : 2 \tt6zkl : 2 \tth8wv : 2 \ttwzgl : 2 \ttv7zt : 2 \t\n",
            "tsmcf : 2 \tt5x7p : 2 \ttlhlt : 2 \ttlvcq : 2 \tt7fgq : 2 \tt6p61 : 2 \ttwzsw : 2 \tt4pp6 : 2 \ttbb6j : 2 \ttf36x : 2 \ttjj0r : 2 \ttl3l6 : 2 \ttn4hp : 2 \ttvwcg : 2 \tt982j : 2 \ttcdv8 : 2 \tt5pgg : 2 \t\n",
            "tlql4 : 2 \ttk3r : 2 \ttbns8 : 2 \ttx895 : 2 \tt3xvq : 2 \ttfmns : 2 \ttc9r2 : 2 \tt4rt4 : 2 \tt0h5n : 2 \ttb25z : 2 \ttvr51 : 2 \ttqmvs : 2 \tt48r2 : 2 \ttbzhk : 2 \tt6qt9 : 2 \ttk99r : 2 \t\n",
            "Tags pendientes de listar: 599950\n"
          ],
          "name": "stdout"
        }
      ]
    },
    {
      "metadata": {
        "id": "otjYOHNGI7jP",
        "colab_type": "code",
        "outputId": "e83ad7cc-b3aa-4f2e-d935-1f9c4346724a",
        "colab": {
          "base_uri": "https://localhost:8080/",
          "height": 221
        }
      },
      "cell_type": "code",
      "source": [
        "# List photos associated to a tag, after purging not linkable tags.\n",
        "photos4tag(dtag_ph,tag_ph,10,1)"
      ],
      "execution_count": 0,
      "outputs": [
        {
          "output_type": "stream",
          "text": [
            "t99tm \t[ 0 ]-> [0, 13708] \t\n",
            "tb5p6 \t[ 1 ]-> [0, 78134] \t\n",
            "tbj57 \t[ 2 ]-> [0, 78134] \t\n",
            "tj4f \t[ 3 ]-> [0, 13708] \t\n",
            "tkp5g \t[ 5 ]-> [0, 14519] \t\n",
            "t2hzq \t[ 7 ]-> [0, 6674] \t\n",
            "t111w \t[ 9 ]-> [0, 74267] \t\n",
            "t5xl1 \t[ 10 ]-> [0, 14519] \t\n",
            "tv1h01 \t[ 11 ]-> [0, 6674] \t\n",
            "tr5fv \t[ 12 ]-> [0, 14519] \t\n",
            "\n",
            "Tags pendientes de listar: 599990\n"
          ],
          "name": "stdout"
        }
      ]
    },
    {
      "metadata": {
        "id": "9GgIDppHRM7W",
        "colab_type": "code",
        "outputId": "a0abf14a-4648-4106-ffbe-846e54b6f1e9",
        "colab": {
          "base_uri": "https://localhost:8080/",
          "height": 136
        }
      },
      "cell_type": "code",
      "source": [
        "# List set of not linkable tags\n",
        "listags(nctags,100,18)"
      ],
      "execution_count": 0,
      "outputs": [
        {
          "output_type": "stream",
          "text": [
            "tgpqg \ttdmfp \tt6lnv \ttnm0f \ttj66k \ttpj9g \tt0nqq \tt0333 \ttgw1z \ttw53w \ttgs6s \ttlrlr \ttvfsm \ttkqs4 \ttswhv \ttd5xb \tt216t \ttlccw \t\n",
            "tmfn \ttqs0s \ttkcp7 \ttc2c3 \ttn5k6 \tt3f9r \ttnmlt \ttthfn \ttt3v01 \ttv7df \ttqhs1 \ttm2bm \ttbw57 \ttwqtz \tttjqc \ttkf \tt5r7g \ttqpfb \t\n",
            "tr4t4 \ttsf5w \ttjzkv \tt55cd \ttnwpd \tt11ss \tt0s9s \ttbgm3 \ttm64w \tt55111 \ttm66w \tt9r87 \ttmqw9 \ttz3wb \ttvbnv \ttp2qj \tt4k7v \ttfvpb \t\n",
            "t0w0x \tt8vzp \ttwt51 \tt6617 \ttdkch \ttkcp01 \tt6q2f \tt5wm7 \ttfwhv \tt2q9q \tt727r \tt8cvk \ttbghd \tt5j8f \ttn79t \tt3p54 \ttrmv8 \tt31k2 \t\n",
            "t69gp \ttc8fp \tt1t79 \tttl9s \ttl932 \ttjb98 \ttnl28 \ttk92x \ttmgm7 \ttg7cc \tt6r801 \tt6t6x \tthzkf \ttg60x \tts8tl \ttbnq3 \ttsrv01 \tthx63 \t\n",
            "t0q5m \ttx0cb \ttsdpl \ttt8ww \tt65bw \ttp3wc \ttdgww \tt5t6v \ttgd211 \ttgb3h \t\n",
            "Tags pendientes de listar: 239900\n"
          ],
          "name": "stdout"
        }
      ]
    },
    {
      "metadata": {
        "id": "I-VBaduQaVF0",
        "colab_type": "text"
      },
      "cell_type": "markdown",
      "source": [
        "### ### Remove unlinkable tags on video lists"
      ]
    },
    {
      "metadata": {
        "id": "_sH9IHEdV3Oj",
        "colab_type": "code",
        "outputId": "7299537d-dad4-47a1-af3a-429328090ad4",
        "colab": {
          "base_uri": "https://localhost:8080/",
          "height": 119
        }
      },
      "cell_type": "code",
      "source": [
        "lista(photos,5)"
      ],
      "execution_count": 0,
      "outputs": [
        {
          "output_type": "stream",
          "text": [
            "[0, 'H', 21, {'t99tm', 'tb5p6', 'tbj57', 'tj4f', 'tf5wv', 'tkp5g', 'tc2j5', 't2hzq', 't1c76', 't111w', 't5xl1', 'tv1h01', 'tr5fv', 'tcz3g', 't5nnd', 'tzdr4', 't6zkl', 'th8wv', 'twzgl', 'tv7zt', 'tsmcf'}]\n",
            "[1, 'H', 9, {'t5x7p', 'tlhlt', 'tlvcq', 't7fgq', 'tpvh8', 'tns01', 't6p61', 'twzsw', 'tkw11'}]\n",
            "[2, 'H', 15, {'t4pp6', 'tbb6j', 't3rgg', 'tf36x', 't62gs', 'tjj0r', 'tl3l6', 'tn4hp', 'tvwcg', 't982j', 't0r1w', 'tcdv8', 't5pgg', 'tlql4', 'tk3r'}]\n",
            "[3, 'H', 15, {'tbns8', 'tx895', 't52xx', 't919l', 't3xvq', 'tfmns', 'tc9r2', 't4rt4', 't0h5n', 'tb25z', 'tvr51', 'tfv2', 'tqmvs', 't48r2', 'tbzhk'}]\n",
            "[4, 'H', 15, {'t6qt9', 'tk99r', 'thh6z', 't5rbj', 'thzc5', 'txk58', 'tfzzf', 'td6tp', 't98wh', 't46vk', 't7s67', 't8z5v', 'tjbc', 't9h9q', 't7w5h'}]\n",
            "79995 Elements pending to list\n"
          ],
          "name": "stdout"
        }
      ]
    },
    {
      "metadata": {
        "id": "Da8bmY9kgP5o",
        "colab_type": "code",
        "outputId": "44d86739-2e51-4f4d-8cba-f055e3a4e733",
        "colab": {
          "base_uri": "https://localhost:8080/",
          "height": 34
        }
      },
      "cell_type": "code",
      "source": [
        "photos, nctags, ttags = purgetags(photos,nctags,False)"
      ],
      "execution_count": 0,
      "outputs": [
        {
          "output_type": "stream",
          "text": [
            "N. fotos: 80000 Apariciones Tags: 1200000 Tags diferentes: 600000 Media Tags por imagen: 2.0\n"
          ],
          "name": "stdout"
        }
      ]
    },
    {
      "metadata": {
        "id": "-ZZvDRMUV_PT",
        "colab_type": "code",
        "outputId": "056dfb85-59b8-42e0-b3b1-fdfcef692ab9",
        "colab": {
          "base_uri": "https://localhost:8080/",
          "height": 119
        }
      },
      "cell_type": "code",
      "source": [
        "lista(photos,5)"
      ],
      "execution_count": 0,
      "outputs": [
        {
          "output_type": "stream",
          "text": [
            "[0, 'H', 18, {'tcz3g', 't5nnd', 't2hzq', 'tzdr4', 't99tm', 'tb5p6', 'tbj57', 't6zkl', 'tj4f', 'tkp5g', 't111w', 'th8wv', 'twzgl', 't5xl1', 'tv1h01', 'tr5fv', 'tsmcf', 'tv7zt'}]\n",
            "[1, 'H', 6, {'t5x7p', 't7fgq', 'tlhlt', 't6p61', 'twzsw', 'tlvcq'}]\n",
            "[2, 'H', 12, {'t4pp6', 'tbb6j', 'tf36x', 'tjj0r', 'tl3l6', 'tn4hp', 'tvwcg', 't982j', 'tcdv8', 't5pgg', 'tlql4', 'tk3r'}]\n",
            "[3, 'H', 12, {'tbns8', 'tx895', 't3xvq', 'tc9r2', 'tfmns', 't4rt4', 't0h5n', 'tb25z', 'tvr51', 'tqmvs', 't48r2', 'tbzhk'}]\n",
            "[4, 'H', 12, {'tk99r', 'thh6z', 'txk58', 'tfzzf', 'td6tp', 't98wh', 't46vk', 't8z5v', 't7s67', 't9h9q', 'tjbc', 't6qt9'}]\n",
            "79995 Elements pending to list\n"
          ],
          "name": "stdout"
        }
      ]
    },
    {
      "metadata": {
        "id": "lyllphC6vsQX",
        "colab_type": "code",
        "colab": {}
      },
      "cell_type": "code",
      "source": [
        "# Remove not linkable tags after Data Structures were processed\n",
        "nctags = set()"
      ],
      "execution_count": 0,
      "outputs": []
    },
    {
      "metadata": {
        "id": "rcoj-zCQTTrd",
        "colab_type": "text"
      },
      "cell_type": "markdown",
      "source": [
        "### Other"
      ]
    },
    {
      "metadata": {
        "id": "9BlwvTpKo9nv",
        "colab_type": "code",
        "outputId": "0ac0601e-33ef-4720-abdf-6212d14c1c26",
        "colab": {
          "base_uri": "https://localhost:8080/",
          "height": 187
        }
      },
      "cell_type": "code",
      "source": [
        "photos4tag(dtag_ph,tag_ph,8,1)"
      ],
      "execution_count": 0,
      "outputs": [
        {
          "output_type": "stream",
          "text": [
            "t99tm \t[ 0 ]-> [0, 13708] \t\n",
            "tb5p6 \t[ 1 ]-> [0, 78134] \t\n",
            "tbj57 \t[ 2 ]-> [0, 78134] \t\n",
            "tj4f \t[ 3 ]-> [0, 13708] \t\n",
            "tkp5g \t[ 5 ]-> [0, 14519] \t\n",
            "t2hzq \t[ 7 ]-> [0, 6674] \t\n",
            "t111w \t[ 9 ]-> [0, 74267] \t\n",
            "t5xl1 \t[ 10 ]-> [0, 14519] \t\n",
            "\n",
            "Tags pendientes de listar: 599992\n"
          ],
          "name": "stdout"
        }
      ]
    },
    {
      "metadata": {
        "id": "2rf3WvdKRTAj",
        "colab_type": "code",
        "outputId": "469587f7-f670-4ec2-da05-8a9be14948ed",
        "colab": {
          "base_uri": "https://localhost:8080/",
          "height": 34
        }
      },
      "cell_type": "code",
      "source": [
        "link2photos(photos,0, dtag_ph, tag_ph),"
      ],
      "execution_count": 0,
      "outputs": [
        {
          "output_type": "execute_result",
          "data": {
            "text/plain": [
              "({6674: 3, 13708: 3, 14519: 3, 18143: 3, 74267: 3, 78134: 3},)"
            ]
          },
          "metadata": {
            "tags": []
          },
          "execution_count": 43
        }
      ]
    },
    {
      "metadata": {
        "id": "pJ2IzGdHVWFL",
        "colab_type": "code",
        "outputId": "37950cbd-7689-4652-f9c6-b4af21f70214",
        "colab": {
          "base_uri": "https://localhost:8080/",
          "height": 34
        }
      },
      "cell_type": "code",
      "source": [
        "link2photos(photos,6674, dtag_ph, tag_ph)"
      ],
      "execution_count": 0,
      "outputs": [
        {
          "output_type": "execute_result",
          "data": {
            "text/plain": [
              "{0: 3, 5162: 3, 21743: 3, 33893: 3, 35531: 3, 51243: 3, 67179: 3}"
            ]
          },
          "metadata": {
            "tags": []
          },
          "execution_count": 44
        }
      ]
    },
    {
      "metadata": {
        "id": "z1KXcnQGfN1Y",
        "colab_type": "code",
        "outputId": "e82a9b3b-3e08-44a3-d5b7-b67b03661435",
        "colab": {
          "base_uri": "https://localhost:8080/",
          "height": 34
        }
      },
      "cell_type": "code",
      "source": [
        "link2photos(photos,13708, dtag_ph, tag_ph)"
      ],
      "execution_count": 0,
      "outputs": [
        {
          "output_type": "execute_result",
          "data": {
            "text/plain": [
              "{0: 3, 16094: 3, 18896: 3, 39242: 3, 44187: 3, 48305: 3, 48619: 3, 74606: 3}"
            ]
          },
          "metadata": {
            "tags": []
          },
          "execution_count": 45
        }
      ]
    },
    {
      "metadata": {
        "id": "OUFeDY8cfffA",
        "colab_type": "code",
        "outputId": "b0656d71-2ca6-4110-cf72-1accbfcfbbda",
        "colab": {
          "base_uri": "https://localhost:8080/",
          "height": 34
        }
      },
      "cell_type": "code",
      "source": [
        "listupla(link2photos(photos,14519, dtag_ph, tag_ph))"
      ],
      "execution_count": 0,
      "outputs": [
        {
          "output_type": "stream",
          "text": [
            "9612 : 3 \t32968 : 3 \t2572 : 3 \t7006 : 3 \t0 : 3 \t"
          ],
          "name": "stdout"
        }
      ]
    },
    {
      "metadata": {
        "id": "CL2Rqhwuffbe",
        "colab_type": "code",
        "outputId": "46e134d5-523d-4b14-b238-efe410c82e23",
        "colab": {
          "base_uri": "https://localhost:8080/",
          "height": 34
        }
      },
      "cell_type": "code",
      "source": [
        "link2photos(photos,18143, dtag_ph, tag_ph)"
      ],
      "execution_count": 0,
      "outputs": [
        {
          "output_type": "execute_result",
          "data": {
            "text/plain": [
              "{0: 3, 9181: 3}"
            ]
          },
          "metadata": {
            "tags": []
          },
          "execution_count": 47
        }
      ]
    },
    {
      "metadata": {
        "id": "kY7vLCC_ffXx",
        "colab_type": "code",
        "outputId": "13f79912-f206-4cfd-cc41-d113fb989ce2",
        "colab": {
          "base_uri": "https://localhost:8080/",
          "height": 34
        }
      },
      "cell_type": "code",
      "source": [
        "link2photos(photos,74267, dtag_ph, tag_ph)"
      ],
      "execution_count": 0,
      "outputs": [
        {
          "output_type": "execute_result",
          "data": {
            "text/plain": [
              "{0: 3, 8429: 3, 59491: 3, 69340: 3, 73477: 3}"
            ]
          },
          "metadata": {
            "tags": []
          },
          "execution_count": 48
        }
      ]
    },
    {
      "metadata": {
        "id": "k0dA6ixBVBCW",
        "colab_type": "code",
        "outputId": "994b88e6-f8c1-42f5-8f29-ff21ed39f699",
        "colab": {
          "base_uri": "https://localhost:8080/",
          "height": 34
        }
      },
      "cell_type": "code",
      "source": [
        "link2photos(photos,78134, dtag_ph, tag_ph)"
      ],
      "execution_count": 0,
      "outputs": [
        {
          "output_type": "execute_result",
          "data": {
            "text/plain": [
              "{0: 3, 30469: 3, 68062: 3, 73744: 3, 75270: 3}"
            ]
          },
          "metadata": {
            "tags": []
          },
          "execution_count": 49
        }
      ]
    },
    {
      "metadata": {
        "id": "GDQoF-9pjzwa",
        "colab_type": "code",
        "colab": {}
      },
      "cell_type": "code",
      "source": [
        "idphotos = set()\n",
        "for i in range(len(photos)):\n",
        "  idphotos.add(i)"
      ],
      "execution_count": 0,
      "outputs": []
    },
    {
      "metadata": {
        "id": "PvDyVy1Yl3Zg",
        "colab_type": "code",
        "outputId": "0901d256-988a-46e4-d165-838e8e23a367",
        "colab": {
          "base_uri": "https://localhost:8080/",
          "height": 136
        }
      },
      "cell_type": "code",
      "source": [
        "listags(idphotos,200,38)"
      ],
      "execution_count": 0,
      "outputs": [
        {
          "output_type": "stream",
          "text": [
            "0 \t1 \t2 \t3 \t4 \t5 \t6 \t7 \t8 \t9 \t10 \t11 \t12 \t13 \t14 \t15 \t16 \t17 \t18 \t19 \t20 \t21 \t22 \t23 \t24 \t25 \t26 \t27 \t28 \t29 \t30 \t31 \t32 \t33 \t34 \t35 \t36 \t37 \t\n",
            "38 \t39 \t40 \t41 \t42 \t43 \t44 \t45 \t46 \t47 \t48 \t49 \t50 \t51 \t52 \t53 \t54 \t55 \t56 \t57 \t58 \t59 \t60 \t61 \t62 \t63 \t64 \t65 \t66 \t67 \t68 \t69 \t70 \t71 \t72 \t73 \t74 \t75 \t\n",
            "76 \t77 \t78 \t79 \t80 \t81 \t82 \t83 \t84 \t85 \t86 \t87 \t88 \t89 \t90 \t91 \t92 \t93 \t94 \t95 \t96 \t97 \t98 \t99 \t100 \t101 \t102 \t103 \t104 \t105 \t106 \t107 \t108 \t109 \t110 \t111 \t112 \t113 \t\n",
            "114 \t115 \t116 \t117 \t118 \t119 \t120 \t121 \t122 \t123 \t124 \t125 \t126 \t127 \t128 \t129 \t130 \t131 \t132 \t133 \t134 \t135 \t136 \t137 \t138 \t139 \t140 \t141 \t142 \t143 \t144 \t145 \t146 \t147 \t148 \t149 \t150 \t151 \t\n",
            "152 \t153 \t154 \t155 \t156 \t157 \t158 \t159 \t160 \t161 \t162 \t163 \t164 \t165 \t166 \t167 \t168 \t169 \t170 \t171 \t172 \t173 \t174 \t175 \t176 \t177 \t178 \t179 \t180 \t181 \t182 \t183 \t184 \t185 \t186 \t187 \t188 \t189 \t\n",
            "190 \t191 \t192 \t193 \t194 \t195 \t196 \t197 \t198 \t199 \t\n",
            "Tags pendientes de listar: 79800\n"
          ],
          "name": "stdout"
        }
      ]
    },
    {
      "metadata": {
        "id": "7NXKB5nTmzXk",
        "colab_type": "code",
        "outputId": "c54832d2-a9ed-4962-a23f-8c553af19838",
        "colab": {
          "base_uri": "https://localhost:8080/",
          "height": 34
        }
      },
      "cell_type": "code",
      "source": [
        "slideshow =[]\n",
        "idphoto = 41000\n",
        "idphotos.remove(41000)\n",
        "slideshow.append(idphoto)\n",
        "slideshow"
      ],
      "execution_count": 0,
      "outputs": [
        {
          "output_type": "execute_result",
          "data": {
            "text/plain": [
              "[41000]"
            ]
          },
          "metadata": {
            "tags": []
          },
          "execution_count": 34
        }
      ]
    },
    {
      "metadata": {
        "id": "vDPL5MNFnSkl",
        "colab_type": "code",
        "colab": {}
      },
      "cell_type": "code",
      "source": [
        "#linkphoto = link2photos(photos,idphoto, dtag_ph, tag_ph)\n",
        "#listupla(linkphoto)"
      ],
      "execution_count": 0,
      "outputs": []
    },
    {
      "metadata": {
        "id": "GSzQosIOnE-h",
        "colab_type": "code",
        "colab": {}
      },
      "cell_type": "code",
      "source": [
        "while True:\n",
        "  linkphoto = link2photos(photos,idphoto, dtag_ph, tag_ph)\n",
        "#  listupla(linkphoto)\n",
        "  for i in linkphoto:\n",
        "    #print(i,'\\t',end='')\n",
        "    j = len(linkphoto)\n",
        "    if i in idphotos:\n",
        "      # print('Nueva:',i)\n",
        "      slideshow.append(i)\n",
        "      idphotos.remove(i)\n",
        "      idphoto = i\n",
        "      break\n",
        "    else:\n",
        "      #print('Coincidente')\n",
        "      j -= 1\n",
        "      continue\n",
        "    if j == 0:\n",
        "      #print('Sin combinaciones')\n",
        "      break\n",
        "  if len(idphotos) == 0:\n",
        "    break"
      ],
      "execution_count": 0,
      "outputs": []
    },
    {
      "metadata": {
        "id": "VQh2k82JwKWW",
        "colab_type": "code",
        "colab": {}
      },
      "cell_type": "code",
      "source": [
        "writedata('lovely.out',slideshow)"
      ],
      "execution_count": 0,
      "outputs": []
    },
    {
      "metadata": {
        "id": "hh5Vnejiq99B",
        "colab_type": "code",
        "outputId": "2c99a3c0-b71a-43a6-c137-a2aba4eb1a69",
        "colab": {
          "base_uri": "https://localhost:8080/",
          "height": 165
        }
      },
      "cell_type": "code",
      "source": [
        "len(slideshow)"
      ],
      "execution_count": 0,
      "outputs": [
        {
          "output_type": "error",
          "ename": "NameError",
          "evalue": "ignored",
          "traceback": [
            "\u001b[0;31m---------------------------------------------------------------------------\u001b[0m",
            "\u001b[0;31mNameError\u001b[0m                                 Traceback (most recent call last)",
            "\u001b[0;32m<ipython-input-3-32a45e182288>\u001b[0m in \u001b[0;36m<module>\u001b[0;34m()\u001b[0m\n\u001b[0;32m----> 1\u001b[0;31m \u001b[0mlen\u001b[0m\u001b[0;34m(\u001b[0m\u001b[0mslideshow\u001b[0m\u001b[0;34m)\u001b[0m\u001b[0;34m\u001b[0m\u001b[0;34m\u001b[0m\u001b[0m\n\u001b[0m",
            "\u001b[0;31mNameError\u001b[0m: name 'slideshow' is not defined"
          ]
        }
      ]
    },
    {
      "metadata": {
        "id": "k5EYN_KQxMyJ",
        "colab_type": "code",
        "colab": {}
      },
      "cell_type": "code",
      "source": [
        "ls"
      ],
      "execution_count": 0,
      "outputs": []
    },
    {
      "metadata": {
        "id": "rrnsa2MrxXD0",
        "colab_type": "code",
        "colab": {}
      },
      "cell_type": "code",
      "source": [
        ""
      ],
      "execution_count": 0,
      "outputs": []
    },
    {
      "metadata": {
        "id": "qTthbcOqxawD",
        "colab_type": "code",
        "colab": {}
      },
      "cell_type": "code",
      "source": [
        "# purgephotos(photos, nctags, 6,False)"
      ],
      "execution_count": 0,
      "outputs": []
    },
    {
      "metadata": {
        "id": "uCOdwRowT2Rz",
        "colab_type": "code",
        "colab": {}
      },
      "cell_type": "code",
      "source": [
        "# link(photos,False)"
      ],
      "execution_count": 0,
      "outputs": []
    }
  ]
}