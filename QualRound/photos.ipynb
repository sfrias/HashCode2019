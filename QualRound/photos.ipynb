{
  "nbformat": 4,
  "nbformat_minor": 0,
  "metadata": {
    "colab": {
      "name": "photos",
      "version": "0.3.2",
      "provenance": [],
      "collapsed_sections": [],
      "include_colab_link": true
    },
    "kernelspec": {
      "name": "python3",
      "display_name": "Python 3"
    },
    "accelerator": "GPU"
  },
  "cells": [
    {
      "cell_type": "markdown",
      "metadata": {
        "id": "view-in-github",
        "colab_type": "text"
      },
      "source": [
        "<a href=\"https://colab.research.google.com/github/sfrias/HashCode2019/blob/master/QualRound/photos.ipynb\" target=\"_parent\"><img src=\"https://colab.research.google.com/assets/colab-badge.svg\" alt=\"Open In Colab\"/></a>"
      ]
    },
    {
      "metadata": {
        "id": "yllCUY6PVVEU",
        "colab_type": "code",
        "colab": {}
      },
      "cell_type": "code",
      "source": [
        "# Slideshow with vertical & Horizontal photos. Scoring is calculated with linked tags.\n",
        "# If photos were vertical, two must be combined in one slide. Tags were union of both photos tags\n",
        "# Linked slides match scoring por slideshow.\n",
        "# linkable tags with only one appearance qualify photos:\n",
        "#  ---Horizontal photo for only use with ends of slideshows.\n",
        "#  ---Vertical photo for only bundle slide with other vertical photo to link two ways.\n",
        "# \n",
        "#         "
      ],
      "execution_count": 0,
      "outputs": []
    },
    {
      "metadata": {
        "id": "9Qb_QWP3OlnR",
        "colab_type": "code",
        "colab": {}
      },
      "cell_type": "code",
      "source": [
        "# Import and package configuration\n",
        "from google.colab import files\n",
        "import matplotlib.pyplot as pyplot\n",
        "from pylab import *\n",
        "import networkx\n",
        "import time"
      ],
      "execution_count": 0,
      "outputs": []
    },
    {
      "metadata": {
        "id": "TUCsM0OzQXlZ",
        "colab_type": "code",
        "colab": {}
      },
      "cell_type": "code",
      "source": [
        " # Download data files from hashcode"
      ],
      "execution_count": 0,
      "outputs": []
    },
    {
      "metadata": {
        "id": "_f7H-zjWQXWw",
        "colab_type": "code",
        "colab": {}
      },
      "cell_type": "code",
      "source": [
        "#!wget -O example.in  \"https://hashcodejudge.withgoogle.com/download/blob/AMIfv97QHzUItY7To0o6id8E6_kxpE1KwTlPR1T9yC2zlbm46xvPPX7tBn1r5ZNxw9XboxHkVKa82BzM-B65uM92pJRONqfeVlHfpzH8xbqKc9FrAWJnd3Yp5SF7naqscxmnBjTa3R-UcB_bqg5hoAa0TZFXIlvi-RL6y_daJXyNUUHeP1kBxQss_1b2nNbNFg7W3Jtgyl2Vs86QrufNrQcUlNh754HyhRrhV3yJBo66HdYQAa2lPISjoUkUTpWqqrGIEItpPu27GNqcp2I69D8j8A-70B30oU-w7zIe9DJ9xnpC70T6T88\""
      ],
      "execution_count": 0,
      "outputs": []
    },
    {
      "metadata": {
        "id": "JHXji8CdR6IW",
        "colab_type": "code",
        "colab": {}
      },
      "cell_type": "code",
      "source": [
        "#!wget -O lovely.in \"https://hashcodejudge.withgoogle.com/download/blob/AMIfv977kmeJsFQfgJNbIlAkviRDMVQcDWj0hLBMvhyg8SuPR52vtGV8uIJsB5nnPDX1Rp14OqzXWF-XXUKp3hhFjdL9PtHAOemuN-rKrd_OgY8pQ6SwgBlBcwPm-5Ova9XoGHSlhT2iLskxOoetjmTNQ8upzsFVkCQqh0gM0P-VX2nWmyxSfIFGmv373rdp9k1Bw9iMdhZXxuMfYIPaWJ8c6izWNYsl9Mpk1a7R0DjShNoDn6Nbfghj_S9bkjGgJS6Clz0b3rMqhHyHAxuIVMnfw1ppwWK_z5TYb4Tsz1vzNERAVPtnuSw\""
      ],
      "execution_count": 0,
      "outputs": []
    },
    {
      "metadata": {
        "id": "SfghR8meSpo3",
        "colab_type": "code",
        "colab": {}
      },
      "cell_type": "code",
      "source": [
        "#!wget -O memoments.in \"https://hashcodejudge.withgoogle.com/download/blob/AMIfv94hwk1wpXjU-qRaszhHtsN4gJSGTkGGNfiItXwzXwhtP6IGrdiZrJ16XvlGFZAKOck8csLoiqwaDiJY6pybACZPZoBnwUMB_WLmQPR7XwH_0AMzk4at1sNgwB_f-9wOwSaqAQE8VtIlLNLDOLeo9sJDLxUVceOopaGh93MDCof4KCYXcdvM9tCSQz1sT89KVmM3Qx0Rz0JkXm4-a3mTk_676DubwwI5siY-ulC87_p1qcfeWdJXmuqMO7E-8THazayXZmS2dXyeTWiOOt27fOC06dSTe9mYfNBISojtloNJc-9Xohc\""
      ],
      "execution_count": 0,
      "outputs": []
    },
    {
      "metadata": {
        "id": "b9zUUte-Spjk",
        "colab_type": "code",
        "colab": {}
      },
      "cell_type": "code",
      "source": [
        "#!wget -O petpict.in \"https://hashcodejudge.withgoogle.com/download/blob/AMIfv95TypJhkPij61j5cS87pz5lYAw7u6lKSxctMX0zPI_8N7y-bRcwGLHe8rx8vAaQ_Dszh0yuWjpdXucxsC52Fq-iuNeI9D8ugsj3djcsDH5Ax3TlTILi27GOCPv_-U7KZsyrbKusR5T8saKHiE2cferYs92JBV_nKxm7gxQkzITercTAfcJaEtenWiTS4rhPkIVARXCQE9LaycZvxV4IqTnDCfYHZhtFVV9_Y_h5riDVjGZZd01tplZ1aibiKASlJZulxOwnJGfmgrYkImN3dCaDYx0eAGlGUoRjAF3GsiGdZ4bI0_V-lKZJlSdoMPxCctPLpgvL\""
      ],
      "execution_count": 0,
      "outputs": []
    },
    {
      "metadata": {
        "id": "h5NlNfBJSpWZ",
        "colab_type": "code",
        "colab": {}
      },
      "cell_type": "code",
      "source": [
        "#!wget -O shinyself.in \"https://hashcodejudge.withgoogle.com/download/blob/AMIfv941-URwsmc_UpuUvypgEBaH_U4oDiPKJZR_gk2oNcK8NXMmcZMwFC8qM3aYM_G1dN5hhRt9ONNq_o1RLVdWXqFn6M_DFVf_UnLD0E7Qg-D989lrG08e5FWD06_crrlGQI48euVgJSyEHO2oo8_3506xyzI2KsMLs_zPfjnnRr6sVKSMeQLNWRD4gut2m1QBzkRWvZuigNbXsCFra7wNPrEdPCI4Mf11W9rWcMrVsvMcrAmjw02vPbqqe8QrVwM08n0tMfAvk01BwBEM8RcwkYtkp8IUP3M0_67Sum1zfuFayeLWSOY\""
      ],
      "execution_count": 0,
      "outputs": []
    },
    {
      "metadata": {
        "id": "R2YzU_BOSpGB",
        "colab_type": "code",
        "colab": {}
      },
      "cell_type": "code",
      "source": [
        "#!ls -l"
      ],
      "execution_count": 0,
      "outputs": []
    },
    {
      "metadata": {
        "id": "YbHktbCsZoNU",
        "colab_type": "code",
        "colab": {}
      },
      "cell_type": "code",
      "source": [
        "#!cat example.in"
      ],
      "execution_count": 0,
      "outputs": []
    },
    {
      "metadata": {
        "id": "687Ar8rWTgTY",
        "colab_type": "code",
        "colab": {}
      },
      "cell_type": "code",
      "source": [
        "# Load data file function. Parameters: nom = name of input file, test = 'Test debug mode False or True'\n",
        "def loaddata(nom,test):\n",
        "  file = open(nom,'r')\n",
        "  line = file.readline()\n",
        "  # Assign number of photos from first line\n",
        "  nphotos = int(line.rstrip())\n",
        "  nv = 0 # number of vertical images\n",
        "  nh = 0 # Number of horizontal images\n",
        "  nctags = set() # Not linkable tags\n",
        "  ncphotos = set() # Not linkable photos\n",
        "  dtags = {} # tags occurrence, dictionary\n",
        "  ttags = 0 # Tag global number occurrences\n",
        "  photos = [] # Data for all photos\n",
        "  photosv= [] # Data for vertical photos\n",
        "  photosh=[] # Data for horizontal photos\n",
        "  # Read all image descriptions\n",
        "  for i in range(nphotos):\n",
        "    lista = []\n",
        "    lista = file.readline().rstrip().split(' ')\n",
        "    lista.insert(0,i) # Insert image number\n",
        "    tags = set(lista[3:]) # Store tags as a set\n",
        "    for t in tags: # Adds tag occurrences to dictionary\n",
        "      if t in dtags:\n",
        "        dtags[t] += 1\n",
        "      else:\n",
        "        dtags[t] = 1\n",
        "    ntags = int(lista[2]) # Convert to int  tag number for photo\n",
        "    lista = lista[:2] # Crop list\n",
        "    # Count number of vertical or horizontal images\n",
        "    # Append elements to list\n",
        "    lista.append(ntags) # Number of tags\n",
        "    lista.append(tags) # Set of tags\n",
        "    ttags += ntags \n",
        "    photos.append(lista)\n",
        "    if lista[1] =='V':\n",
        "      nv +=1\n",
        "      photosv.append(lista) # Add vertical image list data to photos list.\n",
        "    else:\n",
        "      nh +=1\n",
        "      photosh.append(lista) # Add horizontal image list data to photos list.\n",
        "    if test:\n",
        "      print(photos[i])\n",
        "  file.close()\n",
        "  print('N. fotos:',nphotos,'Fotos Verticales:',nv,'Fotos Horiz:',nh,'Tags no combinables horizontales:',len(nctags),'Apariciones Tags:',ttags,'Tags diferentes:',len(dtags),'Media Tags por imagen:', ttags/len(dtags))\n",
        "  return nphotos, photos, photosv, photosh, nv, nh, nctags, ncphotos, ttags, dtags"
      ],
      "execution_count": 0,
      "outputs": []
    },
    {
      "metadata": {
        "id": "oIdrf_eXPG4u",
        "colab_type": "code",
        "colab": {}
      },
      "cell_type": "code",
      "source": [
        "def listafotos(photos, limit):\n",
        "  # Lista de fotos enlazables\n",
        "  num = len(photos)\n",
        "  fila = 0\n",
        "  for foto in photos:\n",
        "    print(foto)\n",
        "    num -= 1\n",
        "    fila += 1\n",
        "    if fila >= limit:\n",
        "      print('Fotos pendientes de listar:', num)\n",
        "      break"
      ],
      "execution_count": 0,
      "outputs": []
    },
    {
      "metadata": {
        "id": "I16qPYx1QhLK",
        "colab_type": "code",
        "colab": {}
      },
      "cell_type": "code",
      "source": [
        "def listatags(tags, limit, nrow = 18):\n",
        "  # Lista tags\n",
        "  num = len(tags)\n",
        "  listed = 0\n",
        "  columna = 0\n",
        "  for tag in tags:\n",
        "    print(str(tag),'\\t', end='')\n",
        "    num -= 1\n",
        "    listed += 1\n",
        "    columna += 1\n",
        "    if columna >= nrow:\n",
        "      print()\n",
        "      columna = 0\n",
        "    if listed >= limit:\n",
        "      print()\n",
        "      print('Tags pendientes de listar:', num)\n",
        "      break"
      ],
      "execution_count": 0,
      "outputs": []
    },
    {
      "metadata": {
        "id": "GT_GrvXJv64a",
        "colab_type": "code",
        "colab": {}
      },
      "cell_type": "code",
      "source": [
        "def listupla(dicc, limit, nrow = 18):\n",
        "  # Lista tags\n",
        "  num = len(dicc)\n",
        "  listed = 0\n",
        "  columna = 0\n",
        "  for tupla in dicc:\n",
        "    print(tupla,':',dicc[tupla],'\\t', end='')\n",
        "    num -= 1\n",
        "    listed += 1\n",
        "    columna += 1\n",
        "    if columna >= nrow:\n",
        "      print()\n",
        "      columna = 0\n",
        "    if listed >= limit:\n",
        "      print()\n",
        "      print('Tags pendientes de listar:', num)\n",
        "      break"
      ],
      "execution_count": 0,
      "outputs": []
    },
    {
      "metadata": {
        "id": "wOpLLqSMbW8a",
        "colab_type": "code",
        "colab": {}
      },
      "cell_type": "code",
      "source": [
        "def purgedict(dtags,nctags, test):\n",
        "  tuplas = list(dtags.items())\n",
        "  j = 0\n",
        "  for i in tuplas:\n",
        "    #print('\\t',dtags[tuplas[j][0]],end='')\n",
        "    if dtags[tuplas[j][0]]<=1:\n",
        "      if test:\n",
        "        print ('----->Tag:', i, 'no combinable...eliminando de dtags y añadiendo a nctags')\n",
        "      nctags.add(tuplas[j][0]) # Add at not linkable tags set\n",
        "      del(dtags[tuplas[j][0]]) # remove tuple from dictionary for number of occurrences to this tag\n",
        "    j+= 1\n",
        "  tuplas = []\n",
        "  print('N. fotos:',nphotos,'Fotos Verticales:',nv,'Fotos Horiz:',nh,'Tags no combinables horizontales:',len(nctags),'Apariciones Tags:',ttags,'Tags diferentes:',len(dtags),'Media Tags por imagen:', ttags/len(dtags))\n",
        "  return dtags,nctags\n"
      ],
      "execution_count": 0,
      "outputs": []
    },
    {
      "metadata": {
        "id": "7EQugVxlcGBm",
        "colab_type": "code",
        "colab": {}
      },
      "cell_type": "code",
      "source": [
        "# Purge for unlinkable tags at photos list\n",
        "def purgetags(photos, nctags, test):\n",
        "  #print('Purgando tags no combinables en lista de fotos')\n",
        "  ttags = 0\n",
        "  for photo in photos:\n",
        "    if test:\n",
        "      print(photo,end='')\n",
        "    photo[3]=photo[3]-nctags\n",
        "    photo[2]=len(photo[3])\n",
        "    ttags += photo[2]\n",
        "    if test:\n",
        "      print('++',photo[3])\n",
        "  print('N. fotos:',len(photos),'Apariciones Tags:',ttags,'Tags diferentes:',len(dtags),'Media Tags por imagen:', ttags/len(dtags))\n",
        "  return photos, nctags,ttags"
      ],
      "execution_count": 0,
      "outputs": []
    },
    {
      "metadata": {
        "id": "aK8Tv-u1UGFd",
        "colab_type": "code",
        "colab": {}
      },
      "cell_type": "code",
      "source": [
        "# Purge for photos that can't be linked,\n",
        "def purgephotos(photos, nctags, rango, test):\n",
        "    cont = 0\n",
        "    print('Fotos que son menos combinables.',rango,' tags combinables') \n",
        "    for photo in photos:\n",
        "      if len(photo[3]-nctags)<=rango:\n",
        "        if test:\n",
        "          print(photo)\n",
        "          print('tags - nctags:', end='')\n",
        "          print(photo[3]-nctags)\n",
        "          print('--------------------')\n",
        "        print('+')\n",
        "        cont +=1\n",
        "      # else:\n",
        "        #if test:\n",
        "        #  print(photo)\n",
        "        #  print('tags - nctags:', end='')\n",
        "        #  print(photo[3]-nctags)\n",
        "        #  print('-',end='')\n",
        "    print(cont, 'menos combinables')"
      ],
      "execution_count": 0,
      "outputs": []
    },
    {
      "metadata": {
        "id": "JW5ss8ZXztAh",
        "colab_type": "code",
        "colab": {}
      },
      "cell_type": "code",
      "source": [
        "# Find the best option to combine two horizontal slides\n",
        "def link(photos, test ):\n",
        "  pos_candidato1 = 0\n",
        "  pos_candidato2 = 0\n",
        "  maxint = 0\n",
        "  ptpic = 0\n",
        "  for pic in photos:\n",
        "    if test:\n",
        "      print('++', ptpic, '\\t++', photos[ptpic],'+++')\n",
        "    for pointer in range(ptpic+1,len(photos)):\n",
        "      inter = pic[3] & photos[pointer][3]\n",
        "      ninter = len (inter)\n",
        "      if test:\n",
        "        print('Foto Puntero:', pic, 'Foto a comparar:',photos[pointer], 'Interseccion:', end='')\n",
        "        print (inter,'Tags comunes:',ninter)\n",
        "      if ninter > maxint:\n",
        "        pos_candidato1 = ptpic\n",
        "        pos_candidato2 = pointer\n",
        "        maxint = ninter\n",
        "        print('Candidatos', photos[pos_candidato1],'+', photos[pos_candidato2], 'Inters:', inter, 'Ntags:', ninter)\n",
        "    ptpic += 1"
      ],
      "execution_count": 0,
      "outputs": []
    },
    {
      "metadata": {
        "id": "3acxLMllMmqt",
        "colab_type": "code",
        "outputId": "40a1ba35-b565-41eb-fdfd-1fcbd04b12f2",
        "colab": {
          "base_uri": "https://localhost:8080/",
          "height": 34
        }
      },
      "cell_type": "code",
      "source": [
        "nphotos, photos, photosv, photosh, nv, nh, nctags, ncphotos, ttags, dtags = loaddata('lovely.in',False)"
      ],
      "execution_count": 78,
      "outputs": [
        {
          "output_type": "stream",
          "text": [
            "N. fotos: 80000 Fotos Verticales: 0 Fotos Horiz: 80000 Tags no combinables horizontales: 0 Apariciones Tags: 1440000 Tags diferentes: 840000 Media Tags por imagen: 1.7142857142857142\n"
          ],
          "name": "stdout"
        }
      ]
    },
    {
      "metadata": {
        "id": "O8OOl-9Hvrwy",
        "colab_type": "code",
        "colab": {
          "base_uri": "https://localhost:8080/",
          "height": 85
        },
        "outputId": "f21bed85-0c72-4ef7-b514-d1764b98b628"
      },
      "cell_type": "code",
      "source": [
        "# List number of ocurrences for eacj tag on all photos\n",
        "listupla(dtags,50)"
      ],
      "execution_count": 80,
      "outputs": [
        {
          "output_type": "stream",
          "text": [
            "tr5fv : 2 \ttv7zt : 2 \tt2hzq : 2 \tt5xl1 : 2 \ttj4f : 2 \tt5nnd : 2 \tt6zkl : 2 \ttb5p6 : 2 \ttwzgl : 2 \ttcz3g : 2 \ttsmcf : 2 \tt1c76 : 1 \ttc2j5 : 1 \ttbj57 : 2 \tth8wv : 2 \tt111w : 2 \tt99tm : 2 \ttf5wv : 1 \t\n",
            "tv1h01 : 2 \ttzdr4 : 2 \ttkp5g : 2 \tt6p61 : 2 \ttpvh8 : 1 \ttkw11 : 1 \ttlvcq : 2 \tt7fgq : 2 \ttns01 : 1 \ttlhlt : 2 \ttwzsw : 2 \tt5x7p : 2 \tt0r1w : 1 \tt5pgg : 2 \tt4pp6 : 2 \tt982j : 2 \ttvwcg : 2 \ttbb6j : 2 \t\n",
            "tn4hp : 2 \ttl3l6 : 2 \ttk3r : 2 \ttcdv8 : 2 \ttlql4 : 2 \tt3rgg : 1 \ttjj0r : 2 \tt62gs : 1 \ttf36x : 2 \tt4rt4 : 2 \tt3xvq : 2 \ttqmvs : 2 \tt0h5n : 2 \ttbzhk : 2 \t\n",
            "Tags pendientes de listar: 839950\n"
          ],
          "name": "stdout"
        }
      ]
    },
    {
      "metadata": {
        "id": "doy2pzhyMEfY",
        "colab_type": "code",
        "outputId": "e3f52134-fe46-4a51-9dd8-7e606c68dd6e",
        "colab": {
          "base_uri": "https://localhost:8080/",
          "height": 34
        }
      },
      "cell_type": "code",
      "source": [
        "dtags, nctags = purgedict(dtags, nctags, False)"
      ],
      "execution_count": 82,
      "outputs": [
        {
          "output_type": "stream",
          "text": [
            "N. fotos: 80000 Fotos Verticales: 0 Fotos Horiz: 80000 Tags no combinables horizontales: 240000 Apariciones Tags: 1440000 Tags diferentes: 600000 Media Tags por imagen: 2.4\n"
          ],
          "name": "stdout"
        }
      ]
    },
    {
      "metadata": {
        "id": "i2x5837nMZ7h",
        "colab_type": "code",
        "colab": {
          "base_uri": "https://localhost:8080/",
          "height": 85
        },
        "outputId": "fe55156f-8d40-46b5-8424-7137389b857a"
      },
      "cell_type": "code",
      "source": [
        "# List number of ocurrences for eacj tag in photos list\n",
        "listupla(dtags,50)"
      ],
      "execution_count": 83,
      "outputs": [
        {
          "output_type": "stream",
          "text": [
            "tr5fv : 2 \ttv7zt : 2 \tt2hzq : 2 \tt5xl1 : 2 \ttj4f : 2 \tt5nnd : 2 \tt6zkl : 2 \ttb5p6 : 2 \ttwzgl : 2 \ttcz3g : 2 \ttsmcf : 2 \ttbj57 : 2 \tth8wv : 2 \tt111w : 2 \tt99tm : 2 \ttv1h01 : 2 \ttzdr4 : 2 \ttkp5g : 2 \t\n",
            "t6p61 : 2 \ttlvcq : 2 \tt7fgq : 2 \ttlhlt : 2 \ttwzsw : 2 \tt5x7p : 2 \tt5pgg : 2 \tt4pp6 : 2 \tt982j : 2 \ttvwcg : 2 \ttbb6j : 2 \ttn4hp : 2 \ttl3l6 : 2 \ttk3r : 2 \ttcdv8 : 2 \ttlql4 : 2 \ttjj0r : 2 \ttf36x : 2 \t\n",
            "t4rt4 : 2 \tt3xvq : 2 \ttqmvs : 2 \tt0h5n : 2 \ttbzhk : 2 \ttfmns : 2 \ttb25z : 2 \ttvr51 : 2 \tt48r2 : 2 \ttbns8 : 2 \ttc9r2 : 2 \ttx895 : 2 \tt7s67 : 2 \tt6qt9 : 2 \t\n",
            "Tags pendientes de listar: 599950\n"
          ],
          "name": "stdout"
        }
      ]
    },
    {
      "metadata": {
        "id": "9GgIDppHRM7W",
        "colab_type": "code",
        "outputId": "61f030da-3a6b-4a95-c5f5-5cfa44e56bb3",
        "colab": {
          "base_uri": "https://localhost:8080/",
          "height": 85
        }
      },
      "cell_type": "code",
      "source": [
        "# Listar tags no combinables\n",
        "listatags(nctags,50)"
      ],
      "execution_count": 84,
      "outputs": [
        {
          "output_type": "stream",
          "text": [
            "tbxmz \ttj5cv \ttwsrr \ttvsfb \tth4cs \ttkthl \tttg4q \ttr18f \tt22x7 \ttvh5 \ttdfn4 \ttk46g \ttmq03 \ttsmn01 \ttgr4r \ttn7s7 \ttpr4q \ttws8s \t\n",
            "t8ppb \tt3b93 \tt7tx2 \tthlbq \tt2khq \tt0g2f \tt0vq8 \tt92gt \ttvm9g \ttwmmb \ttbr1h \ttscb6 \ttj36h \tt26s \ttqcfr \ttmzfq \tt4x5 \tthc06 \t\n",
            "tk9sw \tt9ms \ttrjxg \ttgn7k \ttl9gh \tt6ff \ttzpzh \tt88f1 \tth4xc \tt9493 \tt968m \ttjjdh \ttf0lm \ttv3m1 \t\n",
            "Tags pendientes de listar: 239950\n"
          ],
          "name": "stdout"
        }
      ]
    },
    {
      "metadata": {
        "id": "1UI0N_fIU9mR",
        "colab_type": "code",
        "colab": {}
      },
      "cell_type": "code",
      "source": [
        "listafotos(photosv,5)"
      ],
      "execution_count": 0,
      "outputs": []
    },
    {
      "metadata": {
        "id": "N2AFinbr3v_5",
        "colab_type": "code",
        "outputId": "8d8ab158-1030-480f-a016-e29d9e180b2c",
        "colab": {
          "base_uri": "https://localhost:8080/",
          "height": 34
        }
      },
      "cell_type": "code",
      "source": [
        "photosv, nctags, ttags = purgetags(photosv,nctags,False)"
      ],
      "execution_count": 86,
      "outputs": [
        {
          "output_type": "stream",
          "text": [
            "N. fotos: 0 Apariciones Tags: 0 Tags diferentes: 600000 Media Tags por imagen: 0.0\n"
          ],
          "name": "stdout"
        }
      ]
    },
    {
      "metadata": {
        "id": "vAwrQeoqVSW2",
        "colab_type": "code",
        "colab": {}
      },
      "cell_type": "code",
      "source": [
        "listafotos(photosv,5)"
      ],
      "execution_count": 0,
      "outputs": []
    },
    {
      "metadata": {
        "id": "bTvnueGyVVMF",
        "colab_type": "code",
        "outputId": "90827f95-86f4-4449-8577-665f5f082369",
        "colab": {
          "base_uri": "https://localhost:8080/",
          "height": 119
        }
      },
      "cell_type": "code",
      "source": [
        "listafotos(photosh,5)"
      ],
      "execution_count": 88,
      "outputs": [
        {
          "output_type": "stream",
          "text": [
            "[0, 'H', 21, {'tr5fv', 'tv7zt', 't2hzq', 't5xl1', 'tj4f', 't5nnd', 't6zkl', 'tb5p6', 'twzgl', 'tcz3g', 'tsmcf', 't1c76', 'tc2j5', 'tbj57', 'th8wv', 't111w', 't99tm', 'tf5wv', 'tv1h01', 'tzdr4', 'tkp5g'}]\n",
            "[1, 'H', 9, {'t6p61', 'tpvh8', 'tkw11', 'tlvcq', 't7fgq', 'tns01', 'tlhlt', 'twzsw', 't5x7p'}]\n",
            "[2, 'H', 15, {'t0r1w', 't5pgg', 't4pp6', 't982j', 'tvwcg', 'tbb6j', 'tn4hp', 'tl3l6', 'tk3r', 'tcdv8', 'tlql4', 't3rgg', 'tjj0r', 't62gs', 'tf36x'}]\n",
            "[3, 'H', 15, {'t4rt4', 't3xvq', 'tqmvs', 't0h5n', 'tbzhk', 'tfmns', 't52xx', 't919l', 'tfv2', 'tb25z', 'tvr51', 't48r2', 'tbns8', 'tc9r2', 'tx895'}]\n",
            "[4, 'H', 15, {'t7s67', 't6qt9', 't7w5h', 't5rbj', 't9h9q', 'tk99r', 'td6tp', 'tjbc', 'thh6z', 'tfzzf', 't98wh', 'thzc5', 'txk58', 't8z5v', 't46vk'}]\n",
            "Fotos pendientes de listar: 79995\n"
          ],
          "name": "stdout"
        }
      ]
    },
    {
      "metadata": {
        "id": "YVRxLJ433-DZ",
        "colab_type": "code",
        "outputId": "786875cb-241d-409a-8532-8f342170811c",
        "colab": {
          "base_uri": "https://localhost:8080/",
          "height": 34
        }
      },
      "cell_type": "code",
      "source": [
        "photosh, nctags, ttags = purgetags(photosh,nctags,False)"
      ],
      "execution_count": 89,
      "outputs": [
        {
          "output_type": "stream",
          "text": [
            "N. fotos: 80000 Apariciones Tags: 1200000 Tags diferentes: 600000 Media Tags por imagen: 2.0\n"
          ],
          "name": "stdout"
        }
      ]
    },
    {
      "metadata": {
        "id": "AFBOurXdVYan",
        "colab_type": "code",
        "outputId": "c1da34c4-85d9-4f8c-e7a2-714d55553ca1",
        "colab": {
          "base_uri": "https://localhost:8080/",
          "height": 119
        }
      },
      "cell_type": "code",
      "source": [
        "listafotos(photosh,5)"
      ],
      "execution_count": 90,
      "outputs": [
        {
          "output_type": "stream",
          "text": [
            "[0, 'H', 18, {'tr5fv', 'th8wv', 'tb5p6', 't111w', 't99tm', 'tv7zt', 'twzgl', 't2hzq', 't5xl1', 'tv1h01', 'tj4f', 'tbj57', 'tkp5g', 'tzdr4', 'tcz3g', 'tsmcf', 't5nnd', 't6zkl'}]\n",
            "[1, 'H', 6, {'t6p61', 'tlvcq', 't7fgq', 'tlhlt', 'twzsw', 't5x7p'}]\n",
            "[2, 'H', 12, {'t5pgg', 't4pp6', 't982j', 'tvwcg', 'tbb6j', 'tn4hp', 'tl3l6', 'tk3r', 'tcdv8', 'tlql4', 'tjj0r', 'tf36x'}]\n",
            "[3, 'H', 12, {'t4rt4', 't3xvq', 'tqmvs', 't0h5n', 'tbzhk', 'tfmns', 'tb25z', 'tvr51', 't48r2', 'tbns8', 'tc9r2', 'tx895'}]\n",
            "[4, 'H', 12, {'t6qt9', 't7s67', 't9h9q', 'tk99r', 'td6tp', 'tjbc', 'thh6z', 'tfzzf', 't98wh', 'txk58', 't8z5v', 't46vk'}]\n",
            "Fotos pendientes de listar: 79995\n"
          ],
          "name": "stdout"
        }
      ]
    },
    {
      "metadata": {
        "id": "_sH9IHEdV3Oj",
        "colab_type": "code",
        "outputId": "81e883d5-0bf1-4f15-d6c1-fb8d8bf0abdf",
        "colab": {
          "base_uri": "https://localhost:8080/",
          "height": 119
        }
      },
      "cell_type": "code",
      "source": [
        "listafotos(photos,5)"
      ],
      "execution_count": 91,
      "outputs": [
        {
          "output_type": "stream",
          "text": [
            "[0, 'H', 18, {'tr5fv', 'th8wv', 'tb5p6', 't111w', 't99tm', 'tv7zt', 'twzgl', 't2hzq', 't5xl1', 'tv1h01', 'tj4f', 'tbj57', 'tkp5g', 'tzdr4', 'tcz3g', 'tsmcf', 't5nnd', 't6zkl'}]\n",
            "[1, 'H', 6, {'t6p61', 'tlvcq', 't7fgq', 'tlhlt', 'twzsw', 't5x7p'}]\n",
            "[2, 'H', 12, {'t5pgg', 't4pp6', 't982j', 'tvwcg', 'tbb6j', 'tn4hp', 'tl3l6', 'tk3r', 'tcdv8', 'tlql4', 'tjj0r', 'tf36x'}]\n",
            "[3, 'H', 12, {'t4rt4', 't3xvq', 'tqmvs', 't0h5n', 'tbzhk', 'tfmns', 'tb25z', 'tvr51', 't48r2', 'tbns8', 'tc9r2', 'tx895'}]\n",
            "[4, 'H', 12, {'t6qt9', 't7s67', 't9h9q', 'tk99r', 'td6tp', 'tjbc', 'thh6z', 'tfzzf', 't98wh', 'txk58', 't8z5v', 't46vk'}]\n",
            "Fotos pendientes de listar: 79995\n"
          ],
          "name": "stdout"
        }
      ]
    },
    {
      "metadata": {
        "id": "Da8bmY9kgP5o",
        "colab_type": "code",
        "outputId": "71304f2e-30be-4722-f33c-a8e9ded9fcb7",
        "colab": {
          "base_uri": "https://localhost:8080/",
          "height": 34
        }
      },
      "cell_type": "code",
      "source": [
        "photos, nctags, ttags = purgetags(photos,nctags,False)"
      ],
      "execution_count": 92,
      "outputs": [
        {
          "output_type": "stream",
          "text": [
            "N. fotos: 80000 Apariciones Tags: 1200000 Tags diferentes: 600000 Media Tags por imagen: 2.0\n"
          ],
          "name": "stdout"
        }
      ]
    },
    {
      "metadata": {
        "id": "-ZZvDRMUV_PT",
        "colab_type": "code",
        "outputId": "cbe1983e-dbd4-44f1-c3b9-f0caf15f3b06",
        "colab": {
          "base_uri": "https://localhost:8080/",
          "height": 119
        }
      },
      "cell_type": "code",
      "source": [
        "listafotos(photos,5)"
      ],
      "execution_count": 93,
      "outputs": [
        {
          "output_type": "stream",
          "text": [
            "[0, 'H', 18, {'tr5fv', 'th8wv', 'tb5p6', 't99tm', 't111w', 't5nnd', 'tv7zt', 'twzgl', 't2hzq', 't6zkl', 't5xl1', 'tv1h01', 'tj4f', 'tzdr4', 'tcz3g', 'tsmcf', 'tkp5g', 'tbj57'}]\n",
            "[1, 'H', 6, {'t6p61', 'tlvcq', 't7fgq', 'tlhlt', 'twzsw', 't5x7p'}]\n",
            "[2, 'H', 12, {'t5pgg', 't4pp6', 't982j', 'tvwcg', 'tbb6j', 'tn4hp', 'tl3l6', 'tk3r', 'tcdv8', 'tlql4', 'tjj0r', 'tf36x'}]\n",
            "[3, 'H', 12, {'t4rt4', 't3xvq', 'tqmvs', 't0h5n', 'tbzhk', 'tfmns', 'tb25z', 'tvr51', 't48r2', 'tbns8', 'tc9r2', 'tx895'}]\n",
            "[4, 'H', 12, {'t7s67', 't6qt9', 't9h9q', 'tk99r', 'td6tp', 'tjbc', 'thh6z', 'tfzzf', 't98wh', 'txk58', 't8z5v', 't46vk'}]\n",
            "Fotos pendientes de listar: 79995\n"
          ],
          "name": "stdout"
        }
      ]
    },
    {
      "metadata": {
        "id": "lyllphC6vsQX",
        "colab_type": "code",
        "colab": {}
      },
      "cell_type": "code",
      "source": [
        "nctags = set()"
      ],
      "execution_count": 0,
      "outputs": []
    },
    {
      "metadata": {
        "id": "qTthbcOqxawD",
        "colab_type": "code",
        "colab": {}
      },
      "cell_type": "code",
      "source": [
        "# purgephotos(photos, nctags, 6,False)"
      ],
      "execution_count": 0,
      "outputs": []
    },
    {
      "metadata": {
        "id": "uCOdwRowT2Rz",
        "colab_type": "code",
        "colab": {}
      },
      "cell_type": "code",
      "source": [
        "# link(photos,False)"
      ],
      "execution_count": 0,
      "outputs": []
    }
  ]
}