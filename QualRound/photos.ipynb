{
  "nbformat": 4,
  "nbformat_minor": 0,
  "metadata": {
    "colab": {
      "name": "photos",
      "version": "0.3.2",
      "provenance": [],
      "collapsed_sections": [
        "0rGXYmewZ_tV",
        "CzSFZlrqaNb5"
      ],
      "include_colab_link": true
    },
    "kernelspec": {
      "name": "python3",
      "display_name": "Python 3"
    }
  },
  "cells": [
    {
      "cell_type": "markdown",
      "metadata": {
        "id": "view-in-github",
        "colab_type": "text"
      },
      "source": [
        "<a href=\"https://colab.research.google.com/github/sfrias/HashCode2019/blob/master/QualRound/photos.ipynb\" target=\"_parent\"><img src=\"https://colab.research.google.com/assets/colab-badge.svg\" alt=\"Open In Colab\"/></a>"
      ]
    },
    {
      "metadata": {
        "id": "yllCUY6PVVEU",
        "colab_type": "code",
        "colab": {}
      },
      "cell_type": "code",
      "source": [
        "# Slideshow with vertical & Horizontal photos. Scoring is calculated with linked tags.\n",
        "# If photos were vertical, two must be combined in one slide. Tags were union of both photos tags\n",
        "# Linked slides match scoring por slideshow.\n",
        "# linkable tags with only one appearance qualify photos:\n",
        "#  ---Horizontal photo for only use with ends of slideshows.\n",
        "#  ---Vertical photo for only bundle slide with other vertical photo to link two ways.\n",
        "# \n",
        "#         "
      ],
      "execution_count": 0,
      "outputs": []
    },
    {
      "metadata": {
        "id": "c8SkUIQfb2Vq",
        "colab_type": "text"
      },
      "cell_type": "markdown",
      "source": [
        "## Previous config and functions section"
      ]
    },
    {
      "metadata": {
        "id": "eBDoPg2GbGlF",
        "colab_type": "text"
      },
      "cell_type": "markdown",
      "source": [
        "### Imports and configs"
      ]
    },
    {
      "metadata": {
        "id": "9Qb_QWP3OlnR",
        "colab_type": "code",
        "colab": {}
      },
      "cell_type": "code",
      "source": [
        "# Import and package configuration\n",
        "from google.colab import files\n",
        "import matplotlib.pyplot as pyplot\n",
        "from pylab import *\n",
        "import networkx\n",
        "import time"
      ],
      "execution_count": 0,
      "outputs": []
    },
    {
      "metadata": {
        "id": "2KpcGf5AQGaH",
        "colab_type": "code",
        "colab": {}
      },
      "cell_type": "code",
      "source": [
        "from itertools import combinations"
      ],
      "execution_count": 0,
      "outputs": []
    },
    {
      "metadata": {
        "id": "rUm23R1fafcO",
        "colab_type": "text"
      },
      "cell_type": "markdown",
      "source": [
        "### Download files from Hashcode instance"
      ]
    },
    {
      "metadata": {
        "id": "TUCsM0OzQXlZ",
        "colab_type": "code",
        "colab": {}
      },
      "cell_type": "code",
      "source": [
        " # Download data files from hashcode"
      ],
      "execution_count": 0,
      "outputs": []
    },
    {
      "metadata": {
        "id": "_f7H-zjWQXWw",
        "colab_type": "code",
        "colab": {}
      },
      "cell_type": "code",
      "source": [
        "#!wget -O example.in  \"https://hashcodejudge.withgoogle.com/download/blob/AMIfv97QHzUItY7To0o6id8E6_kxpE1KwTlPR1T9yC2zlbm46xvPPX7tBn1r5ZNxw9XboxHkVKa82BzM-B65uM92pJRONqfeVlHfpzH8xbqKc9FrAWJnd3Yp5SF7naqscxmnBjTa3R-UcB_bqg5hoAa0TZFXIlvi-RL6y_daJXyNUUHeP1kBxQss_1b2nNbNFg7W3Jtgyl2Vs86QrufNrQcUlNh754HyhRrhV3yJBo66HdYQAa2lPISjoUkUTpWqqrGIEItpPu27GNqcp2I69D8j8A-70B30oU-w7zIe9DJ9xnpC70T6T88\""
      ],
      "execution_count": 0,
      "outputs": []
    },
    {
      "metadata": {
        "id": "JHXji8CdR6IW",
        "colab_type": "code",
        "outputId": "f9145b27-2f6e-4d81-fd5e-00f854766a61",
        "colab": {
          "base_uri": "https://localhost:8080/",
          "height": 224
        }
      },
      "cell_type": "code",
      "source": [
        "#!wget -O lovely.in \"https://hashcodejudge.withgoogle.com/download/blob/AMIfv977kmeJsFQfgJNbIlAkviRDMVQcDWj0hLBMvhyg8SuPR52vtGV8uIJsB5nnPDX1Rp14OqzXWF-XXUKp3hhFjdL9PtHAOemuN-rKrd_OgY8pQ6SwgBlBcwPm-5Ova9XoGHSlhT2iLskxOoetjmTNQ8upzsFVkCQqh0gM0P-VX2nWmyxSfIFGmv373rdp9k1Bw9iMdhZXxuMfYIPaWJ8c6izWNYsl9Mpk1a7R0DjShNoDn6Nbfghj_S9bkjGgJS6Clz0b3rMqhHyHAxuIVMnfw1ppwWK_z5TYb4Tsz1vzNERAVPtnuSw\""
      ],
      "execution_count": 2,
      "outputs": [
        {
          "output_type": "stream",
          "text": [
            "--2019-03-10 13:42:26--  https://hashcodejudge.withgoogle.com/download/blob/AMIfv977kmeJsFQfgJNbIlAkviRDMVQcDWj0hLBMvhyg8SuPR52vtGV8uIJsB5nnPDX1Rp14OqzXWF-XXUKp3hhFjdL9PtHAOemuN-rKrd_OgY8pQ6SwgBlBcwPm-5Ova9XoGHSlhT2iLskxOoetjmTNQ8upzsFVkCQqh0gM0P-VX2nWmyxSfIFGmv373rdp9k1Bw9iMdhZXxuMfYIPaWJ8c6izWNYsl9Mpk1a7R0DjShNoDn6Nbfghj_S9bkjGgJS6Clz0b3rMqhHyHAxuIVMnfw1ppwWK_z5TYb4Tsz1vzNERAVPtnuSw\n",
            "Resolving hashcodejudge.withgoogle.com (hashcodejudge.withgoogle.com)... 173.194.203.141, 2607:f8b0:400e:c05::8d\n",
            "Connecting to hashcodejudge.withgoogle.com (hashcodejudge.withgoogle.com)|173.194.203.141|:443... connected.\n",
            "HTTP request sent, awaiting response... 200 OK\n",
            "Length: unspecified [text/plain]\n",
            "Saving to: ‘lovely.in’\n",
            "\n",
            "lovely.in               [        <=>         ]   8.62M  5.67MB/s    in 1.5s    \n",
            "\n",
            "2019-03-10 13:42:28 (5.67 MB/s) - ‘lovely.in’ saved [9039625]\n",
            "\n"
          ],
          "name": "stdout"
        }
      ]
    },
    {
      "metadata": {
        "id": "SfghR8meSpo3",
        "colab_type": "code",
        "colab": {}
      },
      "cell_type": "code",
      "source": [
        "#!wget -O memoments.in \"https://hashcodejudge.withgoogle.com/download/blob/AMIfv94hwk1wpXjU-qRaszhHtsN4gJSGTkGGNfiItXwzXwhtP6IGrdiZrJ16XvlGFZAKOck8csLoiqwaDiJY6pybACZPZoBnwUMB_WLmQPR7XwH_0AMzk4at1sNgwB_f-9wOwSaqAQE8VtIlLNLDOLeo9sJDLxUVceOopaGh93MDCof4KCYXcdvM9tCSQz1sT89KVmM3Qx0Rz0JkXm4-a3mTk_676DubwwI5siY-ulC87_p1qcfeWdJXmuqMO7E-8THazayXZmS2dXyeTWiOOt27fOC06dSTe9mYfNBISojtloNJc-9Xohc\""
      ],
      "execution_count": 0,
      "outputs": []
    },
    {
      "metadata": {
        "id": "b9zUUte-Spjk",
        "colab_type": "code",
        "colab": {}
      },
      "cell_type": "code",
      "source": [
        "#!wget -O petpict.in \"https://hashcodejudge.withgoogle.com/download/blob/AMIfv95TypJhkPij61j5cS87pz5lYAw7u6lKSxctMX0zPI_8N7y-bRcwGLHe8rx8vAaQ_Dszh0yuWjpdXucxsC52Fq-iuNeI9D8ugsj3djcsDH5Ax3TlTILi27GOCPv_-U7KZsyrbKusR5T8saKHiE2cferYs92JBV_nKxm7gxQkzITercTAfcJaEtenWiTS4rhPkIVARXCQE9LaycZvxV4IqTnDCfYHZhtFVV9_Y_h5riDVjGZZd01tplZ1aibiKASlJZulxOwnJGfmgrYkImN3dCaDYx0eAGlGUoRjAF3GsiGdZ4bI0_V-lKZJlSdoMPxCctPLpgvL\""
      ],
      "execution_count": 0,
      "outputs": []
    },
    {
      "metadata": {
        "id": "h5NlNfBJSpWZ",
        "colab_type": "code",
        "colab": {}
      },
      "cell_type": "code",
      "source": [
        "#!wget -O shinyself.in \"https://hashcodejudge.withgoogle.com/download/blob/AMIfv941-URwsmc_UpuUvypgEBaH_U4oDiPKJZR_gk2oNcK8NXMmcZMwFC8qM3aYM_G1dN5hhRt9ONNq_o1RLVdWXqFn6M_DFVf_UnLD0E7Qg-D989lrG08e5FWD06_crrlGQI48euVgJSyEHO2oo8_3506xyzI2KsMLs_zPfjnnRr6sVKSMeQLNWRD4gut2m1QBzkRWvZuigNbXsCFra7wNPrEdPCI4Mf11W9rWcMrVsvMcrAmjw02vPbqqe8QrVwM08n0tMfAvk01BwBEM8RcwkYtkp8IUP3M0_67Sum1zfuFayeLWSOY\""
      ],
      "execution_count": 0,
      "outputs": []
    },
    {
      "metadata": {
        "id": "R2YzU_BOSpGB",
        "colab_type": "code",
        "outputId": "031a75dc-e0e8-421b-c744-f269d141d08c",
        "colab": {
          "base_uri": "https://localhost:8080/",
          "height": 51
        }
      },
      "cell_type": "code",
      "source": [
        "#!ls -l"
      ],
      "execution_count": 1,
      "outputs": [
        {
          "output_type": "stream",
          "text": [
            "total 4\n",
            "drwxr-xr-x 1 root root 4096 Feb 26 17:33 sample_data\n"
          ],
          "name": "stdout"
        }
      ]
    },
    {
      "metadata": {
        "id": "4jHinMavaqva",
        "colab_type": "text"
      },
      "cell_type": "markdown",
      "source": [
        "### Create Data Structures and load data from/to file"
      ]
    },
    {
      "metadata": {
        "id": "687Ar8rWTgTY",
        "colab_type": "code",
        "colab": {}
      },
      "cell_type": "code",
      "source": [
        "# Load data file function. Parameters: nom = name of input file, test = 'Test debug mode False or True'\n",
        "def loaddata(nom,test):\n",
        "  file = open(nom,'r')\n",
        "  line = file.readline()\n",
        "  # Assign number of photos from first line\n",
        "  nphotos = int(line.rstrip())\n",
        "  nv = 0 # number of vertical images\n",
        "  nh = 0 # Number of horizontal images\n",
        "  phpt = 0 # photo pointer position to videos list for each tag\n",
        "  ttags = 0 # Tag global number occurrences \n",
        "  nctags = set() # Not linkable tags\n",
        "  ncphotos = set() # Not linkable photos\n",
        "  dtags = {} # tags occurrence, dictionary\n",
        "  dtag_ph = {} # Tag dictionary pointer to tag_ph photos list for each tag\n",
        "  photos = [] # Data for all photos\n",
        "  photosv = [] # Data for vertical photos\n",
        "  photosh = [] # Data for horizontal photos\n",
        "  tag_ph = [] # photos list for each tag, indexed\n",
        "  # Read all image descriptions\n",
        "  for i in range(nphotos):\n",
        "    lista = []\n",
        "    lista = file.readline().rstrip().split(' ')\n",
        "    lista.insert(0,i) # Insert image number\n",
        "    tags = set(lista[3:]) # Store tags as a set\n",
        "    for t in tags: # Adds tag occurrences to dictionary\n",
        "      if t in dtags:\n",
        "        dtags[t] += 1\n",
        "        tag_ph[dtag_ph[t]].append(i)\n",
        "      else:\n",
        "        dtags[t] = 1\n",
        "        dtag_ph[t] = phpt\n",
        "        tag_ph.append([])\n",
        "        tag_ph[phpt].append(i)\n",
        "        phpt += 1\n",
        "    ntags = int(lista[2]) # Convert to int  tag number for photo\n",
        "    lista = lista[:2] # Crop list\n",
        "    # Count number of vertical or horizontal images\n",
        "    # Append elements to list\n",
        "    lista.append(ntags) # Number of tags\n",
        "    lista.append(tags) # Set of tags\n",
        "    ttags += ntags \n",
        "    photos.append(lista)\n",
        "    if lista[1] =='V':\n",
        "      nv +=1\n",
        "      photosv.append(lista) # Add vertical image list data to photos list.\n",
        "    else:\n",
        "      nh +=1\n",
        "      photosh.append(lista) # Add horizontal image list data to photos list.\n",
        "    if test:\n",
        "      print(photos[i])\n",
        "  file.close()\n",
        "  print('N. fotos:',nphotos,'Fotos Verticales:',nv,'Fotos Horiz:',nh,'Tags no combinables horizontales:',len(nctags),'Apariciones Tags:',ttags,'Tags diferentes:',len(dtags),'Media Tags/ imagen:', ttags/len(dtags))\n",
        "  return nphotos, photos, photosv, photosh, nv, nh, nctags, ncphotos, ttags, dtags, dtag_ph, tag_ph"
      ],
      "execution_count": 0,
      "outputs": []
    },
    {
      "metadata": {
        "id": "PK8bZS9zhxi0",
        "colab_type": "code",
        "colab": {}
      },
      "cell_type": "code",
      "source": [
        "def writedata(nom,slideshow):\n",
        "  file=open(nom,'w')\n",
        "  file.write(str(len(slideshow))+'\\n')\n",
        "  for i in slideshow:\n",
        "    if i == 2:\n",
        "      file.write(' '.join(str(e) for e in i)+'\\n')\n",
        "    else:\n",
        "      file.write(str(i)+'\\n')\n",
        "  file.close()\n",
        "  files.download(nom)\n",
        "  return"
      ],
      "execution_count": 0,
      "outputs": []
    },
    {
      "metadata": {
        "id": "uL41hxIga9GX",
        "colab_type": "text"
      },
      "cell_type": "markdown",
      "source": [
        "### Display utilities for analysis"
      ]
    },
    {
      "metadata": {
        "id": "oIdrf_eXPG4u",
        "colab_type": "code",
        "colab": {}
      },
      "cell_type": "code",
      "source": [
        "def listalista(photos, limit=15):\n",
        "  # Lista de fotos enlazables\n",
        "  num = len(photos)\n",
        "  fila = 0\n",
        "  for foto in photos:\n",
        "    print(foto)\n",
        "    num -= 1\n",
        "    fila += 1\n",
        "    if fila >= limit:\n",
        "      print('Elementos pendientes de listar:', num)\n",
        "      break"
      ],
      "execution_count": 0,
      "outputs": []
    },
    {
      "metadata": {
        "id": "I16qPYx1QhLK",
        "colab_type": "code",
        "colab": {}
      },
      "cell_type": "code",
      "source": [
        "def listatags(tags, limit=50, nrow = 18):\n",
        "  # Lista tags\n",
        "  num = len(tags)\n",
        "  listed = 0\n",
        "  columna = 0\n",
        "  for tag in tags:\n",
        "    print(str(tag),'\\t', end='')\n",
        "    num -= 1\n",
        "    listed += 1\n",
        "    columna += 1\n",
        "    if columna >= nrow:\n",
        "      print()\n",
        "      columna = 0\n",
        "    if listed >= limit:\n",
        "      print()\n",
        "      print('Tags pendientes de listar:', num)\n",
        "      break"
      ],
      "execution_count": 0,
      "outputs": []
    },
    {
      "metadata": {
        "id": "GT_GrvXJv64a",
        "colab_type": "code",
        "colab": {}
      },
      "cell_type": "code",
      "source": [
        "def listupla(dicc, limit=500, nrow = 18, valor = 0):\n",
        "  # Lista tags\n",
        "  num = len(dicc)\n",
        "  listed = 0\n",
        "  columna = 0\n",
        "  for tupla in dicc:\n",
        "    if dicc[tupla] >= valor:\n",
        "      print(tupla,':',dicc[tupla],'\\t', end='')\n",
        "    num -= 1\n",
        "    listed += 1\n",
        "    columna += 1\n",
        "    if columna >= nrow:\n",
        "      print()\n",
        "      columna = 0\n",
        "    if listed >= limit:\n",
        "      print()\n",
        "      print('Tags pendientes de listar:', num)\n",
        "      break"
      ],
      "execution_count": 0,
      "outputs": []
    },
    {
      "metadata": {
        "id": "7JmsJpXe01an",
        "colab_type": "code",
        "colab": {}
      },
      "cell_type": "code",
      "source": [
        "def photos4tag(dtag_ph, tag_ph, limit=10, nrow = 6):\n",
        "  num = len(dtag_ph)\n",
        "  listed = 0\n",
        "  columna = 0\n",
        "  for t in dtag_ph:\n",
        "    ptlist = dtag_ph[t]\n",
        "    print(t,'\\t[', ptlist, ']->',tag_ph[ptlist],'\\t',end='')\n",
        "    #print('\\t\\tCombinaciones:',list(combinations(tag_ph[ptlist],2)))\n",
        "    num -= 1\n",
        "    listed += 1\n",
        "    columna += 1\n",
        "    if columna >= nrow:\n",
        "      print()\n",
        "      columna = 0\n",
        "    if listed >= limit:\n",
        "      print()\n",
        "      print('Tags pendientes de listar:', num)\n",
        "      break"
      ],
      "execution_count": 0,
      "outputs": []
    },
    {
      "metadata": {
        "id": "aU0JZ1265KYk",
        "colab_type": "code",
        "colab": {}
      },
      "cell_type": "code",
      "source": [
        "def link2photos(photos, id1,dtag_ph,tag_ph,test=False):\n",
        "  if test:\n",
        "    print(photos[id1])\n",
        "  idset = set()\n",
        "  idset.add(id1)\n",
        "  dnphotos = {}\n",
        "  tags_id1 = photos[id1][3]\n",
        "  if test:\n",
        "    print()\n",
        "  for t in tags_id1:\n",
        "    ptlist = dtag_ph[t]\n",
        "    if test:\n",
        "      print(t,'\\t',ptlist,'\\t', end='')\n",
        "      print(tag_ph[ptlist],'\\t',end='')\n",
        "      print('\\tCombinaciones:',end='')\n",
        "    cphotos = set() # photos set combinations\n",
        "    for c in list(combinations(tag_ph[ptlist],2)):\n",
        "      cphotos.add(c[0])\n",
        "      cphotos.add(c[1])\n",
        "      cphotos = cphotos - idset\n",
        "      if test:\n",
        "        print(cphotos,end='')\n",
        "      cpop =cphotos.pop()\n",
        "      if cpop in dnphotos:\n",
        "        dnphotos[cpop] += 1\n",
        "      else:\n",
        "        dnphotos[cpop] = 1\n",
        "    if test:\n",
        "      print()\n",
        "  if test:\n",
        "    print(dnphotos)\n",
        "  return dnphotos"
      ],
      "execution_count": 0,
      "outputs": []
    },
    {
      "metadata": {
        "id": "ykI743QWbPdk",
        "colab_type": "text"
      },
      "cell_type": "markdown",
      "source": [
        "### Functions to optimize process"
      ]
    },
    {
      "metadata": {
        "id": "wOpLLqSMbW8a",
        "colab_type": "code",
        "colab": {}
      },
      "cell_type": "code",
      "source": [
        "def purgedict(dtags,nctags, test):\n",
        "  tuplas = list(dtags.items())\n",
        "  j = 0\n",
        "  for i in tuplas:\n",
        "    #print('\\t',dtags[tuplas[j][0]],end='')\n",
        "    if dtags[tuplas[j][0]]<=1:\n",
        "      if test:\n",
        "        print ('----->Tag:', i, 'no combinable...eliminando de dtags y añadiendo a nctags')\n",
        "      nctags.add(tuplas[j][0]) # Add at not linkable tags set\n",
        "      del(dtags[tuplas[j][0]]) # remove tuple from dictionary for number of occurrences to this tag\n",
        "      del(dtag_ph[tuplas[j][0]]) # remove tuple from dictionary pointer to list of photos where appear this tag\n",
        "    j+= 1\n",
        "  tuplas = []\n",
        "  print('N. fotos:',nphotos,'Fotos Verticales:',nv,'Fotos Horiz:',nh,'Tags no combinables horizontales:',len(nctags),'Apariciones Tags:',ttags,'Tags diferentes:',len(dtags),'Media Tags por imagen:', ttags/len(dtags))\n",
        "  return dtags,nctags\n"
      ],
      "execution_count": 0,
      "outputs": []
    },
    {
      "metadata": {
        "id": "7EQugVxlcGBm",
        "colab_type": "code",
        "colab": {}
      },
      "cell_type": "code",
      "source": [
        "# Purge for unlinkable tags at photos list\n",
        "def purgetags(photos, nctags, test):\n",
        "  #print('Purgando tags no combinables en lista de fotos')\n",
        "  ttags = 0\n",
        "  for photo in photos:\n",
        "    if test:\n",
        "      print(photo,end='')\n",
        "    photo[3]=photo[3]-nctags\n",
        "    photo[2]=len(photo[3])\n",
        "    ttags += photo[2]\n",
        "    if test:\n",
        "      print('++',photo[3])\n",
        "  print('N. fotos:',len(photos),'Apariciones Tags:',ttags,'Tags diferentes:',len(dtags),'Media Tags por imagen:', ttags/len(dtags))\n",
        "  return photos, nctags,ttags"
      ],
      "execution_count": 0,
      "outputs": []
    },
    {
      "metadata": {
        "id": "aK8Tv-u1UGFd",
        "colab_type": "code",
        "colab": {}
      },
      "cell_type": "code",
      "source": [
        "# Purge for photos that can't be linked,\n",
        "def purgephotos(photos, nctags, rango, test):\n",
        "    cont = 0\n",
        "    print('Fotos que son menos combinables.',rango,' tags combinables') \n",
        "    for photo in photos:\n",
        "      if len(photo[3]-nctags)<=rango:\n",
        "        if test:\n",
        "          print(photo)\n",
        "          print('tags - nctags:', end='')\n",
        "          print(photo[3]-nctags)\n",
        "          print('--------------------')\n",
        "        print('+')\n",
        "        cont +=1\n",
        "      # else:\n",
        "        #if test:\n",
        "        #  print(photo)\n",
        "        #  print('tags - nctags:', end='')\n",
        "        #  print(photo[3]-nctags)\n",
        "        #  print('-',end='')\n",
        "    print(cont, 'menos combinables')"
      ],
      "execution_count": 0,
      "outputs": []
    },
    {
      "metadata": {
        "id": "JW5ss8ZXztAh",
        "colab_type": "code",
        "colab": {}
      },
      "cell_type": "code",
      "source": [
        "# Find the best option to combine two horizontal slides\n",
        "def link(photos, test ):\n",
        "  pos_candidato1 = 0\n",
        "  pos_candidato2 = 0\n",
        "  maxint = 0\n",
        "  ptpic = 0\n",
        "  for pic in photos:\n",
        "    if test:\n",
        "      print('++', ptpic, '\\t++', photos[ptpic],'+++')\n",
        "    for pointer in range(ptpic+1,len(photos)):\n",
        "      inter = pic[3] & photos[pointer][3]\n",
        "      ninter = len (inter)\n",
        "      if test:\n",
        "        print('Foto Puntero:', pic, 'Foto a comparar:',photos[pointer], 'Interseccion:', end='')\n",
        "        print (inter,'Tags comunes:',ninter)\n",
        "      if ninter > maxint:\n",
        "        pos_candidato1 = ptpic\n",
        "        pos_candidato2 = pointer\n",
        "        maxint = ninter\n",
        "        print('Candidatos', photos[pos_candidato1],'+', photos[pos_candidato2], 'Inters:', inter, 'Ntags:', ninter)\n",
        "    ptpic += 1"
      ],
      "execution_count": 0,
      "outputs": []
    },
    {
      "metadata": {
        "id": "mHRKyPEbbc19",
        "colab_type": "text"
      },
      "cell_type": "markdown",
      "source": [
        "## Process Data Section before select upshot to problem"
      ]
    },
    {
      "metadata": {
        "id": "3acxLMllMmqt",
        "colab_type": "code",
        "outputId": "ba402139-d1de-4af2-f9fc-b7c0c2d937e0",
        "colab": {
          "base_uri": "https://localhost:8080/",
          "height": 34
        }
      },
      "cell_type": "code",
      "source": [
        "# Load data from file, Create Data Structures\n",
        "nphotos, photos, photosv, photosh, nv, nh, nctags, ncphotos, ttags, dtags, dtag_ph, tag_ph = loaddata('lovely.in',False)"
      ],
      "execution_count": 12,
      "outputs": [
        {
          "output_type": "stream",
          "text": [
            "N. fotos: 80000 Fotos Verticales: 0 Fotos Horiz: 80000 Tags no combinables horizontales: 0 Apariciones Tags: 1440000 Tags diferentes: 840000 Media Tags/ imagen: 1.7142857142857142\n"
          ],
          "name": "stdout"
        }
      ]
    },
    {
      "metadata": {
        "id": "_DURId8WIUPi",
        "colab_type": "code",
        "outputId": "381d3663-365a-41ad-c278-4d3764bfb911",
        "colab": {
          "base_uri": "https://localhost:8080/",
          "height": 391
        }
      },
      "cell_type": "code",
      "source": [
        "# Indexed photos list for each tag where appears\n",
        "photos4tag(dtag_ph,tag_ph,20,1)"
      ],
      "execution_count": 32,
      "outputs": [
        {
          "output_type": "stream",
          "text": [
            "tj4f \t[ 0 ]-> [0, 13708] \t\n",
            "t6zkl \t[ 1 ]-> [0, 74267] \t\n",
            "tv1h01 \t[ 2 ]-> [0, 6674] \t\n",
            "tr5fv \t[ 3 ]-> [0, 14519] \t\n",
            "t111w \t[ 4 ]-> [0, 74267] \t\n",
            "twzgl \t[ 5 ]-> [0, 74267] \t\n",
            "t5xl1 \t[ 6 ]-> [0, 14519] \t\n",
            "tcz3g \t[ 7 ]-> [0, 18143] \t\n",
            "tc2j5 \t[ 8 ]-> [0] \t\n",
            "t1c76 \t[ 9 ]-> [0] \t\n",
            "t5nnd \t[ 10 ]-> [0, 18143] \t\n",
            "tkp5g \t[ 11 ]-> [0, 14519] \t\n",
            "tzdr4 \t[ 12 ]-> [0, 13708] \t\n",
            "tb5p6 \t[ 13 ]-> [0, 78134] \t\n",
            "t2hzq \t[ 14 ]-> [0, 6674] \t\n",
            "tbj57 \t[ 15 ]-> [0, 78134] \t\n",
            "t99tm \t[ 16 ]-> [0, 13708] \t\n",
            "th8wv \t[ 17 ]-> [0, 18143] \t\n",
            "tv7zt \t[ 18 ]-> [0, 6674] \t\n",
            "tsmcf \t[ 19 ]-> [0, 78134] \t\n",
            "\n",
            "Tags pendientes de listar: 839980\n"
          ],
          "name": "stdout"
        }
      ]
    },
    {
      "metadata": {
        "id": "O8OOl-9Hvrwy",
        "colab_type": "code",
        "outputId": "1c583af3-9352-45d1-da99-bea11043b468",
        "colab": {
          "base_uri": "https://localhost:8080/",
          "height": 102
        }
      },
      "cell_type": "code",
      "source": [
        "# List number of ocurrences for each tag on all photos\n",
        "listupla(dtags,50,15)"
      ],
      "execution_count": 31,
      "outputs": [
        {
          "output_type": "stream",
          "text": [
            "tj4f : 2 \tt6zkl : 2 \ttv1h01 : 2 \ttr5fv : 2 \tt111w : 2 \ttwzgl : 2 \tt5xl1 : 2 \ttcz3g : 2 \ttc2j5 : 1 \tt1c76 : 1 \tt5nnd : 2 \ttkp5g : 2 \ttzdr4 : 2 \ttb5p6 : 2 \tt2hzq : 2 \t\n",
            "tbj57 : 2 \tt99tm : 2 \tth8wv : 2 \ttv7zt : 2 \ttsmcf : 2 \ttf5wv : 1 \ttlvcq : 2 \ttpvh8 : 1 \ttlhlt : 2 \tt6p61 : 2 \tt5x7p : 2 \ttkw11 : 1 \ttns01 : 1 \ttwzsw : 2 \tt7fgq : 2 \t\n",
            "tlql4 : 2 \ttjj0r : 2 \ttcdv8 : 2 \tt5pgg : 2 \tt4pp6 : 2 \tt3rgg : 1 \ttl3l6 : 2 \tt0r1w : 1 \ttn4hp : 2 \ttk3r : 2 \ttf36x : 2 \ttvwcg : 2 \tt982j : 2 \ttbb6j : 2 \tt62gs : 1 \t\n",
            "tb25z : 2 \ttbns8 : 2 \ttx895 : 2 \tt0h5n : 2 \tt919l : 1 \t\n",
            "Tags pendientes de listar: 839950\n"
          ],
          "name": "stdout"
        }
      ]
    },
    {
      "metadata": {
        "id": "doy2pzhyMEfY",
        "colab_type": "code",
        "outputId": "6fcce4de-6d80-4dc9-8482-d176f9ad5c0e",
        "colab": {
          "base_uri": "https://localhost:8080/",
          "height": 34
        }
      },
      "cell_type": "code",
      "source": [
        "# Purge tags to nctags set and delete to associated dictionaries\n",
        "dtags, nctags = purgedict(dtags, nctags, False)"
      ],
      "execution_count": 33,
      "outputs": [
        {
          "output_type": "stream",
          "text": [
            "N. fotos: 80000 Fotos Verticales: 0 Fotos Horiz: 80000 Tags no combinables horizontales: 240000 Apariciones Tags: 1440000 Tags diferentes: 600000 Media Tags por imagen: 2.4\n"
          ],
          "name": "stdout"
        }
      ]
    },
    {
      "metadata": {
        "id": "i2x5837nMZ7h",
        "colab_type": "code",
        "outputId": "507a03da-6252-4663-a029-ea50b6ecf3d3",
        "colab": {
          "base_uri": "https://localhost:8080/",
          "height": 85
        }
      },
      "cell_type": "code",
      "source": [
        "# List set of tuples as number of ocurrences for each tag in photos list after purging\n",
        "listupla(dtags,50,17)"
      ],
      "execution_count": 109,
      "outputs": [
        {
          "output_type": "stream",
          "text": [
            "tj4f : 2 \tt6zkl : 2 \ttv1h01 : 2 \ttr5fv : 2 \tt111w : 2 \ttwzgl : 2 \tt5xl1 : 2 \ttcz3g : 2 \tt5nnd : 2 \ttkp5g : 2 \ttzdr4 : 2 \ttb5p6 : 2 \tt2hzq : 2 \ttbj57 : 2 \tt99tm : 2 \tth8wv : 2 \ttv7zt : 2 \t\n",
            "tsmcf : 2 \ttlvcq : 2 \ttlhlt : 2 \tt6p61 : 2 \tt5x7p : 2 \ttwzsw : 2 \tt7fgq : 2 \ttlql4 : 2 \ttjj0r : 2 \ttcdv8 : 2 \tt5pgg : 2 \tt4pp6 : 2 \ttl3l6 : 2 \ttn4hp : 2 \ttk3r : 2 \ttf36x : 2 \ttvwcg : 2 \t\n",
            "t982j : 2 \ttbb6j : 2 \ttb25z : 2 \ttbns8 : 2 \ttx895 : 2 \tt0h5n : 2 \ttfmns : 2 \tt48r2 : 2 \ttc9r2 : 2 \tt3xvq : 2 \ttbzhk : 2 \ttvr51 : 2 \tt4rt4 : 2 \ttqmvs : 2 \tt46vk : 2 \ttk99r : 2 \t\n",
            "Tags pendientes de listar: 599950\n"
          ],
          "name": "stdout"
        }
      ]
    },
    {
      "metadata": {
        "id": "otjYOHNGI7jP",
        "colab_type": "code",
        "outputId": "3f2df931-e346-44be-af01-30e0d5fd62ee",
        "colab": {
          "base_uri": "https://localhost:8080/",
          "height": 391
        }
      },
      "cell_type": "code",
      "source": [
        "# List photos associated to a tag, after purging not linkable tags.\n",
        "photos4tag(dtag_ph,tag_ph,20,1)"
      ],
      "execution_count": 35,
      "outputs": [
        {
          "output_type": "stream",
          "text": [
            "tj4f \t[ 0 ]-> [0, 13708] \t\n",
            "t6zkl \t[ 1 ]-> [0, 74267] \t\n",
            "tv1h01 \t[ 2 ]-> [0, 6674] \t\n",
            "tr5fv \t[ 3 ]-> [0, 14519] \t\n",
            "t111w \t[ 4 ]-> [0, 74267] \t\n",
            "twzgl \t[ 5 ]-> [0, 74267] \t\n",
            "t5xl1 \t[ 6 ]-> [0, 14519] \t\n",
            "tcz3g \t[ 7 ]-> [0, 18143] \t\n",
            "t5nnd \t[ 10 ]-> [0, 18143] \t\n",
            "tkp5g \t[ 11 ]-> [0, 14519] \t\n",
            "tzdr4 \t[ 12 ]-> [0, 13708] \t\n",
            "tb5p6 \t[ 13 ]-> [0, 78134] \t\n",
            "t2hzq \t[ 14 ]-> [0, 6674] \t\n",
            "tbj57 \t[ 15 ]-> [0, 78134] \t\n",
            "t99tm \t[ 16 ]-> [0, 13708] \t\n",
            "th8wv \t[ 17 ]-> [0, 18143] \t\n",
            "tv7zt \t[ 18 ]-> [0, 6674] \t\n",
            "tsmcf \t[ 19 ]-> [0, 78134] \t\n",
            "tlvcq \t[ 21 ]-> [1, 74299] \t\n",
            "tlhlt \t[ 23 ]-> [1, 74299] \t\n",
            "\n",
            "Tags pendientes de listar: 599980\n"
          ],
          "name": "stdout"
        }
      ]
    },
    {
      "metadata": {
        "id": "9GgIDppHRM7W",
        "colab_type": "code",
        "outputId": "3c431da2-1714-46a5-a61c-3f8fd8a44cdc",
        "colab": {
          "base_uri": "https://localhost:8080/",
          "height": 136
        }
      },
      "cell_type": "code",
      "source": [
        "# List set of not linkable tags\n",
        "listatags(nctags,100,18)"
      ],
      "execution_count": 37,
      "outputs": [
        {
          "output_type": "stream",
          "text": [
            "tvcr2 \ttv23z \ttv8vz \ttnw26 \ttjdxw \ttn077 \tt9zx6 \ttfflj \ttvw3q \tt6h0p \ttp2js \ttlknc \ttdgxj \tt2vrq \ttr98h \ttqpc1 \tt8fqr \ttz3tn \t\n",
            "twl201 \tt3tkq \ttlz2s \ttq94b \tt2f4k \ttvwgn \ttf7t9 \ttm3n9 \ttk6f8 \ttm2m3 \ttnghs \ttb3k5 \tt5hrs \tt5ws5 \ttd882 \ttr9d6 \tt8gjs \ttk5101 \t\n",
            "t0s63 \ttrpj \ttxjdl \tt8td2 \ttx92b \ttvhfj \ttdfww \ttmcq1 \tt2wrt \ttl735 \ttxnwx \ttdm81 \ttsm3l \tt12mg \tt1795 \ttg9q5 \tt87rw \ttmstp \t\n",
            "thzbf \tthz07 \tt1x9 \tt90zz \tt03nl \ttbvzb \tt7xz2 \tt6fzw \tt8wm8 \ttf0m8 \tt5zkj \ttqx45 \ttntcd \ttstwq \ttdvqb \ttrq5t \tt4p16 \ttck7v \t\n",
            "t2jff \tt599q \ttqrgf \tt685q \ttx1x1 \tt56fr \ttsxpc \ttprd3 \ttpb1f \ttpdtj \ttqg9z \tt4gqw \ttst46 \tt9k4j \tt8m1 \tttf76 \ttwsjm \ttdpj3 \t\n",
            "td6rk \ttzrz1 \ttf402 \tt0ngd \ttsls01 \tttlkd \ttbv7q \ttzl9g \ttxm6v \ttcn3 \t\n",
            "Tags pendientes de listar: 239900\n"
          ],
          "name": "stdout"
        }
      ]
    },
    {
      "metadata": {
        "id": "0rGXYmewZ_tV",
        "colab_type": "text"
      },
      "cell_type": "markdown",
      "source": [
        "### Option only vertical photos"
      ]
    },
    {
      "metadata": {
        "id": "1UI0N_fIU9mR",
        "colab_type": "code",
        "colab": {}
      },
      "cell_type": "code",
      "source": [
        "#listafotos(photosv,5)"
      ],
      "execution_count": 0,
      "outputs": []
    },
    {
      "metadata": {
        "id": "N2AFinbr3v_5",
        "colab_type": "code",
        "colab": {}
      },
      "cell_type": "code",
      "source": [
        "#photosv, nctags, ttags = purgetags(photosv,nctags,False)"
      ],
      "execution_count": 0,
      "outputs": []
    },
    {
      "metadata": {
        "id": "vAwrQeoqVSW2",
        "colab_type": "code",
        "colab": {}
      },
      "cell_type": "code",
      "source": [
        "#listafotos(photosv,5)"
      ],
      "execution_count": 0,
      "outputs": []
    },
    {
      "metadata": {
        "id": "CzSFZlrqaNb5",
        "colab_type": "text"
      },
      "cell_type": "markdown",
      "source": [
        "### Option only horizontal photos"
      ]
    },
    {
      "metadata": {
        "id": "bTvnueGyVVMF",
        "colab_type": "code",
        "colab": {}
      },
      "cell_type": "code",
      "source": [
        "#listafotos(photosh,5)"
      ],
      "execution_count": 0,
      "outputs": []
    },
    {
      "metadata": {
        "id": "YVRxLJ433-DZ",
        "colab_type": "code",
        "colab": {}
      },
      "cell_type": "code",
      "source": [
        "#photosh, nctags, ttags = purgetags(photosh,nctags,False)"
      ],
      "execution_count": 0,
      "outputs": []
    },
    {
      "metadata": {
        "id": "AFBOurXdVYan",
        "colab_type": "code",
        "colab": {}
      },
      "cell_type": "code",
      "source": [
        "#listafotos(photosh,5)"
      ],
      "execution_count": 0,
      "outputs": []
    },
    {
      "metadata": {
        "id": "I-VBaduQaVF0",
        "colab_type": "text"
      },
      "cell_type": "markdown",
      "source": [
        "### Option all photos"
      ]
    },
    {
      "metadata": {
        "id": "_sH9IHEdV3Oj",
        "colab_type": "code",
        "outputId": "ce61502c-965c-4d16-f6ca-89a9ceb7770c",
        "colab": {
          "base_uri": "https://localhost:8080/",
          "height": 119
        }
      },
      "cell_type": "code",
      "source": [
        "listalista(photos,5)"
      ],
      "execution_count": 38,
      "outputs": [
        {
          "output_type": "stream",
          "text": [
            "[0, 'H', 21, {'tj4f', 't6zkl', 'tv1h01', 'tr5fv', 't111w', 'twzgl', 't5xl1', 'tcz3g', 'tc2j5', 't1c76', 't5nnd', 'tkp5g', 'tzdr4', 'tb5p6', 't2hzq', 'tbj57', 't99tm', 'th8wv', 'tv7zt', 'tsmcf', 'tf5wv'}]\n",
            "[1, 'H', 9, {'tlvcq', 'tpvh8', 'tlhlt', 't6p61', 't5x7p', 'tkw11', 'tns01', 'twzsw', 't7fgq'}]\n",
            "[2, 'H', 15, {'tlql4', 'tjj0r', 'tcdv8', 't5pgg', 't4pp6', 't3rgg', 'tl3l6', 't0r1w', 'tn4hp', 'tk3r', 'tf36x', 'tvwcg', 't982j', 'tbb6j', 't62gs'}]\n",
            "[3, 'H', 15, {'tb25z', 'tbns8', 'tx895', 't0h5n', 't919l', 'tfmns', 'tfv2', 't52xx', 't48r2', 'tc9r2', 't3xvq', 'tbzhk', 'tvr51', 't4rt4', 'tqmvs'}]\n",
            "[4, 'H', 15, {'t46vk', 'tk99r', 'tjbc', 'txk58', 't8z5v', 'thh6z', 't7s67', 'tfzzf', 'td6tp', 'thzc5', 't6qt9', 't98wh', 't9h9q', 't5rbj', 't7w5h'}]\n",
            "Elementos pendientes de listar: 79995\n"
          ],
          "name": "stdout"
        }
      ]
    },
    {
      "metadata": {
        "id": "Da8bmY9kgP5o",
        "colab_type": "code",
        "outputId": "fea1535d-3e32-4db8-ceb1-02923e6e32d4",
        "colab": {
          "base_uri": "https://localhost:8080/",
          "height": 34
        }
      },
      "cell_type": "code",
      "source": [
        "photos, nctags, ttags = purgetags(photos,nctags,False)"
      ],
      "execution_count": 39,
      "outputs": [
        {
          "output_type": "stream",
          "text": [
            "N. fotos: 80000 Apariciones Tags: 1200000 Tags diferentes: 600000 Media Tags por imagen: 2.0\n"
          ],
          "name": "stdout"
        }
      ]
    },
    {
      "metadata": {
        "id": "-ZZvDRMUV_PT",
        "colab_type": "code",
        "outputId": "bb1eb8e7-b8e8-4cba-9162-76dabcdf5f04",
        "colab": {
          "base_uri": "https://localhost:8080/",
          "height": 119
        }
      },
      "cell_type": "code",
      "source": [
        "listalista(photos,5)"
      ],
      "execution_count": 40,
      "outputs": [
        {
          "output_type": "stream",
          "text": [
            "[0, 'H', 18, {'tkp5g', 't5xl1', 'tj4f', 't6zkl', 'tzdr4', 'tcz3g', 'tv1h01', 'tr5fv', 'tb5p6', 'th8wv', 'tv7zt', 't2hzq', 't111w', 'tsmcf', 'twzgl', 'tbj57', 't99tm', 't5nnd'}]\n",
            "[1, 'H', 6, {'tlvcq', 'tlhlt', 't6p61', 't5x7p', 'twzsw', 't7fgq'}]\n",
            "[2, 'H', 12, {'tlql4', 'tjj0r', 'tcdv8', 't5pgg', 't4pp6', 'tl3l6', 'tn4hp', 'tk3r', 'tf36x', 'tvwcg', 't982j', 'tbb6j'}]\n",
            "[3, 'H', 12, {'tb25z', 'tbns8', 'tx895', 't0h5n', 'tfmns', 't48r2', 'tc9r2', 't3xvq', 'tbzhk', 'tvr51', 't4rt4', 'tqmvs'}]\n",
            "[4, 'H', 12, {'t46vk', 'tk99r', 'tjbc', 'txk58', 't8z5v', 'thh6z', 't7s67', 'tfzzf', 'td6tp', 't6qt9', 't98wh', 't9h9q'}]\n",
            "Elementos pendientes de listar: 79995\n"
          ],
          "name": "stdout"
        }
      ]
    },
    {
      "metadata": {
        "id": "lyllphC6vsQX",
        "colab_type": "code",
        "colab": {}
      },
      "cell_type": "code",
      "source": [
        "# Remove not linkable tags after Data Structures were processed\n",
        "nctags = set()\n",
        "listatags(nctags,100,18)"
      ],
      "execution_count": 0,
      "outputs": []
    },
    {
      "metadata": {
        "id": "9BlwvTpKo9nv",
        "colab_type": "code",
        "outputId": "65469d33-6ca2-41d8-a1b2-8e6a30502786",
        "colab": {
          "base_uri": "https://localhost:8080/",
          "height": 391
        }
      },
      "cell_type": "code",
      "source": [
        "photos4tag(dtag_ph,tag_ph,20,1)"
      ],
      "execution_count": 45,
      "outputs": [
        {
          "output_type": "stream",
          "text": [
            "tj4f \t[ 0 ]-> [0, 13708] \t\n",
            "t6zkl \t[ 1 ]-> [0, 74267] \t\n",
            "tv1h01 \t[ 2 ]-> [0, 6674] \t\n",
            "tr5fv \t[ 3 ]-> [0, 14519] \t\n",
            "t111w \t[ 4 ]-> [0, 74267] \t\n",
            "twzgl \t[ 5 ]-> [0, 74267] \t\n",
            "t5xl1 \t[ 6 ]-> [0, 14519] \t\n",
            "tcz3g \t[ 7 ]-> [0, 18143] \t\n",
            "t5nnd \t[ 10 ]-> [0, 18143] \t\n",
            "tkp5g \t[ 11 ]-> [0, 14519] \t\n",
            "tzdr4 \t[ 12 ]-> [0, 13708] \t\n",
            "tb5p6 \t[ 13 ]-> [0, 78134] \t\n",
            "t2hzq \t[ 14 ]-> [0, 6674] \t\n",
            "tbj57 \t[ 15 ]-> [0, 78134] \t\n",
            "t99tm \t[ 16 ]-> [0, 13708] \t\n",
            "th8wv \t[ 17 ]-> [0, 18143] \t\n",
            "tv7zt \t[ 18 ]-> [0, 6674] \t\n",
            "tsmcf \t[ 19 ]-> [0, 78134] \t\n",
            "tlvcq \t[ 21 ]-> [1, 74299] \t\n",
            "tlhlt \t[ 23 ]-> [1, 74299] \t\n",
            "\n",
            "Tags pendientes de listar: 599980\n"
          ],
          "name": "stdout"
        }
      ]
    },
    {
      "metadata": {
        "id": "2rf3WvdKRTAj",
        "colab_type": "code",
        "outputId": "c69d0c03-41bb-4baa-e744-3768ee4f669f",
        "colab": {
          "base_uri": "https://localhost:8080/",
          "height": 34
        }
      },
      "cell_type": "code",
      "source": [
        "link2photos(photos,0, dtag_ph, tag_ph),"
      ],
      "execution_count": 222,
      "outputs": [
        {
          "output_type": "execute_result",
          "data": {
            "text/plain": [
              "{6674: 3, 13708: 3, 14519: 3, 18143: 3, 74267: 3, 78134: 3}"
            ]
          },
          "metadata": {
            "tags": []
          },
          "execution_count": 222
        }
      ]
    },
    {
      "metadata": {
        "id": "pJ2IzGdHVWFL",
        "colab_type": "code",
        "colab": {
          "base_uri": "https://localhost:8080/",
          "height": 34
        },
        "outputId": "d0521cd0-b9ae-4cec-aad1-5116918fd52e"
      },
      "cell_type": "code",
      "source": [
        "link2photos(photos,6674, dtag_ph, tag_ph)"
      ],
      "execution_count": 223,
      "outputs": [
        {
          "output_type": "execute_result",
          "data": {
            "text/plain": [
              "{0: 3, 5162: 3, 21743: 3, 33893: 3, 35531: 3, 51243: 3, 67179: 3}"
            ]
          },
          "metadata": {
            "tags": []
          },
          "execution_count": 223
        }
      ]
    },
    {
      "metadata": {
        "id": "z1KXcnQGfN1Y",
        "colab_type": "code",
        "colab": {
          "base_uri": "https://localhost:8080/",
          "height": 34
        },
        "outputId": "31d5bcef-4ca9-4f60-a0ea-d08fef71b44a"
      },
      "cell_type": "code",
      "source": [
        "link2photos(photos,5162, dtag_ph, tag_ph)"
      ],
      "execution_count": 224,
      "outputs": [
        {
          "output_type": "execute_result",
          "data": {
            "text/plain": [
              "{6674: 3, 21043: 3, 66886: 3}"
            ]
          },
          "metadata": {
            "tags": []
          },
          "execution_count": 224
        }
      ]
    },
    {
      "metadata": {
        "id": "OUFeDY8cfffA",
        "colab_type": "code",
        "colab": {
          "base_uri": "https://localhost:8080/",
          "height": 34
        },
        "outputId": "c5d886ee-647f-488a-bf96-ec13ede9d65f"
      },
      "cell_type": "code",
      "source": [
        "listupla(link2photos(photos,21043, dtag_ph, tag_ph))"
      ],
      "execution_count": 228,
      "outputs": [
        {
          "output_type": "stream",
          "text": [
            "35978 : 3 \t68766 : 3 \t5162 : 3 \t13051 : 3 \t53169 : 3 \t66726 : 3 \t1486 : 3 \t6399 : 3 \t34233 : 3 \t"
          ],
          "name": "stdout"
        }
      ]
    },
    {
      "metadata": {
        "id": "CL2Rqhwuffbe",
        "colab_type": "code",
        "colab": {
          "base_uri": "https://localhost:8080/",
          "height": 34
        },
        "outputId": "618bb566-37e1-454c-9596-48a6b4d68764"
      },
      "cell_type": "code",
      "source": [
        "link2photos(photos,35978, dtag_ph, tag_ph)"
      ],
      "execution_count": 230,
      "outputs": [
        {
          "output_type": "execute_result",
          "data": {
            "text/plain": [
              "{784: 3, 8725: 3, 14457: 3, 17484: 3, 21043: 3, 22132: 3, 43522: 3, 68945: 3}"
            ]
          },
          "metadata": {
            "tags": []
          },
          "execution_count": 230
        }
      ]
    },
    {
      "metadata": {
        "id": "kY7vLCC_ffXx",
        "colab_type": "code",
        "colab": {
          "base_uri": "https://localhost:8080/",
          "height": 34
        },
        "outputId": "ee2d0020-74e1-4f55-fb96-540f148b59e9"
      },
      "cell_type": "code",
      "source": [
        "link2photos(photos,784, dtag_ph, tag_ph)"
      ],
      "execution_count": 231,
      "outputs": [
        {
          "output_type": "execute_result",
          "data": {
            "text/plain": [
              "{4670: 3, 9767: 3, 18512: 3, 20240: 3, 35978: 3, 49663: 3, 71229: 3}"
            ]
          },
          "metadata": {
            "tags": []
          },
          "execution_count": 231
        }
      ]
    },
    {
      "metadata": {
        "id": "GDQoF-9pjzwa",
        "colab_type": "code",
        "colab": {}
      },
      "cell_type": "code",
      "source": [
        "idphotos = set()\n",
        "for i in range(len(photos)):\n",
        "  idphotos.add(i)"
      ],
      "execution_count": 0,
      "outputs": []
    },
    {
      "metadata": {
        "id": "PvDyVy1Yl3Zg",
        "colab_type": "code",
        "colab": {
          "base_uri": "https://localhost:8080/",
          "height": 136
        },
        "outputId": "3e8f7feb-92ba-498d-883f-50a1b7e41399"
      },
      "cell_type": "code",
      "source": [
        "listatags(idphotos,200,38)"
      ],
      "execution_count": 449,
      "outputs": [
        {
          "output_type": "stream",
          "text": [
            "0 \t1 \t2 \t3 \t4 \t5 \t6 \t7 \t8 \t9 \t10 \t11 \t12 \t13 \t14 \t15 \t16 \t17 \t18 \t19 \t20 \t21 \t22 \t23 \t24 \t25 \t26 \t27 \t28 \t29 \t30 \t31 \t32 \t33 \t34 \t35 \t36 \t37 \t\n",
            "38 \t39 \t40 \t41 \t42 \t43 \t44 \t45 \t46 \t47 \t48 \t49 \t50 \t51 \t52 \t53 \t54 \t55 \t56 \t57 \t58 \t59 \t60 \t61 \t62 \t63 \t64 \t65 \t66 \t67 \t68 \t69 \t70 \t71 \t72 \t73 \t74 \t75 \t\n",
            "76 \t77 \t78 \t79 \t80 \t81 \t82 \t83 \t84 \t85 \t86 \t87 \t88 \t89 \t90 \t91 \t92 \t93 \t94 \t95 \t96 \t97 \t98 \t99 \t100 \t101 \t102 \t103 \t104 \t105 \t106 \t107 \t108 \t109 \t110 \t111 \t112 \t113 \t\n",
            "114 \t115 \t116 \t117 \t118 \t119 \t120 \t121 \t122 \t123 \t124 \t125 \t126 \t127 \t128 \t129 \t130 \t131 \t132 \t133 \t134 \t135 \t136 \t137 \t138 \t139 \t140 \t141 \t142 \t143 \t144 \t145 \t146 \t147 \t148 \t149 \t150 \t151 \t\n",
            "152 \t153 \t154 \t155 \t156 \t157 \t158 \t159 \t160 \t161 \t162 \t163 \t164 \t165 \t166 \t167 \t168 \t169 \t170 \t171 \t172 \t173 \t174 \t175 \t176 \t177 \t178 \t179 \t180 \t181 \t182 \t183 \t184 \t185 \t186 \t187 \t188 \t189 \t\n",
            "190 \t191 \t192 \t193 \t194 \t195 \t196 \t197 \t198 \t199 \t\n",
            "Tags pendientes de listar: 79800\n"
          ],
          "name": "stdout"
        }
      ]
    },
    {
      "metadata": {
        "id": "7NXKB5nTmzXk",
        "colab_type": "code",
        "colab": {
          "base_uri": "https://localhost:8080/",
          "height": 34
        },
        "outputId": "11bbb64b-2993-4617-9516-0f291e5e4ad1"
      },
      "cell_type": "code",
      "source": [
        "slideshow =[]\n",
        "idphoto = idphotos.pop()\n",
        "slideshow.append(idphoto)\n",
        "slideshow"
      ],
      "execution_count": 450,
      "outputs": [
        {
          "output_type": "execute_result",
          "data": {
            "text/plain": [
              "[0]"
            ]
          },
          "metadata": {
            "tags": []
          },
          "execution_count": 450
        }
      ]
    },
    {
      "metadata": {
        "id": "vDPL5MNFnSkl",
        "colab_type": "code",
        "colab": {}
      },
      "cell_type": "code",
      "source": [
        "linkphoto = link2photos(photos,idphoto, dtag_ph, tag_ph)\n",
        "listupla(linkphoto)"
      ],
      "execution_count": 0,
      "outputs": []
    },
    {
      "metadata": {
        "id": "GSzQosIOnE-h",
        "colab_type": "code",
        "colab": {}
      },
      "cell_type": "code",
      "source": [
        "while True:\n",
        "  linkphoto = link2photos(photos,idphoto, dtag_ph, tag_ph)\n",
        "#  listupla(linkphoto)\n",
        "  for i in linkphoto:\n",
        "    #print(i,'\\t',end='')\n",
        "    j = len(linkphoto)\n",
        "    if i in idphotos:\n",
        "      # print('Nueva:',i)\n",
        "      slideshow.append(i)\n",
        "      idphotos.remove(i)\n",
        "      idphoto = i\n",
        "      break\n",
        "    else:\n",
        "      #print('Coincidente')\n",
        "      j -= 1\n",
        "      continue\n",
        "    if j == 0:\n",
        "      #print('Sin combinaciones')\n",
        "      break\n",
        "  if len(idphotos) == 0:\n",
        "    break"
      ],
      "execution_count": 0,
      "outputs": []
    },
    {
      "metadata": {
        "id": "hh5Vnejiq99B",
        "colab_type": "code",
        "colab": {}
      },
      "cell_type": "code",
      "source": [
        "slideshow"
      ],
      "execution_count": 0,
      "outputs": []
    },
    {
      "metadata": {
        "id": "VQh2k82JwKWW",
        "colab_type": "code",
        "colab": {}
      },
      "cell_type": "code",
      "source": [
        "writedata('lovely.out',slideshow)"
      ],
      "execution_count": 0,
      "outputs": []
    },
    {
      "metadata": {
        "id": "k5EYN_KQxMyJ",
        "colab_type": "code",
        "colab": {
          "base_uri": "https://localhost:8080/",
          "height": 34
        },
        "outputId": "73925155-00b8-43f9-c97e-338e28fa6d61"
      },
      "cell_type": "code",
      "source": [
        "ls"
      ],
      "execution_count": 326,
      "outputs": [
        {
          "output_type": "stream",
          "text": [
            "lovely.in  lovely.out  \u001b[0m\u001b[01;34msample_data\u001b[0m/\n"
          ],
          "name": "stdout"
        }
      ]
    },
    {
      "metadata": {
        "id": "rrnsa2MrxXD0",
        "colab_type": "code",
        "colab": {}
      },
      "cell_type": "code",
      "source": [
        ""
      ],
      "execution_count": 0,
      "outputs": []
    },
    {
      "metadata": {
        "id": "qTthbcOqxawD",
        "colab_type": "code",
        "colab": {}
      },
      "cell_type": "code",
      "source": [
        "# purgephotos(photos, nctags, 6,False)"
      ],
      "execution_count": 0,
      "outputs": []
    },
    {
      "metadata": {
        "id": "uCOdwRowT2Rz",
        "colab_type": "code",
        "colab": {}
      },
      "cell_type": "code",
      "source": [
        "# link(photos,False)"
      ],
      "execution_count": 0,
      "outputs": []
    }
  ]
}