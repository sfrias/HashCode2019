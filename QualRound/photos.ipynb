{
  "nbformat": 4,
  "nbformat_minor": 0,
  "metadata": {
    "colab": {
      "name": "photos",
      "version": "0.3.2",
      "provenance": [],
      "collapsed_sections": [],
      "include_colab_link": true
    },
    "kernelspec": {
      "name": "python3",
      "display_name": "Python 3"
    },
    "accelerator": "GPU"
  },
  "cells": [
    {
      "cell_type": "markdown",
      "metadata": {
        "id": "view-in-github",
        "colab_type": "text"
      },
      "source": [
        "<a href=\"https://colab.research.google.com/github/sfrias/HashCode2019/blob/master/QualRound/photos.ipynb\" target=\"_parent\"><img src=\"https://colab.research.google.com/assets/colab-badge.svg\" alt=\"Open In Colab\"/></a>"
      ]
    },
    {
      "metadata": {
        "id": "yllCUY6PVVEU",
        "colab_type": "code",
        "colab": {}
      },
      "cell_type": "code",
      "source": [
        "# Slideshow with vertical & Horizontal photos. Scoring is calculated with linked tags.\n",
        "# If photos were vertical, two must be combined in one slide. Tags were union of both photos tags\n",
        "# Linked slides match scoring por slideshow.\n",
        "# linkable tags with only one appearance qualify photos:\n",
        "#  ---Horizontal photo for only use with ends of slideshows.\n",
        "#  ---Vertical photo for only bundle slide with other vertical photo to link two ways.\n",
        "# \n",
        "#         "
      ],
      "execution_count": 0,
      "outputs": []
    },
    {
      "metadata": {
        "id": "9Qb_QWP3OlnR",
        "colab_type": "code",
        "colab": {}
      },
      "cell_type": "code",
      "source": [
        "# Import and package configuration\n",
        "from google.colab import files\n",
        "import matplotlib.pyplot as pyplot\n",
        "from pylab import *\n",
        "import networkx\n",
        "import time"
      ],
      "execution_count": 0,
      "outputs": []
    },
    {
      "metadata": {
        "id": "2KpcGf5AQGaH",
        "colab_type": "code",
        "colab": {}
      },
      "cell_type": "code",
      "source": [
        "from itertools import combinations"
      ],
      "execution_count": 0,
      "outputs": []
    },
    {
      "metadata": {
        "id": "TUCsM0OzQXlZ",
        "colab_type": "code",
        "colab": {}
      },
      "cell_type": "code",
      "source": [
        " # Download data files from hashcode"
      ],
      "execution_count": 0,
      "outputs": []
    },
    {
      "metadata": {
        "id": "_f7H-zjWQXWw",
        "colab_type": "code",
        "colab": {}
      },
      "cell_type": "code",
      "source": [
        "#!wget -O example.in  \"https://hashcodejudge.withgoogle.com/download/blob/AMIfv97QHzUItY7To0o6id8E6_kxpE1KwTlPR1T9yC2zlbm46xvPPX7tBn1r5ZNxw9XboxHkVKa82BzM-B65uM92pJRONqfeVlHfpzH8xbqKc9FrAWJnd3Yp5SF7naqscxmnBjTa3R-UcB_bqg5hoAa0TZFXIlvi-RL6y_daJXyNUUHeP1kBxQss_1b2nNbNFg7W3Jtgyl2Vs86QrufNrQcUlNh754HyhRrhV3yJBo66HdYQAa2lPISjoUkUTpWqqrGIEItpPu27GNqcp2I69D8j8A-70B30oU-w7zIe9DJ9xnpC70T6T88\""
      ],
      "execution_count": 0,
      "outputs": []
    },
    {
      "metadata": {
        "id": "JHXji8CdR6IW",
        "colab_type": "code",
        "colab": {
          "base_uri": "https://localhost:8080/",
          "height": 224
        },
        "outputId": "c0c7b7f0-31e7-4be0-a06f-f4c5f68dee8d"
      },
      "cell_type": "code",
      "source": [
        "#!wget -O lovely.in \"https://hashcodejudge.withgoogle.com/download/blob/AMIfv977kmeJsFQfgJNbIlAkviRDMVQcDWj0hLBMvhyg8SuPR52vtGV8uIJsB5nnPDX1Rp14OqzXWF-XXUKp3hhFjdL9PtHAOemuN-rKrd_OgY8pQ6SwgBlBcwPm-5Ova9XoGHSlhT2iLskxOoetjmTNQ8upzsFVkCQqh0gM0P-VX2nWmyxSfIFGmv373rdp9k1Bw9iMdhZXxuMfYIPaWJ8c6izWNYsl9Mpk1a7R0DjShNoDn6Nbfghj_S9bkjGgJS6Clz0b3rMqhHyHAxuIVMnfw1ppwWK_z5TYb4Tsz1vzNERAVPtnuSw\""
      ],
      "execution_count": 1,
      "outputs": [
        {
          "output_type": "stream",
          "text": [
            "--2019-03-10 01:03:07--  https://hashcodejudge.withgoogle.com/download/blob/AMIfv977kmeJsFQfgJNbIlAkviRDMVQcDWj0hLBMvhyg8SuPR52vtGV8uIJsB5nnPDX1Rp14OqzXWF-XXUKp3hhFjdL9PtHAOemuN-rKrd_OgY8pQ6SwgBlBcwPm-5Ova9XoGHSlhT2iLskxOoetjmTNQ8upzsFVkCQqh0gM0P-VX2nWmyxSfIFGmv373rdp9k1Bw9iMdhZXxuMfYIPaWJ8c6izWNYsl9Mpk1a7R0DjShNoDn6Nbfghj_S9bkjGgJS6Clz0b3rMqhHyHAxuIVMnfw1ppwWK_z5TYb4Tsz1vzNERAVPtnuSw\n",
            "Resolving hashcodejudge.withgoogle.com (hashcodejudge.withgoogle.com)... 172.217.212.141, 2607:f8b0:4001:c03::8d\n",
            "Connecting to hashcodejudge.withgoogle.com (hashcodejudge.withgoogle.com)|172.217.212.141|:443... connected.\n",
            "HTTP request sent, awaiting response... 200 OK\n",
            "Length: unspecified [text/plain]\n",
            "Saving to: ‘lovely.in’\n",
            "\n",
            "lovely.in               [      <=>           ]   8.62M  7.51MB/s    in 1.1s    \n",
            "\n",
            "2019-03-10 01:03:14 (7.51 MB/s) - ‘lovely.in’ saved [9039625]\n",
            "\n"
          ],
          "name": "stdout"
        }
      ]
    },
    {
      "metadata": {
        "id": "SfghR8meSpo3",
        "colab_type": "code",
        "colab": {}
      },
      "cell_type": "code",
      "source": [
        "#!wget -O memoments.in \"https://hashcodejudge.withgoogle.com/download/blob/AMIfv94hwk1wpXjU-qRaszhHtsN4gJSGTkGGNfiItXwzXwhtP6IGrdiZrJ16XvlGFZAKOck8csLoiqwaDiJY6pybACZPZoBnwUMB_WLmQPR7XwH_0AMzk4at1sNgwB_f-9wOwSaqAQE8VtIlLNLDOLeo9sJDLxUVceOopaGh93MDCof4KCYXcdvM9tCSQz1sT89KVmM3Qx0Rz0JkXm4-a3mTk_676DubwwI5siY-ulC87_p1qcfeWdJXmuqMO7E-8THazayXZmS2dXyeTWiOOt27fOC06dSTe9mYfNBISojtloNJc-9Xohc\""
      ],
      "execution_count": 0,
      "outputs": []
    },
    {
      "metadata": {
        "id": "b9zUUte-Spjk",
        "colab_type": "code",
        "colab": {}
      },
      "cell_type": "code",
      "source": [
        "#!wget -O petpict.in \"https://hashcodejudge.withgoogle.com/download/blob/AMIfv95TypJhkPij61j5cS87pz5lYAw7u6lKSxctMX0zPI_8N7y-bRcwGLHe8rx8vAaQ_Dszh0yuWjpdXucxsC52Fq-iuNeI9D8ugsj3djcsDH5Ax3TlTILi27GOCPv_-U7KZsyrbKusR5T8saKHiE2cferYs92JBV_nKxm7gxQkzITercTAfcJaEtenWiTS4rhPkIVARXCQE9LaycZvxV4IqTnDCfYHZhtFVV9_Y_h5riDVjGZZd01tplZ1aibiKASlJZulxOwnJGfmgrYkImN3dCaDYx0eAGlGUoRjAF3GsiGdZ4bI0_V-lKZJlSdoMPxCctPLpgvL\""
      ],
      "execution_count": 0,
      "outputs": []
    },
    {
      "metadata": {
        "id": "h5NlNfBJSpWZ",
        "colab_type": "code",
        "colab": {}
      },
      "cell_type": "code",
      "source": [
        "#!wget -O shinyself.in \"https://hashcodejudge.withgoogle.com/download/blob/AMIfv941-URwsmc_UpuUvypgEBaH_U4oDiPKJZR_gk2oNcK8NXMmcZMwFC8qM3aYM_G1dN5hhRt9ONNq_o1RLVdWXqFn6M_DFVf_UnLD0E7Qg-D989lrG08e5FWD06_crrlGQI48euVgJSyEHO2oo8_3506xyzI2KsMLs_zPfjnnRr6sVKSMeQLNWRD4gut2m1QBzkRWvZuigNbXsCFra7wNPrEdPCI4Mf11W9rWcMrVsvMcrAmjw02vPbqqe8QrVwM08n0tMfAvk01BwBEM8RcwkYtkp8IUP3M0_67Sum1zfuFayeLWSOY\""
      ],
      "execution_count": 0,
      "outputs": []
    },
    {
      "metadata": {
        "id": "R2YzU_BOSpGB",
        "colab_type": "code",
        "colab": {
          "base_uri": "https://localhost:8080/",
          "height": 68
        },
        "outputId": "b50cf2ed-7aa7-4ce0-d999-1f516def0b1a"
      },
      "cell_type": "code",
      "source": [
        "#!ls -l"
      ],
      "execution_count": 2,
      "outputs": [
        {
          "output_type": "stream",
          "text": [
            "total 8836\n",
            "-rw-r--r-- 1 root root 9039625 Mar 10 01:03 lovely.in\n",
            "drwxr-xr-x 1 root root    4096 Feb 26 17:33 sample_data\n"
          ],
          "name": "stdout"
        }
      ]
    },
    {
      "metadata": {
        "id": "687Ar8rWTgTY",
        "colab_type": "code",
        "colab": {}
      },
      "cell_type": "code",
      "source": [
        "# Load data file function. Parameters: nom = name of input file, test = 'Test debug mode False or True'\n",
        "def loaddata(nom,test):\n",
        "  file = open(nom,'r')\n",
        "  line = file.readline()\n",
        "  # Assign number of photos from first line\n",
        "  nphotos = int(line.rstrip())\n",
        "  nv = 0 # number of vertical images\n",
        "  nh = 0 # Number of horizontal images\n",
        "  phpt = 0 # photo pointer position to videos list for each tag\n",
        "  ttags = 0 # Tag global number occurrences \n",
        "  nctags = set() # Not linkable tags\n",
        "  ncphotos = set() # Not linkable photos\n",
        "  dtags = {} # tags occurrence, dictionary\n",
        "  dtag_ph = {} # Tag dictionary pointer to tag_ph photos list for each tag\n",
        "  photos = [] # Data for all photos\n",
        "  photosv = [] # Data for vertical photos\n",
        "  photosh = [] # Data for horizontal photos\n",
        "  tag_ph = [] # photos list for each tag, indexed\n",
        "  # Read all image descriptions\n",
        "  for i in range(nphotos):\n",
        "    lista = []\n",
        "    lista = file.readline().rstrip().split(' ')\n",
        "    lista.insert(0,i) # Insert image number\n",
        "    tags = set(lista[3:]) # Store tags as a set\n",
        "    for t in tags: # Adds tag occurrences to dictionary\n",
        "      if t in dtags:\n",
        "        dtags[t] += 1\n",
        "        tag_ph[dtag_ph[t]].append(i)\n",
        "      else:\n",
        "        dtags[t] = 1\n",
        "        dtag_ph[t] = phpt\n",
        "        tag_ph.append([])\n",
        "        tag_ph[phpt].append(i)\n",
        "        phpt += 1\n",
        "    ntags = int(lista[2]) # Convert to int  tag number for photo\n",
        "    lista = lista[:2] # Crop list\n",
        "    # Count number of vertical or horizontal images\n",
        "    # Append elements to list\n",
        "    lista.append(ntags) # Number of tags\n",
        "    lista.append(tags) # Set of tags\n",
        "    ttags += ntags \n",
        "    photos.append(lista)\n",
        "    if lista[1] =='V':\n",
        "      nv +=1\n",
        "      photosv.append(lista) # Add vertical image list data to photos list.\n",
        "    else:\n",
        "      nh +=1\n",
        "      photosh.append(lista) # Add horizontal image list data to photos list.\n",
        "    if test:\n",
        "      print(photos[i])\n",
        "  file.close()\n",
        "  print('N. fotos:',nphotos,'Fotos Verticales:',nv,'Fotos Horiz:',nh,'Tags no combinables horizontales:',len(nctags),'Apariciones Tags:',ttags,'Tags diferentes:',len(dtags),'Media Tags/ imagen:', ttags/len(dtags))\n",
        "  return nphotos, photos, photosv, photosh, nv, nh, nctags, ncphotos, ttags, dtags, dtag_ph, tag_ph"
      ],
      "execution_count": 0,
      "outputs": []
    },
    {
      "metadata": {
        "id": "oIdrf_eXPG4u",
        "colab_type": "code",
        "colab": {}
      },
      "cell_type": "code",
      "source": [
        "def listafotos(photos, limit):\n",
        "  # Lista de fotos enlazables\n",
        "  num = len(photos)\n",
        "  fila = 0\n",
        "  for foto in photos:\n",
        "    print(foto)\n",
        "    num -= 1\n",
        "    fila += 1\n",
        "    if fila >= limit:\n",
        "      print('Fotos pendientes de listar:', num)\n",
        "      break"
      ],
      "execution_count": 0,
      "outputs": []
    },
    {
      "metadata": {
        "id": "I16qPYx1QhLK",
        "colab_type": "code",
        "colab": {}
      },
      "cell_type": "code",
      "source": [
        "def listatags(tags, limit, nrow = 18):\n",
        "  # Lista tags\n",
        "  num = len(tags)\n",
        "  listed = 0\n",
        "  columna = 0\n",
        "  for tag in tags:\n",
        "    print(str(tag),'\\t', end='')\n",
        "    num -= 1\n",
        "    listed += 1\n",
        "    columna += 1\n",
        "    if columna >= nrow:\n",
        "      print()\n",
        "      columna = 0\n",
        "    if listed >= limit:\n",
        "      print()\n",
        "      print('Tags pendientes de listar:', num)\n",
        "      break"
      ],
      "execution_count": 0,
      "outputs": []
    },
    {
      "metadata": {
        "id": "GT_GrvXJv64a",
        "colab_type": "code",
        "colab": {}
      },
      "cell_type": "code",
      "source": [
        "def listupla(dicc, limit, nrow = 18):\n",
        "  # Lista tags\n",
        "  num = len(dicc)\n",
        "  listed = 0\n",
        "  columna = 0\n",
        "  for tupla in dicc:\n",
        "    print(tupla,':',dicc[tupla],'\\t', end='')\n",
        "    num -= 1\n",
        "    listed += 1\n",
        "    columna += 1\n",
        "    if columna >= nrow:\n",
        "      print()\n",
        "      columna = 0\n",
        "    if listed >= limit:\n",
        "      print()\n",
        "      print('Tags pendientes de listar:', num)\n",
        "      break"
      ],
      "execution_count": 0,
      "outputs": []
    },
    {
      "metadata": {
        "id": "7JmsJpXe01an",
        "colab_type": "code",
        "colab": {}
      },
      "cell_type": "code",
      "source": [
        "def photos4tag(dtag_ph, tag_ph, limit=10):\n",
        "  num = len(dtag_ph)\n",
        "  listed = 0\n",
        "  for t in dtag_ph:\n",
        "    ptlist = dtag_ph[t]\n",
        "    print(t,'\\t[', ptlist, ']->',end='')\n",
        "    for i in tag_ph[ptlist]:\n",
        "      print(i,'\\t',end='')\n",
        "    num -= 1\n",
        "    listed += 1\n",
        "    print()\n",
        "    if listed >= limit:\n",
        "      print()\n",
        "      print('Tags pendientes de listar:', num)\n",
        "      break"
      ],
      "execution_count": 0,
      "outputs": []
    },
    {
      "metadata": {
        "id": "wOpLLqSMbW8a",
        "colab_type": "code",
        "colab": {}
      },
      "cell_type": "code",
      "source": [
        "def purgedict(dtags,nctags, test):\n",
        "  tuplas = list(dtags.items())\n",
        "  j = 0\n",
        "  for i in tuplas:\n",
        "    #print('\\t',dtags[tuplas[j][0]],end='')\n",
        "    if dtags[tuplas[j][0]]<=1:\n",
        "      if test:\n",
        "        print ('----->Tag:', i, 'no combinable...eliminando de dtags y añadiendo a nctags')\n",
        "      nctags.add(tuplas[j][0]) # Add at not linkable tags set\n",
        "      del(dtags[tuplas[j][0]]) # remove tuple from dictionary for number of occurrences to this tag\n",
        "    j+= 1\n",
        "  tuplas = []\n",
        "  print('N. fotos:',nphotos,'Fotos Verticales:',nv,'Fotos Horiz:',nh,'Tags no combinables horizontales:',len(nctags),'Apariciones Tags:',ttags,'Tags diferentes:',len(dtags),'Media Tags por imagen:', ttags/len(dtags))\n",
        "  return dtags,nctags\n"
      ],
      "execution_count": 0,
      "outputs": []
    },
    {
      "metadata": {
        "id": "7EQugVxlcGBm",
        "colab_type": "code",
        "colab": {}
      },
      "cell_type": "code",
      "source": [
        "# Purge for unlinkable tags at photos list\n",
        "def purgetags(photos, nctags, test):\n",
        "  #print('Purgando tags no combinables en lista de fotos')\n",
        "  ttags = 0\n",
        "  for photo in photos:\n",
        "    if test:\n",
        "      print(photo,end='')\n",
        "    photo[3]=photo[3]-nctags\n",
        "    photo[2]=len(photo[3])\n",
        "    ttags += photo[2]\n",
        "    if test:\n",
        "      print('++',photo[3])\n",
        "  print('N. fotos:',len(photos),'Apariciones Tags:',ttags,'Tags diferentes:',len(dtags),'Media Tags por imagen:', ttags/len(dtags))\n",
        "  return photos, nctags,ttags"
      ],
      "execution_count": 0,
      "outputs": []
    },
    {
      "metadata": {
        "id": "aK8Tv-u1UGFd",
        "colab_type": "code",
        "colab": {}
      },
      "cell_type": "code",
      "source": [
        "# Purge for photos that can't be linked,\n",
        "def purgephotos(photos, nctags, rango, test):\n",
        "    cont = 0\n",
        "    print('Fotos que son menos combinables.',rango,' tags combinables') \n",
        "    for photo in photos:\n",
        "      if len(photo[3]-nctags)<=rango:\n",
        "        if test:\n",
        "          print(photo)\n",
        "          print('tags - nctags:', end='')\n",
        "          print(photo[3]-nctags)\n",
        "          print('--------------------')\n",
        "        print('+')\n",
        "        cont +=1\n",
        "      # else:\n",
        "        #if test:\n",
        "        #  print(photo)\n",
        "        #  print('tags - nctags:', end='')\n",
        "        #  print(photo[3]-nctags)\n",
        "        #  print('-',end='')\n",
        "    print(cont, 'menos combinables')"
      ],
      "execution_count": 0,
      "outputs": []
    },
    {
      "metadata": {
        "id": "JW5ss8ZXztAh",
        "colab_type": "code",
        "colab": {}
      },
      "cell_type": "code",
      "source": [
        "# Find the best option to combine two horizontal slides\n",
        "def link(photos, test ):\n",
        "  pos_candidato1 = 0\n",
        "  pos_candidato2 = 0\n",
        "  maxint = 0\n",
        "  ptpic = 0\n",
        "  for pic in photos:\n",
        "    if test:\n",
        "      print('++', ptpic, '\\t++', photos[ptpic],'+++')\n",
        "    for pointer in range(ptpic+1,len(photos)):\n",
        "      inter = pic[3] & photos[pointer][3]\n",
        "      ninter = len (inter)\n",
        "      if test:\n",
        "        print('Foto Puntero:', pic, 'Foto a comparar:',photos[pointer], 'Interseccion:', end='')\n",
        "        print (inter,'Tags comunes:',ninter)\n",
        "      if ninter > maxint:\n",
        "        pos_candidato1 = ptpic\n",
        "        pos_candidato2 = pointer\n",
        "        maxint = ninter\n",
        "        print('Candidatos', photos[pos_candidato1],'+', photos[pos_candidato2], 'Inters:', inter, 'Ntags:', ninter)\n",
        "    ptpic += 1"
      ],
      "execution_count": 0,
      "outputs": []
    },
    {
      "metadata": {
        "id": "3acxLMllMmqt",
        "colab_type": "code",
        "outputId": "8bd1017c-9b31-4605-f39d-6d762e4653f3",
        "colab": {
          "base_uri": "https://localhost:8080/",
          "height": 34
        }
      },
      "cell_type": "code",
      "source": [
        "nphotos, photos, photosv, photosh, nv, nh, nctags, ncphotos, ttags, dtags, dtag_ph, tag_ph = loaddata('lovely.in',False)"
      ],
      "execution_count": 10,
      "outputs": [
        {
          "output_type": "stream",
          "text": [
            "N. fotos: 80000 Fotos Verticales: 0 Fotos Horiz: 80000 Tags no combinables horizontales: 0 Apariciones Tags: 1440000 Tags diferentes: 840000 Media Tags/ imagen: 1.7142857142857142\n"
          ],
          "name": "stdout"
        }
      ]
    },
    {
      "metadata": {
        "id": "_DURId8WIUPi",
        "colab_type": "code",
        "colab": {
          "base_uri": "https://localhost:8080/",
          "height": 391
        },
        "outputId": "836fea87-bda2-402f-aee4-4f288142f231"
      },
      "cell_type": "code",
      "source": [
        "photos4tag(dtag_ph,tag_ph,20)"
      ],
      "execution_count": 11,
      "outputs": [
        {
          "output_type": "stream",
          "text": [
            "tsmcf \t[ 0 ]->0 \t78134 \t\n",
            "tzdr4 \t[ 1 ]->0 \t13708 \t\n",
            "t5xl1 \t[ 2 ]->0 \t14519 \t\n",
            "tb5p6 \t[ 3 ]->0 \t78134 \t\n",
            "t5nnd \t[ 4 ]->0 \t18143 \t\n",
            "tf5wv \t[ 5 ]->0 \t\n",
            "t111w \t[ 6 ]->0 \t74267 \t\n",
            "twzgl \t[ 7 ]->0 \t74267 \t\n",
            "t6zkl \t[ 8 ]->0 \t74267 \t\n",
            "th8wv \t[ 9 ]->0 \t18143 \t\n",
            "t2hzq \t[ 10 ]->0 \t6674 \t\n",
            "t99tm \t[ 11 ]->0 \t13708 \t\n",
            "tc2j5 \t[ 12 ]->0 \t\n",
            "t1c76 \t[ 13 ]->0 \t\n",
            "tv1h01 \t[ 14 ]->0 \t6674 \t\n",
            "tj4f \t[ 15 ]->0 \t13708 \t\n",
            "tkp5g \t[ 16 ]->0 \t14519 \t\n",
            "tcz3g \t[ 17 ]->0 \t18143 \t\n",
            "tr5fv \t[ 18 ]->0 \t14519 \t\n",
            "tbj57 \t[ 19 ]->0 \t78134 \t\n",
            "\n",
            "Tags pendientes de listar: 839980\n"
          ],
          "name": "stdout"
        }
      ]
    },
    {
      "metadata": {
        "id": "O8OOl-9Hvrwy",
        "colab_type": "code",
        "outputId": "cb92e183-b74c-4d0d-d9d3-6b5b1955d615",
        "colab": {
          "base_uri": "https://localhost:8080/",
          "height": 102
        }
      },
      "cell_type": "code",
      "source": [
        "# List number of ocurrences for eacj tag on all photos\n",
        "listupla(dtags,50,15)"
      ],
      "execution_count": 12,
      "outputs": [
        {
          "output_type": "stream",
          "text": [
            "tsmcf : 2 \ttzdr4 : 2 \tt5xl1 : 2 \ttb5p6 : 2 \tt5nnd : 2 \ttf5wv : 1 \tt111w : 2 \ttwzgl : 2 \tt6zkl : 2 \tth8wv : 2 \tt2hzq : 2 \tt99tm : 2 \ttc2j5 : 1 \tt1c76 : 1 \ttv1h01 : 2 \t\n",
            "tj4f : 2 \ttkp5g : 2 \ttcz3g : 2 \ttr5fv : 2 \ttbj57 : 2 \ttv7zt : 2 \ttlhlt : 2 \ttkw11 : 1 \tt6p61 : 2 \ttns01 : 1 \ttlvcq : 2 \ttwzsw : 2 \tt7fgq : 2 \tt5x7p : 2 \ttpvh8 : 1 \t\n",
            "tl3l6 : 2 \ttf36x : 2 \tt3rgg : 1 \ttn4hp : 2 \tt4pp6 : 2 \tt62gs : 1 \tt5pgg : 2 \ttvwcg : 2 \ttjj0r : 2 \ttcdv8 : 2 \ttlql4 : 2 \ttbb6j : 2 \tt0r1w : 1 \ttk3r : 2 \tt982j : 2 \t\n",
            "t3xvq : 2 \ttbzhk : 2 \ttx895 : 2 \ttfmns : 2 \tt48r2 : 2 \t\n",
            "Tags pendientes de listar: 839950\n"
          ],
          "name": "stdout"
        }
      ]
    },
    {
      "metadata": {
        "id": "doy2pzhyMEfY",
        "colab_type": "code",
        "outputId": "b135cd22-dcc7-477b-ac07-59ac31adc359",
        "colab": {
          "base_uri": "https://localhost:8080/",
          "height": 34
        }
      },
      "cell_type": "code",
      "source": [
        "dtags, nctags = purgedict(dtags, nctags, False)"
      ],
      "execution_count": 13,
      "outputs": [
        {
          "output_type": "stream",
          "text": [
            "N. fotos: 80000 Fotos Verticales: 0 Fotos Horiz: 80000 Tags no combinables horizontales: 240000 Apariciones Tags: 1440000 Tags diferentes: 600000 Media Tags por imagen: 2.4\n"
          ],
          "name": "stdout"
        }
      ]
    },
    {
      "metadata": {
        "id": "i2x5837nMZ7h",
        "colab_type": "code",
        "outputId": "95f5e83a-9f2f-4753-8d4b-38f7095f7035",
        "colab": {
          "base_uri": "https://localhost:8080/",
          "height": 102
        }
      },
      "cell_type": "code",
      "source": [
        "# List number of ocurrences for eacj tag in photos list\n",
        "listupla(dtags,50,15)"
      ],
      "execution_count": 14,
      "outputs": [
        {
          "output_type": "stream",
          "text": [
            "tsmcf : 2 \ttzdr4 : 2 \tt5xl1 : 2 \ttb5p6 : 2 \tt5nnd : 2 \tt111w : 2 \ttwzgl : 2 \tt6zkl : 2 \tth8wv : 2 \tt2hzq : 2 \tt99tm : 2 \ttv1h01 : 2 \ttj4f : 2 \ttkp5g : 2 \ttcz3g : 2 \t\n",
            "tr5fv : 2 \ttbj57 : 2 \ttv7zt : 2 \ttlhlt : 2 \tt6p61 : 2 \ttlvcq : 2 \ttwzsw : 2 \tt7fgq : 2 \tt5x7p : 2 \ttl3l6 : 2 \ttf36x : 2 \ttn4hp : 2 \tt4pp6 : 2 \tt5pgg : 2 \ttvwcg : 2 \t\n",
            "tjj0r : 2 \ttcdv8 : 2 \ttlql4 : 2 \ttbb6j : 2 \ttk3r : 2 \tt982j : 2 \tt3xvq : 2 \ttbzhk : 2 \ttx895 : 2 \ttfmns : 2 \tt48r2 : 2 \ttvr51 : 2 \ttb25z : 2 \ttbns8 : 2 \ttqmvs : 2 \t\n",
            "tc9r2 : 2 \tt0h5n : 2 \tt4rt4 : 2 \tt8z5v : 2 \ttjbc : 2 \t\n",
            "Tags pendientes de listar: 599950\n"
          ],
          "name": "stdout"
        }
      ]
    },
    {
      "metadata": {
        "id": "otjYOHNGI7jP",
        "colab_type": "code",
        "colab": {
          "base_uri": "https://localhost:8080/",
          "height": 425
        },
        "outputId": "e1a7b034-5105-4724-a0f0-5f9ffe984f55"
      },
      "cell_type": "code",
      "source": [
        "photos4tag(dtag_ph,tag_ph,22)"
      ],
      "execution_count": 30,
      "outputs": [
        {
          "output_type": "stream",
          "text": [
            "tsmcf \t[ 0 ]->0 \t78134 \t\n",
            "tzdr4 \t[ 1 ]->0 \t13708 \t\n",
            "t5xl1 \t[ 2 ]->0 \t14519 \t\n",
            "tb5p6 \t[ 3 ]->0 \t78134 \t\n",
            "t5nnd \t[ 4 ]->0 \t18143 \t\n",
            "tf5wv \t[ 5 ]->0 \t\n",
            "t111w \t[ 6 ]->0 \t74267 \t\n",
            "twzgl \t[ 7 ]->0 \t74267 \t\n",
            "t6zkl \t[ 8 ]->0 \t74267 \t\n",
            "th8wv \t[ 9 ]->0 \t18143 \t\n",
            "t2hzq \t[ 10 ]->0 \t6674 \t\n",
            "t99tm \t[ 11 ]->0 \t13708 \t\n",
            "tc2j5 \t[ 12 ]->0 \t\n",
            "t1c76 \t[ 13 ]->0 \t\n",
            "tv1h01 \t[ 14 ]->0 \t6674 \t\n",
            "tj4f \t[ 15 ]->0 \t13708 \t\n",
            "tkp5g \t[ 16 ]->0 \t14519 \t\n",
            "tcz3g \t[ 17 ]->0 \t18143 \t\n",
            "tr5fv \t[ 18 ]->0 \t14519 \t\n",
            "tbj57 \t[ 19 ]->0 \t78134 \t\n",
            "tv7zt \t[ 20 ]->0 \t6674 \t\n",
            "tlhlt \t[ 21 ]->1 \t74299 \t\n",
            "\n",
            "Tags pendientes de listar: 839978\n"
          ],
          "name": "stdout"
        }
      ]
    },
    {
      "metadata": {
        "id": "9GgIDppHRM7W",
        "colab_type": "code",
        "outputId": "a86c9dcf-2588-4623-ddec-f88b684f0d26",
        "colab": {
          "base_uri": "https://localhost:8080/",
          "height": 102
        }
      },
      "cell_type": "code",
      "source": [
        "# Listar tags no combinables\n",
        "listatags(nctags,50,15)"
      ],
      "execution_count": 16,
      "outputs": [
        {
          "output_type": "stream",
          "text": [
            "t0r5c \tt0qtg \tthdqt \tt8ghn \ttx00k \ttnn27 \ttgc7d \ttkz6p \ttdsn7 \ttjs78 \ttv9f8 \ttb9jk \tt7tr6 \ttqjt4 \ttzs2f \t\n",
            "twnm4 \ttlnwz \ttznbv \tt208q \ttz4rb \tt9rjw \tt1w9m \ttwpjd \ttwbxx \tthl6f \tt853s \ttxdm6 \tttz8x \ttbqw \ttpp33 \t\n",
            "t6fzx \tt7jp1 \tt60l \ttk5q6 \tt29f2 \ttbzk4 \ttr26p \ttb8w1 \tt1b89 \ttmf1 \ttxwt01 \tt92tw \tt9hwq \ttkz101 \ttzkfg \t\n",
            "tcv3x \ttlt8w \ttghlf \ttb3t1 \tttj62 \t\n",
            "Tags pendientes de listar: 239950\n"
          ],
          "name": "stdout"
        }
      ]
    },
    {
      "metadata": {
        "id": "1UI0N_fIU9mR",
        "colab_type": "code",
        "colab": {}
      },
      "cell_type": "code",
      "source": [
        "listafotos(photosv,5)"
      ],
      "execution_count": 0,
      "outputs": []
    },
    {
      "metadata": {
        "id": "N2AFinbr3v_5",
        "colab_type": "code",
        "outputId": "1e10b840-fd66-4bec-9697-c807c616a89c",
        "colab": {
          "base_uri": "https://localhost:8080/",
          "height": 34
        }
      },
      "cell_type": "code",
      "source": [
        "photosv, nctags, ttags = purgetags(photosv,nctags,False)"
      ],
      "execution_count": 18,
      "outputs": [
        {
          "output_type": "stream",
          "text": [
            "N. fotos: 0 Apariciones Tags: 0 Tags diferentes: 600000 Media Tags por imagen: 0.0\n"
          ],
          "name": "stdout"
        }
      ]
    },
    {
      "metadata": {
        "id": "vAwrQeoqVSW2",
        "colab_type": "code",
        "colab": {}
      },
      "cell_type": "code",
      "source": [
        "listafotos(photosv,5)"
      ],
      "execution_count": 0,
      "outputs": []
    },
    {
      "metadata": {
        "id": "bTvnueGyVVMF",
        "colab_type": "code",
        "outputId": "5609d0f6-e18c-4dd2-8261-69db9d224992",
        "colab": {
          "base_uri": "https://localhost:8080/",
          "height": 119
        }
      },
      "cell_type": "code",
      "source": [
        "listafotos(photosh,5)"
      ],
      "execution_count": 20,
      "outputs": [
        {
          "output_type": "stream",
          "text": [
            "[0, 'H', 21, {'tsmcf', 'tzdr4', 't5xl1', 'tb5p6', 't5nnd', 'tf5wv', 't111w', 'twzgl', 't6zkl', 'th8wv', 't2hzq', 't99tm', 'tc2j5', 't1c76', 'tv1h01', 'tj4f', 'tkp5g', 'tcz3g', 'tr5fv', 'tbj57', 'tv7zt'}]\n",
            "[1, 'H', 9, {'tlhlt', 'tkw11', 't6p61', 'tns01', 'tlvcq', 'twzsw', 't7fgq', 't5x7p', 'tpvh8'}]\n",
            "[2, 'H', 15, {'tl3l6', 'tf36x', 't3rgg', 'tn4hp', 't4pp6', 't62gs', 't5pgg', 'tvwcg', 'tjj0r', 'tcdv8', 'tlql4', 'tbb6j', 't0r1w', 'tk3r', 't982j'}]\n",
            "[3, 'H', 15, {'t3xvq', 'tbzhk', 'tx895', 'tfmns', 't48r2', 'tvr51', 'tb25z', 'tfv2', 'tbns8', 'tqmvs', 'tc9r2', 't52xx', 't0h5n', 't919l', 't4rt4'}]\n",
            "[4, 'H', 15, {'t8z5v', 'tjbc', 'tk99r', 'td6tp', 't46vk', 't7w5h', 't5rbj', 'tfzzf', 'thh6z', 't7s67', 't6qt9', 't98wh', 'thzc5', 'txk58', 't9h9q'}]\n",
            "Fotos pendientes de listar: 79995\n"
          ],
          "name": "stdout"
        }
      ]
    },
    {
      "metadata": {
        "id": "YVRxLJ433-DZ",
        "colab_type": "code",
        "outputId": "4c2d8aba-01ba-48ca-8105-07138167e2ea",
        "colab": {
          "base_uri": "https://localhost:8080/",
          "height": 34
        }
      },
      "cell_type": "code",
      "source": [
        "photosh, nctags, ttags = purgetags(photosh,nctags,False)"
      ],
      "execution_count": 21,
      "outputs": [
        {
          "output_type": "stream",
          "text": [
            "N. fotos: 80000 Apariciones Tags: 1200000 Tags diferentes: 600000 Media Tags por imagen: 2.0\n"
          ],
          "name": "stdout"
        }
      ]
    },
    {
      "metadata": {
        "id": "AFBOurXdVYan",
        "colab_type": "code",
        "outputId": "352c422a-b16c-4ca6-f8cc-ae8030353997",
        "colab": {
          "base_uri": "https://localhost:8080/",
          "height": 119
        }
      },
      "cell_type": "code",
      "source": [
        "listafotos(photosh,5)"
      ],
      "execution_count": 22,
      "outputs": [
        {
          "output_type": "stream",
          "text": [
            "[0, 'H', 18, {'tv1h01', 't2hzq', 'tj4f', 'tsmcf', 'tb5p6', 'tzdr4', 't5nnd', 'tkp5g', 't99tm', 'tv7zt', 't111w', 'tcz3g', 'twzgl', 'tr5fv', 't5xl1', 'tbj57', 'th8wv', 't6zkl'}]\n",
            "[1, 'H', 6, {'tlhlt', 't6p61', 'tlvcq', 'twzsw', 't7fgq', 't5x7p'}]\n",
            "[2, 'H', 12, {'tl3l6', 'tf36x', 't4pp6', 't5pgg', 'tvwcg', 'tjj0r', 'tcdv8', 'tlql4', 'tbb6j', 'tk3r', 'tn4hp', 't982j'}]\n",
            "[3, 'H', 12, {'t3xvq', 'tbzhk', 'tx895', 'tfmns', 't48r2', 'tvr51', 'tb25z', 'tc9r2', 'tbns8', 'tqmvs', 't0h5n', 't4rt4'}]\n",
            "[4, 'H', 12, {'t8z5v', 'tjbc', 'td6tp', 't46vk', 'tfzzf', 'thh6z', 't6qt9', 't9h9q', 't7s67', 't98wh', 'txk58', 'tk99r'}]\n",
            "Fotos pendientes de listar: 79995\n"
          ],
          "name": "stdout"
        }
      ]
    },
    {
      "metadata": {
        "id": "_sH9IHEdV3Oj",
        "colab_type": "code",
        "outputId": "bc97bf84-2271-4281-e71f-3591aa1d836c",
        "colab": {
          "base_uri": "https://localhost:8080/",
          "height": 119
        }
      },
      "cell_type": "code",
      "source": [
        "listafotos(photos,5)"
      ],
      "execution_count": 23,
      "outputs": [
        {
          "output_type": "stream",
          "text": [
            "[0, 'H', 18, {'tv1h01', 't2hzq', 'tj4f', 'tsmcf', 'tb5p6', 'tzdr4', 't5nnd', 'tkp5g', 't99tm', 'tv7zt', 't111w', 'tcz3g', 'twzgl', 'tr5fv', 't5xl1', 'tbj57', 'th8wv', 't6zkl'}]\n",
            "[1, 'H', 6, {'tlhlt', 't6p61', 'tlvcq', 'twzsw', 't7fgq', 't5x7p'}]\n",
            "[2, 'H', 12, {'tl3l6', 'tf36x', 't4pp6', 't5pgg', 'tvwcg', 'tjj0r', 'tcdv8', 'tlql4', 'tbb6j', 'tk3r', 'tn4hp', 't982j'}]\n",
            "[3, 'H', 12, {'t3xvq', 'tbzhk', 'tx895', 'tfmns', 't48r2', 'tvr51', 'tb25z', 'tc9r2', 'tbns8', 'tqmvs', 't0h5n', 't4rt4'}]\n",
            "[4, 'H', 12, {'t8z5v', 'tjbc', 'td6tp', 't46vk', 'tfzzf', 'thh6z', 't6qt9', 't9h9q', 't7s67', 't98wh', 'txk58', 'tk99r'}]\n",
            "Fotos pendientes de listar: 79995\n"
          ],
          "name": "stdout"
        }
      ]
    },
    {
      "metadata": {
        "id": "Da8bmY9kgP5o",
        "colab_type": "code",
        "outputId": "ea07bd8f-ef1f-44ce-ef59-e9fc1877067d",
        "colab": {
          "base_uri": "https://localhost:8080/",
          "height": 34
        }
      },
      "cell_type": "code",
      "source": [
        "photos, nctags, ttags = purgetags(photos,nctags,False)"
      ],
      "execution_count": 24,
      "outputs": [
        {
          "output_type": "stream",
          "text": [
            "N. fotos: 80000 Apariciones Tags: 1200000 Tags diferentes: 600000 Media Tags por imagen: 2.0\n"
          ],
          "name": "stdout"
        }
      ]
    },
    {
      "metadata": {
        "id": "-ZZvDRMUV_PT",
        "colab_type": "code",
        "outputId": "33b88253-84d7-4b55-c930-01261be1a42f",
        "colab": {
          "base_uri": "https://localhost:8080/",
          "height": 119
        }
      },
      "cell_type": "code",
      "source": [
        "listafotos(photos,5)"
      ],
      "execution_count": 25,
      "outputs": [
        {
          "output_type": "stream",
          "text": [
            "[0, 'H', 18, {'tv1h01', 't2hzq', 'tj4f', 'tsmcf', 'tb5p6', 'tzdr4', 't5nnd', 'tkp5g', 't99tm', 't111w', 'tcz3g', 'twzgl', 'tr5fv', 't5xl1', 't6zkl', 'tbj57', 'th8wv', 'tv7zt'}]\n",
            "[1, 'H', 6, {'tlhlt', 't6p61', 'tlvcq', 'twzsw', 't7fgq', 't5x7p'}]\n",
            "[2, 'H', 12, {'tl3l6', 'tf36x', 'tn4hp', 't4pp6', 't5pgg', 'tvwcg', 'tjj0r', 'tcdv8', 'tlql4', 'tbb6j', 'tk3r', 't982j'}]\n",
            "[3, 'H', 12, {'t3xvq', 'tbzhk', 'tx895', 'tfmns', 't48r2', 'tvr51', 'tb25z', 'tc9r2', 'tbns8', 'tqmvs', 't0h5n', 't4rt4'}]\n",
            "[4, 'H', 12, {'t8z5v', 'tjbc', 'td6tp', 'tk99r', 't46vk', 'tfzzf', 'thh6z', 't6qt9', 't7s67', 't98wh', 'txk58', 't9h9q'}]\n",
            "Fotos pendientes de listar: 79995\n"
          ],
          "name": "stdout"
        }
      ]
    },
    {
      "metadata": {
        "id": "lyllphC6vsQX",
        "colab_type": "code",
        "colab": {}
      },
      "cell_type": "code",
      "source": [
        "nctags = set()"
      ],
      "execution_count": 0,
      "outputs": []
    },
    {
      "metadata": {
        "id": "FdfaRF8Co914",
        "colab_type": "code",
        "colab": {
          "base_uri": "https://localhost:8080/",
          "height": 102
        },
        "outputId": "a688ac52-bab3-4508-ab8c-ab053098a5f0"
      },
      "cell_type": "code",
      "source": [
        "listupla(dtags,50,15)"
      ],
      "execution_count": 33,
      "outputs": [
        {
          "output_type": "stream",
          "text": [
            "tsmcf : 2 \ttzdr4 : 2 \tt5xl1 : 2 \ttb5p6 : 2 \tt5nnd : 2 \tt111w : 2 \ttwzgl : 2 \tt6zkl : 2 \tth8wv : 2 \tt2hzq : 2 \tt99tm : 2 \ttv1h01 : 2 \ttj4f : 2 \ttkp5g : 2 \ttcz3g : 2 \t\n",
            "tr5fv : 2 \ttbj57 : 2 \ttv7zt : 2 \ttlhlt : 2 \tt6p61 : 2 \ttlvcq : 2 \ttwzsw : 2 \tt7fgq : 2 \tt5x7p : 2 \ttl3l6 : 2 \ttf36x : 2 \ttn4hp : 2 \tt4pp6 : 2 \tt5pgg : 2 \ttvwcg : 2 \t\n",
            "tjj0r : 2 \ttcdv8 : 2 \ttlql4 : 2 \ttbb6j : 2 \ttk3r : 2 \tt982j : 2 \tt3xvq : 2 \ttbzhk : 2 \ttx895 : 2 \ttfmns : 2 \tt48r2 : 2 \ttvr51 : 2 \ttb25z : 2 \ttbns8 : 2 \ttqmvs : 2 \t\n",
            "tc9r2 : 2 \tt0h5n : 2 \tt4rt4 : 2 \tt8z5v : 2 \ttjbc : 2 \t\n",
            "Tags pendientes de listar: 599950\n"
          ],
          "name": "stdout"
        }
      ]
    },
    {
      "metadata": {
        "id": "9BlwvTpKo9nv",
        "colab_type": "code",
        "colab": {
          "base_uri": "https://localhost:8080/",
          "height": 391
        },
        "outputId": "96cbbf2b-1426-43a1-fa68-d8710349644a"
      },
      "cell_type": "code",
      "source": [
        "photos4tag(dtag_ph,tag_ph,20)"
      ],
      "execution_count": 31,
      "outputs": [
        {
          "output_type": "stream",
          "text": [
            "tsmcf \t[ 0 ]->0 \t78134 \t\n",
            "tzdr4 \t[ 1 ]->0 \t13708 \t\n",
            "t5xl1 \t[ 2 ]->0 \t14519 \t\n",
            "tb5p6 \t[ 3 ]->0 \t78134 \t\n",
            "t5nnd \t[ 4 ]->0 \t18143 \t\n",
            "tf5wv \t[ 5 ]->0 \t\n",
            "t111w \t[ 6 ]->0 \t74267 \t\n",
            "twzgl \t[ 7 ]->0 \t74267 \t\n",
            "t6zkl \t[ 8 ]->0 \t74267 \t\n",
            "th8wv \t[ 9 ]->0 \t18143 \t\n",
            "t2hzq \t[ 10 ]->0 \t6674 \t\n",
            "t99tm \t[ 11 ]->0 \t13708 \t\n",
            "tc2j5 \t[ 12 ]->0 \t\n",
            "t1c76 \t[ 13 ]->0 \t\n",
            "tv1h01 \t[ 14 ]->0 \t6674 \t\n",
            "tj4f \t[ 15 ]->0 \t13708 \t\n",
            "tkp5g \t[ 16 ]->0 \t14519 \t\n",
            "tcz3g \t[ 17 ]->0 \t18143 \t\n",
            "tr5fv \t[ 18 ]->0 \t14519 \t\n",
            "tbj57 \t[ 19 ]->0 \t78134 \t\n",
            "\n",
            "Tags pendientes de listar: 839980\n"
          ],
          "name": "stdout"
        }
      ]
    },
    {
      "metadata": {
        "id": "OjDqOpN2o9em",
        "colab_type": "code",
        "colab": {}
      },
      "cell_type": "code",
      "source": [
        ""
      ],
      "execution_count": 0,
      "outputs": []
    },
    {
      "metadata": {
        "id": "qTthbcOqxawD",
        "colab_type": "code",
        "colab": {}
      },
      "cell_type": "code",
      "source": [
        "# purgephotos(photos, nctags, 6,False)"
      ],
      "execution_count": 0,
      "outputs": []
    },
    {
      "metadata": {
        "id": "uCOdwRowT2Rz",
        "colab_type": "code",
        "colab": {}
      },
      "cell_type": "code",
      "source": [
        "# link(photos,False)"
      ],
      "execution_count": 0,
      "outputs": []
    }
  ]
}