{
  "nbformat": 4,
  "nbformat_minor": 0,
  "metadata": {
    "colab": {
      "name": "photos",
      "version": "0.3.2",
      "provenance": [],
      "collapsed_sections": [],
      "include_colab_link": true
    },
    "kernelspec": {
      "name": "python3",
      "display_name": "Python 3"
    }
  },
  "cells": [
    {
      "cell_type": "markdown",
      "metadata": {
        "id": "view-in-github",
        "colab_type": "text"
      },
      "source": [
        "<a href=\"https://colab.research.google.com/github/sfrias/HashCode2019/blob/master/QualRound/photos.ipynb\" target=\"_parent\"><img src=\"https://colab.research.google.com/assets/colab-badge.svg\" alt=\"Open In Colab\"/></a>"
      ]
    },
    {
      "metadata": {
        "id": "yllCUY6PVVEU",
        "colab_type": "code",
        "colab": {}
      },
      "cell_type": "code",
      "source": [
        "# Slideshow with vertical & Horizontal photos. Scoring is calculated with linked tags.\n",
        "# If photos were vertical, two must be combined in one slide. Tags were union of both photos tags\n",
        "# Linked slides match scoring por slideshow.\n",
        "# linkable tags with only one appearance qualify photos:\n",
        "#  ---Horizontal photo for only use with ends of slideshows.\n",
        "#  ---Vertical photo for only bundle slide with other vertical photo to link two ways.\n",
        "# \n",
        "#         "
      ],
      "execution_count": 0,
      "outputs": []
    },
    {
      "metadata": {
        "id": "c8SkUIQfb2Vq",
        "colab_type": "text"
      },
      "cell_type": "markdown",
      "source": [
        "## Previous config and functions section"
      ]
    },
    {
      "metadata": {
        "id": "eBDoPg2GbGlF",
        "colab_type": "text"
      },
      "cell_type": "markdown",
      "source": [
        "### Imports and configs"
      ]
    },
    {
      "metadata": {
        "id": "9Qb_QWP3OlnR",
        "colab_type": "code",
        "colab": {}
      },
      "cell_type": "code",
      "source": [
        "# Import and package configuration\n",
        "from google.colab import files\n",
        "import matplotlib.pyplot as pyplot\n",
        "from pylab import *\n",
        "import networkx\n",
        "import time"
      ],
      "execution_count": 0,
      "outputs": []
    },
    {
      "metadata": {
        "id": "2KpcGf5AQGaH",
        "colab_type": "code",
        "colab": {}
      },
      "cell_type": "code",
      "source": [
        "from itertools import combinations"
      ],
      "execution_count": 0,
      "outputs": []
    },
    {
      "metadata": {
        "id": "rUm23R1fafcO",
        "colab_type": "text"
      },
      "cell_type": "markdown",
      "source": [
        "### Download files from Hashcode instance"
      ]
    },
    {
      "metadata": {
        "id": "TUCsM0OzQXlZ",
        "colab_type": "code",
        "colab": {}
      },
      "cell_type": "code",
      "source": [
        " # Download data files from hashcode"
      ],
      "execution_count": 0,
      "outputs": []
    },
    {
      "metadata": {
        "id": "_f7H-zjWQXWw",
        "colab_type": "code",
        "colab": {}
      },
      "cell_type": "code",
      "source": [
        "#!wget -O example.in  \"https://hashcodejudge.withgoogle.com/download/blob/AMIfv97QHzUItY7To0o6id8E6_kxpE1KwTlPR1T9yC2zlbm46xvPPX7tBn1r5ZNxw9XboxHkVKa82BzM-B65uM92pJRONqfeVlHfpzH8xbqKc9FrAWJnd3Yp5SF7naqscxmnBjTa3R-UcB_bqg5hoAa0TZFXIlvi-RL6y_daJXyNUUHeP1kBxQss_1b2nNbNFg7W3Jtgyl2Vs86QrufNrQcUlNh754HyhRrhV3yJBo66HdYQAa2lPISjoUkUTpWqqrGIEItpPu27GNqcp2I69D8j8A-70B30oU-w7zIe9DJ9xnpC70T6T88\""
      ],
      "execution_count": 0,
      "outputs": []
    },
    {
      "metadata": {
        "id": "JHXji8CdR6IW",
        "colab_type": "code",
        "colab": {
          "base_uri": "https://localhost:8080/",
          "height": 224
        },
        "outputId": "87ca95c0-b773-4a5a-ed9e-7ce887dd82c8"
      },
      "cell_type": "code",
      "source": [
        "#!wget -O lovely.in \"https://hashcodejudge.withgoogle.com/download/blob/AMIfv977kmeJsFQfgJNbIlAkviRDMVQcDWj0hLBMvhyg8SuPR52vtGV8uIJsB5nnPDX1Rp14OqzXWF-XXUKp3hhFjdL9PtHAOemuN-rKrd_OgY8pQ6SwgBlBcwPm-5Ova9XoGHSlhT2iLskxOoetjmTNQ8upzsFVkCQqh0gM0P-VX2nWmyxSfIFGmv373rdp9k1Bw9iMdhZXxuMfYIPaWJ8c6izWNYsl9Mpk1a7R0DjShNoDn6Nbfghj_S9bkjGgJS6Clz0b3rMqhHyHAxuIVMnfw1ppwWK_z5TYb4Tsz1vzNERAVPtnuSw\""
      ],
      "execution_count": 2,
      "outputs": [
        {
          "output_type": "stream",
          "text": [
            "--2019-03-10 02:09:30--  https://hashcodejudge.withgoogle.com/download/blob/AMIfv977kmeJsFQfgJNbIlAkviRDMVQcDWj0hLBMvhyg8SuPR52vtGV8uIJsB5nnPDX1Rp14OqzXWF-XXUKp3hhFjdL9PtHAOemuN-rKrd_OgY8pQ6SwgBlBcwPm-5Ova9XoGHSlhT2iLskxOoetjmTNQ8upzsFVkCQqh0gM0P-VX2nWmyxSfIFGmv373rdp9k1Bw9iMdhZXxuMfYIPaWJ8c6izWNYsl9Mpk1a7R0DjShNoDn6Nbfghj_S9bkjGgJS6Clz0b3rMqhHyHAxuIVMnfw1ppwWK_z5TYb4Tsz1vzNERAVPtnuSw\n",
            "Resolving hashcodejudge.withgoogle.com (hashcodejudge.withgoogle.com)... 74.125.141.141, 2607:f8b0:400c:c06::8d\n",
            "Connecting to hashcodejudge.withgoogle.com (hashcodejudge.withgoogle.com)|74.125.141.141|:443... connected.\n",
            "HTTP request sent, awaiting response... 200 OK\n",
            "Length: unspecified [text/plain]\n",
            "Saving to: ‘lovely.in’\n",
            "\n",
            "lovely.in               [       <=>          ]   8.62M  6.18MB/s    in 1.4s    \n",
            "\n",
            "2019-03-10 02:09:32 (6.18 MB/s) - ‘lovely.in’ saved [9039625]\n",
            "\n"
          ],
          "name": "stdout"
        }
      ]
    },
    {
      "metadata": {
        "id": "SfghR8meSpo3",
        "colab_type": "code",
        "colab": {}
      },
      "cell_type": "code",
      "source": [
        "#!wget -O memoments.in \"https://hashcodejudge.withgoogle.com/download/blob/AMIfv94hwk1wpXjU-qRaszhHtsN4gJSGTkGGNfiItXwzXwhtP6IGrdiZrJ16XvlGFZAKOck8csLoiqwaDiJY6pybACZPZoBnwUMB_WLmQPR7XwH_0AMzk4at1sNgwB_f-9wOwSaqAQE8VtIlLNLDOLeo9sJDLxUVceOopaGh93MDCof4KCYXcdvM9tCSQz1sT89KVmM3Qx0Rz0JkXm4-a3mTk_676DubwwI5siY-ulC87_p1qcfeWdJXmuqMO7E-8THazayXZmS2dXyeTWiOOt27fOC06dSTe9mYfNBISojtloNJc-9Xohc\""
      ],
      "execution_count": 0,
      "outputs": []
    },
    {
      "metadata": {
        "id": "b9zUUte-Spjk",
        "colab_type": "code",
        "colab": {}
      },
      "cell_type": "code",
      "source": [
        "#!wget -O petpict.in \"https://hashcodejudge.withgoogle.com/download/blob/AMIfv95TypJhkPij61j5cS87pz5lYAw7u6lKSxctMX0zPI_8N7y-bRcwGLHe8rx8vAaQ_Dszh0yuWjpdXucxsC52Fq-iuNeI9D8ugsj3djcsDH5Ax3TlTILi27GOCPv_-U7KZsyrbKusR5T8saKHiE2cferYs92JBV_nKxm7gxQkzITercTAfcJaEtenWiTS4rhPkIVARXCQE9LaycZvxV4IqTnDCfYHZhtFVV9_Y_h5riDVjGZZd01tplZ1aibiKASlJZulxOwnJGfmgrYkImN3dCaDYx0eAGlGUoRjAF3GsiGdZ4bI0_V-lKZJlSdoMPxCctPLpgvL\""
      ],
      "execution_count": 0,
      "outputs": []
    },
    {
      "metadata": {
        "id": "h5NlNfBJSpWZ",
        "colab_type": "code",
        "colab": {}
      },
      "cell_type": "code",
      "source": [
        "#!wget -O shinyself.in \"https://hashcodejudge.withgoogle.com/download/blob/AMIfv941-URwsmc_UpuUvypgEBaH_U4oDiPKJZR_gk2oNcK8NXMmcZMwFC8qM3aYM_G1dN5hhRt9ONNq_o1RLVdWXqFn6M_DFVf_UnLD0E7Qg-D989lrG08e5FWD06_crrlGQI48euVgJSyEHO2oo8_3506xyzI2KsMLs_zPfjnnRr6sVKSMeQLNWRD4gut2m1QBzkRWvZuigNbXsCFra7wNPrEdPCI4Mf11W9rWcMrVsvMcrAmjw02vPbqqe8QrVwM08n0tMfAvk01BwBEM8RcwkYtkp8IUP3M0_67Sum1zfuFayeLWSOY\""
      ],
      "execution_count": 0,
      "outputs": []
    },
    {
      "metadata": {
        "id": "R2YzU_BOSpGB",
        "colab_type": "code",
        "colab": {
          "base_uri": "https://localhost:8080/",
          "height": 68
        },
        "outputId": "5b1aa01a-7547-49ff-cb2a-4895fafddfe0"
      },
      "cell_type": "code",
      "source": [
        "#!ls -l"
      ],
      "execution_count": 3,
      "outputs": [
        {
          "output_type": "stream",
          "text": [
            "total 8836\n",
            "-rw-r--r-- 1 root root 9039625 Mar 10 02:09 lovely.in\n",
            "drwxr-xr-x 1 root root    4096 Feb 26 17:33 sample_data\n"
          ],
          "name": "stdout"
        }
      ]
    },
    {
      "metadata": {
        "id": "4jHinMavaqva",
        "colab_type": "text"
      },
      "cell_type": "markdown",
      "source": [
        "### Create Data Structures and load data from file"
      ]
    },
    {
      "metadata": {
        "id": "687Ar8rWTgTY",
        "colab_type": "code",
        "colab": {}
      },
      "cell_type": "code",
      "source": [
        "# Load data file function. Parameters: nom = name of input file, test = 'Test debug mode False or True'\n",
        "def loaddata(nom,test):\n",
        "  file = open(nom,'r')\n",
        "  line = file.readline()\n",
        "  # Assign number of photos from first line\n",
        "  nphotos = int(line.rstrip())\n",
        "  nv = 0 # number of vertical images\n",
        "  nh = 0 # Number of horizontal images\n",
        "  phpt = 0 # photo pointer position to videos list for each tag\n",
        "  ttags = 0 # Tag global number occurrences \n",
        "  nctags = set() # Not linkable tags\n",
        "  ncphotos = set() # Not linkable photos\n",
        "  dtags = {} # tags occurrence, dictionary\n",
        "  dtag_ph = {} # Tag dictionary pointer to tag_ph photos list for each tag\n",
        "  photos = [] # Data for all photos\n",
        "  photosv = [] # Data for vertical photos\n",
        "  photosh = [] # Data for horizontal photos\n",
        "  tag_ph = [] # photos list for each tag, indexed\n",
        "  # Read all image descriptions\n",
        "  for i in range(nphotos):\n",
        "    lista = []\n",
        "    lista = file.readline().rstrip().split(' ')\n",
        "    lista.insert(0,i) # Insert image number\n",
        "    tags = set(lista[3:]) # Store tags as a set\n",
        "    for t in tags: # Adds tag occurrences to dictionary\n",
        "      if t in dtags:\n",
        "        dtags[t] += 1\n",
        "        tag_ph[dtag_ph[t]].append(i)\n",
        "      else:\n",
        "        dtags[t] = 1\n",
        "        dtag_ph[t] = phpt\n",
        "        tag_ph.append([])\n",
        "        tag_ph[phpt].append(i)\n",
        "        phpt += 1\n",
        "    ntags = int(lista[2]) # Convert to int  tag number for photo\n",
        "    lista = lista[:2] # Crop list\n",
        "    # Count number of vertical or horizontal images\n",
        "    # Append elements to list\n",
        "    lista.append(ntags) # Number of tags\n",
        "    lista.append(tags) # Set of tags\n",
        "    ttags += ntags \n",
        "    photos.append(lista)\n",
        "    if lista[1] =='V':\n",
        "      nv +=1\n",
        "      photosv.append(lista) # Add vertical image list data to photos list.\n",
        "    else:\n",
        "      nh +=1\n",
        "      photosh.append(lista) # Add horizontal image list data to photos list.\n",
        "    if test:\n",
        "      print(photos[i])\n",
        "  file.close()\n",
        "  print('N. fotos:',nphotos,'Fotos Verticales:',nv,'Fotos Horiz:',nh,'Tags no combinables horizontales:',len(nctags),'Apariciones Tags:',ttags,'Tags diferentes:',len(dtags),'Media Tags/ imagen:', ttags/len(dtags))\n",
        "  return nphotos, photos, photosv, photosh, nv, nh, nctags, ncphotos, ttags, dtags, dtag_ph, tag_ph"
      ],
      "execution_count": 0,
      "outputs": []
    },
    {
      "metadata": {
        "id": "uL41hxIga9GX",
        "colab_type": "text"
      },
      "cell_type": "markdown",
      "source": [
        "### Display utilities for analysis"
      ]
    },
    {
      "metadata": {
        "id": "oIdrf_eXPG4u",
        "colab_type": "code",
        "colab": {}
      },
      "cell_type": "code",
      "source": [
        "def listafotos(photos, limit):\n",
        "  # Lista de fotos enlazables\n",
        "  num = len(photos)\n",
        "  fila = 0\n",
        "  for foto in photos:\n",
        "    print(foto)\n",
        "    num -= 1\n",
        "    fila += 1\n",
        "    if fila >= limit:\n",
        "      print('Fotos pendientes de listar:', num)\n",
        "      break"
      ],
      "execution_count": 0,
      "outputs": []
    },
    {
      "metadata": {
        "id": "I16qPYx1QhLK",
        "colab_type": "code",
        "colab": {}
      },
      "cell_type": "code",
      "source": [
        "def listatags(tags, limit, nrow = 18):\n",
        "  # Lista tags\n",
        "  num = len(tags)\n",
        "  listed = 0\n",
        "  columna = 0\n",
        "  for tag in tags:\n",
        "    print(str(tag),'\\t', end='')\n",
        "    num -= 1\n",
        "    listed += 1\n",
        "    columna += 1\n",
        "    if columna >= nrow:\n",
        "      print()\n",
        "      columna = 0\n",
        "    if listed >= limit:\n",
        "      print()\n",
        "      print('Tags pendientes de listar:', num)\n",
        "      break"
      ],
      "execution_count": 0,
      "outputs": []
    },
    {
      "metadata": {
        "id": "GT_GrvXJv64a",
        "colab_type": "code",
        "colab": {}
      },
      "cell_type": "code",
      "source": [
        "def listupla(dicc, limit, nrow = 18):\n",
        "  # Lista tags\n",
        "  num = len(dicc)\n",
        "  listed = 0\n",
        "  columna = 0\n",
        "  for tupla in dicc:\n",
        "    print(tupla,':',dicc[tupla],'\\t', end='')\n",
        "    num -= 1\n",
        "    listed += 1\n",
        "    columna += 1\n",
        "    if columna >= nrow:\n",
        "      print()\n",
        "      columna = 0\n",
        "    if listed >= limit:\n",
        "      print()\n",
        "      print('Tags pendientes de listar:', num)\n",
        "      break"
      ],
      "execution_count": 0,
      "outputs": []
    },
    {
      "metadata": {
        "id": "7JmsJpXe01an",
        "colab_type": "code",
        "colab": {}
      },
      "cell_type": "code",
      "source": [
        "def photos4tag(dtag_ph, tag_ph, limit=10):\n",
        "  num = len(dtag_ph)\n",
        "  listed = 0\n",
        "  for t in dtag_ph:\n",
        "    ptlist = dtag_ph[t]\n",
        "    print(t,'\\t[', ptlist, ']->',tag_ph[ptlist],end='')\n",
        "    print('\\t\\tCombinaciones:',list(combinations(tag_ph[ptlist],2)))\n",
        "    num -= 1\n",
        "    listed += 1\n",
        "    if listed >= limit:\n",
        "      print()\n",
        "      print('Tags pendientes de listar:', num)\n",
        "      break"
      ],
      "execution_count": 0,
      "outputs": []
    },
    {
      "metadata": {
        "id": "ykI743QWbPdk",
        "colab_type": "text"
      },
      "cell_type": "markdown",
      "source": [
        "### Functions to optimize process"
      ]
    },
    {
      "metadata": {
        "id": "wOpLLqSMbW8a",
        "colab_type": "code",
        "colab": {}
      },
      "cell_type": "code",
      "source": [
        "def purgedict(dtags,nctags, test):\n",
        "  tuplas = list(dtags.items())\n",
        "  j = 0\n",
        "  for i in tuplas:\n",
        "    #print('\\t',dtags[tuplas[j][0]],end='')\n",
        "    if dtags[tuplas[j][0]]<=1:\n",
        "      if test:\n",
        "        print ('----->Tag:', i, 'no combinable...eliminando de dtags y añadiendo a nctags')\n",
        "      nctags.add(tuplas[j][0]) # Add at not linkable tags set\n",
        "      del(dtags[tuplas[j][0]]) # remove tuple from dictionary for number of occurrences to this tag\n",
        "      del(dtag_ph[tuplas[j][0]]) # remove tuple from dictionary pointer to list of photos where appear this tag\n",
        "    j+= 1\n",
        "  tuplas = []\n",
        "  print('N. fotos:',nphotos,'Fotos Verticales:',nv,'Fotos Horiz:',nh,'Tags no combinables horizontales:',len(nctags),'Apariciones Tags:',ttags,'Tags diferentes:',len(dtags),'Media Tags por imagen:', ttags/len(dtags))\n",
        "  return dtags,nctags\n"
      ],
      "execution_count": 0,
      "outputs": []
    },
    {
      "metadata": {
        "id": "7EQugVxlcGBm",
        "colab_type": "code",
        "colab": {}
      },
      "cell_type": "code",
      "source": [
        "# Purge for unlinkable tags at photos list\n",
        "def purgetags(photos, nctags, test):\n",
        "  #print('Purgando tags no combinables en lista de fotos')\n",
        "  ttags = 0\n",
        "  for photo in photos:\n",
        "    if test:\n",
        "      print(photo,end='')\n",
        "    photo[3]=photo[3]-nctags\n",
        "    photo[2]=len(photo[3])\n",
        "    ttags += photo[2]\n",
        "    if test:\n",
        "      print('++',photo[3])\n",
        "  print('N. fotos:',len(photos),'Apariciones Tags:',ttags,'Tags diferentes:',len(dtags),'Media Tags por imagen:', ttags/len(dtags))\n",
        "  return photos, nctags,ttags"
      ],
      "execution_count": 0,
      "outputs": []
    },
    {
      "metadata": {
        "id": "aK8Tv-u1UGFd",
        "colab_type": "code",
        "colab": {}
      },
      "cell_type": "code",
      "source": [
        "# Purge for photos that can't be linked,\n",
        "def purgephotos(photos, nctags, rango, test):\n",
        "    cont = 0\n",
        "    print('Fotos que son menos combinables.',rango,' tags combinables') \n",
        "    for photo in photos:\n",
        "      if len(photo[3]-nctags)<=rango:\n",
        "        if test:\n",
        "          print(photo)\n",
        "          print('tags - nctags:', end='')\n",
        "          print(photo[3]-nctags)\n",
        "          print('--------------------')\n",
        "        print('+')\n",
        "        cont +=1\n",
        "      # else:\n",
        "        #if test:\n",
        "        #  print(photo)\n",
        "        #  print('tags - nctags:', end='')\n",
        "        #  print(photo[3]-nctags)\n",
        "        #  print('-',end='')\n",
        "    print(cont, 'menos combinables')"
      ],
      "execution_count": 0,
      "outputs": []
    },
    {
      "metadata": {
        "id": "JW5ss8ZXztAh",
        "colab_type": "code",
        "colab": {}
      },
      "cell_type": "code",
      "source": [
        "# Find the best option to combine two horizontal slides\n",
        "def link(photos, test ):\n",
        "  pos_candidato1 = 0\n",
        "  pos_candidato2 = 0\n",
        "  maxint = 0\n",
        "  ptpic = 0\n",
        "  for pic in photos:\n",
        "    if test:\n",
        "      print('++', ptpic, '\\t++', photos[ptpic],'+++')\n",
        "    for pointer in range(ptpic+1,len(photos)):\n",
        "      inter = pic[3] & photos[pointer][3]\n",
        "      ninter = len (inter)\n",
        "      if test:\n",
        "        print('Foto Puntero:', pic, 'Foto a comparar:',photos[pointer], 'Interseccion:', end='')\n",
        "        print (inter,'Tags comunes:',ninter)\n",
        "      if ninter > maxint:\n",
        "        pos_candidato1 = ptpic\n",
        "        pos_candidato2 = pointer\n",
        "        maxint = ninter\n",
        "        print('Candidatos', photos[pos_candidato1],'+', photos[pos_candidato2], 'Inters:', inter, 'Ntags:', ninter)\n",
        "    ptpic += 1"
      ],
      "execution_count": 0,
      "outputs": []
    },
    {
      "metadata": {
        "id": "mHRKyPEbbc19",
        "colab_type": "text"
      },
      "cell_type": "markdown",
      "source": [
        "## Process Data Section before select upshot to problem"
      ]
    },
    {
      "metadata": {
        "id": "3acxLMllMmqt",
        "colab_type": "code",
        "outputId": "8a692a79-b96a-4a66-ee3e-d5ff197194f0",
        "colab": {
          "base_uri": "https://localhost:8080/",
          "height": 34
        }
      },
      "cell_type": "code",
      "source": [
        "# Load data from file, Create Data Structures\n",
        "nphotos, photos, photosv, photosh, nv, nh, nctags, ncphotos, ttags, dtags, dtag_ph, tag_ph = loaddata('lovely.in',False)"
      ],
      "execution_count": 11,
      "outputs": [
        {
          "output_type": "stream",
          "text": [
            "N. fotos: 80000 Fotos Verticales: 0 Fotos Horiz: 80000 Tags no combinables horizontales: 0 Apariciones Tags: 1440000 Tags diferentes: 840000 Media Tags/ imagen: 1.7142857142857142\n"
          ],
          "name": "stdout"
        }
      ]
    },
    {
      "metadata": {
        "id": "_DURId8WIUPi",
        "colab_type": "code",
        "colab": {
          "base_uri": "https://localhost:8080/",
          "height": 221
        },
        "outputId": "40e91d1c-8c7d-440a-cd27-749ba93728b9"
      },
      "cell_type": "code",
      "source": [
        "# Indexed photos list for each tag where appears\n",
        "photos4tag(dtag_ph,tag_ph,10)"
      ],
      "execution_count": 12,
      "outputs": [
        {
          "output_type": "stream",
          "text": [
            "tbj57 \t[ 0 ]-> [0, 78134]\t\tCombinaciones: [(0, 78134)]\n",
            "t5xl1 \t[ 1 ]-> [0, 14519]\t\tCombinaciones: [(0, 14519)]\n",
            "twzgl \t[ 2 ]-> [0, 74267]\t\tCombinaciones: [(0, 74267)]\n",
            "tzdr4 \t[ 3 ]-> [0, 13708]\t\tCombinaciones: [(0, 13708)]\n",
            "tcz3g \t[ 4 ]-> [0, 18143]\t\tCombinaciones: [(0, 18143)]\n",
            "t1c76 \t[ 5 ]-> [0]\t\tCombinaciones: []\n",
            "tr5fv \t[ 6 ]-> [0, 14519]\t\tCombinaciones: [(0, 14519)]\n",
            "th8wv \t[ 7 ]-> [0, 18143]\t\tCombinaciones: [(0, 18143)]\n",
            "tj4f \t[ 8 ]-> [0, 13708]\t\tCombinaciones: [(0, 13708)]\n",
            "t99tm \t[ 9 ]-> [0, 13708]\t\tCombinaciones: [(0, 13708)]\n",
            "\n",
            "Tags pendientes de listar: 839990\n"
          ],
          "name": "stdout"
        }
      ]
    },
    {
      "metadata": {
        "id": "O8OOl-9Hvrwy",
        "colab_type": "code",
        "outputId": "1961ff01-9409-4c0b-b511-708da91ba9d2",
        "colab": {
          "base_uri": "https://localhost:8080/",
          "height": 102
        }
      },
      "cell_type": "code",
      "source": [
        "# List number of ocurrences for each tag on all photos\n",
        "listupla(dtags,50,15)"
      ],
      "execution_count": 13,
      "outputs": [
        {
          "output_type": "stream",
          "text": [
            "tbj57 : 2 \tt5xl1 : 2 \ttwzgl : 2 \ttzdr4 : 2 \ttcz3g : 2 \tt1c76 : 1 \ttr5fv : 2 \tth8wv : 2 \ttj4f : 2 \tt99tm : 2 \ttsmcf : 2 \ttkp5g : 2 \ttb5p6 : 2 \ttf5wv : 1 \tt2hzq : 2 \t\n",
            "tv7zt : 2 \ttc2j5 : 1 \tt5nnd : 2 \tt111w : 2 \ttv1h01 : 2 \tt6zkl : 2 \ttlhlt : 2 \ttlvcq : 2 \ttns01 : 1 \tt5x7p : 2 \ttpvh8 : 1 \tt6p61 : 2 \ttkw11 : 1 \tt7fgq : 2 \ttwzsw : 2 \t\n",
            "tvwcg : 2 \ttl3l6 : 2 \ttbb6j : 2 \tt62gs : 1 \tt3rgg : 1 \ttk3r : 2 \tt0r1w : 1 \ttcdv8 : 2 \ttn4hp : 2 \ttlql4 : 2 \ttf36x : 2 \tt4pp6 : 2 \tt982j : 2 \ttjj0r : 2 \tt5pgg : 2 \t\n",
            "t0h5n : 2 \ttfmns : 2 \ttc9r2 : 2 \ttfv2 : 1 \tt919l : 1 \t\n",
            "Tags pendientes de listar: 839950\n"
          ],
          "name": "stdout"
        }
      ]
    },
    {
      "metadata": {
        "id": "doy2pzhyMEfY",
        "colab_type": "code",
        "outputId": "9fddbe81-6332-4a94-c1df-0c067a097e31",
        "colab": {
          "base_uri": "https://localhost:8080/",
          "height": 34
        }
      },
      "cell_type": "code",
      "source": [
        "# Purge tags to nctags set and delete to associated dictionaries\n",
        "dtags, nctags = purgedict(dtags, nctags, False)"
      ],
      "execution_count": 14,
      "outputs": [
        {
          "output_type": "stream",
          "text": [
            "N. fotos: 80000 Fotos Verticales: 0 Fotos Horiz: 80000 Tags no combinables horizontales: 240000 Apariciones Tags: 1440000 Tags diferentes: 600000 Media Tags por imagen: 2.4\n"
          ],
          "name": "stdout"
        }
      ]
    },
    {
      "metadata": {
        "id": "i2x5837nMZ7h",
        "colab_type": "code",
        "outputId": "ee292dc5-ec10-48f4-da37-7375e80c10c5",
        "colab": {
          "base_uri": "https://localhost:8080/",
          "height": 102
        }
      },
      "cell_type": "code",
      "source": [
        "# List set of tuples as number of ocurrences for each tag in photos list after purging\n",
        "listupla(dtags,50,15)"
      ],
      "execution_count": 15,
      "outputs": [
        {
          "output_type": "stream",
          "text": [
            "tbj57 : 2 \tt5xl1 : 2 \ttwzgl : 2 \ttzdr4 : 2 \ttcz3g : 2 \ttr5fv : 2 \tth8wv : 2 \ttj4f : 2 \tt99tm : 2 \ttsmcf : 2 \ttkp5g : 2 \ttb5p6 : 2 \tt2hzq : 2 \ttv7zt : 2 \tt5nnd : 2 \t\n",
            "t111w : 2 \ttv1h01 : 2 \tt6zkl : 2 \ttlhlt : 2 \ttlvcq : 2 \tt5x7p : 2 \tt6p61 : 2 \tt7fgq : 2 \ttwzsw : 2 \ttvwcg : 2 \ttl3l6 : 2 \ttbb6j : 2 \ttk3r : 2 \ttcdv8 : 2 \ttn4hp : 2 \t\n",
            "tlql4 : 2 \ttf36x : 2 \tt4pp6 : 2 \tt982j : 2 \ttjj0r : 2 \tt5pgg : 2 \tt0h5n : 2 \ttfmns : 2 \ttc9r2 : 2 \ttqmvs : 2 \ttx895 : 2 \tt3xvq : 2 \ttvr51 : 2 \tt48r2 : 2 \tt4rt4 : 2 \t\n",
            "tb25z : 2 \ttbns8 : 2 \ttbzhk : 2 \tt8z5v : 2 \tt9h9q : 2 \t\n",
            "Tags pendientes de listar: 599950\n"
          ],
          "name": "stdout"
        }
      ]
    },
    {
      "metadata": {
        "id": "otjYOHNGI7jP",
        "colab_type": "code",
        "colab": {
          "base_uri": "https://localhost:8080/",
          "height": 221
        },
        "outputId": "4bbf5723-9ada-47b4-aef3-bdce46028c73"
      },
      "cell_type": "code",
      "source": [
        "# List photos associated to a tag, after purging not linkable tags.\n",
        "photos4tag(dtag_ph,tag_ph,10)"
      ],
      "execution_count": 16,
      "outputs": [
        {
          "output_type": "stream",
          "text": [
            "tbj57 \t[ 0 ]-> [0, 78134]\t\tCombinaciones: [(0, 78134)]\n",
            "t5xl1 \t[ 1 ]-> [0, 14519]\t\tCombinaciones: [(0, 14519)]\n",
            "twzgl \t[ 2 ]-> [0, 74267]\t\tCombinaciones: [(0, 74267)]\n",
            "tzdr4 \t[ 3 ]-> [0, 13708]\t\tCombinaciones: [(0, 13708)]\n",
            "tcz3g \t[ 4 ]-> [0, 18143]\t\tCombinaciones: [(0, 18143)]\n",
            "tr5fv \t[ 6 ]-> [0, 14519]\t\tCombinaciones: [(0, 14519)]\n",
            "th8wv \t[ 7 ]-> [0, 18143]\t\tCombinaciones: [(0, 18143)]\n",
            "tj4f \t[ 8 ]-> [0, 13708]\t\tCombinaciones: [(0, 13708)]\n",
            "t99tm \t[ 9 ]-> [0, 13708]\t\tCombinaciones: [(0, 13708)]\n",
            "tsmcf \t[ 10 ]-> [0, 78134]\t\tCombinaciones: [(0, 78134)]\n",
            "\n",
            "Tags pendientes de listar: 599990\n"
          ],
          "name": "stdout"
        }
      ]
    },
    {
      "metadata": {
        "id": "9GgIDppHRM7W",
        "colab_type": "code",
        "outputId": "daf2ab93-809b-4868-8b89-47b5ca2f98f6",
        "colab": {
          "base_uri": "https://localhost:8080/",
          "height": 102
        }
      },
      "cell_type": "code",
      "source": [
        "# List set of not linkable tags\n",
        "listatags(nctags,50,15)"
      ],
      "execution_count": 17,
      "outputs": [
        {
          "output_type": "stream",
          "text": [
            "txgt2 \ttpt57 \tt7s9t \ttkqvh \ttsxlx \tt0l801 \tt5hm9 \ttqcx2 \ttcv3 \ttdv53 \ttnk0k \ttlxkq \tt088q \tt967 \ttmhf8 \t\n",
            "tvf98 \tt3545 \tttpb6 \tt92dz \ttpqn3 \ttc9jb \tt7r2b \tt03vg \ttfftl \ttmdzw \tt1q1t \ttmgt01 \tt8snv \tt5wcv \ttndst \t\n",
            "tscl9 \tt6cq4 \tt2jqq \ttgt9k \ttx7qx \tt9clf \tt8kdb \tts6ml \ttmtnh \tt11jc \ttgst \ttmklj \tt5lb8 \ttwg8b \ttbm26 \t\n",
            "t1ht1 \tt64jx \tt0vwf \ttm9vw \ttkh09 \t\n",
            "Tags pendientes de listar: 239950\n"
          ],
          "name": "stdout"
        }
      ]
    },
    {
      "metadata": {
        "id": "0rGXYmewZ_tV",
        "colab_type": "text"
      },
      "cell_type": "markdown",
      "source": [
        "### Option only vertical photos"
      ]
    },
    {
      "metadata": {
        "id": "1UI0N_fIU9mR",
        "colab_type": "code",
        "colab": {}
      },
      "cell_type": "code",
      "source": [
        "#listafotos(photosv,5)"
      ],
      "execution_count": 0,
      "outputs": []
    },
    {
      "metadata": {
        "id": "N2AFinbr3v_5",
        "colab_type": "code",
        "colab": {}
      },
      "cell_type": "code",
      "source": [
        "#photosv, nctags, ttags = purgetags(photosv,nctags,False)"
      ],
      "execution_count": 0,
      "outputs": []
    },
    {
      "metadata": {
        "id": "vAwrQeoqVSW2",
        "colab_type": "code",
        "colab": {}
      },
      "cell_type": "code",
      "source": [
        "#listafotos(photosv,5)"
      ],
      "execution_count": 0,
      "outputs": []
    },
    {
      "metadata": {
        "id": "CzSFZlrqaNb5",
        "colab_type": "text"
      },
      "cell_type": "markdown",
      "source": [
        "### Option only horizontal photos"
      ]
    },
    {
      "metadata": {
        "id": "bTvnueGyVVMF",
        "colab_type": "code",
        "colab": {}
      },
      "cell_type": "code",
      "source": [
        "#listafotos(photosh,5)"
      ],
      "execution_count": 0,
      "outputs": []
    },
    {
      "metadata": {
        "id": "YVRxLJ433-DZ",
        "colab_type": "code",
        "colab": {}
      },
      "cell_type": "code",
      "source": [
        "#photosh, nctags, ttags = purgetags(photosh,nctags,False)"
      ],
      "execution_count": 0,
      "outputs": []
    },
    {
      "metadata": {
        "id": "AFBOurXdVYan",
        "colab_type": "code",
        "colab": {}
      },
      "cell_type": "code",
      "source": [
        "#listafotos(photosh,5)"
      ],
      "execution_count": 0,
      "outputs": []
    },
    {
      "metadata": {
        "id": "I-VBaduQaVF0",
        "colab_type": "text"
      },
      "cell_type": "markdown",
      "source": [
        "### Option all photos"
      ]
    },
    {
      "metadata": {
        "id": "_sH9IHEdV3Oj",
        "colab_type": "code",
        "outputId": "7bfb5ff6-47ab-469c-e7c4-5e505191938b",
        "colab": {
          "base_uri": "https://localhost:8080/",
          "height": 119
        }
      },
      "cell_type": "code",
      "source": [
        "listafotos(photos,5)"
      ],
      "execution_count": 24,
      "outputs": [
        {
          "output_type": "stream",
          "text": [
            "[0, 'H', 18, {'tbj57', 't5xl1', 'tr5fv', 'th8wv', 't5nnd', 'tcz3g', 'tsmcf', 'tkp5g', 't111w', 'tb5p6', 'tv1h01', 'tj4f', 't2hzq', 'twzgl', 't6zkl', 'tv7zt', 'tzdr4', 't99tm'}]\n",
            "[1, 'H', 6, {'tlhlt', 'tlvcq', 't5x7p', 't6p61', 't7fgq', 'twzsw'}]\n",
            "[2, 'H', 12, {'tvwcg', 'tl3l6', 'tbb6j', 'tk3r', 'tcdv8', 'tn4hp', 'tlql4', 'tf36x', 't4pp6', 't982j', 'tjj0r', 't5pgg'}]\n",
            "[3, 'H', 12, {'t0h5n', 'tfmns', 'tc9r2', 'tqmvs', 'tx895', 't3xvq', 'tvr51', 't48r2', 't4rt4', 'tb25z', 'tbns8', 'tbzhk'}]\n",
            "[4, 'H', 12, {'tfzzf', 't8z5v', 't98wh', 't9h9q', 'thh6z', 't6qt9', 't7s67', 'td6tp', 'tk99r', 't46vk', 'tjbc', 'txk58'}]\n",
            "Fotos pendientes de listar: 79995\n"
          ],
          "name": "stdout"
        }
      ]
    },
    {
      "metadata": {
        "id": "Da8bmY9kgP5o",
        "colab_type": "code",
        "outputId": "009105bf-4570-408f-82e3-150628516ca5",
        "colab": {
          "base_uri": "https://localhost:8080/",
          "height": 34
        }
      },
      "cell_type": "code",
      "source": [
        "photos, nctags, ttags = purgetags(photos,nctags,False)"
      ],
      "execution_count": 25,
      "outputs": [
        {
          "output_type": "stream",
          "text": [
            "N. fotos: 80000 Apariciones Tags: 1200000 Tags diferentes: 600000 Media Tags por imagen: 2.0\n"
          ],
          "name": "stdout"
        }
      ]
    },
    {
      "metadata": {
        "id": "-ZZvDRMUV_PT",
        "colab_type": "code",
        "outputId": "8695e199-9103-4ebc-87eb-d3c147dae1f8",
        "colab": {
          "base_uri": "https://localhost:8080/",
          "height": 119
        }
      },
      "cell_type": "code",
      "source": [
        "listafotos(photos,5)"
      ],
      "execution_count": 26,
      "outputs": [
        {
          "output_type": "stream",
          "text": [
            "[0, 'H', 18, {'tbj57', 't5xl1', 'tr5fv', 't5nnd', 'th8wv', 'tsmcf', 'tkp5g', 't111w', 'tb5p6', 'tv1h01', 'tj4f', 't2hzq', 'twzgl', 't6zkl', 'tzdr4', 'tv7zt', 'tcz3g', 't99tm'}]\n",
            "[1, 'H', 6, {'tlhlt', 'tlvcq', 't5x7p', 't6p61', 't7fgq', 'twzsw'}]\n",
            "[2, 'H', 12, {'tvwcg', 'tl3l6', 'tbb6j', 'tk3r', 'tcdv8', 'tn4hp', 'tlql4', 'tf36x', 't4pp6', 't982j', 'tjj0r', 't5pgg'}]\n",
            "[3, 'H', 12, {'t0h5n', 'tfmns', 'tc9r2', 'tqmvs', 'tx895', 't3xvq', 'tvr51', 't48r2', 't4rt4', 'tb25z', 'tbns8', 'tbzhk'}]\n",
            "[4, 'H', 12, {'tfzzf', 't8z5v', 't98wh', 't9h9q', 'txk58', 'thh6z', 't6qt9', 't7s67', 'td6tp', 'tk99r', 'tjbc', 't46vk'}]\n",
            "Fotos pendientes de listar: 79995\n"
          ],
          "name": "stdout"
        }
      ]
    },
    {
      "metadata": {
        "id": "lyllphC6vsQX",
        "colab_type": "code",
        "colab": {}
      },
      "cell_type": "code",
      "source": [
        "# Remove not linkable tags after Data Structures were processed\n",
        "nctags = set()"
      ],
      "execution_count": 0,
      "outputs": []
    },
    {
      "metadata": {
        "id": "FdfaRF8Co914",
        "colab_type": "code",
        "colab": {
          "base_uri": "https://localhost:8080/",
          "height": 102
        },
        "outputId": "c1f86049-66b0-4d65-f21f-966f85390d87"
      },
      "cell_type": "code",
      "source": [
        "listupla(dtags,50,15)"
      ],
      "execution_count": 28,
      "outputs": [
        {
          "output_type": "stream",
          "text": [
            "tbj57 : 2 \tt5xl1 : 2 \ttwzgl : 2 \ttzdr4 : 2 \ttcz3g : 2 \ttr5fv : 2 \tth8wv : 2 \ttj4f : 2 \tt99tm : 2 \ttsmcf : 2 \ttkp5g : 2 \ttb5p6 : 2 \tt2hzq : 2 \ttv7zt : 2 \tt5nnd : 2 \t\n",
            "t111w : 2 \ttv1h01 : 2 \tt6zkl : 2 \ttlhlt : 2 \ttlvcq : 2 \tt5x7p : 2 \tt6p61 : 2 \tt7fgq : 2 \ttwzsw : 2 \ttvwcg : 2 \ttl3l6 : 2 \ttbb6j : 2 \ttk3r : 2 \ttcdv8 : 2 \ttn4hp : 2 \t\n",
            "tlql4 : 2 \ttf36x : 2 \tt4pp6 : 2 \tt982j : 2 \ttjj0r : 2 \tt5pgg : 2 \tt0h5n : 2 \ttfmns : 2 \ttc9r2 : 2 \ttqmvs : 2 \ttx895 : 2 \tt3xvq : 2 \ttvr51 : 2 \tt48r2 : 2 \tt4rt4 : 2 \t\n",
            "tb25z : 2 \ttbns8 : 2 \ttbzhk : 2 \tt8z5v : 2 \tt9h9q : 2 \t\n",
            "Tags pendientes de listar: 599950\n"
          ],
          "name": "stdout"
        }
      ]
    },
    {
      "metadata": {
        "id": "9BlwvTpKo9nv",
        "colab_type": "code",
        "colab": {
          "base_uri": "https://localhost:8080/",
          "height": 425
        },
        "outputId": "22a825ce-1ff6-434b-a4d4-b7990ea3d713"
      },
      "cell_type": "code",
      "source": [
        "photos4tag(dtag_ph,tag_ph,22)"
      ],
      "execution_count": 29,
      "outputs": [
        {
          "output_type": "stream",
          "text": [
            "tbj57 \t[ 0 ]-> [0, 78134]\t\tCombinaciones: [(0, 78134)]\n",
            "t5xl1 \t[ 1 ]-> [0, 14519]\t\tCombinaciones: [(0, 14519)]\n",
            "twzgl \t[ 2 ]-> [0, 74267]\t\tCombinaciones: [(0, 74267)]\n",
            "tzdr4 \t[ 3 ]-> [0, 13708]\t\tCombinaciones: [(0, 13708)]\n",
            "tcz3g \t[ 4 ]-> [0, 18143]\t\tCombinaciones: [(0, 18143)]\n",
            "tr5fv \t[ 6 ]-> [0, 14519]\t\tCombinaciones: [(0, 14519)]\n",
            "th8wv \t[ 7 ]-> [0, 18143]\t\tCombinaciones: [(0, 18143)]\n",
            "tj4f \t[ 8 ]-> [0, 13708]\t\tCombinaciones: [(0, 13708)]\n",
            "t99tm \t[ 9 ]-> [0, 13708]\t\tCombinaciones: [(0, 13708)]\n",
            "tsmcf \t[ 10 ]-> [0, 78134]\t\tCombinaciones: [(0, 78134)]\n",
            "tkp5g \t[ 11 ]-> [0, 14519]\t\tCombinaciones: [(0, 14519)]\n",
            "tb5p6 \t[ 12 ]-> [0, 78134]\t\tCombinaciones: [(0, 78134)]\n",
            "t2hzq \t[ 14 ]-> [0, 6674]\t\tCombinaciones: [(0, 6674)]\n",
            "tv7zt \t[ 15 ]-> [0, 6674]\t\tCombinaciones: [(0, 6674)]\n",
            "t5nnd \t[ 17 ]-> [0, 18143]\t\tCombinaciones: [(0, 18143)]\n",
            "t111w \t[ 18 ]-> [0, 74267]\t\tCombinaciones: [(0, 74267)]\n",
            "tv1h01 \t[ 19 ]-> [0, 6674]\t\tCombinaciones: [(0, 6674)]\n",
            "t6zkl \t[ 20 ]-> [0, 74267]\t\tCombinaciones: [(0, 74267)]\n",
            "tlhlt \t[ 21 ]-> [1, 74299]\t\tCombinaciones: [(1, 74299)]\n",
            "tlvcq \t[ 22 ]-> [1, 74299]\t\tCombinaciones: [(1, 74299)]\n",
            "t5x7p \t[ 24 ]-> [1, 56714]\t\tCombinaciones: [(1, 56714)]\n",
            "t6p61 \t[ 26 ]-> [1, 74299]\t\tCombinaciones: [(1, 74299)]\n",
            "\n",
            "Tags pendientes de listar: 599978\n"
          ],
          "name": "stdout"
        }
      ]
    },
    {
      "metadata": {
        "id": "OjDqOpN2o9em",
        "colab_type": "code",
        "colab": {}
      },
      "cell_type": "code",
      "source": [
        ""
      ],
      "execution_count": 0,
      "outputs": []
    },
    {
      "metadata": {
        "id": "qTthbcOqxawD",
        "colab_type": "code",
        "colab": {}
      },
      "cell_type": "code",
      "source": [
        "# purgephotos(photos, nctags, 6,False)"
      ],
      "execution_count": 0,
      "outputs": []
    },
    {
      "metadata": {
        "id": "uCOdwRowT2Rz",
        "colab_type": "code",
        "colab": {}
      },
      "cell_type": "code",
      "source": [
        "# link(photos,False)"
      ],
      "execution_count": 0,
      "outputs": []
    }
  ]
}