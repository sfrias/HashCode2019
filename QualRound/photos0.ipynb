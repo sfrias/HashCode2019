{
  "nbformat": 4,
  "nbformat_minor": 0,
  "metadata": {
    "colab": {
      "name": "photos0",
      "version": "0.3.2",
      "provenance": [],
      "private_outputs": true,
      "collapsed_sections": [],
      "include_colab_link": true
    },
    "kernelspec": {
      "name": "python3",
      "display_name": "Python 3"
    }
  },
  "cells": [
    {
      "cell_type": "markdown",
      "metadata": {
        "id": "view-in-github",
        "colab_type": "text"
      },
      "source": [
        "<a href=\"https://colab.research.google.com/github/sfrias/HashCode2019/blob/master/QualRound/photos0.ipynb\" target=\"_parent\"><img src=\"https://colab.research.google.com/assets/colab-badge.svg\" alt=\"Open In Colab\"/></a>"
      ]
    },
    {
      "metadata": {
        "id": "yllCUY6PVVEU",
        "colab_type": "code",
        "colab": {}
      },
      "cell_type": "code",
      "source": [
        "# Slideshow with vertical & Horizontal photos. Scoring is calculated with linked tags.\n",
        "# If photos were vertical, two must be combined in one slide. Tags were union of both photos tags\n",
        "# Linked slides match scoring por slideshow.\n",
        "# linkable tags with only one appearance qualify photos:\n",
        "#  ---Horizontal photo for only use with ends of slideshows.\n",
        "#  ---Vertical photo for only bundle slide with other vertical photo to link two ways."
      ],
      "execution_count": 0,
      "outputs": []
    },
    {
      "metadata": {
        "id": "2Q8o-8zdVU9t",
        "colab_type": "code",
        "colab": {}
      },
      "cell_type": "code",
      "source": [
        ""
      ],
      "execution_count": 0,
      "outputs": []
    },
    {
      "metadata": {
        "id": "CsyYKyPnVUzn",
        "colab_type": "code",
        "colab": {}
      },
      "cell_type": "code",
      "source": [
        ""
      ],
      "execution_count": 0,
      "outputs": []
    },
    {
      "metadata": {
        "id": "9Qb_QWP3OlnR",
        "colab_type": "code",
        "colab": {}
      },
      "cell_type": "code",
      "source": [
        "# Import and package configuration\n",
        "from google.colab import files\n",
        "import matplotlib.pyplot as pyplot\n",
        "from pylab import *"
      ],
      "execution_count": 0,
      "outputs": []
    },
    {
      "metadata": {
        "id": "TUCsM0OzQXlZ",
        "colab_type": "code",
        "colab": {}
      },
      "cell_type": "code",
      "source": [
        "# Download data files from hashcode"
      ],
      "execution_count": 0,
      "outputs": []
    },
    {
      "metadata": {
        "id": "_f7H-zjWQXWw",
        "colab_type": "code",
        "colab": {}
      },
      "cell_type": "code",
      "source": [
        "#!wget -O example.in  \"https://hashcodejudge.withgoogle.com/download/blob/AMIfv97QHzUItY7To0o6id8E6_kxpE1KwTlPR1T9yC2zlbm46xvPPX7tBn1r5ZNxw9XboxHkVKa82BzM-B65uM92pJRONqfeVlHfpzH8xbqKc9FrAWJnd3Yp5SF7naqscxmnBjTa3R-UcB_bqg5hoAa0TZFXIlvi-RL6y_daJXyNUUHeP1kBxQss_1b2nNbNFg7W3Jtgyl2Vs86QrufNrQcUlNh754HyhRrhV3yJBo66HdYQAa2lPISjoUkUTpWqqrGIEItpPu27GNqcp2I69D8j8A-70B30oU-w7zIe9DJ9xnpC70T6T88\""
      ],
      "execution_count": 0,
      "outputs": []
    },
    {
      "metadata": {
        "id": "JHXji8CdR6IW",
        "colab_type": "code",
        "colab": {}
      },
      "cell_type": "code",
      "source": [
        "#!wget -O lovely.in \"https://hashcodejudge.withgoogle.com/download/blob/AMIfv977kmeJsFQfgJNbIlAkviRDMVQcDWj0hLBMvhyg8SuPR52vtGV8uIJsB5nnPDX1Rp14OqzXWF-XXUKp3hhFjdL9PtHAOemuN-rKrd_OgY8pQ6SwgBlBcwPm-5Ova9XoGHSlhT2iLskxOoetjmTNQ8upzsFVkCQqh0gM0P-VX2nWmyxSfIFGmv373rdp9k1Bw9iMdhZXxuMfYIPaWJ8c6izWNYsl9Mpk1a7R0DjShNoDn6Nbfghj_S9bkjGgJS6Clz0b3rMqhHyHAxuIVMnfw1ppwWK_z5TYb4Tsz1vzNERAVPtnuSw\""
      ],
      "execution_count": 0,
      "outputs": []
    },
    {
      "metadata": {
        "id": "SfghR8meSpo3",
        "colab_type": "code",
        "colab": {}
      },
      "cell_type": "code",
      "source": [
        "#!wget -O memoments.in \"https://hashcodejudge.withgoogle.com/download/blob/AMIfv94hwk1wpXjU-qRaszhHtsN4gJSGTkGGNfiItXwzXwhtP6IGrdiZrJ16XvlGFZAKOck8csLoiqwaDiJY6pybACZPZoBnwUMB_WLmQPR7XwH_0AMzk4at1sNgwB_f-9wOwSaqAQE8VtIlLNLDOLeo9sJDLxUVceOopaGh93MDCof4KCYXcdvM9tCSQz1sT89KVmM3Qx0Rz0JkXm4-a3mTk_676DubwwI5siY-ulC87_p1qcfeWdJXmuqMO7E-8THazayXZmS2dXyeTWiOOt27fOC06dSTe9mYfNBISojtloNJc-9Xohc\""
      ],
      "execution_count": 0,
      "outputs": []
    },
    {
      "metadata": {
        "id": "b9zUUte-Spjk",
        "colab_type": "code",
        "colab": {}
      },
      "cell_type": "code",
      "source": [
        "#!wget -O petpict.in \"https://hashcodejudge.withgoogle.com/download/blob/AMIfv95TypJhkPij61j5cS87pz5lYAw7u6lKSxctMX0zPI_8N7y-bRcwGLHe8rx8vAaQ_Dszh0yuWjpdXucxsC52Fq-iuNeI9D8ugsj3djcsDH5Ax3TlTILi27GOCPv_-U7KZsyrbKusR5T8saKHiE2cferYs92JBV_nKxm7gxQkzITercTAfcJaEtenWiTS4rhPkIVARXCQE9LaycZvxV4IqTnDCfYHZhtFVV9_Y_h5riDVjGZZd01tplZ1aibiKASlJZulxOwnJGfmgrYkImN3dCaDYx0eAGlGUoRjAF3GsiGdZ4bI0_V-lKZJlSdoMPxCctPLpgvL\""
      ],
      "execution_count": 0,
      "outputs": []
    },
    {
      "metadata": {
        "id": "h5NlNfBJSpWZ",
        "colab_type": "code",
        "colab": {}
      },
      "cell_type": "code",
      "source": [
        "#!wget -O shinyself.in \"https://hashcodejudge.withgoogle.com/download/blob/AMIfv941-URwsmc_UpuUvypgEBaH_U4oDiPKJZR_gk2oNcK8NXMmcZMwFC8qM3aYM_G1dN5hhRt9ONNq_o1RLVdWXqFn6M_DFVf_UnLD0E7Qg-D989lrG08e5FWD06_crrlGQI48euVgJSyEHO2oo8_3506xyzI2KsMLs_zPfjnnRr6sVKSMeQLNWRD4gut2m1QBzkRWvZuigNbXsCFra7wNPrEdPCI4Mf11W9rWcMrVsvMcrAmjw02vPbqqe8QrVwM08n0tMfAvk01BwBEM8RcwkYtkp8IUP3M0_67Sum1zfuFayeLWSOY\""
      ],
      "execution_count": 0,
      "outputs": []
    },
    {
      "metadata": {
        "id": "R2YzU_BOSpGB",
        "colab_type": "code",
        "colab": {}
      },
      "cell_type": "code",
      "source": [
        "#!ls"
      ],
      "execution_count": 0,
      "outputs": []
    },
    {
      "metadata": {
        "id": "YbHktbCsZoNU",
        "colab_type": "code",
        "colab": {}
      },
      "cell_type": "code",
      "source": [
        "#!cat example.in"
      ],
      "execution_count": 0,
      "outputs": []
    },
    {
      "metadata": {
        "id": "687Ar8rWTgTY",
        "colab_type": "code",
        "colab": {}
      },
      "cell_type": "code",
      "source": [
        "# Load data file function. Parameters: nom = name of input file, test = 'Test debug mode False or True'\n",
        "def loaddata(nom,test):\n",
        "  file = open(nom,'r')\n",
        "  line = file.readline()\n",
        "  # Assign number of photos from first line\n",
        "  nphotos = int(line.rstrip())\n",
        "  nv = 0\n",
        "  nh = 0\n",
        "  nctags = set() # Not linkable tags\n",
        "  ncphotos = set() # Not linkable photos\n",
        "  dtags = {} # tags occurrence, dictionary\n",
        "  ttags = 0\n",
        "  photosv= []\n",
        "  photosh=[]\n",
        "  # Read all image descriptions\n",
        "  for i in range(nphotos):\n",
        "    lista = []\n",
        "    lista = file.readline().rstrip().split(' ')\n",
        "    lista.insert(0,i) # Insert image number\n",
        "    tags = set(lista[3:]) # Store tags as a set\n",
        "    for t in tags: # Adds tag occurrences to dictionary\n",
        "      if t in dtags:\n",
        "        dtags[t] += 1\n",
        "      else:\n",
        "        dtags[t] = 1\n",
        "    ntags = int(lista[2]) # Convert to int  tag number for photo\n",
        "    lista = lista[:2] # Crop list\n",
        "    # Count number of vertical or horizontal images\n",
        "    # Append elements to list\n",
        "    lista.append(ntags) # Number of tags\n",
        "    lista.append(tags) # Set of tags\n",
        "    ttags += ntags \n",
        "    if lista[1] =='V':\n",
        "      nv +=1\n",
        "      photosv.append(lista) # Add vertical image list data to photos list.\n",
        "    else:\n",
        "      nh +=1\n",
        "      photosh.append(lista) # Add horizontal image list data to photos list.\n",
        "    if test:\n",
        "      print(photos[i])\n",
        "  file.close()\n",
        "  print('N. fotos:',nphotos,'Fotos Verticales:',nv,'Fotos Horiz:',nh,'Tags no combinables horizontales:',len(nctags),'Apariciones Tags:',ttags,'Tags diferentes:',len(dtags),'Media Tags por imagen:', ttags/len(dtags))\n",
        "  return nphotos, photosv, photosh, nv, nh, nctags, ncphotos, ttags, dtags"
      ],
      "execution_count": 0,
      "outputs": []
    },
    {
      "metadata": {
        "id": "wOpLLqSMbW8a",
        "colab_type": "code",
        "colab": {}
      },
      "cell_type": "code",
      "source": [
        "def purgedict(dtags,nctags, test):\n",
        "  tuplas = list(dtags.items())\n",
        "  j = 0\n",
        "  for i in tuplas:\n",
        "    #print('\\t',dtags[tuplas[j][0]],end='')\n",
        "    if dtags[tuplas[j][0]]<=1:\n",
        "      if test:\n",
        "        print ('----->Tag:', i, 'no combinable...eliminando del diccionario')\n",
        "      nctags.add(tuplas[j][0])\n",
        "      del(dtags[tuplas[j][0]])\n",
        "    j+= 1\n",
        "  print()\n",
        "  tuplas = []\n",
        "  if test:\n",
        "    print('N. fotos:',nphotos,'Fotos Verticales:',nv,'Fotos Horiz:',nh,'Tags no combinables horizontales:',len(nctags),'Apariciones Tags:',ttags,'Tags diferentes:',len(dtags),'Media Tags por imagen:', ttags/len(dtags))\n",
        "  return dtags,nctags\n"
      ],
      "execution_count": 0,
      "outputs": []
    },
    {
      "metadata": {
        "id": "aK8Tv-u1UGFd",
        "colab_type": "code",
        "colab": {}
      },
      "cell_type": "code",
      "source": [
        "def purgephotos():\n",
        "    print('Purga fotos que no son combinables.')"
      ],
      "execution_count": 0,
      "outputs": []
    },
    {
      "metadata": {
        "id": "y9i6vwzqbW1V",
        "colab_type": "code",
        "colab": {}
      },
      "cell_type": "code",
      "source": [
        "nphotos, photosv, photosh, nv, nh, nctags, ncphotos, ttags, dtags = loaddata('memoments.in',False)"
      ],
      "execution_count": 0,
      "outputs": []
    },
    {
      "metadata": {
        "id": "dJXbObAr25BS",
        "colab_type": "code",
        "colab": {}
      },
      "cell_type": "code",
      "source": [
        "print('Id\\tOr\\tNtag\\tTags')\n",
        "print('\\n'.join(['\\t'.join([str(cell) for cell in row]) for row in photosh]))"
      ],
      "execution_count": 0,
      "outputs": []
    },
    {
      "metadata": {
        "id": "KoH0aQPvcnWz",
        "colab_type": "code",
        "colab": {}
      },
      "cell_type": "code",
      "source": [
        "print('Id\\tOr\\tNtag\\tTags')\n",
        "print('\\n'.join(['\\t'.join([str(cell) for cell in row]) for row in photosv]))"
      ],
      "execution_count": 0,
      "outputs": []
    },
    {
      "metadata": {
        "id": "JzEKuH6pg_0d",
        "colab_type": "code",
        "colab": {}
      },
      "cell_type": "code",
      "source": [
        "dtags.items()"
      ],
      "execution_count": 0,
      "outputs": []
    },
    {
      "metadata": {
        "id": "WT1N7nbj_cYv",
        "colab_type": "code",
        "colab": {}
      },
      "cell_type": "code",
      "source": [
        "nctags"
      ],
      "execution_count": 0,
      "outputs": []
    },
    {
      "metadata": {
        "id": "xPFlxsd2sOPh",
        "colab_type": "code",
        "colab": {}
      },
      "cell_type": "code",
      "source": [
        "#print('\\n'.join(['\\t'.join([str(cell) for cell in row]) for row in dtags.items()]))"
      ],
      "execution_count": 0,
      "outputs": []
    },
    {
      "metadata": {
        "id": "quHwXE1Zu2Ty",
        "colab_type": "code",
        "colab": {}
      },
      "cell_type": "code",
      "source": [
        "dtags2, nctags = purgedict(dtags, nctags, True)"
      ],
      "execution_count": 0,
      "outputs": []
    },
    {
      "metadata": {
        "id": "TsToq16l_25P",
        "colab_type": "code",
        "colab": {}
      },
      "cell_type": "code",
      "source": [
        "dtags2.items()"
      ],
      "execution_count": 0,
      "outputs": []
    },
    {
      "metadata": {
        "id": "rw1jM705HrFG",
        "colab_type": "code",
        "colab": {}
      },
      "cell_type": "code",
      "source": [
        "fila = 0\n",
        "print('Tags no combinables que han pasado a la lista de comprobacion')\n",
        "for cell in nctags:\n",
        "  print(str(cell),'\\t', end='')\n",
        "  fila += 1\n",
        "  if fila >= 23:\n",
        "    print()\n",
        "    fila = 0"
      ],
      "execution_count": 0,
      "outputs": []
    },
    {
      "metadata": {
        "id": "9gEnnkXWKnQO",
        "colab_type": "code",
        "colab": {}
      },
      "cell_type": "code",
      "source": [
        "len(nctags)"
      ],
      "execution_count": 0,
      "outputs": []
    }
  ]
}